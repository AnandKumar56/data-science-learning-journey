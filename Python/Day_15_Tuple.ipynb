{
 "cells": [
  {
   "cell_type": "markdown",
   "id": "feb1661b",
   "metadata": {},
   "source": [
    "# Day 15: Tuples in Python\n",
    "\n",
    "## What is a Tuple?\n",
    "A **tuple** is an ordered, immutable collection of items in Python. Tuples are similar to lists, but unlike lists, tuples cannot be changed (they are immutable) after creation. Tuples are defined by placing elements inside parentheses `()`, separated by commas.\n",
    "\n",
    "### Key Properties of Tuples:\n",
    "- **Ordered:** The order of elements is preserved.\n",
    "- **Immutable:** Elements cannot be changed, added, or removed after creation.\n",
    "- **Allow Duplicates:** Tuples can contain duplicate values.\n",
    "- **Can Contain Different Data Types:** Tuples can store integers, strings, lists, or even other tuples.\n",
    "\n",
    "Tuples are commonly used for data that should not be modified and for returning multiple values from a function.\n",
    "\n",
    "---\n"
   ]
  },
  {
   "cell_type": "markdown",
   "id": "fd9e1d89-6803-40bc-b62a-693f3043dbb4",
   "metadata": {},
   "source": [
    "## Tuple Initialization\n",
    "\n",
    "A tuple is an ordered, immutable collection of items. You can create a tuple by placing values inside parentheses ()."
   ]
  },
  {
   "cell_type": "code",
   "execution_count": null,
   "id": "bc27d180-f5e9-4219-a065-0deee0211a98",
   "metadata": {},
   "outputs": [],
   "source": [
    "# Creating a tuple with integers\n",
    "MyList = (10, 20, 30, 40)\n",
    "# Tuples can contain any data type, including strings, floats, or even other tuples"
   ]
  },
  {
   "cell_type": "code",
   "execution_count": null,
   "id": "5bd93f8d-410f-42ca-bf28-f5dc597299ba",
   "metadata": {},
   "outputs": [
    {
     "data": {
      "text/plain": [
       "tuple"
      ]
     },
     "execution_count": 6,
     "metadata": {},
     "output_type": "execute_result"
    }
   ],
   "source": [
    "# Check the type of MyList\n",
    "# This should return <class 'tuple'>\n",
    "type(MyList)"
   ]
  },
  {
   "cell_type": "code",
   "execution_count": null,
   "id": "d259ca27-3858-49fc-ac2e-6e54b8b6da43",
   "metadata": {},
   "outputs": [
    {
     "data": {
      "text/plain": [
       "['__add__',\n",
       " '__class__',\n",
       " '__class_getitem__',\n",
       " '__contains__',\n",
       " '__delattr__',\n",
       " '__dir__',\n",
       " '__doc__',\n",
       " '__eq__',\n",
       " '__format__',\n",
       " '__ge__',\n",
       " '__getattribute__',\n",
       " '__getitem__',\n",
       " '__getnewargs__',\n",
       " '__getstate__',\n",
       " '__gt__',\n",
       " '__hash__',\n",
       " '__init__',\n",
       " '__init_subclass__',\n",
       " '__iter__',\n",
       " '__le__',\n",
       " '__len__',\n",
       " '__lt__',\n",
       " '__mul__',\n",
       " '__ne__',\n",
       " '__new__',\n",
       " '__reduce__',\n",
       " '__reduce_ex__',\n",
       " '__repr__',\n",
       " '__rmul__',\n",
       " '__setattr__',\n",
       " '__sizeof__',\n",
       " '__str__',\n",
       " '__subclasshook__',\n",
       " 'count',\n",
       " 'index']"
      ]
     },
     "execution_count": 1,
     "metadata": {},
     "output_type": "execute_result"
    }
   ],
   "source": [
    "# List all available methods and attributes for tuple objects\n",
    "# This is useful to see what operations you can perform on tuples\n",
    "print(dir(tuple))"
   ]
  },
  {
   "cell_type": "markdown",
   "id": "67d6e7a2-c8af-4155-90e3-418be7ebe8ab",
   "metadata": {},
   "source": [
    "## Inbuilt Functions for Tuples\n",
    "\n",
    "Python provides several built-in functions that work with tuples, such as `min`, `max`, `sum`, `sorted`, and more."
   ]
  },
  {
   "cell_type": "code",
   "execution_count": null,
   "id": "ae254e4e-04cc-40a0-af43-402fff779369",
   "metadata": {},
   "outputs": [
    {
     "name": "stdout",
     "output_type": "stream",
     "text": [
      "(10, 20, 30, 40)\n"
     ]
    }
   ],
   "source": [
    "# Print the tuple\n",
    "print(MyList)  # Output: (10, 20, 30, 40)"
   ]
  },
  {
   "cell_type": "code",
   "execution_count": null,
   "id": "0545b770-af55-468f-a6cd-a8971cb5792a",
   "metadata": {},
   "outputs": [
    {
     "data": {
      "text/plain": [
       "tuple"
      ]
     },
     "execution_count": 11,
     "metadata": {},
     "output_type": "execute_result"
    }
   ],
   "source": [
    "# Check the type of MyList again (for demonstration)\n",
    "type(MyList)  # Output: <class 'tuple'>"
   ]
  },
  {
   "cell_type": "code",
   "execution_count": null,
   "id": "40451473-734e-425e-a007-9cf423e4e529",
   "metadata": {},
   "outputs": [
    {
     "data": {
      "text/plain": [
       "10"
      ]
     },
     "execution_count": 13,
     "metadata": {},
     "output_type": "execute_result"
    }
   ],
   "source": [
    "# Find the minimum value in the tuple\n",
    "min(MyList)  # Output: 10"
   ]
  },
  {
   "cell_type": "code",
   "execution_count": null,
   "id": "8decf37b-3a32-4d49-97aa-4d234881a378",
   "metadata": {},
   "outputs": [
    {
     "data": {
      "text/plain": [
       "40"
      ]
     },
     "execution_count": 15,
     "metadata": {},
     "output_type": "execute_result"
    }
   ],
   "source": [
    "# Find the maximum value in the tuple\n",
    "max(MyList)  # Output: 40"
   ]
  },
  {
   "cell_type": "code",
   "execution_count": null,
   "id": "60867f8c-8d90-403a-b30b-14ef7b2d911f",
   "metadata": {},
   "outputs": [
    {
     "data": {
      "text/plain": [
       "100"
      ]
     },
     "execution_count": 17,
     "metadata": {},
     "output_type": "execute_result"
    }
   ],
   "source": [
    "# Calculate the sum of all elements in the tuple\n",
    "sum(MyList)  # Output: 100"
   ]
  },
  {
   "cell_type": "code",
   "execution_count": null,
   "id": "5f575e20-c063-4803-9fbc-fc639e46f2bd",
   "metadata": {},
   "outputs": [
    {
     "data": {
      "text/plain": [
       "[10, 20, 30, 40]"
      ]
     },
     "execution_count": 19,
     "metadata": {},
     "output_type": "execute_result"
    }
   ],
   "source": [
    "# Get a sorted list from the tuple (tuples are immutable, so this returns a new list)\n",
    "sorted(MyList)  # Output: [10, 20, 30, 40]"
   ]
  },
  {
   "cell_type": "code",
   "execution_count": null,
   "id": "cdec0d70-63f8-4d0e-9d5d-b9dee29d3fa9",
   "metadata": {},
   "outputs": [
    {
     "data": {
      "text/plain": [
       "[40, 30, 20, 10]"
      ]
     },
     "execution_count": 21,
     "metadata": {},
     "output_type": "execute_result"
    }
   ],
   "source": [
    "# Reverse the tuple (returns an iterator, so convert to list)\n",
    "list(reversed(MyList))  # Output: [40, 30, 20, 10]"
   ]
  },
  {
   "cell_type": "markdown",
   "id": "74fb5e8b-2246-492d-a26e-e5e036cb59b6",
   "metadata": {},
   "source": [
    "**Concatenation**\n",
    "\n",
    "- Combining Tuple with New Tuple and New Direct Elements"
   ]
  },
  {
   "cell_type": "code",
   "execution_count": 40,
   "id": "21e15ad8-489a-4a73-8a54-cabd47ac6ac2",
   "metadata": {},
   "outputs": [
    {
     "data": {
      "text/plain": [
       "(90, 100, 60, 70, 80)"
      ]
     },
     "execution_count": 40,
     "metadata": {},
     "output_type": "execute_result"
    }
   ],
   "source": [
    "new_tuple=(60,70,80)\n",
    "\n",
    "l=MyList+new_tuple\n",
    "l"
   ]
  },
  {
   "cell_type": "code",
   "execution_count": 42,
   "id": "5bdc6325-e88a-4074-a7a2-25496d59fe13",
   "metadata": {},
   "outputs": [
    {
     "data": {
      "text/plain": [
       "(90, 100, 60, 70, 80)"
      ]
     },
     "execution_count": 42,
     "metadata": {},
     "output_type": "execute_result"
    }
   ],
   "source": [
    "l"
   ]
  },
  {
   "cell_type": "code",
   "execution_count": 48,
   "id": "6e7b1257-df9b-4b11-aa3b-b970faf6c175",
   "metadata": {},
   "outputs": [],
   "source": [
    "mytuple=('a','b','c',1,2,3)"
   ]
  },
  {
   "cell_type": "code",
   "execution_count": 52,
   "id": "e7a9ea22-c0f2-4a89-a076-a03dfaef29f2",
   "metadata": {},
   "outputs": [
    {
     "data": {
      "text/plain": [
       "('a', 'b', 'c', 1, 2, 3, 4, 5, 6)"
      ]
     },
     "execution_count": 52,
     "metadata": {},
     "output_type": "execute_result"
    }
   ],
   "source": [
    "newtuple=mytuple+(4,5,6)\n",
    "newtuple"
   ]
  },
  {
   "cell_type": "code",
   "execution_count": 54,
   "id": "9bade7d8-324b-4d2f-b1eb-0447c2bbb685",
   "metadata": {},
   "outputs": [
    {
     "data": {
      "text/plain": [
       "(1, 2, 3, 4, 5, 6)"
      ]
     },
     "execution_count": 54,
     "metadata": {},
     "output_type": "execute_result"
    }
   ],
   "source": [
    "tuples=(1,2,3)+(4,5,6)\n",
    "tuples"
   ]
  },
  {
   "cell_type": "markdown",
   "id": "20eacec6-2d72-464b-9755-e9498744f400",
   "metadata": {},
   "source": [
    "**Index Operations**"
   ]
  },
  {
   "cell_type": "code",
   "execution_count": 77,
   "id": "0eca373d-2c44-4bfe-a172-404730ba4022",
   "metadata": {},
   "outputs": [
    {
     "data": {
      "text/plain": [
       "(1, 2, 3, 4, 5, 6)"
      ]
     },
     "execution_count": 77,
     "metadata": {},
     "output_type": "execute_result"
    }
   ],
   "source": [
    "tuples[0],tuples[1],tuples[2],tuples[3],tuples[4],tuples[5]"
   ]
  },
  {
   "cell_type": "code",
   "execution_count": 79,
   "id": "f47798c5-52a7-4df1-bcdb-2c7407924de4",
   "metadata": {},
   "outputs": [
    {
     "ename": "TypeError",
     "evalue": "'tuple' object does not support item assignment",
     "output_type": "error",
     "traceback": [
      "\u001b[1;31m---------------------------------------------------------------------------\u001b[0m",
      "\u001b[1;31mTypeError\u001b[0m                                 Traceback (most recent call last)",
      "Cell \u001b[1;32mIn[79], line 1\u001b[0m\n\u001b[1;32m----> 1\u001b[0m tuples[\u001b[38;5;241m0\u001b[39m]\u001b[38;5;241m=\u001b[39m\u001b[38;5;241m5\u001b[39m\n",
      "\u001b[1;31mTypeError\u001b[0m: 'tuple' object does not support item assignment"
     ]
    }
   ],
   "source": [
    "tuples[0]=5  # Tuples are immutable we cant change their value"
   ]
  },
  {
   "cell_type": "markdown",
   "id": "38d83201-101d-4b4f-b8a9-b0f9926e75e4",
   "metadata": {},
   "source": [
    "**mutable vs immutable**\n",
    "\n",
    "- mutable means change (the Character **using indexing**)\n",
    "\n",
    "- immutable means not able to change(the character **using indexing**)"
   ]
  },
  {
   "cell_type": "markdown",
   "id": "30ddbad5-0f5e-4e27-af13-1e601d72d45e",
   "metadata": {},
   "source": [
    "**Tuple are Immutable we can't change their value**"
   ]
  },
  {
   "cell_type": "markdown",
   "id": "4fa4c32e-469a-4391-a3f6-42ab0a6fc4f7",
   "metadata": {},
   "source": [
    "**Slicing**"
   ]
  },
  {
   "cell_type": "code",
   "execution_count": 84,
   "id": "017cefca-5a83-40c3-add1-d33e5352d32d",
   "metadata": {},
   "outputs": [
    {
     "data": {
      "text/plain": [
       "(1, 2, 3, 4, 5, 6)"
      ]
     },
     "execution_count": 84,
     "metadata": {},
     "output_type": "execute_result"
    }
   ],
   "source": [
    "tuples[:]"
   ]
  },
  {
   "cell_type": "code",
   "execution_count": 86,
   "id": "3e5e5f97-a1b2-4c0e-9223-33b0445228f1",
   "metadata": {},
   "outputs": [
    {
     "data": {
      "text/plain": [
       "(1, 3, 5)"
      ]
     },
     "execution_count": 86,
     "metadata": {},
     "output_type": "execute_result"
    }
   ],
   "source": [
    "tuples[::2]"
   ]
  },
  {
   "cell_type": "code",
   "execution_count": 88,
   "id": "06d33f9a-5225-405f-ae1f-1a7b7f619723",
   "metadata": {},
   "outputs": [
    {
     "data": {
      "text/plain": [
       "(2, 3, 4, 5)"
      ]
     },
     "execution_count": 88,
     "metadata": {},
     "output_type": "execute_result"
    }
   ],
   "source": [
    "tuples[1:5]"
   ]
  },
  {
   "cell_type": "code",
   "execution_count": 90,
   "id": "9323d7e8-60b5-4f21-9bf7-56f13053e735",
   "metadata": {},
   "outputs": [
    {
     "data": {
      "text/plain": [
       "(6, 4, 2)"
      ]
     },
     "execution_count": 90,
     "metadata": {},
     "output_type": "execute_result"
    }
   ],
   "source": [
    "tuples[::-2]"
   ]
  },
  {
   "cell_type": "code",
   "execution_count": 92,
   "id": "3190832a-9e84-49d8-b4bf-392e4a075149",
   "metadata": {},
   "outputs": [
    {
     "data": {
      "text/plain": [
       "(6, 5, 4, 3, 2, 1)"
      ]
     },
     "execution_count": 92,
     "metadata": {},
     "output_type": "execute_result"
    }
   ],
   "source": [
    "tuples[::-1]"
   ]
  },
  {
   "cell_type": "markdown",
   "id": "8178bbae-27a9-4730-9632-a8ad26b15293",
   "metadata": {},
   "source": [
    "**Methods**"
   ]
  },
  {
   "cell_type": "markdown",
   "id": "f5526a50-a468-4df9-8add-0b86fa9b144c",
   "metadata": {},
   "source": [
    "'count' \n",
    "'index'"
   ]
  },
  {
   "cell_type": "code",
   "execution_count": 102,
   "id": "27dbe8a7-874c-4928-b9b4-2e333b00c2b9",
   "metadata": {},
   "outputs": [
    {
     "data": {
      "text/plain": [
       "1"
      ]
     },
     "execution_count": 102,
     "metadata": {},
     "output_type": "execute_result"
    }
   ],
   "source": [
    "tuples.count(1)  # Return number of occurrences of value."
   ]
  },
  {
   "cell_type": "code",
   "execution_count": 104,
   "id": "58a2a6ca-6691-4027-83ee-c76c2edeade1",
   "metadata": {},
   "outputs": [
    {
     "data": {
      "text/plain": [
       "3"
      ]
     },
     "execution_count": 104,
     "metadata": {},
     "output_type": "execute_result"
    }
   ],
   "source": [
    "Val=(1,1,1,2,2,5,5,6,7,8)\n",
    "Val.count(1)"
   ]
  },
  {
   "cell_type": "code",
   "execution_count": 106,
   "id": "060e58f5-9936-4fef-b243-bae3c750755b",
   "metadata": {},
   "outputs": [
    {
     "data": {
      "text/plain": [
       "2"
      ]
     },
     "execution_count": 106,
     "metadata": {},
     "output_type": "execute_result"
    }
   ],
   "source": [
    "Val.count(2)"
   ]
  },
  {
   "cell_type": "code",
   "execution_count": 112,
   "id": "8650c3da-047a-432e-94e2-426d57b6b84f",
   "metadata": {},
   "outputs": [
    {
     "data": {
      "text/plain": [
       "4"
      ]
     },
     "execution_count": 112,
     "metadata": {},
     "output_type": "execute_result"
    }
   ],
   "source": [
    "tuples.index(5)"
   ]
  },
  {
   "cell_type": "code",
   "execution_count": 118,
   "id": "b941c3bd-d04a-4d15-bd73-86cbf7f10068",
   "metadata": {},
   "outputs": [],
   "source": [
    "values=('a','b','c','d')"
   ]
  },
  {
   "cell_type": "code",
   "execution_count": 120,
   "id": "6ba601f2-b737-41a1-a1a7-e0fe8d71abb3",
   "metadata": {},
   "outputs": [
    {
     "data": {
      "text/plain": [
       "3"
      ]
     },
     "execution_count": 120,
     "metadata": {},
     "output_type": "execute_result"
    }
   ],
   "source": [
    "values.index('d')"
   ]
  },
  {
   "cell_type": "code",
   "execution_count": null,
   "id": "8f004a4f-757e-42d9-a8f3-ff24c861fcb8",
   "metadata": {},
   "outputs": [],
   "source": [
    "# Some Practice Questions"
   ]
  },
  {
   "cell_type": "code",
   "execution_count": 9,
   "id": "61af4782-88ef-4138-bc48-b7649e1d3e09",
   "metadata": {},
   "outputs": [
    {
     "data": {
      "text/plain": [
       "30"
      ]
     },
     "execution_count": 9,
     "metadata": {},
     "output_type": "execute_result"
    }
   ],
   "source": [
    "# Create a tuple with values (10, 20, 30, 40, 50) and access the 3rd element.\n",
    "\n",
    "numbers=(10,20,30,40,50)\n",
    "numbers[2]"
   ]
  },
  {
   "cell_type": "code",
   "execution_count": null,
   "id": "6f061a81-c88b-443a-89b2-0409b172dac3",
   "metadata": {},
   "outputs": [],
   "source": [
    "'''Create a tuple: colors = (\"red\", \"green\", \"blue\", \"yellow\")\n",
    "\n",
    "Now, try to:\n",
    "\n",
    "Access the last element using negative indexing.\n",
    "\n",
    "Slice the tuple to get only (\"green\", \"blue\").'''"
   ]
  },
  {
   "cell_type": "code",
   "execution_count": 13,
   "id": "068fc3a3-dfe0-403c-8b29-0534c5965b7c",
   "metadata": {},
   "outputs": [
    {
     "name": "stdout",
     "output_type": "stream",
     "text": [
      "yellow\n",
      "('green', 'blue')\n"
     ]
    }
   ],
   "source": [
    "colors = (\"red\", \"green\", \"blue\", \"yellow\")\n",
    "print(colors[-1])\n",
    "print(colors[1:3])"
   ]
  },
  {
   "cell_type": "code",
   "execution_count": null,
   "id": "b769a5f9-f38e-45b0-887e-103fff098f4d",
   "metadata": {},
   "outputs": [],
   "source": [
    "'''Given the tuple:\n",
    "\n",
    "fruits = (\"apple\", \"banana\", \"cherry\", \"mango\")\n",
    "\n",
    "\n",
    "Do the following:\n",
    "\n",
    "1. Check if \"banana\" exists in the tuple (return True/False).\n",
    "\n",
    "2. Try to change \"apple\" to \"grape\" → observe what happens.\n",
    "\n",
    "Explain why.'''"
   ]
  },
  {
   "cell_type": "code",
   "execution_count": 19,
   "id": "004ff98c-e00c-4d49-a219-6efa1a36d4ff",
   "metadata": {},
   "outputs": [
    {
     "name": "stdout",
     "output_type": "stream",
     "text": [
      "True\n"
     ]
    }
   ],
   "source": [
    "fruits = (\"apple\", \"banana\", \"cherry\", \"mango\")\n",
    "\n",
    "if 'banana' in fruits:\n",
    "    print('True')\n",
    "else:\n",
    "    print('False')"
   ]
  },
  {
   "cell_type": "code",
   "execution_count": 23,
   "id": "853b88ea-64fe-43b0-93e3-3efccad0343d",
   "metadata": {},
   "outputs": [
    {
     "ename": "TypeError",
     "evalue": "'tuple' object does not support item assignment",
     "output_type": "error",
     "traceback": [
      "\u001b[1;31m---------------------------------------------------------------------------\u001b[0m",
      "\u001b[1;31mTypeError\u001b[0m                                 Traceback (most recent call last)",
      "Cell \u001b[1;32mIn[23], line 1\u001b[0m\n\u001b[1;32m----> 1\u001b[0m fruits[\u001b[38;5;241m0\u001b[39m]\u001b[38;5;241m=\u001b[39m\u001b[38;5;124m'\u001b[39m\u001b[38;5;124mgrape\u001b[39m\u001b[38;5;124m'\u001b[39m\n",
      "\u001b[1;31mTypeError\u001b[0m: 'tuple' object does not support item assignment"
     ]
    }
   ],
   "source": [
    "fruits[0]='grape'  # The Tuple is Immutable which means that we cant change the value using index"
   ]
  },
  {
   "cell_type": "code",
   "execution_count": null,
   "id": "95dbba9f-ce92-431c-8e4a-0b6d82a8aae4",
   "metadata": {},
   "outputs": [],
   "source": [
    "'''Given the tuple:\n",
    "\n",
    "numbers = (10, 20, 30, 40, 50, 60, 70)\n",
    "\n",
    "\n",
    "Do the following:\n",
    "\n",
    "Get the first three elements.\n",
    "\n",
    "Get the last two elements.\n",
    "\n",
    "Get every second element from the tuple.\n",
    "\n",
    "Reverse the tuple using slicing.'''"
   ]
  },
  {
   "cell_type": "code",
   "execution_count": 25,
   "id": "97830ac5-9bd0-4613-9187-f48305136054",
   "metadata": {},
   "outputs": [],
   "source": [
    "numbers = (10, 20, 30, 40, 50, 60, 70)"
   ]
  },
  {
   "cell_type": "code",
   "execution_count": 29,
   "id": "9790ccab-dfad-4985-b588-118c22ed3d74",
   "metadata": {},
   "outputs": [
    {
     "data": {
      "text/plain": [
       "(10, 20, 30)"
      ]
     },
     "execution_count": 29,
     "metadata": {},
     "output_type": "execute_result"
    }
   ],
   "source": [
    "numbers[:3]"
   ]
  },
  {
   "cell_type": "code",
   "execution_count": 33,
   "id": "e1d94413-6fad-4d10-accb-343f1dfbed71",
   "metadata": {},
   "outputs": [
    {
     "data": {
      "text/plain": [
       "(60, 70)"
      ]
     },
     "execution_count": 33,
     "metadata": {},
     "output_type": "execute_result"
    }
   ],
   "source": [
    "numbers[-2:]"
   ]
  },
  {
   "cell_type": "code",
   "execution_count": 35,
   "id": "e2ad45fa-0de2-46ae-94a9-5d2cc7dd44a9",
   "metadata": {},
   "outputs": [
    {
     "data": {
      "text/plain": [
       "(10, 30, 50, 70)"
      ]
     },
     "execution_count": 35,
     "metadata": {},
     "output_type": "execute_result"
    }
   ],
   "source": [
    "numbers[::2]"
   ]
  },
  {
   "cell_type": "code",
   "execution_count": 37,
   "id": "2b476d0d-7bdb-4219-9469-eb5e51a25767",
   "metadata": {},
   "outputs": [
    {
     "data": {
      "text/plain": [
       "(70, 60, 50, 40, 30, 20, 10)"
      ]
     },
     "execution_count": 37,
     "metadata": {},
     "output_type": "execute_result"
    }
   ],
   "source": [
    "numbers[::-1]"
   ]
  },
  {
   "cell_type": "code",
   "execution_count": null,
   "id": "7a3451bf-6b8d-42fd-9be4-0395942b2a46",
   "metadata": {},
   "outputs": [],
   "source": [
    "'''You have this tuple:\n",
    "\n",
    "person = (\"Anand\", 25, \"Engineer\", [\"Python\", \"SQL\", \"ML\"])\n",
    "\n",
    "\n",
    "Tasks:\n",
    "\n",
    "Access the name and profession from the tuple.\n",
    "\n",
    "Add a new skill \"Deep Learning\" to the skills list inside the tuple.\n",
    "\n",
    "Print the updated tuple.'''"
   ]
  },
  {
   "cell_type": "code",
   "execution_count": 39,
   "id": "448716bd-5bb0-4a1e-a6ca-56cf98612f6d",
   "metadata": {},
   "outputs": [],
   "source": [
    "person = (\"Anand\", 25, \"Engineer\", [\"Python\", \"SQL\", \"ML\"])"
   ]
  },
  {
   "cell_type": "code",
   "execution_count": 45,
   "id": "3c90a317-4b94-4868-aa7d-17de952c339d",
   "metadata": {},
   "outputs": [
    {
     "data": {
      "text/plain": [
       "('Anand', 'Engineer')"
      ]
     },
     "execution_count": 45,
     "metadata": {},
     "output_type": "execute_result"
    }
   ],
   "source": [
    "person[0],person[2]"
   ]
  },
  {
   "cell_type": "code",
   "execution_count": 53,
   "id": "8b290189-376d-46c8-a74f-06e13f7a2b67",
   "metadata": {},
   "outputs": [
    {
     "ename": "TypeError",
     "evalue": "'tuple' object does not support item assignment",
     "output_type": "error",
     "traceback": [
      "\u001b[1;31m---------------------------------------------------------------------------\u001b[0m",
      "\u001b[1;31mTypeError\u001b[0m                                 Traceback (most recent call last)",
      "Cell \u001b[1;32mIn[53], line 1\u001b[0m\n\u001b[1;32m----> 1\u001b[0m person[\u001b[38;5;241m3\u001b[39m]\u001b[38;5;241m=\u001b[39m\u001b[38;5;124m'\u001b[39m\u001b[38;5;124mDeep Learning\u001b[39m\u001b[38;5;124m'\u001b[39m\n",
      "\u001b[1;31mTypeError\u001b[0m: 'tuple' object does not support item assignment"
     ]
    }
   ],
   "source": [
    "person[3]='Deep Learning'       # We Cant Directly assign the value to the list using the index"
   ]
  },
  {
   "cell_type": "code",
   "execution_count": 57,
   "id": "2a8fa550-5684-4c33-a06a-18c447500b68",
   "metadata": {},
   "outputs": [
    {
     "data": {
      "text/plain": [
       "('Anand',\n",
       " 25,\n",
       " 'Engineer',\n",
       " ['Python', 'SQL', 'ML', 'Deep Learning', 'Deep Learning'])"
      ]
     },
     "execution_count": 57,
     "metadata": {},
     "output_type": "execute_result"
    }
   ],
   "source": [
    "person[3].append('Deep Learning')     # instead of using the index we can try the list method 'append' to add the value to the list\n",
    "person                            # I Have Run the Program twise that we get the double Deep Learning as output"
   ]
  },
  {
   "cell_type": "code",
   "execution_count": 59,
   "id": "00f91372-9809-43d9-9a80-9bcc36bcf668",
   "metadata": {},
   "outputs": [
    {
     "name": "stdout",
     "output_type": "stream",
     "text": [
      "('Anand', 25, 'Engineer', ['Python', 'SQL', 'ML', 'Deep Learning', 'Deep Learning'])\n"
     ]
    }
   ],
   "source": [
    "print(person)"
   ]
  },
  {
   "cell_type": "code",
   "execution_count": null,
   "id": "c168f855-6718-4202-beda-34cffcdf8402",
   "metadata": {},
   "outputs": [],
   "source": []
  }
 ],
 "metadata": {
  "kernelspec": {
   "display_name": "Python [conda env:base] *",
   "language": "python",
   "name": "conda-base-py"
  },
  "language_info": {
   "codemirror_mode": {
    "name": "ipython",
    "version": 3
   },
   "file_extension": ".py",
   "mimetype": "text/x-python",
   "name": "python",
   "nbconvert_exporter": "python",
   "pygments_lexer": "ipython3",
   "version": "3.12.7"
  }
 },
 "nbformat": 4,
 "nbformat_minor": 5
}
