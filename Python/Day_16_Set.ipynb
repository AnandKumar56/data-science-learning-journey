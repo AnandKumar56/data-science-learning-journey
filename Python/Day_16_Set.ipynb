{
 "cells": [
  {
   "cell_type": "markdown",
   "id": "04b5e7de",
   "metadata": {},
   "source": [
    "# Day 16: Sets in Python — My Learning Documentation\n",
    "\n",
    "## What is a Set?\n",
    "A **set** is an unordered collection of unique, mutable elements in Python. Sets are useful for storing non-duplicate items and performing mathematical set operations like union, intersection, and difference.\n",
    "\n",
    "### Key Properties of Sets:\n",
    "- **Unordered:** No indexing or order is guaranteed.\n",
    "- **Unique:** No duplicate elements allowed.\n",
    "- **Mutable:** You can add or remove elements after creation.\n",
    "- **Heterogeneous:** Can store different data types (except unhashable types like lists/dicts).\n",
    "\n",
    "Sets are commonly used for membership testing, removing duplicates from a sequence, and set operations.\n",
    "\n",
    "---\n"
   ]
  },
  {
   "cell_type": "markdown",
   "id": "7dfeb2cc-c30f-438d-81c0-a3d17d2daff0",
   "metadata": {},
   "source": [
    "## Set Initialization\n",
    "\n",
    "You can create a set by placing comma-separated values inside curly braces `{}`. Duplicates are automatically removed."
   ]
  },
  {
   "cell_type": "code",
   "execution_count": null,
   "id": "c3648c84-1e82-41fb-9346-fee829067a03",
   "metadata": {},
   "outputs": [
    {
     "name": "stdout",
     "output_type": "stream",
     "text": [
      "{1, 2, 3}\n"
     ]
    }
   ],
   "source": [
    "# Creating a set with duplicate values\n",
    "nums = {1, 2, 3, 3, 2}\n",
    "print(nums)   # Output: {1, 2, 3} → duplicates are removed automatically"
   ]
  },
  {
   "cell_type": "markdown",
   "id": "89b7fab2-6d38-4f86-94e5-ed00abc51ba0",
   "metadata": {},
   "source": [
    "### Key Properties of Sets\n",
    "\n",
    "- **Unordered:** No indexing (can’t access by position).\n",
    "- **Unique:** No duplicates allowed.\n",
    "- **Mutable:** Can add or remove items after creation.\n",
    "- **Heterogeneous:** Can store different types (int, str, tuple).\n",
    "- **Unhashable items:** Lists and dicts cannot be added to a set."
   ]
  },
  {
   "cell_type": "code",
   "execution_count": null,
   "id": "2e498eba-139a-4712-b63a-8e2b3450a7e8",
   "metadata": {},
   "outputs": [
    {
     "name": "stdout",
     "output_type": "stream",
     "text": [
      "{42, (1, 2), 'apple'}\n"
     ]
    }
   ],
   "source": [
    "# Sets can store different data types (except unhashable types)\n",
    "s = {\"apple\", 42, (1, 2)}   # Strings, integers, and tuples are allowed\n",
    "print(s)  # Output: {'apple', 42, (1, 2)}"
   ]
  },
  {
   "cell_type": "markdown",
   "id": "fb6e4a49-a9ed-4fab-83d3-1289715149f0",
   "metadata": {},
   "source": [
    "## Creating Sets\n",
    "\n",
    "- To create an empty set, use `set()`. Using `{}` creates an empty dictionary, not a set.\n",
    "- You can also create sets from lists, strings, or other iterables."
   ]
  },
  {
   "cell_type": "code",
   "execution_count": null,
   "id": "3d9e0e37-c0f7-463a-81ca-7c440dd1f882",
   "metadata": {},
   "outputs": [],
   "source": [
    "# Creating an empty set\n",
    "s = set()  # Correct way to create an empty set\n",
    "# Note: {} creates an empty dictionary, not a set"
   ]
  },
  {
   "cell_type": "code",
   "execution_count": null,
   "id": "0e56f172-2da2-4bc8-b865-81df0706beea",
   "metadata": {},
   "outputs": [
    {
     "data": {
      "text/plain": [
       "{'apple', 'banana', 'cherry'}"
      ]
     },
     "execution_count": 19,
     "metadata": {},
     "output_type": "execute_result"
    }
   ],
   "source": [
    "# Creating a set with curly braces\n",
    "fruits = {\"apple\", \"banana\", \"cherry\"}\n",
    "fruits  # Output: {'apple', 'banana', 'cherry'}"
   ]
  },
  {
   "cell_type": "code",
   "execution_count": null,
   "id": "955dec6e-97ed-47e6-83c0-77e420e3c5cc",
   "metadata": {},
   "outputs": [
    {
     "name": "stdout",
     "output_type": "stream",
     "text": [
      "{1, 2, 3}\n",
      "{'o', 'e', 'h', 'l'}\n"
     ]
    }
   ],
   "source": [
    "# Creating a set from a list (removes duplicates)\n",
    "nums = set([1, 2, 2, 3])\n",
    "print(nums)  # Output: {1, 2, 3}\n",
    "\n",
    "# Creating a set from a string (each character becomes an element)\n",
    "chars = set(\"hello\")\n",
    "print(chars)  # Output: {'h', 'e', 'l', 'o'}"
   ]
  },
  {
   "cell_type": "code",
   "execution_count": null,
   "id": "99a1b0c0-ac9c-4ab6-9a72-bd71c400acce",
   "metadata": {
    "scrolled": true
   },
   "outputs": [
    {
     "data": {
      "text/plain": [
       "['__and__',\n",
       " '__class__',\n",
       " '__class_getitem__',\n",
       " '__contains__',\n",
       " '__delattr__',\n",
       " '__dir__',\n",
       " '__doc__',\n",
       " '__eq__',\n",
       " '__format__',\n",
       " '__ge__',\n",
       " '__getattribute__',\n",
       " '__getstate__',\n",
       " '__gt__',\n",
       " '__hash__',\n",
       " '__iand__',\n",
       " '__init__',\n",
       " '__init_subclass__',\n",
       " '__ior__',\n",
       " '__isub__',\n",
       " '__iter__',\n",
       " '__ixor__',\n",
       " '__le__',\n",
       " '__len__',\n",
       " '__lt__',\n",
       " '__ne__',\n",
       " '__new__',\n",
       " '__or__',\n",
       " '__rand__',\n",
       " '__reduce__',\n",
       " '__reduce_ex__',\n",
       " '__repr__',\n",
       " '__ror__',\n",
       " '__rsub__',\n",
       " '__rxor__',\n",
       " '__setattr__',\n",
       " '__sizeof__',\n",
       " '__str__',\n",
       " '__sub__',\n",
       " '__subclasshook__',\n",
       " '__xor__',\n",
       " 'add',\n",
       " 'clear',\n",
       " 'copy',\n",
       " 'difference',\n",
       " 'difference_update',\n",
       " 'discard',\n",
       " 'intersection',\n",
       " 'intersection_update',\n",
       " 'isdisjoint',\n",
       " 'issubset',\n",
       " 'issuperset',\n",
       " 'pop',\n",
       " 'remove',\n",
       " 'symmetric_difference',\n",
       " 'symmetric_difference_update',\n",
       " 'union',\n",
       " 'update']"
      ]
     },
     "execution_count": 23,
     "metadata": {},
     "output_type": "execute_result"
    }
   ],
   "source": [
    "# List all available methods and attributes for set objects\n",
    "print(dir(set))"
   ]
  },
  {
   "cell_type": "code",
   "execution_count": null,
   "id": "12f69a5d-f272-4284-b966-dafb0bca5176",
   "metadata": {},
   "outputs": [],
   "source": [
    "# Creating a set with duplicate values (again, for demonstration)\n",
    "nums = {1, 2, 3, 3, 2}  # Output: {1, 2, 3}"
   ]
  },
  {
   "cell_type": "code",
   "execution_count": null,
   "id": "33907546-82b3-4105-a961-cb526dffc4a5",
   "metadata": {},
   "outputs": [
    {
     "data": {
      "text/plain": [
       "set"
      ]
     },
     "execution_count": 34,
     "metadata": {},
     "output_type": "execute_result"
    }
   ],
   "source": [
    "# Check the type of nums\n",
    "# Output: <class 'set'>\n",
    "type(nums)"
   ]
  },
  {
   "cell_type": "code",
   "execution_count": null,
   "id": "69331c9a-88a8-4b32-9b08-390f537421be",
   "metadata": {},
   "outputs": [
    {
     "data": {
      "text/plain": [
       "3"
      ]
     },
     "execution_count": 36,
     "metadata": {},
     "output_type": "execute_result"
    }
   ],
   "source": [
    "# Get the number of elements in the set\n",
    "len(nums)  # Output: 3"
   ]
  },
  {
   "cell_type": "code",
   "execution_count": null,
   "id": "c63848e1-2af7-47ac-b3bd-58ce2654b864",
   "metadata": {},
   "outputs": [
    {
     "name": "stdout",
     "output_type": "stream",
     "text": [
      "{1, 2, 3}\n"
     ]
    }
   ],
   "source": [
    "# Print the set\n",
    "print(nums)  # Output: {1, 2, 3}"
   ]
  },
  {
   "cell_type": "code",
   "execution_count": null,
   "id": "0e7a3ca4-483a-4c58-8609-b6b80f29d68d",
   "metadata": {},
   "outputs": [
    {
     "data": {
      "text/plain": [
       "1"
      ]
     },
     "execution_count": 40,
     "metadata": {},
     "output_type": "execute_result"
    }
   ],
   "source": [
    "# Find the minimum value in the set\n",
    "min(nums)  # Output: 1"
   ]
  },
  {
   "cell_type": "code",
   "execution_count": null,
   "id": "9c1c3d28-2bdc-4edd-b6b1-0ee8705e591c",
   "metadata": {},
   "outputs": [
    {
     "data": {
      "text/plain": [
       "3"
      ]
     },
     "execution_count": 42,
     "metadata": {},
     "output_type": "execute_result"
    }
   ],
   "source": [
    "# Find the maximum value in the set\n",
    "max(nums)  # Output: 3"
   ]
  },
  {
   "cell_type": "code",
   "execution_count": null,
   "id": "fcbda845-ef09-4975-9f58-361872348efb",
   "metadata": {},
   "outputs": [
    {
     "data": {
      "text/plain": [
       "6"
      ]
     },
     "execution_count": 44,
     "metadata": {},
     "output_type": "execute_result"
    }
   ],
   "source": [
    "# Calculate the sum of all elements in the set\n",
    "sum(nums)  # Output: 6"
   ]
  },
  {
   "cell_type": "code",
   "execution_count": null,
   "id": "504f910e-4c50-49f8-a3a0-8eae2d80dbd6",
   "metadata": {},
   "outputs": [
    {
     "data": {
      "text/plain": [
       "[1, 2, 3]"
      ]
     },
     "execution_count": 46,
     "metadata": {},
     "output_type": "execute_result"
    }
   ],
   "source": [
    "# Get a sorted list from the set (returns a new list)\n",
    "sorted(nums)  # Output: [1, 2, 3]"
   ]
  },
  {
   "cell_type": "code",
   "execution_count": null,
   "id": "1db6a637-2ff0-4cc2-a50e-c23025a8f0e1",
   "metadata": {},
   "outputs": [
    {
     "ename": "TypeError",
     "evalue": "'set' object is not reversible",
     "output_type": "error",
     "traceback": [
      "\u001b[1;31m---------------------------------------------------------------------------\u001b[0m",
      "\u001b[1;31mTypeError\u001b[0m                                 Traceback (most recent call last)",
      "Cell \u001b[1;32mIn[48], line 1\u001b[0m\n\u001b[1;32m----> 1\u001b[0m \u001b[38;5;28mreversed\u001b[39m(nums)\n",
      "\u001b[1;31mTypeError\u001b[0m: 'set' object is not reversible"
     ]
    }
   ],
   "source": [
    "# Attempting to reverse a set will not work, as sets are unordered\n",
    "reversed(nums)   # This will not give a meaningful result for sets"
   ]
  },
  {
   "cell_type": "markdown",
   "id": "77ba9c5e-933e-4277-86bc-7f287515df69",
   "metadata": {},
   "source": [
    "## Exploring Set Methods\n",
    "\n",
    "Python sets provide many useful methods for adding, removing, and performing set operations. Let's explore them with examples."
   ]
  },
  {
   "cell_type": "markdown",
   "id": "9b4acca4-bd0d-4ae4-9b69-99659cc908b2",
   "metadata": {},
   "source": [
    "### add()\n",
    "\n",
    "- Adds a single element to the set.\n",
    "- If the element already exists, the set remains unchanged.\n",
    "- Only hashable (immutable) types can be added."
   ]
  },
  {
   "cell_type": "code",
   "execution_count": null,
   "id": "7756a131-6f73-440d-98bb-2db155625444",
   "metadata": {},
   "outputs": [],
   "source": [
    "# Example set for add() method\n",
    "demo_set = {1, 2, 3, 4}"
   ]
  },
  {
   "cell_type": "code",
   "execution_count": null,
   "id": "b4fb552a-f58c-4ed5-8a5b-1e9e86e0a7fb",
   "metadata": {},
   "outputs": [
    {
     "ename": "TypeError",
     "evalue": "unhashable type: 'list'",
     "output_type": "error",
     "traceback": [
      "\u001b[1;31m---------------------------------------------------------------------------\u001b[0m",
      "\u001b[1;31mTypeError\u001b[0m                                 Traceback (most recent call last)",
      "Cell \u001b[1;32mIn[285], line 1\u001b[0m\n\u001b[1;32m----> 1\u001b[0m numberss\u001b[38;5;241m.\u001b[39madd([\u001b[38;5;241m5\u001b[39m,\u001b[38;5;241m6\u001b[39m,\u001b[38;5;241m7\u001b[39m,\u001b[38;5;241m8\u001b[39m])\n",
      "\u001b[1;31mTypeError\u001b[0m: unhashable type: 'list'"
     ]
    }
   ],
   "source": [
    "# Trying to add a list (mutable/unhashable) will raise an error\n",
    "# demo_set.add([5, 6, 7, 8])  # TypeError: unhashable type: 'list'"
   ]
  },
  {
   "cell_type": "code",
   "execution_count": null,
   "id": "01a5b70b-a7e5-40ff-91e5-fc3b76b28526",
   "metadata": {},
   "outputs": [
    {
     "data": {
      "text/plain": [
       "{1, 2, 3, 4, 5}"
      ]
     },
     "execution_count": 62,
     "metadata": {},
     "output_type": "execute_result"
    }
   ],
   "source": [
    "# Add an element to the set\n",
    "# If the element is already present, nothing changes\n",
    "demo_set.add(5)\n",
    "demo_set  # Output: {1, 2, 3, 4, 5}"
   ]
  },
  {
   "cell_type": "code",
   "execution_count": null,
   "id": "dfb1988d-dfca-434a-a816-6ea12e6a6f78",
   "metadata": {},
   "outputs": [
    {
     "data": {
      "text/plain": [
       "{1, 2, 3, 4, 5}"
      ]
     },
     "execution_count": 66,
     "metadata": {},
     "output_type": "execute_result"
    }
   ],
   "source": [
    "# Adding an already present element has no effect\n",
    "demo_set.add(1)  # No error, set remains unchanged\n",
    "demo_set"
   ]
  },
  {
   "cell_type": "code",
   "execution_count": null,
   "id": "fec3926a-edcb-4ae0-a69e-49c3e6613187",
   "metadata": {},
   "outputs": [
    {
     "ename": "TypeError",
     "evalue": "set.add() takes exactly one argument (2 given)",
     "output_type": "error",
     "traceback": [
      "\u001b[1;31m---------------------------------------------------------------------------\u001b[0m",
      "\u001b[1;31mTypeError\u001b[0m                                 Traceback (most recent call last)",
      "Cell \u001b[1;32mIn[68], line 2\u001b[0m\n\u001b[0;32m      1\u001b[0m \u001b[38;5;66;03m# If we try to add the multiple elements\u001b[39;00m\n\u001b[1;32m----> 2\u001b[0m numberss\u001b[38;5;241m.\u001b[39madd(\u001b[38;5;241m6\u001b[39m,\u001b[38;5;241m7\u001b[39m)\n",
      "\u001b[1;31mTypeError\u001b[0m: set.add() takes exactly one argument (2 given)"
     ]
    }
   ],
   "source": [
    "# add() only takes one argument; adding multiple elements at once raises an error\n",
    "# demo_set.add(6, 7)  # TypeError: set.add() takes exactly one argument"
   ]
  },
  {
   "cell_type": "markdown",
   "id": "13bd720d-8bd3-47b3-9109-ee6e003f65e5",
   "metadata": {},
   "source": [
    "### clear()\n",
    "\n",
    "- Removes all elements from the set, making it empty."
   ]
  },
  {
   "cell_type": "markdown",
   "id": "8f03ec86-5403-4c05-9d5f-c311e601eae2",
   "metadata": {},
   "source": [
    "- After calling `clear()`, the set will be empty: `set()`."
   ]
  },
  {
   "cell_type": "code",
   "execution_count": null,
   "id": "e70e75c2-605e-4594-a11e-bb5271b40e2b",
   "metadata": {},
   "outputs": [],
   "source": [
    "# Example: Using clear() to empty a set\n",
    "nums = {1, 2, 3, 4, 5, 'a', 'b', 'c'}\n",
    "nums.clear()  # Now nums is an empty set"
   ]
  },
  {
   "cell_type": "code",
   "execution_count": null,
   "id": "f3692f9d-bb9f-40bb-bfa6-d3e04e2b6b26",
   "metadata": {},
   "outputs": [
    {
     "name": "stdout",
     "output_type": "stream",
     "text": [
      "set()\n"
     ]
    }
   ],
   "source": [
    "# After clear(), nums is empty\n",
    "print(nums)  # Output: set()"
   ]
  },
  {
   "cell_type": "markdown",
   "id": "257cd6bc-f491-4f20-9729-edf13c73246f",
   "metadata": {},
   "source": [
    "**copy()**\n",
    "\n",
    "- Returns a shallow copy of the set."
   ]
  },
  {
   "cell_type": "code",
   "execution_count": 81,
   "id": "50b27d14-1dee-4460-afed-7bec8665d2bc",
   "metadata": {},
   "outputs": [],
   "source": [
    "nums={1,2,3,4,5,'a','b','c'}"
   ]
  },
  {
   "cell_type": "code",
   "execution_count": 85,
   "id": "420a94e7-30f9-42d7-b5c3-f32cd0c63593",
   "metadata": {},
   "outputs": [],
   "source": [
    "s=nums.copy()      # Copying the data of the nums into 's' Variable using the copy() method"
   ]
  },
  {
   "cell_type": "code",
   "execution_count": 87,
   "id": "45528b6d-5857-4caa-a781-0270cab8b55f",
   "metadata": {},
   "outputs": [
    {
     "data": {
      "text/plain": [
       "{1, 2, 3, 4, 5, 'a', 'b', 'c'}"
      ]
     },
     "execution_count": 87,
     "metadata": {},
     "output_type": "execute_result"
    }
   ],
   "source": [
    "s"
   ]
  },
  {
   "cell_type": "markdown",
   "id": "77007343-800d-4646-a644-46f4122a90ba",
   "metadata": {},
   "source": [
    "**difference()**\n",
    "\n",
    "- Returns elements in set A that are not in set B."
   ]
  },
  {
   "cell_type": "code",
   "execution_count": 173,
   "id": "45c517b7-6dfd-4f13-b5ae-abe41fa91b3c",
   "metadata": {},
   "outputs": [
    {
     "name": "stdout",
     "output_type": "stream",
     "text": [
      "{1, 2}\n"
     ]
    }
   ],
   "source": [
    "A = {1,2,3,4}\n",
    "B = {3,4,5}\n",
    "print(A.difference(B))  # {1,2}"
   ]
  },
  {
   "cell_type": "markdown",
   "id": "7c929f0f-cbdf-4b7b-8f28-365944a03fd5",
   "metadata": {},
   "source": [
    "**difference_update()**\n",
    "\n",
    "- Remove all elements of another set from this set."
   ]
  },
  {
   "cell_type": "code",
   "execution_count": 177,
   "id": "d1c30a68-b119-41ee-8fdc-f24787619167",
   "metadata": {},
   "outputs": [
    {
     "name": "stdout",
     "output_type": "stream",
     "text": [
      "{1, 2}\n"
     ]
    }
   ],
   "source": [
    "A = {1,2,3,4}\n",
    "B = {3,4,5}\n",
    "A.difference_update(B)\n",
    "print(A)  # {1,2}"
   ]
  },
  {
   "cell_type": "markdown",
   "id": "4089f56d-3602-45a0-8dba-9f0b2e02aa90",
   "metadata": {},
   "source": [
    "**discard()**\n",
    "\n",
    "- Remove an element from a set if it is a member.\n",
    "\n",
    "- Unlike set.remove(), the discard() method does not raise\n",
    "  an exception when an element is missing from the set."
   ]
  },
  {
   "cell_type": "code",
   "execution_count": 130,
   "id": "8e2caefc-56f4-4c28-91a1-9189e3bb5106",
   "metadata": {},
   "outputs": [
    {
     "data": {
      "text/plain": [
       "{2, 3, 4, 5, 'a', 'b', 'c'}"
      ]
     },
     "execution_count": 130,
     "metadata": {},
     "output_type": "execute_result"
    }
   ],
   "source": [
    "nums.discard(1)      # It Removes the Element from the set\n",
    "nums"
   ]
  },
  {
   "cell_type": "code",
   "execution_count": 136,
   "id": "e512f582-36ab-4039-b36d-28841c9ff5bf",
   "metadata": {},
   "outputs": [],
   "source": [
    "nums.discard('d')    # It does'nt Provide any error even if you enter the element that is not in list"
   ]
  },
  {
   "cell_type": "code",
   "execution_count": 138,
   "id": "7795473c-a6a2-4099-86f1-ed022df55db7",
   "metadata": {},
   "outputs": [
    {
     "ename": "TypeError",
     "evalue": "set.discard() takes exactly one argument (0 given)",
     "output_type": "error",
     "traceback": [
      "\u001b[1;31m---------------------------------------------------------------------------\u001b[0m",
      "\u001b[1;31mTypeError\u001b[0m                                 Traceback (most recent call last)",
      "Cell \u001b[1;32mIn[138], line 1\u001b[0m\n\u001b[1;32m----> 1\u001b[0m nums\u001b[38;5;241m.\u001b[39mdiscard()\n",
      "\u001b[1;31mTypeError\u001b[0m: set.discard() takes exactly one argument (0 given)"
     ]
    }
   ],
   "source": [
    "nums.discard()       # Discard take the one parameter as input to remove that value"
   ]
  },
  {
   "cell_type": "markdown",
   "id": "bc245222-0939-4804-b94b-0a8ba82a5925",
   "metadata": {},
   "source": [
    "**intersection()**\n",
    "\n",
    "- Similar to the math(sets) it return the matching values from both sets\n",
    "- Return the intersection of two sets as a new set.\n",
    "\n",
    "  (i.e. all elements that are in both sets.)"
   ]
  },
  {
   "cell_type": "code",
   "execution_count": 144,
   "id": "64b19f9e-79fe-4c76-87c0-26c2ea8fe2b5",
   "metadata": {},
   "outputs": [
    {
     "data": {
      "text/plain": [
       "{1, 2, 3, 5}"
      ]
     },
     "execution_count": 144,
     "metadata": {},
     "output_type": "execute_result"
    }
   ],
   "source": [
    "setA={1,2,3,5}\n",
    "setB={1,2,3,4,5,6,7,8} \n",
    "\n",
    "setA.intersection(setB)  "
   ]
  },
  {
   "cell_type": "markdown",
   "id": "ba3164fe-3c34-4224-9d78-2588c681c0a0",
   "metadata": {},
   "source": [
    "**intersection_update()**\n",
    "\n",
    "- Update a set with the intersection of itself and another.\n",
    "- Updates set A with only common elements."
   ]
  },
  {
   "cell_type": "code",
   "execution_count": 181,
   "id": "06c9f6a4-bda9-480d-81bd-d1a229273fe0",
   "metadata": {},
   "outputs": [
    {
     "name": "stdout",
     "output_type": "stream",
     "text": [
      "{2, 3}\n"
     ]
    }
   ],
   "source": [
    "A = {1,2,3}\n",
    "B = {2,3,4}\n",
    "A.intersection_update(B)\n",
    "print(A)  # {2,3}"
   ]
  },
  {
   "cell_type": "markdown",
   "id": "3da3ffca-9c63-4f22-bc25-37e12b8e05e1",
   "metadata": {},
   "source": [
    "**isdisjoint()**\n",
    "\n",
    "- Returns True if sets have no elements in common."
   ]
  },
  {
   "cell_type": "code",
   "execution_count": 184,
   "id": "cad31260-cb34-4360-9d3d-a13ef9d29a5a",
   "metadata": {},
   "outputs": [
    {
     "ename": "TypeError",
     "evalue": "set.isdisjoint() takes exactly one argument (0 given)",
     "output_type": "error",
     "traceback": [
      "\u001b[1;31m---------------------------------------------------------------------------\u001b[0m",
      "\u001b[1;31mTypeError\u001b[0m                                 Traceback (most recent call last)",
      "Cell \u001b[1;32mIn[184], line 1\u001b[0m\n\u001b[1;32m----> 1\u001b[0m A\u001b[38;5;241m.\u001b[39misdisjoint()\n",
      "\u001b[1;31mTypeError\u001b[0m: set.isdisjoint() takes exactly one argument (0 given)"
     ]
    }
   ],
   "source": [
    "A.isdisjoint()  # isdisjoint takes one args as input"
   ]
  },
  {
   "cell_type": "code",
   "execution_count": 188,
   "id": "a8e119f9-e1ad-4c90-9137-3b9ea586f430",
   "metadata": {},
   "outputs": [
    {
     "data": {
      "text/plain": [
       "False"
      ]
     },
     "execution_count": 188,
     "metadata": {},
     "output_type": "execute_result"
    }
   ],
   "source": [
    "A.isdisjoint(B)  # False that there some Matching values inside the both sets"
   ]
  },
  {
   "cell_type": "code",
   "execution_count": 190,
   "id": "e8f62129-7544-481b-a907-662ceca1be78",
   "metadata": {},
   "outputs": [
    {
     "name": "stdout",
     "output_type": "stream",
     "text": [
      "True\n"
     ]
    }
   ],
   "source": [
    "A = {1,2}\n",
    "B = {3,4}\n",
    "print(A.isdisjoint(B))  # True"
   ]
  },
  {
   "cell_type": "markdown",
   "id": "b4352386-12ba-4fd5-b18b-883dec8810d5",
   "metadata": {},
   "source": [
    "**issubset()**\n",
    "\n",
    "- Test whether every element in the set is in other\n",
    "\n",
    "- Checks if all elements of A are in B."
   ]
  },
  {
   "cell_type": "code",
   "execution_count": 194,
   "id": "05d0cf4f-980b-47eb-8ec1-1163a4bea9d4",
   "metadata": {},
   "outputs": [
    {
     "data": {
      "text/plain": [
       "False"
      ]
     },
     "execution_count": 194,
     "metadata": {},
     "output_type": "execute_result"
    }
   ],
   "source": [
    "A = {1,2}\n",
    "B = {3,4}\n",
    "A.issubset(B) # there not matching values in the Both sets"
   ]
  },
  {
   "cell_type": "code",
   "execution_count": 198,
   "id": "329249fa-eb0c-41aa-bf08-3e30d7e811c7",
   "metadata": {},
   "outputs": [
    {
     "name": "stdout",
     "output_type": "stream",
     "text": [
      "True\n"
     ]
    }
   ],
   "source": [
    "A = {1,2}\n",
    "B = {1,2,3,4}\n",
    "print(A.issubset(B))  # True"
   ]
  },
  {
   "cell_type": "markdown",
   "id": "31e008dc-e390-4e6e-b6c0-e408d43e723c",
   "metadata": {},
   "source": [
    "**issuperset()**\n",
    "\n",
    "- Test whether every element in other is in the set.\n",
    "\n",
    "- Checks if A contains all elements of B."
   ]
  },
  {
   "cell_type": "code",
   "execution_count": 205,
   "id": "5418bb28-e6d5-4008-97ae-dd97b56001be",
   "metadata": {},
   "outputs": [
    {
     "name": "stdout",
     "output_type": "stream",
     "text": [
      "True\n"
     ]
    }
   ],
   "source": [
    "A = {1,2,3,4}\n",
    "B = {2,3}\n",
    "print(A.issuperset(B))  # True"
   ]
  },
  {
   "cell_type": "code",
   "execution_count": 209,
   "id": "cd136c1c-c48f-4ffd-83b9-d90f4b3ad509",
   "metadata": {},
   "outputs": [
    {
     "name": "stdout",
     "output_type": "stream",
     "text": [
      "False\n"
     ]
    }
   ],
   "source": [
    "A = {1,4}\n",
    "B = {2,3}         \n",
    "print(A.issuperset(B))  # True # Checks the B if any element of A is present in it\n"
   ]
  },
  {
   "cell_type": "markdown",
   "id": "7eb63388-a490-4c4d-acf3-a633a57598d0",
   "metadata": {},
   "source": [
    "**pop()**\n",
    "\n",
    "- Remove and return an arbitrary set element.\n",
    "- Raises KeyError if the set is empty."
   ]
  },
  {
   "cell_type": "code",
   "execution_count": 218,
   "id": "a5c1b933-c933-4b5b-bd82-37b54e677b59",
   "metadata": {},
   "outputs": [
    {
     "data": {
      "text/plain": [
       "4"
      ]
     },
     "execution_count": 218,
     "metadata": {},
     "output_type": "execute_result"
    }
   ],
   "source": [
    "A.pop()  # unlike pop in list the pop() in set remove the elements from the beginning from index '0'"
   ]
  },
  {
   "cell_type": "code",
   "execution_count": 220,
   "id": "7af5e8e6-076d-4b61-a978-f5f4d30bfbd4",
   "metadata": {},
   "outputs": [
    {
     "name": "stdout",
     "output_type": "stream",
     "text": [
      "1\n",
      "{2, 3}\n"
     ]
    }
   ],
   "source": [
    "s = {1,2,3}\n",
    "print(s.pop())  # Might return 1 (or 2, or 3)\n",
    "print(s)        # Remaining set"
   ]
  },
  {
   "cell_type": "markdown",
   "id": "a16f80cc-4e54-4cd5-b9ba-d9aa1088b99a",
   "metadata": {},
   "source": [
    "⚡ Since sets are unordered, you don’t know which element will be popped."
   ]
  },
  {
   "cell_type": "markdown",
   "id": "e3287b89-c3cf-43b9-8af6-2624a1a51194",
   "metadata": {},
   "source": [
    "**remove()**\n",
    "\n",
    "- Remove an element from a set; it must be a member.\n",
    "\n",
    "- If the element is not a member, raise a KeyError.\n",
    "\n",
    "- Removes an element (❌ error if not found)."
   ]
  },
  {
   "cell_type": "code",
   "execution_count": 226,
   "id": "fe03f389-4bf4-46f5-a7ae-fcdc731654b2",
   "metadata": {},
   "outputs": [
    {
     "name": "stdout",
     "output_type": "stream",
     "text": [
      "{1, 3}\n"
     ]
    }
   ],
   "source": [
    "s = {1,2,3}\n",
    "s.remove(2)\n",
    "print(s)  # {1,3}\n",
    "\n",
    "# s.remove(10) → KeyError ⚠️"
   ]
  },
  {
   "cell_type": "markdown",
   "id": "fb827c32-8c4e-4bcb-b0fa-3f9cc000d487",
   "metadata": {},
   "source": [
    "**symmetric_difference()**\n",
    "\n",
    "- Return the symmetric difference of two sets as a new set.\n",
    "\n",
    "- (i.e. all elements that are in exactly one of the sets.)\n",
    "\n",
    "- Elements in A or B but not in both."
   ]
  },
  {
   "cell_type": "code",
   "execution_count": 229,
   "id": "b3dfccc6-5202-4d78-b97f-ba154cf570c9",
   "metadata": {},
   "outputs": [
    {
     "data": {
      "text/plain": [
       "{2, 3}"
      ]
     },
     "execution_count": 229,
     "metadata": {},
     "output_type": "execute_result"
    }
   ],
   "source": [
    "A.symmetric_difference(B)    "
   ]
  },
  {
   "cell_type": "code",
   "execution_count": 270,
   "id": "fb738c41-c742-403c-8baa-ed2419046fe4",
   "metadata": {},
   "outputs": [
    {
     "name": "stdout",
     "output_type": "stream",
     "text": [
      "{1, 2, 4}\n",
      "{1, 2, 3}\n"
     ]
    }
   ],
   "source": [
    "A = {1,2,3}\n",
    "B = {3,4}\n",
    "print(A.symmetric_difference(B))  # {1,2,4}  it Does'nt Store the Value in A its print the value\n",
    "print(A)"
   ]
  },
  {
   "cell_type": "markdown",
   "id": "1c857525-4f5e-4794-a62a-8ef007207779",
   "metadata": {},
   "source": [
    "**symmetric_difference_update()**\n",
    "\n",
    "- Update a set with the symmetric difference of itself and another.\n",
    "\n",
    "- Updates A with symmetric difference (in-place)"
   ]
  },
  {
   "cell_type": "code",
   "execution_count": 268,
   "id": "9a974be8-f7ed-42f9-9c26-978838af805b",
   "metadata": {},
   "outputs": [
    {
     "name": "stdout",
     "output_type": "stream",
     "text": [
      "{1, 2, 4}\n"
     ]
    }
   ],
   "source": [
    "A = {1,2,3}\n",
    "B = {3,4}\n",
    "A.symmetric_difference_update(B)  # Here we A stores the symentric difference in A (in_place)\n",
    "print(A)  # {1,2,4}"
   ]
  },
  {
   "cell_type": "markdown",
   "id": "35324149-10e7-4751-b38f-ace8dd6adf03",
   "metadata": {},
   "source": [
    "**union()**\n",
    "\n",
    "- Returns all elements from both sets (like OR).\n",
    "\n",
    "- Return the union of sets as a new set.\n",
    "\n",
    "- (i.e. all elements that are in either set.)"
   ]
  },
  {
   "cell_type": "code",
   "execution_count": 274,
   "id": "9b298582-9e60-4549-b65d-43dabf3edd7c",
   "metadata": {},
   "outputs": [
    {
     "data": {
      "text/plain": [
       "{1, 2, 3, 4}"
      ]
     },
     "execution_count": 274,
     "metadata": {},
     "output_type": "execute_result"
    }
   ],
   "source": [
    "A.union(B)"
   ]
  },
  {
   "cell_type": "code",
   "execution_count": 276,
   "id": "6de832a3-9cd7-46b5-beed-eb5e5f7ab0ce",
   "metadata": {},
   "outputs": [
    {
     "name": "stdout",
     "output_type": "stream",
     "text": [
      "{1, 2, 3}\n"
     ]
    }
   ],
   "source": [
    "A = {1,2}\n",
    "B = {2,3}\n",
    "print(A.union(B))  # {1,2,3}"
   ]
  },
  {
   "cell_type": "markdown",
   "id": "005cb04a-7867-490f-b851-57134628e230",
   "metadata": {},
   "source": [
    "**update()**\n",
    "\n",
    "- Adds multiple elements or another set.\n",
    "\n",
    "- Update a set with the union of itself and others."
   ]
  },
  {
   "cell_type": "code",
   "execution_count": 279,
   "id": "cfe81a4d-6e59-4a8a-86e6-19bf3e0c9ef5",
   "metadata": {},
   "outputs": [
    {
     "name": "stdout",
     "output_type": "stream",
     "text": [
      "{1, 2, 3, 4, 5}\n"
     ]
    }
   ],
   "source": [
    "s = {1,2}\n",
    "s.update([3,4,5])\n",
    "print(s)  # {1,2,3,4,5}"
   ]
  },
  {
   "cell_type": "code",
   "execution_count": 283,
   "id": "678b8e1b-6fa9-48a1-b0bb-74d78b47d9c2",
   "metadata": {},
   "outputs": [
    {
     "data": {
      "text/plain": [
       "{1, 2, 3}"
      ]
     },
     "execution_count": 283,
     "metadata": {},
     "output_type": "execute_result"
    }
   ],
   "source": [
    "A.update(B)\n",
    "A"
   ]
  },
  {
   "cell_type": "code",
   "execution_count": null,
   "id": "25e1babc-0320-43b6-a61f-4069c95f832f",
   "metadata": {},
   "outputs": [],
   "source": []
  }
 ],
 "metadata": {
  "kernelspec": {
   "display_name": "Python [conda env:base] *",
   "language": "python",
   "name": "conda-base-py"
  },
  "language_info": {
   "codemirror_mode": {
    "name": "ipython",
    "version": 3
   },
   "file_extension": ".py",
   "mimetype": "text/x-python",
   "name": "python",
   "nbconvert_exporter": "python",
   "pygments_lexer": "ipython3",
   "version": "3.12.7"
  }
 },
 "nbformat": 4,
 "nbformat_minor": 5
}
