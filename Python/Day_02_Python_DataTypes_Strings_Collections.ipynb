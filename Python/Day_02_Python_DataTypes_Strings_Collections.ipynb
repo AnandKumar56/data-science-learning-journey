{
 "cells": [
  {
   "cell_type": "markdown",
   "id": "5dff8d29",
   "metadata": {},
   "source": [
    "# 🧠 Day 2: Python Data Types, Strings & Collections - What I Learned\n",
    "\n",
    "Today I learned:\n",
    "\n",
    "1. **Python's Basic Data Types** - integers, floats, booleans, complex numbers\n",
    "2. **String Handling** - creating, formatting, and manipulating text\n",
    "3. **Documentation** - writing and accessing docstrings\n",
    "4. **Built-in Functions** - using Python's powerful library functions\n",
    "5. **Collections** - organizing data with lists, tuples, sets, and dictionaries\n",
    "6. **Common Mistakes** - how to avoid and fix beginner errors\n",
    "\n",
    "This journey helped me truly grasp how to structure data in Python, and I now feel confident choosing the right data type for any situation. I can handle strings, collections, and built-in functions with ease, and I’m much more comfortable writing clean, effective code."
   ]
  },
  {
   "cell_type": "code",
   "execution_count": 1,
   "id": "d362dc5c",
   "metadata": {},
   "outputs": [
    {
     "name": "stdout",
     "output_type": "stream",
     "text": [
      "Integer: 10 | Type: <class 'int'>\n",
      "Float: 10.5 | Type: <class 'float'>\n",
      "Boolean: True | Type: <class 'bool'>\n",
      "Complex: (3+4j) | Type: <class 'complex'>\n"
     ]
    }
   ],
   "source": [
    "# 🔢 Python Data Types: int, float, bool, complex\n",
    "\n",
    "# Integer\n",
    "a = 10\n",
    "print(\"Integer:\", a, \"| Type:\", type(a))\n",
    "\n",
    "# Float\n",
    "b = 10.5\n",
    "print(\"Float:\", b, \"| Type:\", type(b))\n",
    "\n",
    "# Boolean\n",
    "c = True\n",
    "print(\"Boolean:\", c, \"| Type:\", type(c))\n",
    "\n",
    "# Complex Number\n",
    "d = 3 + 4j\n",
    "print(\"Complex:\", d, \"| Type:\", type(d))\n"
   ]
  },
  {
   "cell_type": "code",
   "execution_count": 2,
   "id": "b7ec48b5",
   "metadata": {},
   "outputs": [
    {
     "name": "stdout",
     "output_type": "stream",
     "text": [
      "Hello World\n",
      "This is\n",
      "a multiline\n",
      "string\n",
      "He said, \"Python is awesome!\"\n"
     ]
    }
   ],
   "source": [
    "# 🔤 Strings in Python\n",
    "\n",
    "# Single and double quotes\n",
    "s1 = 'Hello'\n",
    "s2 = \"World\"\n",
    "print(s1, s2)\n",
    "\n",
    "# Triple quotes for multiline strings\n",
    "multi_line = '''This is\n",
    "a multiline\n",
    "string'''\n",
    "print(multi_line)\n",
    "\n",
    "# Using escape characters\n",
    "quote = \"He said, \\\"Python is awesome!\\\"\"\n",
    "print(quote)\n"
   ]
  },
  {
   "cell_type": "code",
   "execution_count": 3,
   "id": "cc0aa42f",
   "metadata": {},
   "outputs": [
    {
     "name": "stdout",
     "output_type": "stream",
     "text": [
      "Hello, Anand\n",
      "Help on function greet in module __main__:\n",
      "\n",
      "greet(name)\n",
      "    This function returns a greeting message.\n",
      "\n"
     ]
    }
   ],
   "source": [
    "# 📄 Docstrings and String Utilities\n",
    "\n",
    "def greet(name):\n",
    "    '''This function returns a greeting message.'''\n",
    "    return \"Hello, \" + name\n",
    "\n",
    "print(greet(\"Anand\"))\n",
    "\n",
    "# Getting documentation\n",
    "help(greet)\n"
   ]
  },
  {
   "cell_type": "code",
   "execution_count": 4,
   "id": "16f0ce15",
   "metadata": {},
   "outputs": [
    {
     "name": "stdout",
     "output_type": "stream",
     "text": [
      "Current Working Directory: c:\\Users\\akn91\\Downloads\n",
      "Power 2^3: 8.0\n",
      "Random number: 0.26701273369786294\n"
     ]
    }
   ],
   "source": [
    "# 🧰 Built-in Functions\n",
    "\n",
    "import math\n",
    "import os\n",
    "import random\n",
    "\n",
    "print(\"Current Working Directory:\", os.getcwd())\n",
    "print(\"Power 2^3:\", math.pow(2, 3))\n",
    "print(\"Random number:\", random.random())\n"
   ]
  },
  {
   "cell_type": "code",
   "execution_count": 5,
   "id": "60d73417",
   "metadata": {},
   "outputs": [
    {
     "name": "stdout",
     "output_type": "stream",
     "text": [
      "List: [1, 2, 3]\n",
      "Tuple: (4, 5, 6)\n",
      "Set (duplicates removed): {1, 2, 3}\n",
      "Dictionary: {'name': 'Anand', 'age': 22}\n"
     ]
    }
   ],
   "source": [
    "# 📦 Python Collections\n",
    "\n",
    "# List\n",
    "my_list = [1, 2, 3]\n",
    "print(\"List:\", my_list)\n",
    "\n",
    "# Tuple\n",
    "my_tuple = (4, 5, 6)\n",
    "print(\"Tuple:\", my_tuple)\n",
    "\n",
    "# Set\n",
    "my_set = {1, 2, 2, 3}\n",
    "print(\"Set (duplicates removed):\", my_set)\n",
    "\n",
    "# Dictionary\n",
    "my_dict = {\"name\": \"Anand\", \"age\": 22}\n",
    "print(\"Dictionary:\", my_dict)\n"
   ]
  },
  {
   "cell_type": "code",
   "execution_count": 6,
   "id": "06d9d128",
   "metadata": {},
   "outputs": [
    {
     "name": "stdout",
     "output_type": "stream",
     "text": [
      "Hello\n",
      "a is 10\n",
      "Anand\n"
     ]
    }
   ],
   "source": [
    "# ❌ Common Mistakes Beginners Make (And Fixes)\n",
    "\n",
    "# 1. Forgetting quotes around strings\n",
    "# print(Hello) ❌\n",
    "print(\"Hello\")  # ✅\n",
    "\n",
    "# 2. Wrong indentation\n",
    "# def hello():\n",
    "# print(\"Hi\") ❌\n",
    "def hello():\n",
    "    print(\"Hi\")  # ✅\n",
    "\n",
    "# 3. Using = instead of == in comparisons\n",
    "# if a = 10: ❌\n",
    "a = 10\n",
    "if a == 10:  # ✅\n",
    "    print(\"a is 10\")\n",
    "\n",
    "# 4. Case Sensitivity\n",
    "Name = \"Anand\"\n",
    "# print(name) ❌ (name is not defined)\n",
    "print(Name)  # ✅\n"
   ]
  }
 ],
 "metadata": {
  "kernelspec": {
   "display_name": "Python 3",
   "language": "python",
   "name": "python3"
  },
  "language_info": {
   "codemirror_mode": {
    "name": "ipython",
    "version": 3
   },
   "file_extension": ".py",
   "mimetype": "text/x-python",
   "name": "python",
   "nbconvert_exporter": "python",
   "pygments_lexer": "ipython3",
   "version": "3.11.9"
  }
 },
 "nbformat": 4,
 "nbformat_minor": 5
}
