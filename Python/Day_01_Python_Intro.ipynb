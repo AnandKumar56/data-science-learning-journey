{
 "cells": [
  {
   "cell_type": "markdown",
   "id": "3ddb7e6b",
   "metadata": {},
   "source": [
    "# 📘 Day 1: Introduction to Python Programming - My Learning Journey\n",
    "Welcome to Day 1 of My Data Science Learning Journey! Today I explored and mastered all the fundamental concepts of Python programming. This notebook documents everything I learned and practiced as an absolute beginner starting from scratch.\n",
    "\n",
    "## 🎯 What I Accomplished Today:\n",
    "✅ Set up my development environment with Anaconda  \n",
    "✅ Learned core programming concepts and Python syntax  \n",
    "✅ Mastered variables, data types, and naming conventions  \n",
    "✅ Built my first Python programs and calculator  \n",
    "✅ Understood debugging and common error handling  \n",
    "✅ Got comfortable with Jupyter Notebook interface  \n",
    "\n",
    "This is my personal record of Day 1 achievements in my data science journey!"
   ]
  },
  {
   "cell_type": "markdown",
   "id": "2591d2e2",
   "metadata": {},
   "source": [
    "## 🔧 Installation Guide\n",
    "We use **Anaconda Navigator** to simplify package management and launch Jupyter Notebook.\n",
    "\n",
    "### 📥 Steps to Install:\n",
    "1. Download from [anaconda.com](https://www.anaconda.com/products/distribution)\n",
    "2. Install and open Anaconda Navigator\n",
    "3. Launch **Jupyter Notebook** from the Navigator\n",
    "\n",
    "> Jupyter Notebook is an interactive tool to run Python code and write explanations side-by-side."
   ]
  },
  {
   "cell_type": "markdown",
   "id": "9333b4db",
   "metadata": {},
   "source": [
    "## 🧠 What is Programming?\n",
    "Programming is instructing the computer to perform tasks.\n",
    "\n",
    "### 🔹 Key Concepts:\n",
    "- **Logic:** What to do\n",
    "- **Syntax:** How to write it\n",
    "- **High-level Language:** Human readable (e.g., Python)\n",
    "- **Low-level Language:** Machine readable (0s and 1s)\n",
    "- **Compiler/Interpreter:** Translates high-level to machine code"
   ]
  },
  {
   "cell_type": "markdown",
   "id": "71205544",
   "metadata": {},
   "source": [
    "## ✨ Writing First Program"
   ]
  },
  {
   "cell_type": "code",
   "execution_count": null,
   "id": "acab1758",
   "metadata": {},
   "outputs": [],
   "source": [
    "a = 10\n",
    "b = 20\n",
    "c = a + b\n",
    "print('Sum is:', c)"
   ]
  },
  {
   "cell_type": "markdown",
   "id": "c0c1ce03",
   "metadata": {},
   "source": [
    "## 💡 Jupyter Notebook Basics\n",
    "- Run code: `Shift + Enter`\n",
    "- Change to Markdown: `Esc` then `M`\n",
    "- Change to Code: `Esc` then `Y`\n",
    "- Comment code: use `#`\n",
    "\n",
    "```python\n",
    "# This is a comment\n",
    "print('Hello, world!')\n",
    "```"
   ]
  },
  {
   "cell_type": "markdown",
   "id": "43a6c1d6",
   "metadata": {},
   "source": [
    "## 🧮 Variables & Data Types\n",
    "\n",
    "### 📝 What is a Variable?\n",
    "A variable is a container that stores data values. Think of it as a labeled box where you can keep different types of information.\n",
    "\n",
    "```python\n",
    "name = \"John\"     # Variable 'name' stores text\n",
    "age = 25          # Variable 'age' stores a number\n",
    "```\n",
    "\n",
    "### 📋 Rules for Variable Names:\n",
    "- Must start with a letter (a-z, A-Z) or underscore (_)\n",
    "- Cannot start with a number\n",
    "- Can contain letters, numbers, and underscores\n",
    "- Case-sensitive (`name` and `Name` are different)\n",
    "- No spaces allowed (use underscore instead)\n",
    "- Cannot use Python keywords (like `if`, `for`, `while`)\n",
    "\n",
    "### ✅ Valid Examples:\n",
    "```python\n",
    "name, age, _score, student_name, firstName, score2\n",
    "```\n",
    "\n",
    "### ❌ Invalid Examples:\n",
    "```python\n",
    "2name, my-age, class, first name, @score\n",
    "```\n",
    "\n",
    "### 📊 Python Data Types:\n",
    "| Data Type | Description | Example |\n",
    "|-----------|-------------|---------|\n",
    "| **str** | Text/String | `\"Hello\"`, `'Python'` |\n",
    "| **int** | Whole numbers | `42`, `-17`, `0` |\n",
    "| **float** | Decimal numbers | `3.14`, `-2.5`, `0.0` |\n",
    "| **bool** | True/False | `True`, `False` |"
   ]
  },
  {
   "cell_type": "markdown",
   "id": "30ae391d",
   "metadata": {},
   "source": [
    "## 🧾 Real-World Example: Simple Calculator"
   ]
  },
  {
   "cell_type": "code",
   "execution_count": null,
   "id": "52f1440a",
   "metadata": {},
   "outputs": [],
   "source": [
    "salary1 = 1000\n",
    "salary2 = 2500\n",
    "total_salary = salary1 + salary2\n",
    "print(\"Your total income is:\", total_salary)"
   ]
  },
  {
   "cell_type": "markdown",
   "id": "3648daf9",
   "metadata": {},
   "source": [
    "## 🐞 Common Mistakes & Debugging\n",
    "| Mistake | Error Message | Fix |\n",
    "|--------|----------------|-----|\n",
    "| Using undeclared variable | `NameError` | Declare variable before using |\n",
    "| Wrong indentation | `IndentationError` | Align code properly |\n",
    "| Forgetting `:` in functions/conditions | `SyntaxError` | Always check colons `:` |\n",
    "| Invalid variable names | `SyntaxError` | Use letters, _, not special characters |\n",
    "| Mismatched quotes | `SyntaxError` | Always close quotes properly |"
   ]
  },
  {
   "cell_type": "markdown",
   "id": "af7c46fc",
   "metadata": {},
   "source": [
    "## ✅ Summary\n",
    "- Programming is about logic and syntax.\n",
    "- Python is a high-level language, great for beginners.\n",
    "- Jupyter is our coding playground.\n",
    "- Practice makes perfect — and debugging helps you learn!\n",
    "\n",
    "🧠 Keep Learning, Keep Building!"
   ]
  }
 ],
 "metadata": {
  "language_info": {
   "name": "python"
  }
 },
 "nbformat": 4,
 "nbformat_minor": 5
}
