{
 "cells": [
  {
   "cell_type": "code",
   "execution_count": 13,
   "id": "9ece266b-33be-4cc3-8838-8aabc4deb62f",
   "metadata": {},
   "outputs": [
    {
     "name": "stdin",
     "output_type": "stream",
     "text": [
      "Enter the Cource Name: Data Science\n",
      "Enter the insitite Name: Naresh it\n"
     ]
    },
    {
     "name": "stdout",
     "output_type": "stream",
     "text": [
      "life is secure\n"
     ]
    }
   ],
   "source": [
    "# Here we are using conditional statements and logical operators eg and here\n",
    "# Logical operator is \"and\" it check for both conditions true\n",
    "\n",
    "cname=input(\"Enter the Cource Name:\")\n",
    "inst_name=input(\"Enter the insitite Name:\")\n",
    "\n",
    "con1=cname.lower()==\"Data Science\".lower()\n",
    "con2=inst_name.lower()==\"Naresh IT\".lower()\n",
    "\n",
    "if con1 and con2:\n",
    "    print(\"life is secure\")\n",
    "else:\n",
    "    print(\"Katam\")"
   ]
  },
  {
   "cell_type": "code",
   "execution_count": null,
   "id": "95e8bab4-b2dd-4e6c-bfdf-b137adf6cb79",
   "metadata": {},
   "outputs": [],
   "source": [
    "# Here we are using conditional statements and logical operators eg and here\n",
    "# The Logical operator is \"or\" it execute/return when either one or both condition are true\n",
    "\n",
    "cname=input(\"Enter the Cource Name:\")\n",
    "inst_name=input(\"Enter the insitite Name:\")\n",
    "\n",
    "con1=cname.lower()==\"Data Science\".lower()\n",
    "con2=inst_name.lower()==\"Naresh IT\".lower()\n",
    "\n",
    "if con1 or con2:\n",
    "    print(\"life is secure\")\n",
    "else:\n",
    "    print(\"Katam\")"
   ]
  },
  {
   "cell_type": "markdown",
   "id": "9d5f487d-9376-4cf6-b759-d81e3a43905d",
   "metadata": {},
   "source": [
    "**if-elif-else**"
   ]
  },
  {
   "cell_type": "code",
   "execution_count": 16,
   "id": "3d6f9909-4f29-4bd9-a00d-ce7db637df9d",
   "metadata": {},
   "outputs": [
    {
     "name": "stdout",
     "output_type": "stream",
     "text": [
      "Enter the Valid Number\n"
     ]
    }
   ],
   "source": [
    "num=10\n",
    "if num==1:\n",
    "    print(\"one\")\n",
    "elif num==2:\n",
    "    print(\"two\")\n",
    "elif num==3:\n",
    "    print(\"three\")\n",
    "else:\n",
    "    print(\"Enter the Valid Number\")"
   ]
  },
  {
   "cell_type": "code",
   "execution_count": 18,
   "id": "eee45b14-106c-4001-b6e8-696b3eb300b2",
   "metadata": {},
   "outputs": [
    {
     "name": "stdout",
     "output_type": "stream",
     "text": [
      "Enter the Valid Number\n"
     ]
    }
   ],
   "source": [
    "num=10\n",
    "if num<1:\n",
    "    print(\"one\")\n",
    "elif num==2:\n",
    "    print(\"two\")\n",
    "elif num==3:\n",
    "    print(\"three\")\n",
    "else:\n",
    "    print(\"Enter the Valid Number\")"
   ]
  },
  {
   "cell_type": "code",
   "execution_count": 22,
   "id": "061900ab-2834-4f5d-b00a-9754ad738dca",
   "metadata": {},
   "outputs": [
    {
     "name": "stdout",
     "output_type": "stream",
     "text": [
      "two\n"
     ]
    }
   ],
   "source": [
    "num=2\n",
    "if num<1:\n",
    "    print(\"one\")\n",
    "elif num==2:\n",
    "    print(\"two\")\n",
    "elif num<3:\n",
    "    print(\"three\")\n",
    "else:\n",
    "    print(\"Enter the Valid Number\")"
   ]
  },
  {
   "cell_type": "code",
   "execution_count": 30,
   "id": "f2f3cc5a-22a6-4b57-a17c-6a61ec01350c",
   "metadata": {},
   "outputs": [
    {
     "name": "stdout",
     "output_type": "stream",
     "text": [
      "one\n",
      "two\n"
     ]
    }
   ],
   "source": [
    "num=2\n",
    "if num>1:\n",
    "    print(\"one\")\n",
    "if num==2:\n",
    "    print(\"two\")\n",
    "elif num<3:\n",
    "    print(\"three\")\n",
    "else:\n",
    "    print(\"Enter the Valid Number\")"
   ]
  },
  {
   "cell_type": "code",
   "execution_count": null,
   "id": "c72ff023-5d7c-4e4a-b815-bc0df2cf8470",
   "metadata": {},
   "outputs": [],
   "source": [
    "if is not pass === elif (condition)\n",
    "# two can degree pass\n",
    "# if first == dont check\n",
    "if is not pass === else (condition)\n",
    "# we are looking"
   ]
  },
  {
   "cell_type": "code",
   "execution_count": 42,
   "id": "ecba6cce-6f67-4e89-88e1-7aff9fcc5e27",
   "metadata": {},
   "outputs": [
    {
     "name": "stdin",
     "output_type": "stream",
     "text": [
      "Enter the Percentage of Marks 50\n"
     ]
    },
    {
     "name": "stdout",
     "output_type": "stream",
     "text": [
      "Your Marks Percentage is 50 You Got C Grade\n"
     ]
    }
   ],
   "source": [
    "# Ask the user enter the percentage of marks\n",
    "# if marks greater than 75% than print A grade otherwise\n",
    "# if marks between 60 to 75 than print B grade\n",
    "# if marks between 45 to 60 than print C grade otherwise\n",
    "# print fail\n",
    "\n",
    "marks=eval(input('Enter the Percentage of Marks'))                 \n",
    "\n",
    "if marks>=75:                                                      \n",
    "    print(f\"Your Marks Percentage is {marks} You Got A Grade\")\n",
    "elif marks>=60 and marks<75:\n",
    "    print(f\"Your Marks Percentage is {marks} You Got B Grade\")\n",
    "elif marks>=45 and marks<60:\n",
    "    print(f\"Your Marks Percentage is {marks} You Got C Grade\")\n",
    "else:\n",
    "    print(f\"Your Marks Percentage is {marks} You Failed\")"
   ]
  },
  {
   "cell_type": "code",
   "execution_count": 46,
   "id": "7bc74d3d-7e5e-4189-b611-07019f4c60cc",
   "metadata": {},
   "outputs": [
    {
     "name": "stdin",
     "output_type": "stream",
     "text": [
      "Enter the Percentage of Marks 40\n"
     ]
    },
    {
     "name": "stdout",
     "output_type": "stream",
     "text": [
      "Your Marks Percentage is 40 You Failed\n"
     ]
    }
   ],
   "source": [
    "marks=eval(input('Enter the Percentage of Marks'))                 \n",
    "\n",
    "if marks>=75:         # 40>=75 False                                             \n",
    "    print(f\"Your Marks Percentage is {marks} You Got A Grade\")\n",
    "elif marks>=60:       # 40>60  False\n",
    "    print(f\"Your Marks Percentage is {marks} You Got B Grade\")\n",
    "elif marks>=45:       # 40>45  False\n",
    "    print(f\"Your Marks Percentage is {marks} You Got C Grade\")\n",
    "else:\n",
    "    print(f\"Your Marks Percentage is {marks} You Failed\")  # Prints Fail"
   ]
  },
  {
   "cell_type": "code",
   "execution_count": 52,
   "id": "333fda37-87ea-47d1-913d-0f51af90baec",
   "metadata": {},
   "outputs": [
    {
     "name": "stdin",
     "output_type": "stream",
     "text": [
      "Enter the Age: 102\n"
     ]
    },
    {
     "name": "stdout",
     "output_type": "stream",
     "text": [
      "Unlucky\n"
     ]
    }
   ],
   "source": [
    "#wap ask the user take a age\n",
    "#if age>100 unlucky person\n",
    "#if age between 60 to 100 print senior citizen \n",
    "#if age between 60 to 30 print middle aged\n",
    "#if age between 19 to 30 print young\n",
    "#if age between 13 to 19 print teen\n",
    "#else\n",
    "#print kid\n",
    "\n",
    "age=eval(input(\"Enter the Age:\"))\n",
    "\n",
    "if age>100:\n",
    "    print(\"Unlucky\")\n",
    "elif age>60:\n",
    "    print(\"Senior Citizen\")\n",
    "elif age>30:\n",
    "    print(\"Middle Age\")\n",
    "elif age>19:\n",
    "    print(\"Young\")\n",
    "elif age>13:\n",
    "    print(\"Teen\")\n",
    "else:\n",
    "    print(\"kid\")"
   ]
  },
  {
   "cell_type": "code",
   "execution_count": null,
   "id": "343cb9c8-e8b5-4a87-b493-9c41c4134ba2",
   "metadata": {},
   "outputs": [],
   "source": [
    "#Practice Programs\n",
    "\n",
    "# wap aks the user enter two numbers\n",
    "# num1=eval()\n",
    "# num2=eval()\n",
    "# aks user print some statements\n",
    "# print(\"enter 1 for addition, enter 2 for sub, enter 3 mul,enter 4 div\")\n",
    "# operator=eval(input('enter a number 1 to 4')\n",
    "\n",
    "num1=eval(input(\"Enter the Number1:\"))\n",
    "num2=eval(input(\"Enter the Number2:\"))\n",
    "\n",
    "print(\"Enter 1 for addition, Enter 2 for substraction, Enter 3 mul, Enter 4 div\")\n",
    "operator=eval(input(\"Enter the operator (1 to 4):\"))\n",
    "\n",
    "if operator == 1:\n",
    "    print(f\"Addition of {num1} and {num2} is\",num1+num2)\n",
    "elif operator == 2:\n",
    "    print(f\"Substraction of {num1} and {num2} is\",num1-num2)\n",
    "elif operator == 3:\n",
    "    print(f\"Multiplication of {num1} and {num2} is\",num1*num2)\n",
    "elif operator == 4:\n",
    "    print(f\"Division of {num1} and {num2} is\",num1/num2)\n",
    "else:\n",
    "    print(\"❌ Invalid Operator Enter Operator between 1 to 4 Only\")"
   ]
  },
  {
   "cell_type": "code",
   "execution_count": null,
   "id": "1f24afe8-3a4f-4307-bfb8-1db6870c148f",
   "metadata": {},
   "outputs": [],
   "source": [
    "# Some More Practice Questions"
   ]
  },
  {
   "cell_type": "code",
   "execution_count": 6,
   "id": "2afe82d0-b7a7-4bd2-82fc-e0e130d37b2a",
   "metadata": {},
   "outputs": [
    {
     "name": "stdin",
     "output_type": "stream",
     "text": [
      "Enter the Number 3\n"
     ]
    },
    {
     "name": "stdout",
     "output_type": "stream",
     "text": [
      "3 is Multiple of 3\n"
     ]
    }
   ],
   "source": [
    "#1. Check if Number is Multiple of 3\n",
    "#👉 Ask the user for a number. Print \"Yes\" if it's a multiple of 3, else print \"No\".\n",
    "\n",
    "number=eval(input(\"Enter the Number\"))\n",
    "\n",
    "if number%3==0:\n",
    "    print(f\"{number} is Multiple of 3\")\n",
    "else:\n",
    "    print(f\"{number} is Not Multiple of 3\")"
   ]
  },
  {
   "cell_type": "code",
   "execution_count": 46,
   "id": "a675e058-f392-40a9-ba71-7cd2ea7ec676",
   "metadata": {},
   "outputs": [
    {
     "name": "stdin",
     "output_type": "stream",
     "text": [
      "Enter the Vowel: a\n"
     ]
    },
    {
     "name": "stdout",
     "output_type": "stream",
     "text": [
      "a is a Vowel\n"
     ]
    }
   ],
   "source": [
    "# 2. Check if Character is a Vowel or Consonant\n",
    "#👉 Ask the user to enter a single alphabet letter. Check if it's a vowel (a, e, i, o, u) or consonant.\n",
    "# I got an error while writing that i didnt declare the vowels letter in the quates\n",
    "\n",
    "letter=input(\"Enter the Vowel:\")\n",
    "\n",
    "if letter in ['a', 'e', 'i', 'o', 'u']:\n",
    "    print(f\"{letter} is a Vowel\")\n",
    "else:\n",
    "    print(f\"{letter} is Constant\")"
   ]
  },
  {
   "cell_type": "code",
   "execution_count": 5,
   "id": "2d710fce-f60e-4da8-950b-c45606416eab",
   "metadata": {},
   "outputs": [
    {
     "name": "stdin",
     "output_type": "stream",
     "text": [
      "Enter the Number 50\n"
     ]
    },
    {
     "name": "stdout",
     "output_type": "stream",
     "text": [
      "50 is Two digit number\n"
     ]
    }
   ],
   "source": [
    "#3. Check if Number is a Two-Digit Number\n",
    "#👉 Take input from the user and print if the number is a two-digit number or not.\n",
    "\n",
    "num=input(\"Enter the Number\")\n",
    "\n",
    "if len(num)==2 :\n",
    "    print(f\"{num} is Two digit number\")\n",
    "else:\n",
    "    print(f\"{num} is not Two Digit Number\")"
   ]
  },
  {
   "cell_type": "code",
   "execution_count": 10,
   "id": "297a7aaf-2387-4551-a00f-cc742c3c8794",
   "metadata": {},
   "outputs": [
    {
     "name": "stdin",
     "output_type": "stream",
     "text": [
      "Enter the letter: a\n"
     ]
    },
    {
     "name": "stdout",
     "output_type": "stream",
     "text": [
      "a is Lowercase\n"
     ]
    }
   ],
   "source": [
    "# 4. Check Uppercase or Lowercase Letter\n",
    "#👉 Ask the user to enter a letter. Print \"Uppercase\" if it's an uppercase letter, else print \"Lowercase\".\n",
    "\n",
    "letter=input(\"Enter the letter:\")\n",
    "\n",
    "if letter == letter.upper():\n",
    "    print(f\"{letter} is Uppercase\")\n",
    "else:\n",
    "    print(f\"{letter} is Lowercase\")"
   ]
  },
  {
   "cell_type": "code",
   "execution_count": 12,
   "id": "a0057131-36be-4ec8-aeb8-04824b8572c9",
   "metadata": {},
   "outputs": [
    {
     "name": "stdin",
     "output_type": "stream",
     "text": [
      "Enter the Number1 10\n",
      "Enter the Number2 20\n",
      "Enter the operator(+, -, *, /): +\n"
     ]
    },
    {
     "name": "stdout",
     "output_type": "stream",
     "text": [
      "10 + 20 is 30\n"
     ]
    }
   ],
   "source": [
    "# 5. Simple Calculator with Two Numbers\n",
    "# 👉 Ask for two numbers and an operator (+, -, *, /). Perform the operation using if-elif-else.\n",
    "\n",
    "num1=eval(input(\"Enter the Number1\"))\n",
    "num2=eval(input(\"Enter the Number2\"))\n",
    "\n",
    "operator=input(\"Enter the operator(+, -, *, /):\")\n",
    "\n",
    "if operator=='+':\n",
    "    print(f\"{num1} + {num2} is\",num1+num2)\n",
    "elif operator=='-':\n",
    "    print(f\"{num1} - {num2} is\",num1-num2)\n",
    "elif operator=='*':\n",
    "    print(f\"{num1} * {num2} is\",num1*num2)\n",
    "elif operator=='/':\n",
    "    print(f\"{num1} / {num2} is\",num1/num2)\n",
    "else:\n",
    "    print(\"Invalid Operator\")"
   ]
  },
  {
   "cell_type": "code",
   "execution_count": 29,
   "id": "1acb36d1-d1fd-44f6-8503-ebcd16464ae7",
   "metadata": {},
   "outputs": [
    {
     "name": "stdin",
     "output_type": "stream",
     "text": [
      "Enter the number 111\n"
     ]
    },
    {
     "name": "stdout",
     "output_type": "stream",
     "text": [
      "Yes\n"
     ]
    }
   ],
   "source": [
    "# 6. Check if Number is Odd and Greater than 100\n",
    "#👉 Ask the user for a number. Print \"Yes\" only if the number is odd and greater than 100, else print \"No\".\n",
    "\n",
    "number=eval(input(\"Enter the number\"))\n",
    "\n",
    "if number%2!=0 and number>100: \n",
    "    print(\"Yes\")\n",
    "else:\n",
    "    print(\"No\")"
   ]
  },
  {
   "cell_type": "code",
   "execution_count": 16,
   "id": "0301178b-82d0-468b-a6d4-904931d6eba3",
   "metadata": {},
   "outputs": [
    {
     "data": {
      "text/plain": [
       "False"
      ]
     },
     "execution_count": 16,
     "metadata": {},
     "output_type": "execute_result"
    }
   ],
   "source": [
    "number>100%2!=0"
   ]
  },
  {
   "cell_type": "code",
   "execution_count": null,
   "id": "61ba4093-98cc-4da6-9a19-2a55c54e4cc1",
   "metadata": {},
   "outputs": [],
   "source": [
    "if number%2!=0>100"
   ]
  },
  {
   "cell_type": "code",
   "execution_count": null,
   "id": "ccf20f5e-d036-4bf0-b312-a9a27e31df82",
   "metadata": {},
   "outputs": [],
   "source": [
    "# 7. Check if a Number is Between 10 and 50\n",
    "# 👉 Input a number and print whether it lies between 10 and 50 (inclusive)."
   ]
  },
  {
   "cell_type": "code",
   "execution_count": 7,
   "id": "4f22ab0a-4b9a-4ba2-b2d5-55fd1d7273ed",
   "metadata": {},
   "outputs": [
    {
     "name": "stdin",
     "output_type": "stream",
     "text": [
      "Enter the number 45\n"
     ]
    },
    {
     "name": "stdout",
     "output_type": "stream",
     "text": [
      "Number 45 Lies between 10 and 50\n"
     ]
    }
   ],
   "source": [
    "num1=eval(input('Enter the number'))\n",
    "if 10 < num1 < 50:\n",
    "    print(f'Number {num1} Lies between 10 and 50')\n",
    "else:\n",
    "    print(f'Number {num1} Not Lies between 10  and 50')"
   ]
  },
  {
   "cell_type": "code",
   "execution_count": null,
   "id": "37954c88-42a0-405a-89d0-ff60c648e1cf",
   "metadata": {},
   "outputs": [],
   "source": [
    "# 8. Find Smallest of Two Numbers\n",
    "# 👉 Take two numbers and print the smaller one."
   ]
  },
  {
   "cell_type": "code",
   "execution_count": 11,
   "id": "c08ad023-2398-4db8-91a7-d0b9085439ed",
   "metadata": {},
   "outputs": [
    {
     "name": "stdin",
     "output_type": "stream",
     "text": [
      "Enter Number1: 7\n",
      "Enter Number2: 5\n"
     ]
    },
    {
     "name": "stdout",
     "output_type": "stream",
     "text": [
      "5 is smaller than 7\n"
     ]
    }
   ],
   "source": [
    "num1=eval(input(\"Enter Number1:\"))\n",
    "num2=eval(input(\"Enter Number2:\"))\n",
    "\n",
    "if num1<num2:\n",
    "    print(f\"{num1} is smaller than {num2}\")\n",
    "else:\n",
    "    print(f\"{num2} is smaller than {num1}\")"
   ]
  },
  {
   "cell_type": "code",
   "execution_count": null,
   "id": "86263513-2791-46f8-9863-354914844c46",
   "metadata": {},
   "outputs": [],
   "source": [
    "# 9. Check for Weekend or Weekday\n",
    "# 👉 Ask the user to enter a day name (like \"Monday\"). Print \"Weekend\" if it's Saturday or Sunday, else print \"Weekday\"."
   ]
  },
  {
   "cell_type": "code",
   "execution_count": 39,
   "id": "81028201-b50c-4602-bd13-4eed3a0e5b3f",
   "metadata": {},
   "outputs": [
    {
     "name": "stdin",
     "output_type": "stream",
     "text": [
      "Enter the Day Name monday\n"
     ]
    },
    {
     "name": "stdout",
     "output_type": "stream",
     "text": [
      "Weekday\n"
     ]
    }
   ],
   "source": [
    "day=input(\"Enter the Day Name\")\n",
    "\n",
    "if day.lower() == 'sunday' or day.lower() == 'saturday':\n",
    "    print(\"Weekend\")\n",
    "else:\n",
    "    print(\"Weekday\")"
   ]
  },
  {
   "cell_type": "code",
   "execution_count": 43,
   "id": "977a0b6a-4b03-4695-9f26-98fc2ef71d3a",
   "metadata": {},
   "outputs": [
    {
     "name": "stdin",
     "output_type": "stream",
     "text": [
      "Enter the character a: s\n",
      "Enter the Character b: s\n"
     ]
    },
    {
     "name": "stdout",
     "output_type": "stream",
     "text": [
      "Same characters\n"
     ]
    }
   ],
   "source": [
    "# 10. Compare Two Characters\n",
    "# 👉 Ask the user to enter two characters. If both are equal, print \"Same\", else print \"Different\".\n",
    "\n",
    "char_a=input(\"Enter the character a:\")\n",
    "char_b=input(\"Enter the Character b:\")\n",
    "\n",
    "if char_a.lower()==char_b.lower():\n",
    "    print(\"Same characters\")\n",
    "else:\n",
    "    print(\"Different characters\")"
   ]
  },
  {
   "cell_type": "code",
   "execution_count": null,
   "id": "ab530dea-fd7b-4dcf-ab07-6ee02db61078",
   "metadata": {},
   "outputs": [],
   "source": []
  },
  {
   "cell_type": "markdown",
   "id": "d8bf1ec4-a351-4881-9326-391ee9b26922",
   "metadata": {},
   "source": [
    "- Syntax error\n",
    "\n",
    "- indentation error\n",
    "\n",
    "- type error\n",
    "\n",
    "- name error\n",
    "\n",
    "- zero division error\n",
    "\n",
    "- module not found error\n",
    "\n",
    "- attribute error error\n",
    "\n",
    "- value error error"
   ]
  },
  {
   "cell_type": "code",
   "execution_count": 15,
   "id": "46f30d1e-1b83-46d3-a9f9-725425cf97d9",
   "metadata": {},
   "outputs": [
    {
     "ename": "NameError",
     "evalue": "name 'name' is not defined",
     "output_type": "error",
     "traceback": [
      "\u001b[1;31m---------------------------------------------------------------------------\u001b[0m",
      "\u001b[1;31mNameError\u001b[0m                                 Traceback (most recent call last)",
      "Cell \u001b[1;32mIn[15], line 1\u001b[0m\n\u001b[1;32m----> 1\u001b[0m name(python)\n",
      "\u001b[1;31mNameError\u001b[0m: name 'name' is not defined"
     ]
    }
   ],
   "source": [
    "name(python)"
   ]
  },
  {
   "cell_type": "code",
   "execution_count": 17,
   "id": "851996e4-d248-4e69-bfd5-9baa662d296d",
   "metadata": {},
   "outputs": [
    {
     "ename": "IndentationError",
     "evalue": "expected an indented block after 'if' statement on line 1 (223829651.py, line 2)",
     "output_type": "error",
     "traceback": [
      "\u001b[1;36m  Cell \u001b[1;32mIn[17], line 2\u001b[1;36m\u001b[0m\n\u001b[1;33m    print(name)\u001b[0m\n\u001b[1;37m    ^\u001b[0m\n\u001b[1;31mIndentationError\u001b[0m\u001b[1;31m:\u001b[0m expected an indented block after 'if' statement on line 1\n"
     ]
    }
   ],
   "source": [
    "if name:\n",
    "print(name)"
   ]
  },
  {
   "cell_type": "code",
   "execution_count": 19,
   "id": "67a4b1e6-a30b-4f38-91e2-49c6bde0ab6a",
   "metadata": {},
   "outputs": [
    {
     "ename": "TypeError",
     "evalue": "unsupported operand type(s) for +: 'int' and 'type'",
     "output_type": "error",
     "traceback": [
      "\u001b[1;31m---------------------------------------------------------------------------\u001b[0m",
      "\u001b[1;31mTypeError\u001b[0m                                 Traceback (most recent call last)",
      "Cell \u001b[1;32mIn[19], line 1\u001b[0m\n\u001b[1;32m----> 1\u001b[0m \u001b[38;5;241m10\u001b[39m\u001b[38;5;241m+\u001b[39m\u001b[38;5;28mstr\u001b[39m\n",
      "\u001b[1;31mTypeError\u001b[0m: unsupported operand type(s) for +: 'int' and 'type'"
     ]
    }
   ],
   "source": [
    "10+str"
   ]
  },
  {
   "cell_type": "code",
   "execution_count": 21,
   "id": "c32c5308-10ba-42e9-a234-fdadf453539e",
   "metadata": {},
   "outputs": [
    {
     "ename": "NameError",
     "evalue": "name 'nam' is not defined",
     "output_type": "error",
     "traceback": [
      "\u001b[1;31m---------------------------------------------------------------------------\u001b[0m",
      "\u001b[1;31mNameError\u001b[0m                                 Traceback (most recent call last)",
      "Cell \u001b[1;32mIn[21], line 2\u001b[0m\n\u001b[0;32m      1\u001b[0m name\u001b[38;5;241m=\u001b[39m\u001b[38;5;124m\"\u001b[39m\u001b[38;5;124mpython\u001b[39m\u001b[38;5;124m\"\u001b[39m\n\u001b[1;32m----> 2\u001b[0m nam\n",
      "\u001b[1;31mNameError\u001b[0m: name 'nam' is not defined"
     ]
    }
   ],
   "source": [
    "name=\"python\"\n",
    "nam"
   ]
  },
  {
   "cell_type": "code",
   "execution_count": 23,
   "id": "aaa9f1f2-ef5e-480e-9b09-0a44e0a27292",
   "metadata": {},
   "outputs": [
    {
     "ename": "ZeroDivisionError",
     "evalue": "division by zero",
     "output_type": "error",
     "traceback": [
      "\u001b[1;31m---------------------------------------------------------------------------\u001b[0m",
      "\u001b[1;31mZeroDivisionError\u001b[0m                         Traceback (most recent call last)",
      "Cell \u001b[1;32mIn[23], line 1\u001b[0m\n\u001b[1;32m----> 1\u001b[0m \u001b[38;5;241m10\u001b[39m\u001b[38;5;241m/\u001b[39m\u001b[38;5;241m0\u001b[39m\n",
      "\u001b[1;31mZeroDivisionError\u001b[0m: division by zero"
     ]
    }
   ],
   "source": [
    "10/0"
   ]
  },
  {
   "cell_type": "code",
   "execution_count": 25,
   "id": "a635e6d4-def2-4e2b-8527-f11ab688a406",
   "metadata": {},
   "outputs": [
    {
     "ename": "ModuleNotFoundError",
     "evalue": "No module named 'module'",
     "output_type": "error",
     "traceback": [
      "\u001b[1;31m---------------------------------------------------------------------------\u001b[0m",
      "\u001b[1;31mModuleNotFoundError\u001b[0m                       Traceback (most recent call last)",
      "Cell \u001b[1;32mIn[25], line 1\u001b[0m\n\u001b[1;32m----> 1\u001b[0m \u001b[38;5;28;01mimport\u001b[39;00m \u001b[38;5;21;01mmodule\u001b[39;00m\n",
      "\u001b[1;31mModuleNotFoundError\u001b[0m: No module named 'module'"
     ]
    }
   ],
   "source": [
    "import module"
   ]
  },
  {
   "cell_type": "code",
   "execution_count": 27,
   "id": "266074ca-8f6a-4684-9e0a-23ccd574b12d",
   "metadata": {},
   "outputs": [
    {
     "ename": "AttributeError",
     "evalue": "module 'random' has no attribute 'module'",
     "output_type": "error",
     "traceback": [
      "\u001b[1;31m---------------------------------------------------------------------------\u001b[0m",
      "\u001b[1;31mAttributeError\u001b[0m                            Traceback (most recent call last)",
      "Cell \u001b[1;32mIn[27], line 2\u001b[0m\n\u001b[0;32m      1\u001b[0m \u001b[38;5;28;01mimport\u001b[39;00m \u001b[38;5;21;01mrandom\u001b[39;00m\n\u001b[1;32m----> 2\u001b[0m random\u001b[38;5;241m.\u001b[39mmodule\n",
      "\u001b[1;31mAttributeError\u001b[0m: module 'random' has no attribute 'module'"
     ]
    }
   ],
   "source": [
    "import random\n",
    "random.module"
   ]
  },
  {
   "cell_type": "code",
   "execution_count": 29,
   "id": "bc6f3ccb-a993-4540-9d81-cf3f41cfe2c7",
   "metadata": {},
   "outputs": [
    {
     "ename": "ValueError",
     "evalue": "invalid literal for int() with base 10: '10.5'",
     "output_type": "error",
     "traceback": [
      "\u001b[1;31m---------------------------------------------------------------------------\u001b[0m",
      "\u001b[1;31mValueError\u001b[0m                                Traceback (most recent call last)",
      "Cell \u001b[1;32mIn[29], line 1\u001b[0m\n\u001b[1;32m----> 1\u001b[0m \u001b[38;5;28mint\u001b[39m(\u001b[38;5;124m'\u001b[39m\u001b[38;5;124m10.5\u001b[39m\u001b[38;5;124m'\u001b[39m)\n",
      "\u001b[1;31mValueError\u001b[0m: invalid literal for int() with base 10: '10.5'"
     ]
    }
   ],
   "source": [
    "int('10.5')"
   ]
  },
  {
   "cell_type": "code",
   "execution_count": 32,
   "id": "3526c59c-06c2-43ff-8e82-1e484b85a8eb",
   "metadata": {},
   "outputs": [
    {
     "name": "stderr",
     "output_type": "stream",
     "text": [
      "UsageError: Line magic function `%/100` not found.\n"
     ]
    }
   ],
   "source": [
    "%/100"
   ]
  },
  {
   "cell_type": "markdown",
   "id": "c44226ef-1243-4048-a764-ee831edbc396",
   "metadata": {},
   "source": [
    "- now onwords we will write our code in try and except\n",
    "\n",
    "- there is two blocks\n",
    "\n",
    "    - try block\n",
    "\n",
    "    - except block\n",
    "\n",
    "- write your code in try block\n",
    "\n",
    "- if any occures in try block(orginal code) the code will catch in except block"
   ]
  },
  {
   "cell_type": "code",
   "execution_count": 40,
   "id": "3861c0cd-26c1-4611-9584-3e05d85b72c7",
   "metadata": {},
   "outputs": [
    {
     "name": "stdout",
     "output_type": "stream",
     "text": [
      "the addition of 10 and 20 is 30\n"
     ]
    }
   ],
   "source": [
    "a=10\n",
    "b=20\n",
    "c=a+b\n",
    "print(f'the addition of {a} and {b} is {c}')"
   ]
  },
  {
   "cell_type": "code",
   "execution_count": 46,
   "id": "fd91e28f-3e84-4ce2-a2df-de69b8e629c5",
   "metadata": {},
   "outputs": [
    {
     "name": "stdout",
     "output_type": "stream",
     "text": [
      "the addition of 10 and 20 is 30\n"
     ]
    }
   ],
   "source": [
    "try:\n",
    "    a=10\n",
    "    b=20\n",
    "    c=a+b\n",
    "    print(f'the addition of {a} and {b} is {c}')\n",
    "except Exception as e:\n",
    "    print(e)"
   ]
  },
  {
   "cell_type": "code",
   "execution_count": 50,
   "id": "cb21f3ec-8697-44aa-93f2-66b242d973a0",
   "metadata": {},
   "outputs": [
    {
     "name": "stdout",
     "output_type": "stream",
     "text": [
      "10\n",
      "0\n",
      "division by zero\n",
      "We have found the error\n"
     ]
    }
   ],
   "source": [
    "try:\n",
    "    a=10        # correct\n",
    "    print(a)    # correct\n",
    "    b=0         # correct\n",
    "    print(b)    # correct\n",
    "    c=a/b       # wrong\n",
    "    print(f'the addition of {a} and {b} is {c}')\n",
    "except Exception as e:\n",
    "    print(e)\n",
    "    print(\"We have found the error\")"
   ]
  },
  {
   "cell_type": "code",
   "execution_count": 52,
   "id": "14c98c63-6517-4574-8a89-b3e53d009964",
   "metadata": {},
   "outputs": [
    {
     "name": "stdout",
     "output_type": "stream",
     "text": [
      "can only concatenate str (not \"int\") to str\n"
     ]
    }
   ],
   "source": [
    "try:\n",
    "    'a' + 100\n",
    "except Exception as e:\n",
    "    print(e)"
   ]
  },
  {
   "cell_type": "code",
   "execution_count": 54,
   "id": "486346a2-4b96-4d47-9ca3-c3972032febc",
   "metadata": {},
   "outputs": [
    {
     "name": "stdout",
     "output_type": "stream",
     "text": [
      "name 'python' is not defined\n"
     ]
    }
   ],
   "source": [
    "try:\n",
    "    name(python)\n",
    "except Exception as e:\n",
    "    print(e)"
   ]
  },
  {
   "cell_type": "code",
   "execution_count": 60,
   "id": "91bcbded-5073-4384-af82-db6b50d61b9f",
   "metadata": {},
   "outputs": [
    {
     "name": "stdout",
     "output_type": "stream",
     "text": [
      "name 'py' is not defined\n"
     ]
    }
   ],
   "source": [
    "try:\n",
    "    if py:\n",
    "        print(py)\n",
    "except Exception as e:\n",
    "    print(e)"
   ]
  },
  {
   "cell_type": "code",
   "execution_count": 62,
   "id": "46205448-b119-4559-bfb7-3227f214ebec",
   "metadata": {},
   "outputs": [
    {
     "name": "stdout",
     "output_type": "stream",
     "text": [
      "unsupported operand type(s) for +: 'int' and 'type'\n"
     ]
    }
   ],
   "source": [
    "try:\n",
    "    10+str\n",
    "except Exception as e:\n",
    "    print(e)"
   ]
  },
  {
   "cell_type": "code",
   "execution_count": 64,
   "id": "131a8bc7-26d7-4970-8a02-8023d7d60d79",
   "metadata": {},
   "outputs": [
    {
     "name": "stdout",
     "output_type": "stream",
     "text": [
      "name 'nam' is not defined\n"
     ]
    }
   ],
   "source": [
    "try:\n",
    "    name=\"python\"\n",
    "    nam\n",
    "except Exception as e:\n",
    "    print(e)"
   ]
  },
  {
   "cell_type": "code",
   "execution_count": 66,
   "id": "98bafb54-4f98-43b8-abc7-6890f602db89",
   "metadata": {},
   "outputs": [
    {
     "name": "stdout",
     "output_type": "stream",
     "text": [
      "division by zero\n"
     ]
    }
   ],
   "source": [
    "try:\n",
    "    10/0\n",
    "except Exception as e:\n",
    "    print(e)"
   ]
  },
  {
   "cell_type": "code",
   "execution_count": 68,
   "id": "2810d83a-df28-4843-99ea-a29153a287c5",
   "metadata": {},
   "outputs": [
    {
     "name": "stdout",
     "output_type": "stream",
     "text": [
      "No module named 'module'\n"
     ]
    }
   ],
   "source": [
    "try:\n",
    "    import module\n",
    "except Exception as e:\n",
    "    print(e)"
   ]
  },
  {
   "cell_type": "code",
   "execution_count": 70,
   "id": "b7310e8a-ea57-452a-b14f-e58fb0df9b5f",
   "metadata": {},
   "outputs": [
    {
     "name": "stdout",
     "output_type": "stream",
     "text": [
      "module 'random' has no attribute 'module'\n"
     ]
    }
   ],
   "source": [
    "try:\n",
    "    import random\n",
    "    random.module\n",
    "except Exception as e:\n",
    "    print(e)"
   ]
  },
  {
   "cell_type": "code",
   "execution_count": 74,
   "id": "b8587133-7d2c-4c0d-8756-54d5092c2c09",
   "metadata": {},
   "outputs": [
    {
     "name": "stdout",
     "output_type": "stream",
     "text": [
      "invalid literal for int() with base 10: '10.5'\n"
     ]
    }
   ],
   "source": [
    "try:\n",
    "    int('10.5')\n",
    "except Exception as e:\n",
    "    print(e)"
   ]
  },
  {
   "cell_type": "code",
   "execution_count": 76,
   "id": "92a29d8a-c4fb-46bb-9189-dd0297e488d0",
   "metadata": {},
   "outputs": [
    {
     "name": "stdout",
     "output_type": "stream",
     "text": [
      "Line magic function `%/100` not found.\n"
     ]
    }
   ],
   "source": [
    "try:\n",
    "    %/100\n",
    "except Exception as e:\n",
    "    print(e)"
   ]
  },
  {
   "cell_type": "code",
   "execution_count": 78,
   "id": "bdffc447-6edd-4b93-96d9-28a9b035167c",
   "metadata": {},
   "outputs": [
    {
     "name": "stdout",
     "output_type": "stream",
     "text": [
      "module 'random' has no attribute 'random1'\n"
     ]
    }
   ],
   "source": [
    "try:\n",
    "    import random\n",
    "    random.random1()\n",
    "except Exception as virat:\n",
    "    print(virat)"
   ]
  },
  {
   "cell_type": "markdown",
   "id": "5f9f362c-44d5-4456-a942-40d7d78bc6cc",
   "metadata": {},
   "source": [
    "- syntax \n",
    "\n",
    "- indentation will not catch"
   ]
  },
  {
   "cell_type": "code",
   "execution_count": 87,
   "id": "b999d087-73da-4a60-a676-02262939e4fe",
   "metadata": {},
   "outputs": [
    {
     "name": "stdout",
     "output_type": "stream",
     "text": [
      "division by zero\n",
      "logout\n"
     ]
    }
   ],
   "source": [
    "try:\n",
    "    10/0\n",
    "    print('Success')\n",
    "except Exception as e:\n",
    "    print(e)\n",
    "finally:\n",
    "    print(\"logout\")"
   ]
  },
  {
   "cell_type": "code",
   "execution_count": null,
   "id": "031f98cb-fcbc-4087-a571-1634910e42df",
   "metadata": {},
   "outputs": [],
   "source": []
  }
 ],
 "metadata": {
  "kernelspec": {
   "display_name": "Python [conda env:base] *",
   "language": "python",
   "name": "conda-base-py"
  },
  "language_info": {
   "codemirror_mode": {
    "name": "ipython",
    "version": 3
   },
   "file_extension": ".py",
   "mimetype": "text/x-python",
   "name": "python",
   "nbconvert_exporter": "python",
   "pygments_lexer": "ipython3",
   "version": "3.12.7"
  }
 },
 "nbformat": 4,
 "nbformat_minor": 5
}
