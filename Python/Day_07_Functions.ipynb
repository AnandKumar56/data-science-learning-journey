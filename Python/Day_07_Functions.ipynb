{
 "cells": [
  {
   "cell_type": "markdown",
   "id": "3f134b8d-e2d1-45e1-a453-139e8964917a",
   "metadata": {},
   "source": [
    "✅ **What is a Function in Python?**\n",
    "\n",
    "*A function is a block of reusable code that performs a specific task.*\n",
    "*You can call it whenever you need that task done again, without repeating the same code.*\n",
    "\n",
    "🔹 **Why Use Functions?**\n",
    "- To organize code\n",
    "\n",
    "- Avoid repetition (DRY – Don’t Repeat Yourself)\n",
    "\n",
    "- Make programs easier to read and debug\n",
    "\n",
    "🔸 *Basic Syntax of a Function*\n",
    "\n",
    "    def function_name():\n",
    "        # code block\n",
    "        \n",
    "🔸 **Example: Basic Function**\n",
    "\n",
    "    def say_hello():\n",
    "        print(\"Hello, welcome to Python!\")\n",
    "\n",
    "    say_hello()  # Calling the function\n",
    "    \n",
    "✅ **Function with Parameters (Inputs)**\n",
    "\n",
    "*You can pass values into a function.*\n",
    "\n",
    "    def greet(name):\n",
    "        print(\"Hello,\", name)\n",
    "\n",
    "    greet(\"Anand\")  # Output: Hello, Anand\n",
    "    \n",
    "✅ **Function with return (Output)**\n",
    "\n",
    "*A function can return a value using the return keyword.*\n",
    "\n",
    "\n",
    "    def add(a, b):\n",
    "        return a + b\n",
    "\n",
    "    result = add(5, 3)\n",
    "    \n",
    "    print(result)  # Output: 8\n",
    "    \n",
    "✅ **Types of Function Arguments**\n",
    "\n",
    "    Type\t                               Example\n",
    "    \n",
    "    - Positional\t                      add(5, 3)\n",
    "    - Default\t                          def greet(name=\"Guest\"):\n",
    "    - Keyword\t                          greet(name=\"Anand\")\n",
    "    - Arbitrary (*args)\t                  Accepts many positional values\n",
    "    - Arbitrary keyword (**kwargs) \t      Accepts many key=value pairs\n",
    "\n",
    "🔹 **Example: args (Multiple Values)**\n",
    "\n",
    "    def total(*numbers):\n",
    "        print(\"Sum is:\", sum(numbers))\n",
    "\n",
    "    total(10, 20, 30)  # Output: Sum is: 60\n",
    "    \n",
    "🔹 **Example**: **kwargs (Multiple Key=Value)**\n",
    "\n",
    "    def show_details(**info):\n",
    "        for key, value in info.items():\n",
    "            print(f\"{key} : {value}\")\n",
    "\n",
    "    show_details(name=\"Anand\", age=21)\n",
    "    \n",
    "**🧠 Summary**\n",
    "- Feature\tExample\n",
    "\n",
    "- Define function\tdef greet():\n",
    "\n",
    "- Call function\tgreet()\n",
    "\n",
    "- With parameter\tdef greet(name):\n",
    "\n",
    "- With return\treturn value\n",
    "\n",
    "- Optional input\tdef greet(name=\"Guest\"):\n",
    "\n",
    "- Multiple values\t*args, **kwargs"
   ]
  },
  {
   "cell_type": "markdown",
   "id": "b1854e72-5ac7-4544-bb58-0bde4b4abd88",
   "metadata": {},
   "source": [
    "**Function**\n",
    "\n",
    "- first we need define the function\n",
    "\n",
    "- we need to name the function\n",
    "\n",
    "- we need to attach some code to that function\n",
    "\n",
    "- we need to call that function\n",
    "\n",
    "- that function will run that attached code"
   ]
  },
  {
   "cell_type": "code",
   "execution_count": 141,
   "id": "f2ac03ad-f3ce-4194-b269-b247da45a2d9",
   "metadata": {},
   "outputs": [
    {
     "ename": "SyntaxError",
     "evalue": "invalid syntax (2129153385.py, line 1)",
     "output_type": "error",
     "traceback": [
      "\u001b[1;36m  Cell \u001b[1;32mIn[141], line 1\u001b[1;36m\u001b[0m\n\u001b[1;33m    def <name>():\u001b[0m\n\u001b[1;37m        ^\u001b[0m\n\u001b[1;31mSyntaxError\u001b[0m\u001b[1;31m:\u001b[0m invalid syntax\n"
     ]
    }
   ],
   "source": [
    "def <name>():\n",
    "    # start write your code here"
   ]
  },
  {
   "cell_type": "code",
   "execution_count": 171,
   "id": "4b459a80-7a04-48bf-9da4-d3a094b2a861",
   "metadata": {},
   "outputs": [
    {
     "name": "stdout",
     "output_type": "stream",
     "text": [
      "the addition of 10 and 20 is:30\n"
     ]
    }
   ],
   "source": [
    "# Without the Function\n",
    "\n",
    "num1=10\n",
    "num2=20\n",
    "add=num1+num2\n",
    "print(f'the addition of {num1} and {num2} is:{add}')"
   ]
  },
  {
   "cell_type": "code",
   "execution_count": 173,
   "id": "fa00a7a1-68e8-4cfc-b6fc-ac6cad401877",
   "metadata": {},
   "outputs": [],
   "source": [
    "# With function\n",
    "\n",
    "def addition():    # Defining the function with name addition()\n",
    "    num3=20\n",
    "    num4=20\n",
    "    add=num3+num4\n",
    "    print(f'the addition of {num3} and {num4} is:{add}') # Printing the addtion of two numbers\n",
    "#Its does't Print anything we just created function and attached some code (It just a Blueprint of code)\n",
    "#To get the result We need to call the Function"
   ]
  },
  {
   "cell_type": "code",
   "execution_count": 175,
   "id": "ad9c5c45-3ced-4998-8c75-6330b6aad9c5",
   "metadata": {},
   "outputs": [
    {
     "name": "stdout",
     "output_type": "stream",
     "text": [
      "the addition of 20 and 20 is:40\n"
     ]
    }
   ],
   "source": [
    "addition() # Calling the Function"
   ]
  },
  {
   "cell_type": "code",
   "execution_count": 177,
   "id": "4f6dc1e2-7f27-40ef-a404-f489bc3e5c64",
   "metadata": {},
   "outputs": [
    {
     "name": "stdin",
     "output_type": "stream",
     "text": [
      "enter num1: 5\n",
      "enter num2: 15\n"
     ]
    },
    {
     "name": "stdout",
     "output_type": "stream",
     "text": [
      "the addition of 5 and 15 is:20\n"
     ]
    }
   ],
   "source": [
    "# By taking input from the user rather than hardcoded\n",
    "\n",
    "def addition():                       # Defining the function\n",
    "    num1=eval(input('enter num1:'))\n",
    "    num2=eval(input('enter num2:'))\n",
    "    add=num1+num2\n",
    "    print(f'the addition of {num1} and {num2} is:{add}')     # Blueprint of code or Some Code to perfrom some task\n",
    "\n",
    "addition()                            # Calling the function (without parameters or args)"
   ]
  },
  {
   "cell_type": "markdown",
   "id": "b4b2bddc-b781-4474-bdaa-e9fa6cfdea07",
   "metadata": {},
   "source": [
    "**Rules for Writing the Functions**\n",
    "\n",
    "- function name rules as same as variable name rules\n",
    "\n",
    "- your function name should not be same as variable names\n",
    "\n",
    "    - those variables you are using inside function\n",
    "\n",
    "- your function name should not be same as file name\n",
    "\n",
    "- your function name should not be same as package or attribute names"
   ]
  },
  {
   "cell_type": "code",
   "execution_count": 180,
   "id": "903011da-960c-432f-ae3e-d86a5ac7049d",
   "metadata": {},
   "outputs": [
    {
     "name": "stdout",
     "output_type": "stream",
     "text": [
      "the addition of 71 and 17 is:88\n"
     ]
    }
   ],
   "source": [
    "# Taking the random n=number ranther than the input from the user\n",
    "\n",
    "import random\n",
    "\n",
    "def addition1():                # Defining the function\n",
    "    num1=random.randint(1,100)\n",
    "    num2=random.randint(1,100)\n",
    "    add=num1+num2\n",
    "    print(f'the addition of {num1} and {num2} is:{add}')\n",
    "\n",
    "addition1()                    # Calling the function"
   ]
  },
  {
   "cell_type": "code",
   "execution_count": 186,
   "id": "3ec24bf5-16a4-44aa-9a29-250ded133aa1",
   "metadata": {},
   "outputs": [
    {
     "name": "stdin",
     "output_type": "stream",
     "text": [
      "enter num1: 25\n",
      "enter num2: 154\n"
     ]
    },
    {
     "name": "stdout",
     "output_type": "stream",
     "text": [
      "the addition of 25 and 154 is:179\n"
     ]
    }
   ],
   "source": [
    "import random\n",
    "def addition2():\n",
    "    num5=random.randint(10,30)\n",
    "    num6=random.randint(10,30)\n",
    "    add=num5+num6\n",
    "    print(f\"Addition of {num5} and {num6} is: {add}\")\n",
    "\n",
    "addition()"
   ]
  },
  {
   "cell_type": "code",
   "execution_count": 188,
   "id": "6bdd8ed7-1942-4a85-a6e9-282d08875c2d",
   "metadata": {},
   "outputs": [
    {
     "name": "stdin",
     "output_type": "stream",
     "text": [
      "enter num1: 15\n",
      "enter num2: 25\n"
     ]
    },
    {
     "name": "stdout",
     "output_type": "stream",
     "text": [
      "the addition of 15 and 25 is:40\n",
      "the addition of 1 and 60 is:61\n"
     ]
    }
   ],
   "source": [
    "addition()     # Calling the Previous program\n",
    "addition1()    # Calling the upper program"
   ]
  },
  {
   "cell_type": "markdown",
   "id": "67267e3f-369a-4359-9015-3f4b9f45051c",
   "metadata": {},
   "source": [
    "**how to use try-except**"
   ]
  },
  {
   "cell_type": "markdown",
   "id": "79538117-3868-42e3-bb19-0c03db2c5105",
   "metadata": {},
   "source": [
    "- apply the try-except for the entire code\n",
    "\n",
    "- apply the try-except inside function\n",
    "\n",
    "- which will catch the error\n",
    "\n",
    "    - inside will catch"
   ]
  },
  {
   "cell_type": "code",
   "execution_count": 190,
   "id": "4afd9782-f76e-4c79-93b0-09b84aa5c40a",
   "metadata": {},
   "outputs": [
    {
     "name": "stdin",
     "output_type": "stream",
     "text": [
      "enter num7: 15\n",
      "enter num8: 75\n"
     ]
    },
    {
     "ename": "NameError",
     "evalue": "name 'num888' is not defined",
     "output_type": "error",
     "traceback": [
      "\u001b[1;31m---------------------------------------------------------------------------\u001b[0m",
      "\u001b[1;31mNameError\u001b[0m                                 Traceback (most recent call last)",
      "Cell \u001b[1;32mIn[190], line 7\u001b[0m\n\u001b[0;32m      4\u001b[0m     add\u001b[38;5;241m=\u001b[39mnum7\u001b[38;5;241m+\u001b[39mnum888               \u001b[38;5;66;03m# We placed the error inside the function to catch the error we need to use try and except\u001b[39;00m\n\u001b[0;32m      5\u001b[0m     \u001b[38;5;28mprint\u001b[39m(\u001b[38;5;124mf\u001b[39m\u001b[38;5;124m'\u001b[39m\u001b[38;5;124mthe addition of \u001b[39m\u001b[38;5;132;01m{\u001b[39;00mnum7\u001b[38;5;132;01m}\u001b[39;00m\u001b[38;5;124m and \u001b[39m\u001b[38;5;132;01m{\u001b[39;00mnum8\u001b[38;5;132;01m}\u001b[39;00m\u001b[38;5;124m is:\u001b[39m\u001b[38;5;132;01m{\u001b[39;00madd\u001b[38;5;132;01m}\u001b[39;00m\u001b[38;5;124m'\u001b[39m)\n\u001b[1;32m----> 7\u001b[0m addition3()\n",
      "Cell \u001b[1;32mIn[190], line 4\u001b[0m, in \u001b[0;36maddition3\u001b[1;34m()\u001b[0m\n\u001b[0;32m      2\u001b[0m num7\u001b[38;5;241m=\u001b[39m\u001b[38;5;28meval\u001b[39m(\u001b[38;5;28minput\u001b[39m(\u001b[38;5;124m'\u001b[39m\u001b[38;5;124menter num7:\u001b[39m\u001b[38;5;124m'\u001b[39m))\n\u001b[0;32m      3\u001b[0m num8\u001b[38;5;241m=\u001b[39m\u001b[38;5;28meval\u001b[39m(\u001b[38;5;28minput\u001b[39m(\u001b[38;5;124m'\u001b[39m\u001b[38;5;124menter num8:\u001b[39m\u001b[38;5;124m'\u001b[39m))\n\u001b[1;32m----> 4\u001b[0m add\u001b[38;5;241m=\u001b[39mnum7\u001b[38;5;241m+\u001b[39mnum888               \u001b[38;5;66;03m# We placed the error inside the function to catch the error we need to use try and except\u001b[39;00m\n\u001b[0;32m      5\u001b[0m \u001b[38;5;28mprint\u001b[39m(\u001b[38;5;124mf\u001b[39m\u001b[38;5;124m'\u001b[39m\u001b[38;5;124mthe addition of \u001b[39m\u001b[38;5;132;01m{\u001b[39;00mnum7\u001b[38;5;132;01m}\u001b[39;00m\u001b[38;5;124m and \u001b[39m\u001b[38;5;132;01m{\u001b[39;00mnum8\u001b[38;5;132;01m}\u001b[39;00m\u001b[38;5;124m is:\u001b[39m\u001b[38;5;132;01m{\u001b[39;00madd\u001b[38;5;132;01m}\u001b[39;00m\u001b[38;5;124m'\u001b[39m)\n",
      "\u001b[1;31mNameError\u001b[0m: name 'num888' is not defined"
     ]
    }
   ],
   "source": [
    "def addition3():\n",
    "    num7=eval(input('enter num7:'))\n",
    "    num8=eval(input('enter num8:'))\n",
    "    add=num7+num888               # We placed the error inside the function to catch the error we need to use try and except\n",
    "    print(f'the addition of {num7} and {num8} is:{add}')\n",
    "\n",
    "addition3()"
   ]
  },
  {
   "cell_type": "code",
   "execution_count": 192,
   "id": "07f8c83f-4fcf-45ba-8194-25db669f500e",
   "metadata": {},
   "outputs": [
    {
     "name": "stdin",
     "output_type": "stream",
     "text": [
      "enter num7: 15\n",
      "enter num8: 75\n"
     ]
    },
    {
     "name": "stdout",
     "output_type": "stream",
     "text": [
      "name 'num888' is not defined\n"
     ]
    }
   ],
   "source": [
    "def addition3():\n",
    "    try:\n",
    "        num7=eval(input('enter num7:'))\n",
    "        num8=eval(input('enter num8:'))\n",
    "        add=num7+num888               # We placed the error inside the function to catch the error we need to use try and except\n",
    "        print(f'the addition of {num7} and {num8} is:{add}')\n",
    "    except Exception as e:\n",
    "        print(e)\n",
    "\n",
    "addition3()"
   ]
  },
  {
   "cell_type": "code",
   "execution_count": 194,
   "id": "97035ebd-39e2-41ae-b00d-a082e79c13f3",
   "metadata": {},
   "outputs": [
    {
     "ename": "NameError",
     "evalue": "name 'n233' is not defined",
     "output_type": "error",
     "traceback": [
      "\u001b[1;31m---------------------------------------------------------------------------\u001b[0m",
      "\u001b[1;31mNameError\u001b[0m                                 Traceback (most recent call last)",
      "Cell \u001b[1;32mIn[194], line 3\u001b[0m\n\u001b[0;32m      1\u001b[0m n1\u001b[38;5;241m=\u001b[39mrandom\u001b[38;5;241m.\u001b[39mrandint(\u001b[38;5;241m1\u001b[39m,\u001b[38;5;241m100\u001b[39m)\n\u001b[0;32m      2\u001b[0m n2\u001b[38;5;241m=\u001b[39mrandom\u001b[38;5;241m.\u001b[39mrandint(\u001b[38;5;241m1\u001b[39m,\u001b[38;5;241m100\u001b[39m)\n\u001b[1;32m----> 3\u001b[0m Sum\u001b[38;5;241m=\u001b[39mn1\u001b[38;5;241m+\u001b[39mn233\n\u001b[0;32m      4\u001b[0m \u001b[38;5;28mprint\u001b[39m(\u001b[38;5;124mf\u001b[39m\u001b[38;5;124m\"\u001b[39m\u001b[38;5;124mthe addition of \u001b[39m\u001b[38;5;132;01m{\u001b[39;00mn1\u001b[38;5;132;01m}\u001b[39;00m\u001b[38;5;124m and \u001b[39m\u001b[38;5;132;01m{\u001b[39;00mn2\u001b[38;5;132;01m}\u001b[39;00m\u001b[38;5;124m is: \u001b[39m\u001b[38;5;132;01m{\u001b[39;00mSum\u001b[38;5;132;01m}\u001b[39;00m\u001b[38;5;124m\"\u001b[39m)\n",
      "\u001b[1;31mNameError\u001b[0m: name 'n233' is not defined"
     ]
    }
   ],
   "source": [
    "n1=random.randint(1,100)\n",
    "n2=random.randint(1,100)\n",
    "Sum=n1+n233\n",
    "print(f\"the addition of {n1} and {n2} is: {Sum}\")"
   ]
  },
  {
   "cell_type": "code",
   "execution_count": 196,
   "id": "0f0c6086-06f9-4286-ae8a-7064fb96cbb7",
   "metadata": {},
   "outputs": [
    {
     "name": "stdout",
     "output_type": "stream",
     "text": [
      "name 'n233' is not defined\n"
     ]
    }
   ],
   "source": [
    "try:\n",
    "    n1=random.randint(1,100)\n",
    "    n2=random.randint(1,100)\n",
    "    Sum=n1+n233\n",
    "    print(f\"the addition of {n1} and {n2} is: {Sum}\")\n",
    "except Exception as e:\n",
    "    print(e)"
   ]
  },
  {
   "cell_type": "code",
   "execution_count": 198,
   "id": "ec31d3b7-1a02-469d-b857-c7463288d481",
   "metadata": {},
   "outputs": [
    {
     "ename": "NameError",
     "evalue": "name 'n233' is not defined",
     "output_type": "error",
     "traceback": [
      "\u001b[1;31m---------------------------------------------------------------------------\u001b[0m",
      "\u001b[1;31mNameError\u001b[0m                                 Traceback (most recent call last)",
      "Cell \u001b[1;32mIn[198], line 10\u001b[0m\n\u001b[0;32m      7\u001b[0m \u001b[38;5;28;01mexcept\u001b[39;00m \u001b[38;5;167;01mException\u001b[39;00m \u001b[38;5;28;01mas\u001b[39;00m e:\n\u001b[0;32m      8\u001b[0m     \u001b[38;5;28mprint\u001b[39m(e)\n\u001b[1;32m---> 10\u001b[0m add4()\n",
      "Cell \u001b[1;32mIn[198], line 5\u001b[0m, in \u001b[0;36madd4\u001b[1;34m()\u001b[0m\n\u001b[0;32m      3\u001b[0m n1\u001b[38;5;241m=\u001b[39mrandom\u001b[38;5;241m.\u001b[39mrandint(\u001b[38;5;241m1\u001b[39m,\u001b[38;5;241m100\u001b[39m)\n\u001b[0;32m      4\u001b[0m n2\u001b[38;5;241m=\u001b[39mrandom\u001b[38;5;241m.\u001b[39mrandint(\u001b[38;5;241m1\u001b[39m,\u001b[38;5;241m100\u001b[39m)\n\u001b[1;32m----> 5\u001b[0m Sum\u001b[38;5;241m=\u001b[39mn1\u001b[38;5;241m+\u001b[39mn233\n\u001b[0;32m      6\u001b[0m \u001b[38;5;28mprint\u001b[39m(\u001b[38;5;124mf\u001b[39m\u001b[38;5;124m\"\u001b[39m\u001b[38;5;124mthe addition of \u001b[39m\u001b[38;5;132;01m{\u001b[39;00mn1\u001b[38;5;132;01m}\u001b[39;00m\u001b[38;5;124m and \u001b[39m\u001b[38;5;132;01m{\u001b[39;00mn2\u001b[38;5;132;01m}\u001b[39;00m\u001b[38;5;124m is: \u001b[39m\u001b[38;5;132;01m{\u001b[39;00mSum\u001b[38;5;132;01m}\u001b[39;00m\u001b[38;5;124m\"\u001b[39m)\n",
      "\u001b[1;31mNameError\u001b[0m: name 'n233' is not defined"
     ]
    }
   ],
   "source": [
    "try:\n",
    "    def add4():\n",
    "        n1=random.randint(1,100)\n",
    "        n2=random.randint(1,100)\n",
    "        Sum=n1+n233\n",
    "        print(f\"the addition of {n1} and {n2} is: {Sum}\")\n",
    "except Exception as e:\n",
    "    print(e)\n",
    "\n",
    "add4()"
   ]
  },
  {
   "cell_type": "code",
   "execution_count": 200,
   "id": "e82d59b9-6ea3-4b0f-9a1b-5418e5bad616",
   "metadata": {},
   "outputs": [
    {
     "name": "stdout",
     "output_type": "stream",
     "text": [
      "name 'n233' is not defined\n",
      "hai Anand\n"
     ]
    }
   ],
   "source": [
    "def add5():\n",
    "    try:\n",
    "        n1=random.randint(1,100)\n",
    "        n2=random.randint(1,100)\n",
    "        Sum=n1+n233\n",
    "        print(f\"the addition of {n1} and {n2} is: {Sum}\")\n",
    "    except Exception as e:\n",
    "        print(e)\n",
    "        print('hai Anand')\n",
    "\n",
    "add5()"
   ]
  },
  {
   "cell_type": "code",
   "execution_count": 202,
   "id": "d9e28a11-fef3-4c77-a609-4f71f8e78144",
   "metadata": {},
   "outputs": [],
   "source": [
    "# function define is not enough\n",
    "# calling the function then only we can see\n",
    "# error or output"
   ]
  },
  {
   "cell_type": "code",
   "execution_count": 204,
   "id": "c8bd293e-90f6-425a-b316-a21b45f1e22b",
   "metadata": {},
   "outputs": [],
   "source": [
    "def addition333():\n",
    "    num1=eval(input('enter num1:'))\n",
    "    num2=eval(input('enter num2:'))\n",
    "    add=num1+num2222\n",
    "    print(f'the addition of {num1} and {num2} is:{add}')"
   ]
  },
  {
   "cell_type": "code",
   "execution_count": 208,
   "id": "e3554c39-0a8c-4784-b2db-a89b13816e8c",
   "metadata": {},
   "outputs": [
    {
     "name": "stdin",
     "output_type": "stream",
     "text": [
      "enter num1: 15\n",
      "enter num2: 15\n"
     ]
    },
    {
     "ename": "NameError",
     "evalue": "name 'num2222' is not defined",
     "output_type": "error",
     "traceback": [
      "\u001b[1;31m---------------------------------------------------------------------------\u001b[0m",
      "\u001b[1;31mNameError\u001b[0m                                 Traceback (most recent call last)",
      "Cell \u001b[1;32mIn[208], line 1\u001b[0m\n\u001b[1;32m----> 1\u001b[0m addition333()\n",
      "Cell \u001b[1;32mIn[204], line 4\u001b[0m, in \u001b[0;36maddition333\u001b[1;34m()\u001b[0m\n\u001b[0;32m      2\u001b[0m num1\u001b[38;5;241m=\u001b[39m\u001b[38;5;28meval\u001b[39m(\u001b[38;5;28minput\u001b[39m(\u001b[38;5;124m'\u001b[39m\u001b[38;5;124menter num1:\u001b[39m\u001b[38;5;124m'\u001b[39m))\n\u001b[0;32m      3\u001b[0m num2\u001b[38;5;241m=\u001b[39m\u001b[38;5;28meval\u001b[39m(\u001b[38;5;28minput\u001b[39m(\u001b[38;5;124m'\u001b[39m\u001b[38;5;124menter num2:\u001b[39m\u001b[38;5;124m'\u001b[39m))\n\u001b[1;32m----> 4\u001b[0m add\u001b[38;5;241m=\u001b[39mnum1\u001b[38;5;241m+\u001b[39mnum2222\n\u001b[0;32m      5\u001b[0m \u001b[38;5;28mprint\u001b[39m(\u001b[38;5;124mf\u001b[39m\u001b[38;5;124m'\u001b[39m\u001b[38;5;124mthe addition of \u001b[39m\u001b[38;5;132;01m{\u001b[39;00mnum1\u001b[38;5;132;01m}\u001b[39;00m\u001b[38;5;124m and \u001b[39m\u001b[38;5;132;01m{\u001b[39;00mnum2\u001b[38;5;132;01m}\u001b[39;00m\u001b[38;5;124m is:\u001b[39m\u001b[38;5;132;01m{\u001b[39;00madd\u001b[38;5;132;01m}\u001b[39;00m\u001b[38;5;124m'\u001b[39m)\n",
      "\u001b[1;31mNameError\u001b[0m: name 'num2222' is not defined"
     ]
    }
   ],
   "source": [
    "addition333()"
   ]
  },
  {
   "cell_type": "code",
   "execution_count": null,
   "id": "780df26a-44ce-4dd3-ae9d-f0b583d700d4",
   "metadata": {},
   "outputs": [],
   "source": [
    "# Some Practice Programs\n",
    "\n",
    "# create a function for bill amount\n",
    "# create a function for area of traingle\n",
    "# create a function for even odd\n",
    "# create a function for avg 3 numbers\n",
    "# create a function for paly a game code"
   ]
  },
  {
   "cell_type": "code",
   "execution_count": 210,
   "id": "3b0267c5-2874-4831-965f-28c3e3d28bb4",
   "metadata": {},
   "outputs": [
    {
     "name": "stdin",
     "output_type": "stream",
     "text": [
      "Enter Amount 1500\n",
      "Enter Tip Amount 50\n"
     ]
    },
    {
     "name": "stdout",
     "output_type": "stream",
     "text": [
      "Total Bill is 1550\n"
     ]
    }
   ],
   "source": [
    "# create a function for bill amount\n",
    "\n",
    "def Bill_Amount():\n",
    "    try:\n",
    "        bill=eval(input('Enter Amount'))\n",
    "        tip=eval(input('Enter Tip Amount'))\n",
    "        Total_bill=bill+tip\n",
    "        print(f'Total Bill is {Total_bill}')\n",
    "    except Exception as e:\n",
    "        print(e)\n",
    "Bill_Amount()"
   ]
  },
  {
   "cell_type": "code",
   "execution_count": 212,
   "id": "b276e677-9d70-409b-a56e-5a707e83f2b2",
   "metadata": {},
   "outputs": [
    {
     "name": "stdin",
     "output_type": "stream",
     "text": [
      "Enter the base value:  15\n",
      "Enter the height value:  5\n"
     ]
    },
    {
     "name": "stdout",
     "output_type": "stream",
     "text": [
      "the area of the triangle is: 37.5\n"
     ]
    }
   ],
   "source": [
    "# create a funciton for area of traingle\n",
    "\n",
    "def area_traiangle():\n",
    "    base = eval(input(\"Enter the base value: \"))\n",
    "    height = eval(input(\"Enter the height value: \"))\n",
    "    area = 0.5*base*height\n",
    "    print(f\"the area of the triangle is: {area}\")\n",
    "area_traiangle()"
   ]
  },
  {
   "cell_type": "code",
   "execution_count": 214,
   "id": "269bfe29-0184-4b2d-a5fa-a8c57d889a01",
   "metadata": {},
   "outputs": [
    {
     "name": "stdin",
     "output_type": "stream",
     "text": [
      "Enter the num:  5\n"
     ]
    },
    {
     "name": "stdout",
     "output_type": "stream",
     "text": [
      "5 is odd\n"
     ]
    }
   ],
   "source": [
    "# create a function for even odd\n",
    "\n",
    "def evenOdd():\n",
    "    try:\n",
    "        num = eval(input(\"Enter the num: \"))\n",
    "        if num%2 == 0:\n",
    "            print(f\"{num} is even\")\n",
    "        else:\n",
    "            print(f\"{num} is odd\")\n",
    "    except Exception as e:\n",
    "        print(e)\n",
    "evenOdd()"
   ]
  },
  {
   "cell_type": "code",
   "execution_count": 216,
   "id": "619016f3-0749-42d9-a89f-d186e3ddac88",
   "metadata": {},
   "outputs": [
    {
     "name": "stdin",
     "output_type": "stream",
     "text": [
      "Enter the number 1: 15\n",
      "Enter the number 2: 20\n",
      "Enter the number 3: 25\n"
     ]
    },
    {
     "name": "stdout",
     "output_type": "stream",
     "text": [
      "the average of 15,20 and 25 is: 20\n"
     ]
    }
   ],
   "source": [
    "# create a function for avg 3 numbers\n",
    "\n",
    "def average_of_three_numbers():\n",
    "    a=eval(input(\"Enter the number 1:\"))\n",
    "    b=eval(input(\"Enter the number 2:\"))\n",
    "    c=eval(input(\"Enter the number 3:\"))\n",
    "    average=round((a+b+c)/3)\n",
    "    print(f\"the average of {a},{b} and {c} is: {average}\")\n",
    "average_of_three_numbers()"
   ]
  },
  {
   "cell_type": "code",
   "execution_count": 218,
   "id": "2a712e99-f8c3-4df3-9407-a7fb1b50863a",
   "metadata": {},
   "outputs": [],
   "source": [
    "# create a function for paly a game code\n",
    "\n",
    "def Game():\n",
    "    n1=random.randint(1,10)\n",
    "    n2=eval(input('enter the number between 1 to 10'))\n",
    "    if n1==n2:\n",
    "        print('won')\n",
    "    else:\n",
    "        print('lost')"
   ]
  },
  {
   "cell_type": "code",
   "execution_count": 220,
   "id": "eaa26214-081f-4c2b-88bd-9a614f08d7fd",
   "metadata": {},
   "outputs": [
    {
     "name": "stdout",
     "output_type": "stream",
     "text": [
      "========Addition Function starts==========\n"
     ]
    },
    {
     "name": "stdin",
     "output_type": "stream",
     "text": [
      "enter num1: 15\n",
      "enter num2: 254\n"
     ]
    },
    {
     "name": "stdout",
     "output_type": "stream",
     "text": [
      "the addition of 15 and 254 is:269\n",
      "========Avg Function starts==========\n"
     ]
    },
    {
     "name": "stdin",
     "output_type": "stream",
     "text": [
      "Enter the number 1: 5\n",
      "Enter the number 2: 5\n",
      "Enter the number 3: 9\n"
     ]
    },
    {
     "name": "stdout",
     "output_type": "stream",
     "text": [
      "the average of 5,5 and 9 is: 6\n",
      "========even odd Function starts==========\n"
     ]
    },
    {
     "name": "stdin",
     "output_type": "stream",
     "text": [
      "Enter the num:  15\n"
     ]
    },
    {
     "name": "stdout",
     "output_type": "stream",
     "text": [
      "15 is odd\n",
      "========billampount Function starts==========\n"
     ]
    },
    {
     "name": "stdin",
     "output_type": "stream",
     "text": [
      "Enter Amount 9200\n",
      "Enter Tip Amount 50\n"
     ]
    },
    {
     "name": "stdout",
     "output_type": "stream",
     "text": [
      "Total Bill is 9250\n",
      "========Area of triangle Function starts==========\n"
     ]
    },
    {
     "name": "stdin",
     "output_type": "stream",
     "text": [
      "Enter the base value:  5\n",
      "Enter the height value:  2\n"
     ]
    },
    {
     "name": "stdout",
     "output_type": "stream",
     "text": [
      "the area of the triangle is: 5.0\n",
      "========Game Function starts==========\n"
     ]
    },
    {
     "name": "stdin",
     "output_type": "stream",
     "text": [
      "enter the number between 1 to 10 1\n"
     ]
    },
    {
     "name": "stdout",
     "output_type": "stream",
     "text": [
      "lost\n"
     ]
    }
   ],
   "source": [
    "print('========Addition Function starts==========')\n",
    "addition()\n",
    "print('========Avg Function starts==========')\n",
    "average_of_three_numbers()\n",
    "print('========even odd Function starts==========')\n",
    "evenOdd()\n",
    "print('========billampount Function starts==========')\n",
    "Bill_Amount()\n",
    "print('========Area of triangle Function starts==========')\n",
    "area_traiangle()\n",
    "print('========Game Function starts==========')\n",
    "Game()"
   ]
  },
  {
   "cell_type": "markdown",
   "id": "685f3df0-85b9-4a40-8f53-b020e4ac15fd",
   "metadata": {},
   "source": [
    "**Function with out argument**"
   ]
  },
  {
   "cell_type": "code",
   "execution_count": 222,
   "id": "4c23cd3e-84df-4f29-a79a-caed9a082a4d",
   "metadata": {},
   "outputs": [
    {
     "ename": "TypeError",
     "evalue": "addition10() takes 0 positional arguments but 1 was given",
     "output_type": "error",
     "traceback": [
      "\u001b[1;31m---------------------------------------------------------------------------\u001b[0m",
      "\u001b[1;31mTypeError\u001b[0m                                 Traceback (most recent call last)",
      "Cell \u001b[1;32mIn[222], line 10\u001b[0m\n\u001b[0;32m      7\u001b[0m     \u001b[38;5;28mprint\u001b[39m(\u001b[38;5;124mf\u001b[39m\u001b[38;5;124m'\u001b[39m\u001b[38;5;124mthe addition of \u001b[39m\u001b[38;5;132;01m{\u001b[39;00mnumer11\u001b[38;5;132;01m}\u001b[39;00m\u001b[38;5;124m and \u001b[39m\u001b[38;5;132;01m{\u001b[39;00mnumer22\u001b[38;5;132;01m}\u001b[39;00m\u001b[38;5;124m is:\u001b[39m\u001b[38;5;132;01m{\u001b[39;00madd\u001b[38;5;132;01m}\u001b[39;00m\u001b[38;5;124m'\u001b[39m)\n\u001b[0;32m      9\u001b[0m \u001b[38;5;66;03m# while calling dont give any arguments\u001b[39;00m\n\u001b[1;32m---> 10\u001b[0m addition10(\u001b[38;5;241m20\u001b[39m)\n",
      "\u001b[1;31mTypeError\u001b[0m: addition10() takes 0 positional arguments but 1 was given"
     ]
    }
   ],
   "source": [
    "# Check-1\n",
    "# while define No arguments\n",
    "def addition10():\n",
    "    numer1=eval(input('enter num1:'))\n",
    "    numer2=eval(input('enter num2:'))\n",
    "    add=numer1+number2\n",
    "    print(f'the addition of {numer11} and {numer22} is:{add}')\n",
    "\n",
    "# while calling dont give any arguments\n",
    "addition10(20)\n"
   ]
  },
  {
   "cell_type": "code",
   "execution_count": 224,
   "id": "153d07ca-3a80-4f9d-b116-2dce286938da",
   "metadata": {},
   "outputs": [],
   "source": [
    "# Check-2:\n",
    "def addition11():\n",
    "    \"\"\"\n",
    "    addition program\n",
    "    \"\"\"\n",
    "    number12=eval(input('enter num1:'))\n",
    "    number13=eval(input('enter num2:'))\n",
    "    add=num1+num2\n",
    "    print(f'the addition of {number12} and {number13} is:{add}')\n"
   ]
  },
  {
   "cell_type": "code",
   "execution_count": null,
   "id": "84a52d51-a5b8-4387-9d9f-0a61bec5756b",
   "metadata": {},
   "outputs": [],
   "source": [
    "addition()  # Brackets are empty == No arguments\n",
    "average_of_three_numbers() # Brackets are empty == No arguments\n",
    "areaTri()  # Brackets are empty === No Arguments\n",
    "evenOdd()  # Brackets are empty  === No Araguments\n",
    "Game()     # Brackets are empty   == No Argumnets"
   ]
  },
  {
   "cell_type": "markdown",
   "id": "ac2eea59-78b6-4db0-a89b-413fda1c0add",
   "metadata": {},
   "source": [
    "**Function with arguments**\n",
    "\n",
    "- in addition function how many variables are there :  three  num1,num2,add\n",
    "\n",
    "- how many input variables :  two   num1 and num2\n",
    "\n",
    "- how many output variable : one  add\n",
    "\n",
    "- **DO NOT TOUCH OUTPUT VARIABLE**\n",
    "\n",
    "- keep those input variables inside the bracket : addition(num1,num2)\n",
    "\n",
    "- the two extra lines related to input variables remove it"
   ]
  },
  {
   "cell_type": "code",
   "execution_count": 228,
   "id": "4994f7dc-1d70-4990-b39c-e53f993cf814",
   "metadata": {},
   "outputs": [],
   "source": [
    "def addition12(n1,n2):\n",
    "    print('num1:',n1)\n",
    "    print('num2:',n2)\n",
    "    add=n1+n2\n",
    "    print(f'the addition of {n1} and {n2} is:{add}')"
   ]
  },
  {
   "cell_type": "code",
   "execution_count": 230,
   "id": "f2da76ad-5327-4c17-ae32-0ba2650b68b9",
   "metadata": {},
   "outputs": [
    {
     "name": "stdout",
     "output_type": "stream",
     "text": [
      "num1: 100\n",
      "num2: 200\n",
      "the addition of 100 and 200 is:300\n"
     ]
    }
   ],
   "source": [
    "\n",
    "#addition1(num1,num2)  # wrong\n",
    "addition12(100,200)    # provide values"
   ]
  },
  {
   "cell_type": "code",
   "execution_count": 232,
   "id": "52f3eb55-a36c-4b8e-a4b3-f748cf60e0bd",
   "metadata": {},
   "outputs": [],
   "source": [
    "def average_of_three_numbers1(a,b,c):\n",
    "    average=round((a+b+c)/3)\n",
    "    print(f\"the average of {a},{b} and {c} is: {average}\")"
   ]
  },
  {
   "cell_type": "code",
   "execution_count": 234,
   "id": "5bc236c7-c20f-47f8-a739-b7a0cf4de7a0",
   "metadata": {},
   "outputs": [
    {
     "name": "stdout",
     "output_type": "stream",
     "text": [
      "the average of 10,20 and 30 is: 20\n"
     ]
    }
   ],
   "source": [
    "average_of_three_numbers1(10,20,30) # # Function call with args 10,20,30"
   ]
  },
  {
   "cell_type": "code",
   "execution_count": 236,
   "id": "f9f57d42-1aa0-4b3f-8455-7a8c911b942e",
   "metadata": {},
   "outputs": [
    {
     "name": "stdout",
     "output_type": "stream",
     "text": [
      "17 is odd\n"
     ]
    }
   ],
   "source": [
    "# EvenOdd Program with aruguments\n",
    "\n",
    "def evenOdd1(num):\n",
    "    try:\n",
    "        if num%2 == 0:\n",
    "            print(f\"{num} is even\")\n",
    "        else:\n",
    "            print(f\"{num} is odd\")\n",
    "    except Exception as e:\n",
    "        print(e)\n",
    "\n",
    "evenOdd1(17)         # Function call with args   "
   ]
  },
  {
   "cell_type": "code",
   "execution_count": 238,
   "id": "e0f92b66-2530-4e8b-9537-8153a3cabd32",
   "metadata": {},
   "outputs": [
    {
     "name": "stdout",
     "output_type": "stream",
     "text": [
      "the area of the triangle is: 300.0\n"
     ]
    }
   ],
   "source": [
    "# Area of traiangle with arguments\n",
    "\n",
    "def area_of_Traiangle1(base,height):\n",
    "    area = 0.5*base*height\n",
    "    print(f\"the area of the triangle is: {area}\")\n",
    "area_of_Traiangle1(20,30)                             # Function call with args   "
   ]
  },
  {
   "cell_type": "code",
   "execution_count": 240,
   "id": "09951f42-dc61-4e98-a9dc-5d0af723810b",
   "metadata": {},
   "outputs": [
    {
     "name": "stdout",
     "output_type": "stream",
     "text": [
      "Total Bill is 1100\n"
     ]
    }
   ],
   "source": [
    "# Bill Amount Program with arguments\n",
    "\n",
    "def Bill_Amount1(bill,tip):\n",
    "    try:\n",
    "        Total_bill=bill+tip\n",
    "        print(f'Total Bill is {Total_bill}')\n",
    "    except Exception as e:\n",
    "        print(e)\n",
    "\n",
    "Bill_Amount1(1000,100)       # Function call with args   "
   ]
  },
  {
   "cell_type": "code",
   "execution_count": 242,
   "id": "ddfc5fb0-e34c-49f8-8de7-a1e370332fcc",
   "metadata": {},
   "outputs": [
    {
     "name": "stdout",
     "output_type": "stream",
     "text": [
      "lost\n"
     ]
    }
   ],
   "source": [
    "# Game Code with Arguments\n",
    "\n",
    "def Game1(n2):\n",
    "    n1=random.randint(1,10)\n",
    "    if n1==n2:\n",
    "        print('won')\n",
    "    else:\n",
    "        print('lost')\n",
    "Game1(6)            # Function call with args   "
   ]
  },
  {
   "cell_type": "markdown",
   "id": "418c2915-b383-4402-99b6-550599118f3e",
   "metadata": {},
   "source": [
    "**Function with default arguments**\n",
    "\n",
    "- some times we will fix the argument value\n",
    "\n",
    "- if we dont give it will consider that fixed values\n",
    "\n",
    "- if we give any value ,it will take that value only"
   ]
  },
  {
   "cell_type": "code",
   "execution_count": 245,
   "id": "d9ba1f53-efea-43fa-a579-d999946dc99b",
   "metadata": {},
   "outputs": [],
   "source": [
    "def Bill_Amount2(bill,tip=200):    # Function with default args or Parameters tip=200 default parameter\n",
    "    print('Bill:',bill)\n",
    "    print('Tip:',tip)\n",
    "    Total_bill=bill+tip\n",
    "    print(f'Total Bill is {Total_bill}')"
   ]
  },
  {
   "cell_type": "code",
   "execution_count": 247,
   "id": "fd37d140-6d87-4aea-a2c6-b66234f30eb6",
   "metadata": {},
   "outputs": [
    {
     "name": "stdout",
     "output_type": "stream",
     "text": [
      "Bill: 1500\n",
      "Tip: 200\n",
      "Total Bill is 1700\n"
     ]
    }
   ],
   "source": [
    "Bill_Amount2(1500)   # There is default parameter we can pass the bill amount and tip also or leave tip the default tip will apply"
   ]
  },
  {
   "cell_type": "code",
   "execution_count": 249,
   "id": "f30c4f86-fa44-4ecb-8343-39d6129cfb1f",
   "metadata": {},
   "outputs": [
    {
     "name": "stdout",
     "output_type": "stream",
     "text": [
      "Bill: 1500\n",
      "Tip: 50\n",
      "Total Bill is 1550\n"
     ]
    }
   ],
   "source": [
    "Bill_Amount2(1500,50) # we can pass bill and tip also"
   ]
  },
  {
   "cell_type": "code",
   "execution_count": 251,
   "id": "3602ea47-52aa-419f-8953-aa1751e1c5c4",
   "metadata": {},
   "outputs": [
    {
     "name": "stdout",
     "output_type": "stream",
     "text": [
      "the area of the triangle is: 100.0\n",
      "the area of the triangle is: 300.0\n"
     ]
    }
   ],
   "source": [
    "def area_of_traiangle2(base,height=10):\n",
    "    area = 0.5*base*height\n",
    "    print(f\"the area of the triangle is: {area}\")\n",
    "area_of_traiangle2(20)\n",
    "area_of_traiangle2(20,30)"
   ]
  },
  {
   "cell_type": "markdown",
   "id": "d3c1890c-1162-4f5a-85d9-e245253e281f",
   "metadata": {},
   "source": [
    "**Note: Defualt arguments always at last**\n",
    "\n",
    "- addition3(n1,n2=100,n3)   wrong\n",
    "\n",
    "- addition3(n1,n3,n2=100)   correct"
   ]
  },
  {
   "cell_type": "code",
   "execution_count": 254,
   "id": "8db72afd-f031-42cb-8872-6687de328b64",
   "metadata": {},
   "outputs": [
    {
     "ename": "SyntaxError",
     "evalue": "parameter without a default follows parameter with a default (3304684300.py, line 1)",
     "output_type": "error",
     "traceback": [
      "\u001b[1;36m  Cell \u001b[1;32mIn[254], line 1\u001b[1;36m\u001b[0m\n\u001b[1;33m    def addition3(n1,n2=100,n3):\u001b[0m\n\u001b[1;37m                            ^\u001b[0m\n\u001b[1;31mSyntaxError\u001b[0m\u001b[1;31m:\u001b[0m parameter without a default follows parameter with a default\n"
     ]
    }
   ],
   "source": [
    "def addition3(n1,n2=100,n3):\n",
    "    print('num1:',n1)\n",
    "    print('num2:',n2)\n",
    "    print('num3:',n3)\n",
    "    add=n1+n2+n3\n",
    "    print(f'the addition of {n1},{n2} and {n3} is:{add}')"
   ]
  },
  {
   "cell_type": "code",
   "execution_count": 256,
   "id": "e359e5a1-54c8-4a4c-850a-380f4b3d8463",
   "metadata": {},
   "outputs": [
    {
     "ename": "NameError",
     "evalue": "name 'n3' is not defined",
     "output_type": "error",
     "traceback": [
      "\u001b[1;31m---------------------------------------------------------------------------\u001b[0m",
      "\u001b[1;31mNameError\u001b[0m                                 Traceback (most recent call last)",
      "Cell \u001b[1;32mIn[256], line 1\u001b[0m\n\u001b[1;32m----> 1\u001b[0m addition3(n1,n3,n2\u001b[38;5;241m=\u001b[39m\u001b[38;5;241m100\u001b[39m)\n\u001b[0;32m      2\u001b[0m addition3(\u001b[38;5;241m10\u001b[39m,\u001b[38;5;241m20\u001b[39m)\n",
      "\u001b[1;31mNameError\u001b[0m: name 'n3' is not defined"
     ]
    }
   ],
   "source": [
    "addition3(n1,n3,n2=100)\n",
    "addition3(10,20)\n",
    "# python brain (n1,n2)\n",
    "# our brain    n1,n2,n3"
   ]
  },
  {
   "cell_type": "code",
   "execution_count": 258,
   "id": "baee00f3-ddcb-4887-aeaa-7026e53692fb",
   "metadata": {},
   "outputs": [
    {
     "ename": "SyntaxError",
     "evalue": "positional argument follows keyword argument (1728007789.py, line 3)",
     "output_type": "error",
     "traceback": [
      "\u001b[1;36m  Cell \u001b[1;32mIn[258], line 3\u001b[1;36m\u001b[0m\n\u001b[1;33m    addition3(n1,n2=100,n3)            # fails\u001b[0m\n\u001b[1;37m                          ^\u001b[0m\n\u001b[1;31mSyntaxError\u001b[0m\u001b[1;31m:\u001b[0m positional argument follows keyword argument\n"
     ]
    }
   ],
   "source": [
    "addition3(n1,n2,n3)                # works\n",
    "addition3(n1,n2,n3=100)            # works\n",
    "addition3(n1,n2=100,n3)            # fails\n",
    "addition3(n1=100,n2,n3)            # fails\n",
    "addition3(n1,n2=177700,n3=100)     # works\n",
    "addition3(n1=100,n2,n3=100)        # fails\n",
    "addition3(n1=100,n2=100,n3)        # fails\n",
    "addition3(n1=100,n2=100,n3=100)    # works"
   ]
  },
  {
   "cell_type": "markdown",
   "id": "b3bab8ee-c497-490a-93b7-0c0fbdd94f9a",
   "metadata": {},
   "source": [
    "- function with arguments\n",
    "\n",
    "- function without arguments\n",
    "\n",
    "- function default arguments\n",
    "\n",
    "## Revise the Concepts with Examples\n",
    "\n",
    "## 🧩 Types of Python Function Arguments\n",
    "\n",
    "Python allows four main types of arguments:\n",
    "\n",
    "---\n",
    "\n",
    "### 1️⃣ **Default Arguments**\n",
    "\n",
    "You give a default value to a parameter.\n",
    "\n",
    "```python\n",
    "def greet(name=\"Guest\"):\n",
    "    print(\"Hello\", name)\n",
    "\n",
    "greet()         # Output: Hello Guest\n",
    "greet(\"Anand\")  # Output: Hello Anand\n",
    "```\n",
    "\n",
    "---\n",
    "\n",
    "### 2️⃣ **Positional Arguments**\n",
    "\n",
    "Values are passed to the function in the same order as the parameters.\n",
    "\n",
    "```python\n",
    "def add(a, b):\n",
    "    return a + b\n",
    "\n",
    "print(add(5, 3))  # Output: 8\n",
    "```\n",
    "\n",
    "---\n",
    "\n",
    "### 3️⃣ **Keyword Arguments**\n",
    "\n",
    "You specify the name of the argument when calling the function.\n",
    "\n",
    "```python\n",
    "def student(name, age):\n",
    "    print(name, \"is\", age, \"years old\")\n",
    "\n",
    "student(age=20, name=\"Ravi\")  # Output: Ravi is 20 years old\n",
    "```\n",
    "\n",
    "---\n",
    "\n",
    "### 4️⃣ **Arbitrary Arguments (`args`, `kwargs`)**\n",
    "\n",
    "* **`args`**: Multiple positional arguments\n",
    "* **`kwargs`**: Multiple keyword arguments\n",
    "\n",
    "```python\n",
    "def fruits(*names):\n",
    "    for name in names:\n",
    "        print(name)\n",
    "\n",
    "fruits(\"Apple\", \"Banana\", \"Mango\")\n",
    "```\n",
    "\n",
    "```python\n",
    "def person(**details):\n",
    "    for key, value in details.items():\n",
    "        print(key, \":\", value)\n",
    "\n",
    "person(name=\"Anand\", age=21, city=\"Mumbai\")\n",
    "```"
   ]
  },
  {
   "cell_type": "code",
   "execution_count": 34,
   "id": "7c33d7fb-0306-4a11-b4ab-6f5a43458db2",
   "metadata": {},
   "outputs": [],
   "source": [
    "def Average():\n",
    "    a=eval(input(\"Enter a:\"))\n",
    "    b=eval(input(\"Enter b:\"))\n",
    "    c=eval(input(\"Enter c:\"))\n",
    "    average=round((a+b+c/3))\n",
    "    print(f\"The average of {a},{b},{c} is {average}\")\n",
    "def Average1(a):             # a as Argument\n",
    "    b=eval(input(\"Enter b:\"))\n",
    "    c=eval(input(\"Enter c:\"))\n",
    "    average=round((a+b+c/3))\n",
    "    print(f\"The average of {a},{b},{c} is {average}\")\n",
    "def Average2(a,b):          # a and b as Arguments\n",
    "    c=eval(input(\"Enter c:\"))\n",
    "    average=round((a+b+c/3))\n",
    "    print(f\"The average of {a},{b},{c} is {average}\")\n",
    "def Average3(a,b,c):        # a,b,c as the arguments\n",
    "    average=round((a+b+c/3))\n",
    "    print(f\"The average of {a},{b},{c} is {average}\")"
   ]
  },
  {
   "cell_type": "code",
   "execution_count": 46,
   "id": "085d9053-1450-4fd4-a98a-dd34653963ac",
   "metadata": {},
   "outputs": [
    {
     "ename": "SyntaxError",
     "evalue": "positional argument follows keyword argument (86685466.py, line 13)",
     "output_type": "error",
     "traceback": [
      "\u001b[1;36m  Cell \u001b[1;32mIn[46], line 13\u001b[1;36m\u001b[0m\n\u001b[1;33m    complex(real=3,2)       # Error\u001b[0m\n\u001b[1;37m                    ^\u001b[0m\n\u001b[1;31mSyntaxError\u001b[0m\u001b[1;31m:\u001b[0m positional argument follows keyword argument\n"
     ]
    }
   ],
   "source": [
    "complex()\n",
    "\n",
    "# Interview Question Congnizant\n",
    "\n",
    "# real=0 imag=0 \n",
    "#real+imag j\n",
    "# A) 0+0j B) 0 C) 0j D) Nothing\n",
    "\n",
    "complex()\n",
    "complex(3,2)            # (3+2j)\n",
    "complex(real=3,imag=2)  # (3+2j)\n",
    "complex(3,imag=2)       # (3+2j)\n",
    "complex(real=3,2)       # Error"
   ]
  },
  {
   "cell_type": "code",
   "execution_count": 54,
   "id": "c444e970-b8b5-4558-8b53-5c5b480134b2",
   "metadata": {},
   "outputs": [
    {
     "name": "stdout",
     "output_type": "stream",
     "text": [
      "The average of 10,20,30 is 40\n",
      "The average of 10,20,30 is 40\n",
      "The average of 10,20,30 is 40\n"
     ]
    }
   ],
   "source": [
    "def Average3(a,b,c):        # a,b,c as the arguments\n",
    "    average=round((a+b+c/3))\n",
    "    print(f\"The average of {a},{b},{c} is {average}\")\n",
    "Average3(10,20,30) # Works\n",
    "Average3(a=10,b=20,c=30) # Works\n",
    "Average3(10,20,c=30) # works\n",
    "Average3(a=10,20,30) # Error"
   ]
  },
  {
   "cell_type": "code",
   "execution_count": 58,
   "id": "dfad2d91-7e96-4e99-9ec5-fccf984e0a53",
   "metadata": {},
   "outputs": [],
   "source": [
    "def greet(name,/,age):\n",
    "    print(f\"Hello {name} and my age is {age}\")"
   ]
  },
  {
   "cell_type": "code",
   "execution_count": 60,
   "id": "43b53ff5-e969-4686-9697-60e906483fe5",
   "metadata": {},
   "outputs": [
    {
     "name": "stdout",
     "output_type": "stream",
     "text": [
      "Hello python and my age is 22\n"
     ]
    }
   ],
   "source": [
    "greet('python',22)\n",
    "# Works inside name is not there"
   ]
  },
  {
   "cell_type": "code",
   "execution_count": 62,
   "id": "e2408edb-eb34-44c2-bacc-3e9e0932d92b",
   "metadata": {},
   "outputs": [
    {
     "ename": "SyntaxError",
     "evalue": "positional argument follows keyword argument (2525742901.py, line 1)",
     "output_type": "error",
     "traceback": [
      "\u001b[1;36m  Cell \u001b[1;32mIn[62], line 1\u001b[1;36m\u001b[0m\n\u001b[1;33m    greet(name='python',22)\u001b[0m\n\u001b[1;37m                          ^\u001b[0m\n\u001b[1;31mSyntaxError\u001b[0m\u001b[1;31m:\u001b[0m positional argument follows keyword argument\n"
     ]
    }
   ],
   "source": [
    "greet(name='python',22)\n",
    "# Doesnt work name is inside there"
   ]
  },
  {
   "cell_type": "code",
   "execution_count": 64,
   "id": "21035b3e-637e-4977-b5c4-cc91a55ed57b",
   "metadata": {},
   "outputs": [
    {
     "name": "stdout",
     "output_type": "stream",
     "text": [
      "Hello python and my age is 20\n"
     ]
    }
   ],
   "source": [
    "greet('python',age=20)\n",
    "# Works inside name is not there"
   ]
  },
  {
   "cell_type": "code",
   "execution_count": 66,
   "id": "25bb27ed-a13b-4fbc-bc44-c15cfb05d7d0",
   "metadata": {},
   "outputs": [
    {
     "ename": "TypeError",
     "evalue": "greet() got some positional-only arguments passed as keyword arguments: 'name'",
     "output_type": "error",
     "traceback": [
      "\u001b[1;31m---------------------------------------------------------------------------\u001b[0m",
      "\u001b[1;31mTypeError\u001b[0m                                 Traceback (most recent call last)",
      "Cell \u001b[1;32mIn[66], line 1\u001b[0m\n\u001b[1;32m----> 1\u001b[0m greet(name\u001b[38;5;241m=\u001b[39m\u001b[38;5;124m'\u001b[39m\u001b[38;5;124mpython\u001b[39m\u001b[38;5;124m'\u001b[39m,age\u001b[38;5;241m=\u001b[39m\u001b[38;5;241m22\u001b[39m)\n",
      "\u001b[1;31mTypeError\u001b[0m: greet() got some positional-only arguments passed as keyword arguments: 'name'"
     ]
    }
   ],
   "source": [
    "greet(name='python',age=22)\n",
    "# Doesnt work name is inside there"
   ]
  },
  {
   "cell_type": "markdown",
   "id": "8f215728-b5a9-4722-8de1-b3ba65cc6c0a",
   "metadata": {},
   "source": [
    "- Before and After Slash\n",
    "- Before : Positional arguments\n",
    "    - Do not provide variable name\n",
    "- After : Keyword arguments\n",
    "    - We can provide the variable name\n",
    "    - we no need to provide the variable name (our wish)"
   ]
  },
  {
   "cell_type": "code",
   "execution_count": 83,
   "id": "08132b30-f375-4b33-8088-bccb4ab56830",
   "metadata": {},
   "outputs": [],
   "source": [
    "def greet1(name,*,age):\n",
    "    print(f\"Hello {name} and my age is {age}\")"
   ]
  },
  {
   "cell_type": "code",
   "execution_count": 85,
   "id": "3657cc7d-59ad-4c33-9624-8aa8236bd192",
   "metadata": {},
   "outputs": [
    {
     "ename": "TypeError",
     "evalue": "greet1() takes 1 positional argument but 2 were given",
     "output_type": "error",
     "traceback": [
      "\u001b[1;31m---------------------------------------------------------------------------\u001b[0m",
      "\u001b[1;31mTypeError\u001b[0m                                 Traceback (most recent call last)",
      "Cell \u001b[1;32mIn[85], line 1\u001b[0m\n\u001b[1;32m----> 1\u001b[0m greet1(\u001b[38;5;124m'\u001b[39m\u001b[38;5;124mpython\u001b[39m\u001b[38;5;124m'\u001b[39m,\u001b[38;5;241m20\u001b[39m)\n",
      "\u001b[1;31mTypeError\u001b[0m: greet1() takes 1 positional argument but 2 were given"
     ]
    }
   ],
   "source": [
    "greet1('python',20)"
   ]
  },
  {
   "cell_type": "code",
   "execution_count": 87,
   "id": "5a9fda0c-a09d-467a-ab7e-615dde4a66ac",
   "metadata": {},
   "outputs": [
    {
     "ename": "SyntaxError",
     "evalue": "positional argument follows keyword argument (3655133449.py, line 1)",
     "output_type": "error",
     "traceback": [
      "\u001b[1;36m  Cell \u001b[1;32mIn[87], line 1\u001b[1;36m\u001b[0m\n\u001b[1;33m    greet1(name='python',20)\u001b[0m\n\u001b[1;37m                           ^\u001b[0m\n\u001b[1;31mSyntaxError\u001b[0m\u001b[1;31m:\u001b[0m positional argument follows keyword argument\n"
     ]
    }
   ],
   "source": [
    "greet1(name='python',20)"
   ]
  },
  {
   "cell_type": "code",
   "execution_count": 89,
   "id": "a1653f3a-559e-4dd2-93ce-f1fa5e122b26",
   "metadata": {},
   "outputs": [
    {
     "name": "stdout",
     "output_type": "stream",
     "text": [
      "Hello python and my age is 20\n"
     ]
    }
   ],
   "source": [
    "greet1('python',age=20)"
   ]
  },
  {
   "cell_type": "code",
   "execution_count": 91,
   "id": "d1ff8303-5300-41e8-9aa4-bb038f3ba524",
   "metadata": {},
   "outputs": [
    {
     "name": "stdout",
     "output_type": "stream",
     "text": [
      "Hello python and my age is 20\n"
     ]
    }
   ],
   "source": [
    "greet1(name='python',age=20)"
   ]
  },
  {
   "cell_type": "markdown",
   "id": "18d42349-9e6f-44a1-8c59-981a81ae1951",
   "metadata": {},
   "source": [
    "* before our wish  - after start chaiye"
   ]
  },
  {
   "cell_type": "markdown",
   "id": "dbba9243-3322-4031-ad7b-f422b83ecd81",
   "metadata": {},
   "source": [
    "**Concept - 3: Local Variable and Global Variable**\n",
    "\n",
    "- The variable used outside the function is called as **Global Variables**\n",
    "\n",
    "- the variable used inside the function is called as **Local Variables**\n",
    "\n",
    "- Global variables does not have any restrictions, it can go anywhere in the entire code\n",
    "\n",
    "- local variables can not use outside the function"
   ]
  },
  {
   "cell_type": "code",
   "execution_count": 107,
   "id": "1d31bc33-f286-4b71-a5b7-db22785bc658",
   "metadata": {},
   "outputs": [
    {
     "name": "stdout",
     "output_type": "stream",
     "text": [
      "the addition of 100, 200, 300 is : 600\n"
     ]
    }
   ],
   "source": [
    "def add():\n",
    "    a=100\n",
    "    b=200\n",
    "    c=300\n",
    "    addition=a+b+c\n",
    "    print(f\"the addition of {a}, {b}, {c} is : {addition}\")\n",
    "add()"
   ]
  },
  {
   "cell_type": "code",
   "execution_count": 112,
   "id": "1a17fd30-030e-46ce-a7a0-a2fa7464829a",
   "metadata": {},
   "outputs": [
    {
     "name": "stdout",
     "output_type": "stream",
     "text": [
      "the addition of 100, 200, 300 is : 600\n"
     ]
    }
   ],
   "source": [
    "a=100\n",
    "def add():\n",
    "    b=200\n",
    "    c=300\n",
    "    addition=a+b+c\n",
    "    print(f\"the addition of {a}, {b}, {c} is : {addition}\")\n",
    "add()"
   ]
  },
  {
   "cell_type": "code",
   "execution_count": 114,
   "id": "0fd86dcf-5850-4b3d-a771-07761553f9ef",
   "metadata": {},
   "outputs": [
    {
     "name": "stdout",
     "output_type": "stream",
     "text": [
      "100\n"
     ]
    }
   ],
   "source": [
    "print(a)  # Works because of global variable"
   ]
  },
  {
   "cell_type": "code",
   "execution_count": 116,
   "id": "41426ce5-62d2-47ca-bcca-e64422f84526",
   "metadata": {},
   "outputs": [
    {
     "ename": "NameError",
     "evalue": "name 'b' is not defined",
     "output_type": "error",
     "traceback": [
      "\u001b[1;31m---------------------------------------------------------------------------\u001b[0m",
      "\u001b[1;31mNameError\u001b[0m                                 Traceback (most recent call last)",
      "Cell \u001b[1;32mIn[116], line 1\u001b[0m\n\u001b[1;32m----> 1\u001b[0m \u001b[38;5;28mprint\u001b[39m(b)\n",
      "\u001b[1;31mNameError\u001b[0m: name 'b' is not defined"
     ]
    }
   ],
   "source": [
    "print(b)  # Errors its local variable we cant access"
   ]
  },
  {
   "cell_type": "code",
   "execution_count": 118,
   "id": "f0ea455c-c99c-49b0-9538-a6a55aa66e65",
   "metadata": {},
   "outputs": [
    {
     "ename": "NameError",
     "evalue": "name 'addition' is not defined",
     "output_type": "error",
     "traceback": [
      "\u001b[1;31m---------------------------------------------------------------------------\u001b[0m",
      "\u001b[1;31mNameError\u001b[0m                                 Traceback (most recent call last)",
      "Cell \u001b[1;32mIn[118], line 1\u001b[0m\n\u001b[1;32m----> 1\u001b[0m \u001b[38;5;28mprint\u001b[39m(addition)\n",
      "\u001b[1;31mNameError\u001b[0m: name 'addition' is not defined"
     ]
    }
   ],
   "source": [
    "print(addition) # Errors its local variable we cant access"
   ]
  },
  {
   "cell_type": "code",
   "execution_count": 120,
   "id": "0e0de6a8-8418-4564-a731-493056fca0db",
   "metadata": {},
   "outputs": [
    {
     "name": "stdout",
     "output_type": "stream",
     "text": [
      "the addition of 100, 200, 300 is : 600\n"
     ]
    }
   ],
   "source": [
    "a=100\n",
    "def add():\n",
    "    global addition\n",
    "    b=200\n",
    "    c=300\n",
    "    addition=a+b+c\n",
    "    print(f\"the addition of {a}, {b}, {c} is : {addition}\")\n",
    "add()"
   ]
  },
  {
   "cell_type": "code",
   "execution_count": 122,
   "id": "2a38a1c1-4c22-42ec-a668-899380f3fb97",
   "metadata": {},
   "outputs": [
    {
     "name": "stdout",
     "output_type": "stream",
     "text": [
      "600\n"
     ]
    }
   ],
   "source": [
    "print(addition)"
   ]
  },
  {
   "cell_type": "code",
   "execution_count": 136,
   "id": "74a5dc40-d154-4c30-ac35-c1dd5462bf4a",
   "metadata": {},
   "outputs": [
    {
     "name": "stdout",
     "output_type": "stream",
     "text": [
      "the addition of 300, 200, 300 is : 800\n"
     ]
    }
   ],
   "source": [
    "a=1000\n",
    "def add():\n",
    "    global addition,b\n",
    "    a=300\n",
    "    b=200\n",
    "    c=300\n",
    "    addition=a+b+c\n",
    "    print(f\"the addition of {a}, {b}, {c} is : {addition}\")\n",
    "add()"
   ]
  },
  {
   "cell_type": "code",
   "execution_count": 132,
   "id": "7fcf34c8-bbdb-4788-b725-3e7db6891c46",
   "metadata": {},
   "outputs": [
    {
     "name": "stdout",
     "output_type": "stream",
     "text": [
      "200\n"
     ]
    }
   ],
   "source": [
    "print(b)"
   ]
  },
  {
   "cell_type": "markdown",
   "id": "492a080c-3190-4158-b3c9-70ab7ca01852",
   "metadata": {},
   "source": [
    "- values\n",
    "\n",
    "- define function look inside the brackets\n",
    "\n",
    "- call the function look inside the brackets\n",
    "\n",
    "- run the function look inside the function"
   ]
  },
  {
   "cell_type": "code",
   "execution_count": 2,
   "id": "e8e2ca27-d7f5-49ca-a474-8fc0d6353fca",
   "metadata": {},
   "outputs": [
    {
     "name": "stdout",
     "output_type": "stream",
     "text": [
      "the addition of 1000, 200, 300 is : 1500\n"
     ]
    }
   ],
   "source": [
    "def add():\n",
    "    b=200\n",
    "    c=300\n",
    "    addition=a+b+c\n",
    "    print(f\"the addition of {a}, {b}, {c} is : {addition}\")\n",
    "a=1000 # Its Global Variable\n",
    "add()"
   ]
  },
  {
   "cell_type": "code",
   "execution_count": 141,
   "id": "e2343789-3cac-4add-ae58-d2bbaac20c3a",
   "metadata": {},
   "outputs": [
    {
     "name": "stdout",
     "output_type": "stream",
     "text": [
      "the addition of 200, 200, 300 is : 700\n"
     ]
    }
   ],
   "source": [
    "a=1000           # Global Variale\n",
    "def add(a=200):  # with arguments a=200\n",
    "    b=200\n",
    "    c=300\n",
    "    addition=a+b+c\n",
    "    print(f\"the addition of {a}, {b}, {c} is : {addition}\")\n",
    "add()"
   ]
  },
  {
   "cell_type": "code",
   "execution_count": 4,
   "id": "f7609831-f43e-4a5c-ace8-fa1d65bb6864",
   "metadata": {},
   "outputs": [
    {
     "name": "stdout",
     "output_type": "stream",
     "text": [
      "the addition of 600, 200, 300 is : 1100\n"
     ]
    }
   ],
   "source": [
    "a=1000             # Global Variable a=1000\n",
    "def add(a=200):    # function with parameters or arguments a = 200 \n",
    "    b=200          \n",
    "    c=300\n",
    "    addition=a+b+c\n",
    "    print(f\"the addition of {a}, {b}, {c} is : {addition}\")\n",
    "add(600)          # Function call or run with arguments position of a=600"
   ]
  },
  {
   "cell_type": "code",
   "execution_count": 145,
   "id": "b85db6c1-e120-41b3-8e8b-82d5376ada78",
   "metadata": {},
   "outputs": [
    {
     "name": "stdout",
     "output_type": "stream",
     "text": [
      "the addition of 600, 900, 300 is : 1800\n"
     ]
    }
   ],
   "source": [
    "a=1000             # Global Variable a=1000\n",
    "def add(a=200):    # function with parameters or arguments a=200\n",
    "    a=900          # Local Variable a=900\n",
    "    b=200\n",
    "    c=300\n",
    "    addition=a+b+c\n",
    "    print(f\"the addition of {a}, {b}, {c} is : {addition}\")\n",
    "add(600)          # Function call or run with the arguments a=600 (Latest Value is 600)"
   ]
  },
  {
   "cell_type": "code",
   "execution_count": 18,
   "id": "2b5b9a59-7ccf-4eb7-9d10-e42239821b5c",
   "metadata": {},
   "outputs": [
    {
     "name": "stdout",
     "output_type": "stream",
     "text": [
      "the addition of 900, 200, 300 is : 1400\n",
      "1500\n"
     ]
    }
   ],
   "source": [
    "a=1000              # Global Variable a=1000\n",
    "def add(a=200):     # Function with parameters or arguments a=200\n",
    "    a=900           # Local Variable a=900\n",
    "    b=200\n",
    "    c=300\n",
    "    addition=a+b+c\n",
    "    print(f\"the addition of {a}, {b}, {c} is : {addition}\")  # Printing Values in order which is a=900,b=200,c=300 addition=900\n",
    "a=1500              # Again the Value Global variable a=1500 if you can check it by printing print(a)\n",
    "add(600)\n",
    "print(a)"
   ]
  },
  {
   "cell_type": "code",
   "execution_count": null,
   "id": "763ff32f-b214-4cd8-8b1f-867207a130ff",
   "metadata": {},
   "outputs": [],
   "source": []
  }
 ],
 "metadata": {
  "kernelspec": {
   "display_name": "Python [conda env:base] *",
   "language": "python",
   "name": "conda-base-py"
  },
  "language_info": {
   "codemirror_mode": {
    "name": "ipython",
    "version": 3
   },
   "file_extension": ".py",
   "mimetype": "text/x-python",
   "name": "python",
   "nbconvert_exporter": "python",
   "pygments_lexer": "ipython3",
   "version": "3.12.7"
  }
 },
 "nbformat": 4,
 "nbformat_minor": 5
}
