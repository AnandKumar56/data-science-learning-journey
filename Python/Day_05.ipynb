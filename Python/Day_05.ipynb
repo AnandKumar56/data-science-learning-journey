{
 "cells": [
  {
   "cell_type": "markdown",
   "id": "23a255cc-0025-4602-af65-a80f85e2f87a",
   "metadata": {},
   "source": [
    "**How can take the Input**\n",
    "\n",
    "*The input() function is used to take input from the user during program execution.*\n",
    "\n",
    "🔹 Basic Syntax:\n",
    "\n",
    "*variable = input(\"Your message here: \")*\n",
    "\n",
    "📌 Whatever the user types is always returned as a string."
   ]
  },
  {
   "cell_type": "code",
   "execution_count": 4,
   "id": "975678bf-96dc-4080-8706-b609f7ded514",
   "metadata": {},
   "outputs": [
    {
     "name": "stdout",
     "output_type": "stream",
     "text": [
      "30\n"
     ]
    }
   ],
   "source": [
    "a=10    # Hardcoded\n",
    "b=20    # hardcoded\n",
    "\n",
    "c=a+b\n",
    "print(c)"
   ]
  },
  {
   "cell_type": "code",
   "execution_count": 10,
   "id": "1a4c4c2a-1ab1-404a-8c72-2481615d943d",
   "metadata": {},
   "outputs": [
    {
     "name": "stdin",
     "output_type": "stream",
     "text": [
      "Enter the Number1: 10\n",
      "Enter the Number2: 20\n"
     ]
    },
    {
     "name": "stdout",
     "output_type": "stream",
     "text": [
      "30\n"
     ]
    }
   ],
   "source": [
    "a=eval(input(\"Enter the Number1:\")) # taking the input from the user\n",
    "b=eval(input(\"Enter the Number2:\")) # taking the input from the user rather than hardcoding\n",
    "\n",
    "c=a+b\n",
    "print(c)"
   ]
  },
  {
   "cell_type": "code",
   "execution_count": 12,
   "id": "80fa0d16-2f71-4da9-b2c6-80e9e0438866",
   "metadata": {},
   "outputs": [
    {
     "name": "stdout",
     "output_type": "stream",
     "text": [
      "The addition of 9 and 56 is 65\n"
     ]
    }
   ],
   "source": [
    "import random\n",
    "a=random.randint(1,1000)      # taking the random number between 1 to 1000\n",
    "b=random.randint(1,1000)      # taking the random number between 1 to 1000\n",
    " \n",
    "c=a+b                         # Addition of two random numbers\n",
    "print(f\"The addition of {a} and {b} is {c}\")"
   ]
  },
  {
   "cell_type": "markdown",
   "id": "0a2c88fd-be15-4e4b-aa31-b4077360c30d",
   "metadata": {},
   "source": [
    "**Conditional Statements**\n",
    "\n",
    "Conditional statements allow you to make decisions in your code based on conditions. Python checks a condition, and if it's True, it runs a block of code.\n",
    "\n",
    "🔹 Basic Syntax\n",
    "\n",
    "```\n",
    "if condition:\n",
    "    # Code to execute if condition is True\n",
    "elif another_condition:\n",
    "    # Code to execute if elif condition is True\n",
    "else:\n",
    "    # Code to execute if all conditions are False\n",
    "```\n",
    "\n",
    "🔸 Example 1: Simple if\n",
    "\n",
    "```\n",
    "age = 18\n",
    "\n",
    "if age >= 18:\n",
    "    print(\"You are eligible to vote.\")\n",
    "```\n",
    "    \n",
    "🔸 Example 2: if-else\n",
    "\n",
    "```\n",
    "number = int(input(\"Enter a number: \"))\n",
    "\n",
    "if number % 2 == 0:\n",
    "    print(\"Even number\")\n",
    "else:\n",
    "    print(\"Odd number\")\n",
    "```\n",
    "\n",
    "🔸 Example 3: if-elif-else\n",
    "\n",
    "```\n",
    "marks = 85\n",
    "\n",
    "if marks >= 90:\n",
    "    print(\"Grade A\")\n",
    "elif marks >= 75:\n",
    "    print(\"Grade B\")\n",
    "elif marks >= 60:\n",
    "    print(\"Grade C\")\n",
    "else:\n",
    "    print(\"Grade F\")\n",
    "```"
   ]
  },
  {
   "cell_type": "code",
   "execution_count": null,
   "id": "90c93e3f-be33-4d24-bd40-2ffe41b81cfb",
   "metadata": {},
   "outputs": [],
   "source": [
    "I want to say hello\n",
    "I want to say hello if you know to me\n",
    "I want to come the class\n",
    "I want to go to the class if there is rain otherwise ground"
   ]
  },
  {
   "cell_type": "code",
   "execution_count": null,
   "id": "5ecaf8de-073b-4fff-8f26-ed7f317d977e",
   "metadata": {},
   "outputs": [],
   "source": [
    "if           : I want to say hello if you know to me\n",
    "if else      : I want to go to the class if there is rain else ground\n",
    "if elif else : I want to go to the class if there is rain\n",
    "              otherwise i will study at home if father is there otherwise ground   "
   ]
  },
  {
   "cell_type": "code",
   "execution_count": null,
   "id": "8b1d486d-e450-4ba2-8ecb-caef78a3cda7",
   "metadata": {},
   "outputs": [],
   "source": [
    "if <condition>:\n",
    "    # code should start from here\n",
    "    #code\n",
    "    #code\n",
    "    #code"
   ]
  },
  {
   "cell_type": "code",
   "execution_count": 17,
   "id": "9cda8002-9de9-47e7-95f5-ea6168c1d442",
   "metadata": {},
   "outputs": [
    {
     "name": "stdout",
     "output_type": "stream",
     "text": [
      "Hello\n"
     ]
    }
   ],
   "source": [
    "if 10>0:\n",
    "    print('Hello')"
   ]
  },
  {
   "cell_type": "code",
   "execution_count": 26,
   "id": "0e32230e-843b-4e1a-b467-2ad0217ea427",
   "metadata": {},
   "outputs": [
    {
     "name": "stdout",
     "output_type": "stream",
     "text": [
      "The condition is True so that it shows\n"
     ]
    }
   ],
   "source": [
    "if True:\n",
    "    print('The condition is True so that it shows')"
   ]
  },
  {
   "cell_type": "markdown",
   "id": "0d5f34a7-9846-4d31-88b9-ff94117a314d",
   "metadata": {},
   "source": [
    "**Mistakes**"
   ]
  },
  {
   "cell_type": "markdown",
   "id": "79477ad9-8b5e-4623-bbb7-761d327773a6",
   "metadata": {},
   "source": [
    "- spaces      - indentation error we should have the enough space (You can enter tab or simply three or four spaces its developer friendly)\n",
    "             or you can backspace then hit enter so that it automaticaly intended\n",
    "- semicolon   - if we miss the semicolon the we get the error SyntaxError: expected ':' and also we didt get the indentation after that"
   ]
  },
  {
   "cell_type": "code",
   "execution_count": 30,
   "id": "932280a1-2d04-4cb5-bfe6-3d803fc61a6f",
   "metadata": {},
   "outputs": [
    {
     "ename": "SyntaxError",
     "evalue": "expected ':' (1379916299.py, line 1)",
     "output_type": "error",
     "traceback": [
      "\u001b[1;36m  Cell \u001b[1;32mIn[30], line 1\u001b[1;36m\u001b[0m\n\u001b[1;33m    if 10>0\u001b[0m\n\u001b[1;37m           ^\u001b[0m\n\u001b[1;31mSyntaxError\u001b[0m\u001b[1;31m:\u001b[0m expected ':'\n"
     ]
    }
   ],
   "source": [
    "if 10>0         # Here we miss the Semicolon error message is SyntaxError: expected ':'\n",
    "    print('Hello')"
   ]
  },
  {
   "cell_type": "code",
   "execution_count": 32,
   "id": "4d69e68f-f2bb-4d3b-aedc-5d0b24ea592a",
   "metadata": {},
   "outputs": [
    {
     "ename": "IndentationError",
     "evalue": "expected an indented block after 'if' statement on line 1 (2352341660.py, line 2)",
     "output_type": "error",
     "traceback": [
      "\u001b[1;36m  Cell \u001b[1;32mIn[32], line 2\u001b[1;36m\u001b[0m\n\u001b[1;33m    print('hello')\u001b[0m\n\u001b[1;37m    ^\u001b[0m\n\u001b[1;31mIndentationError\u001b[0m\u001b[1;31m:\u001b[0m expected an indented block after 'if' statement on line 1\n"
     ]
    }
   ],
   "source": [
    "if 10>0:\n",
    "print('hello') # Here we miss the indentation error is IndentationError: expected an indented block after 'if' statement on line 1"
   ]
  },
  {
   "cell_type": "code",
   "execution_count": 34,
   "id": "c784b455-bef0-45df-89d7-639a97a46df4",
   "metadata": {},
   "outputs": [
    {
     "name": "stdout",
     "output_type": "stream",
     "text": [
      "Hello\n",
      "Bro\n"
     ]
    }
   ],
   "source": [
    "if 10>0:\n",
    "    print('Hello') # This conditional statement another program\n",
    "##################\n",
    "print('Bro') # This is another program"
   ]
  },
  {
   "cell_type": "code",
   "execution_count": 36,
   "id": "784fa515-f3d7-4eef-b5d3-877ea443efa6",
   "metadata": {},
   "outputs": [
    {
     "name": "stdout",
     "output_type": "stream",
     "text": [
      "hello\n",
      "hai\n",
      "bye\n"
     ]
    }
   ],
   "source": [
    "print('hello')\n",
    "#################\n",
    "if True:\n",
    "    print('hai')\n",
    "#################\n",
    "print('bye')"
   ]
  },
  {
   "cell_type": "code",
   "execution_count": 38,
   "id": "6fe43b9b-aa5e-4301-8641-ddff9cc266bb",
   "metadata": {},
   "outputs": [
    {
     "name": "stdout",
     "output_type": "stream",
     "text": [
      "hello\n",
      "bye\n"
     ]
    }
   ],
   "source": [
    "print('hello')\n",
    "#################\n",
    "if False:\n",
    "    print('hai')\n",
    "#################\n",
    "print('bye')"
   ]
  },
  {
   "cell_type": "code",
   "execution_count": 46,
   "id": "01590f95-fdcf-403a-8c4b-2ac49dc2d4b5",
   "metadata": {},
   "outputs": [
    {
     "name": "stdout",
     "output_type": "stream",
     "text": [
      "10 is greater\n",
      "10 is greater\n",
      "10 is greater\n"
     ]
    }
   ],
   "source": [
    "if 10>0:\n",
    "    print(\"10 is greater\")\n",
    "    if 10>1:\n",
    "        print(\"10 is greater\")\n",
    "        if 10>2:\n",
    "            print(\"10 is greater\")"
   ]
  },
  {
   "cell_type": "code",
   "execution_count": 50,
   "id": "d0b04af1-84e8-41ff-bcf3-a88ebcf85594",
   "metadata": {},
   "outputs": [
    {
     "name": "stdout",
     "output_type": "stream",
     "text": [
      "Hello\n",
      "I was nice to meeting you\n",
      "I will take Leave now\n"
     ]
    }
   ],
   "source": [
    "if True:\n",
    "    print(\"Hello\")\n",
    "    if True:\n",
    "        print(\"I was nice to meeting you\")\n",
    "        if True:\n",
    "            print(\"I will take Leave now\")"
   ]
  },
  {
   "cell_type": "code",
   "execution_count": 52,
   "id": "38db939f-ccfe-45e1-a492-71dab3f49d5a",
   "metadata": {},
   "outputs": [
    {
     "name": "stdout",
     "output_type": "stream",
     "text": [
      "hello\n"
     ]
    }
   ],
   "source": [
    "if True:\n",
    "    print('hello')\n",
    "else:\n",
    "    print('bye')"
   ]
  },
  {
   "cell_type": "code",
   "execution_count": 54,
   "id": "25836326-622d-4d7d-950a-ea400612c14e",
   "metadata": {},
   "outputs": [
    {
     "name": "stdout",
     "output_type": "stream",
     "text": [
      "bye\n"
     ]
    }
   ],
   "source": [
    "if False:\n",
    "    print('hello')\n",
    "else:\n",
    "    print('bye')"
   ]
  },
  {
   "cell_type": "code",
   "execution_count": 56,
   "id": "0814771b-e1a6-4b2f-97bb-366e37acd794",
   "metadata": {},
   "outputs": [
    {
     "name": "stdout",
     "output_type": "stream",
     "text": [
      "hai\n",
      "bye\n",
      "Bye\n"
     ]
    }
   ],
   "source": [
    "print('hai')\n",
    "if False:\n",
    "    print('hello')\n",
    "else:\n",
    "    print('bye')\n",
    "print('Bye')"
   ]
  },
  {
   "cell_type": "code",
   "execution_count": 58,
   "id": "3ec899cc-5791-4b92-aefc-ea2e769c55e2",
   "metadata": {},
   "outputs": [
    {
     "ename": "SyntaxError",
     "evalue": "invalid syntax (829524738.py, line 5)",
     "output_type": "error",
     "traceback": [
      "\u001b[1;36m  Cell \u001b[1;32mIn[58], line 5\u001b[1;36m\u001b[0m\n\u001b[1;33m    else:\u001b[0m\n\u001b[1;37m    ^\u001b[0m\n\u001b[1;31mSyntaxError\u001b[0m\u001b[1;31m:\u001b[0m invalid syntax\n"
     ]
    }
   ],
   "source": [
    "print('hai')\n",
    "if False:\n",
    "    print('hello')\n",
    "print(\"This is the middle print\") # Raise an error SyntaxError: invalid syntax there should be an indentation there should be only if and else no other in between\n",
    "else:\n",
    "    print('bye')\n",
    "print('Bye')"
   ]
  },
  {
   "cell_type": "code",
   "execution_count": 60,
   "id": "24da6ba0-7a63-4564-a302-844f2b3c740e",
   "metadata": {},
   "outputs": [
    {
     "name": "stdout",
     "output_type": "stream",
     "text": [
      "hai\n",
      "hello\n",
      "1\n",
      "bye\n"
     ]
    }
   ],
   "source": [
    "print('hai')\n",
    "if True:\n",
    "    print(\"hello\")\n",
    "    if True:\n",
    "        print(\"1\")\n",
    "    else:\n",
    "        print(\"0\")\n",
    "else:\n",
    "    print(\"hey\")\n",
    "print(\"bye\")"
   ]
  },
  {
   "cell_type": "code",
   "execution_count": 62,
   "id": "c0cfdec9-ddf5-4814-b7a9-894b85278549",
   "metadata": {},
   "outputs": [],
   "source": [
    "if True:\n",
    "    if True:\n",
    "        pass\n",
    "    else:\n",
    "        pass\n",
    "else:\n",
    "    pass"
   ]
  },
  {
   "cell_type": "code",
   "execution_count": 70,
   "id": "62b6302f-e21a-433d-87b5-1d9a780ab125",
   "metadata": {},
   "outputs": [
    {
     "name": "stdout",
     "output_type": "stream",
     "text": [
      "hi\n"
     ]
    }
   ],
   "source": [
    "if True:\n",
    "    if True:\n",
    "        print(\"hi\")\n",
    "    else:\n",
    "        print(\"hello\")\n",
    "else:\n",
    "    print(\"Bye\")"
   ]
  },
  {
   "cell_type": "code",
   "execution_count": 72,
   "id": "fe205ecf-fdfb-433d-9521-82f603aae94b",
   "metadata": {},
   "outputs": [
    {
     "name": "stdout",
     "output_type": "stream",
     "text": [
      "Hi\n",
      "Hello\n"
     ]
    }
   ],
   "source": [
    "if True:\n",
    "    if True:\n",
    "        print('Hi')\n",
    "        if True:\n",
    "            print(\"Hello\")\n",
    "        else:\n",
    "            print(\"Who are you\")\n",
    "    else:\n",
    "        print(\"Good Morning\")\n",
    "else:\n",
    "    print(\"bye\")"
   ]
  },
  {
   "cell_type": "code",
   "execution_count": 74,
   "id": "c875cb49-b872-44e0-a765-18efe9ba4fe4",
   "metadata": {},
   "outputs": [
    {
     "name": "stdout",
     "output_type": "stream",
     "text": [
      "Hai\n",
      "GF\n",
      "F\n",
      "S\n"
     ]
    }
   ],
   "source": [
    "print(\"Hai\")\n",
    "if True:\n",
    "    print(\"GF\")\n",
    "    if True:\n",
    "        print('F')\n",
    "        if True:\n",
    "            print(\"S\")\n",
    "        else:\n",
    "            print(\"GM\")\n",
    "    else:\n",
    "        print(\"M\")\n",
    "else:\n",
    "    print(\"bye\")"
   ]
  },
  {
   "cell_type": "code",
   "execution_count": null,
   "id": "11757ffa-77ae-40e1-b052-dbd2492e782d",
   "metadata": {},
   "outputs": [],
   "source": []
  },
  {
   "cell_type": "code",
   "execution_count": 4,
   "id": "4782cb63-9664-49c2-90d1-de0971845557",
   "metadata": {},
   "outputs": [
    {
     "name": "stdin",
     "output_type": "stream",
     "text": [
      "Enter the Number: -5\n"
     ]
    },
    {
     "name": "stdout",
     "output_type": "stream",
     "text": [
      "Number is Negative\n"
     ]
    }
   ],
   "source": [
    "# Q1 wap ask the user enter a number \n",
    "#print positive if number greater than >= 0\n",
    "#otherwise print Negative\n",
    "\n",
    "num=eval(input(\"Enter the Number:\"))\n",
    "if num>=0:\n",
    "    print(\"Number is Positive\")\n",
    "else:\n",
    "    print(\"Number is Negative\")"
   ]
  },
  {
   "cell_type": "code",
   "execution_count": 3,
   "id": "53f526fe-3807-4882-8db6-3d271a9127d4",
   "metadata": {},
   "outputs": [
    {
     "name": "stdout",
     "output_type": "stream",
     "text": [
      "-82 Number is Negative\n"
     ]
    }
   ],
   "source": [
    "# taking random number \n",
    "\n",
    "import random\n",
    "num=random.randint(-100,100)\n",
    "if num>=0:\n",
    "    print(f\"{num} Number is Positive\")\n",
    "else:\n",
    "    print(f\"{num} Number is Negative\")"
   ]
  },
  {
   "cell_type": "code",
   "execution_count": 27,
   "id": "72349bea-1497-4804-9688-fd1dc6b7fcff",
   "metadata": {},
   "outputs": [
    {
     "name": "stdin",
     "output_type": "stream",
     "text": [
      "Enter the Number -150\n"
     ]
    },
    {
     "name": "stdout",
     "output_type": "stream",
     "text": [
      "Negative\n"
     ]
    }
   ],
   "source": [
    "# ask the user enter the number if number\n",
    "\n",
    "num=eval(input(\"Enter the Number\"))\n",
    "if num>=0:\n",
    "    if num==0:\n",
    "        print(\"Zero\")\n",
    "    else:\n",
    "        print(\"Positive\")\n",
    "else:\n",
    "    print(\"Negative\")"
   ]
  },
  {
   "cell_type": "code",
   "execution_count": 31,
   "id": "2092efe6-bb8e-4af6-857d-969d49f225de",
   "metadata": {},
   "outputs": [
    {
     "name": "stdout",
     "output_type": "stream",
     "text": [
      "-78 Negative\n"
     ]
    }
   ],
   "source": [
    "#Taking the Random number\n",
    "\n",
    "num=random.randint(-100,100)\n",
    "if num>=0:\n",
    "    if num==0:\n",
    "        print(\"Zero\")\n",
    "    else:\n",
    "        print(f\"{num} Positive\")\n",
    "else:\n",
    "    print(f\"{num} Negative\")"
   ]
  },
  {
   "cell_type": "code",
   "execution_count": 33,
   "id": "6953cb72-e86d-4698-851c-5720d11f7761",
   "metadata": {},
   "outputs": [
    {
     "name": "stdin",
     "output_type": "stream",
     "text": [
      "enter n1: 10\n",
      "enter n2 20\n"
     ]
    },
    {
     "name": "stdout",
     "output_type": "stream",
     "text": [
      "n2 is greater\n"
     ]
    }
   ],
   "source": [
    "#Q3\n",
    "#wap ask to the user two numbers n1 and n2\n",
    "#print which is greater number\n",
    "\n",
    "n1=eval(input(\"enter n1:\"))\n",
    "n2=eval(input(\"enter n2\"))\n",
    "\n",
    "if n1>n2:\n",
    "    print(f\"{n1} is greater than {n2}\")\n",
    "else:\n",
    "    print(f\"{n2} is greater than {n1}\")"
   ]
  },
  {
   "cell_type": "code",
   "execution_count": 46,
   "id": "69a0aafa-7b44-4281-b317-1973e9c791f6",
   "metadata": {},
   "outputs": [
    {
     "name": "stdout",
     "output_type": "stream",
     "text": [
      "52 is greater than 26\n"
     ]
    }
   ],
   "source": [
    "# take the Random numbers\n",
    "\n",
    "n1=random.randint(1,100)\n",
    "n2=random.randint(1,100)\n",
    "\n",
    "if n1>n2:\n",
    "    print(f\"{n1} is greater than {n2}\")\n",
    "else:\n",
    "    print(f\"{n2} is greater than {n1}\")"
   ]
  },
  {
   "cell_type": "code",
   "execution_count": 15,
   "id": "b5396709-426f-4a80-aa68-9749ba19b23f",
   "metadata": {},
   "outputs": [
    {
     "name": "stdin",
     "output_type": "stream",
     "text": [
      "Enter number1: 5\n"
     ]
    },
    {
     "name": "stdout",
     "output_type": "stream",
     "text": [
      "Won 🎉🎉\n"
     ]
    }
   ],
   "source": [
    "#Q4 Lets play a game \n",
    "# we will enter one number n1 \n",
    "# code will give some random number 1 to 10 n2\n",
    "# if both are equal then print won\n",
    "# otherwise lost\n",
    "\n",
    "n1=eval(input(\"Enter number1:\"))\n",
    "n2=random.randint(1,10)\n",
    "\n",
    "if n1==n2:\n",
    "    print(\"Won 🎉🎉\")\n",
    "else:\n",
    "    print(\"loose😭😭 Try Again!\")"
   ]
  },
  {
   "cell_type": "code",
   "execution_count": 74,
   "id": "89aeccc5-3908-4589-b8b7-f708c8063824",
   "metadata": {},
   "outputs": [
    {
     "name": "stdin",
     "output_type": "stream",
     "text": [
      "Enter the Distance in Km 75\n",
      "Enter the charge for km 2\n"
     ]
    },
    {
     "name": "stdout",
     "output_type": "stream",
     "text": [
      "Total charge for Distance 75 is 100\n"
     ]
    }
   ],
   "source": [
    "#Q5 wap ask the user enter distance in km\n",
    "#if distance greater than 25km\n",
    "#    remaining_distance=traveled-25\n",
    "#    ask the user enter the charge per km\n",
    "#    print total charge\n",
    "\n",
    "distance=eval(input(\"Enter the Distance in Km\"))\n",
    "\n",
    "if distance>25:\n",
    "    travel_distance=distance-25\n",
    "    charge=eval(input(\"Enter the charge for km\"))\n",
    "    total_charge=travel_distance*charge\n",
    "    print(f\"Total charge for Distance {distance} is {total_charge}\")\n",
    "else:\n",
    "    print(\"Free Ride\")"
   ]
  },
  {
   "cell_type": "code",
   "execution_count": null,
   "id": "7dbc05e2-801c-4e34-b68a-fb1143cfd106",
   "metadata": {},
   "outputs": [],
   "source": [
    "5%2 #Modules\n",
    "11//2 # Floor Division"
   ]
  }
 ],
 "metadata": {
  "kernelspec": {
   "display_name": "Python [conda env:base] *",
   "language": "python",
   "name": "conda-base-py"
  },
  "language_info": {
   "codemirror_mode": {
    "name": "ipython",
    "version": 3
   },
   "file_extension": ".py",
   "mimetype": "text/x-python",
   "name": "python",
   "nbconvert_exporter": "python",
   "pygments_lexer": "ipython3",
   "version": "3.12.7"
  }
 },
 "nbformat": 4,
 "nbformat_minor": 5
}
