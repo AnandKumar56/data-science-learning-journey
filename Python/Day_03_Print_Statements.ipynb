{
 "cells": [
  {
   "cell_type": "markdown",
   "id": "1bf32ae0-9ae5-4682-8c0a-f583191b6b1e",
   "metadata": {},
   "source": [
    "# 📘 Day 3: What I Learned Today\n",
    "\n",
    "Today, I learned the following Python basics:\n",
    "- How to use the `print()` function for output in Python.\n",
    "- Using escape sequences in strings.\n",
    "- Different ways to format output: with commas, `.format()`, and f-strings.\n",
    "- Type casting: converting between `int`, `float`, `str`, and `bool`.\n",
    "- How the `eval()` function works for evaluating string expressions.\n",
    "- Best practices for writing print statements.\n",
    "- Practice problems on arithmetic operations, rounding numbers, and formatting results.\n",
    "- Real-life examples: calculating area, bills, salary after tax, currency conversion, and weight conversion.\n",
    "- The use of the `round()` function for rounding numbers.\n",
    "\n",
    "This notebook covers foundational Python concepts with practical code examples and explanations, making it a strong resource for beginners."
   ]
  },
  {
   "cell_type": "code",
   "execution_count": 1,
   "id": "cd330efb-c020-41bc-9f2e-5bb7cb1428cf",
   "metadata": {},
   "outputs": [],
   "source": [
    "number1= 10     # int\n",
    "number2=10.5    # float\n",
    "name='Nareshit' # string : str\n",
    "value=True      # Boolean : bool\n",
    "####################################\n",
    "fruites=['Apple','Banana','cherry']  # list\n",
    "names=('ramesh','Suresh','Sathish')  # tuple\n",
    "age={20,22,24}                       # set\n",
    "data={'Ramesh':20,'Suresh':22,'Sathish':24}  # dictionary : dist"
   ]
  },
  {
   "cell_type": "markdown",
   "id": "9361a65e-ab42-43a2-9815-d30fee0a050d",
   "metadata": {},
   "source": [
    "**Type Casting**\n",
    "\n",
    "  Converting one data type to another data Type\n",
    "\n",
    "    int - float\n",
    "    int - string\n",
    "    float - int"
   ]
  },
  {
   "cell_type": "code",
   "execution_count": null,
   "id": "d38e2575-904a-4819-93c2-fe21c6c1cb03",
   "metadata": {},
   "outputs": [],
   "source": [
    "# Example for the type casting that when we add to numbers with the string declaration then \n",
    "# String concatination will happen if we wanted to add those numbers then we need the type conversion which means type casting\n",
    "\n",
    "n1='100' # 100\n",
    "n2='200' # 200\n",
    "n1+n2"
   ]
  },
  {
   "cell_type": "code",
   "execution_count": null,
   "id": "03742e37-7684-4f09-ad85-20399d7ca795",
   "metadata": {},
   "outputs": [],
   "source": [
    "**Case-1**"
   ]
  },
  {
   "cell_type": "markdown",
   "id": "39e7f581-911f-4d4f-8c2f-28ad78d0485d",
   "metadata": {},
   "source": [
    "- int to float \n",
    "- int to str\n",
    "- int to bool"
   ]
  },
  {
   "cell_type": "code",
   "execution_count": null,
   "id": "03383cc6-c104-4334-b930-e6ba24af1147",
   "metadata": {},
   "outputs": [],
   "source": [
    "Number=10\n",
    "#int to float\n",
    "float(Number)"
   ]
  },
  {
   "cell_type": "code",
   "execution_count": null,
   "id": "97117dcd-f3f0-4e27-9add-3b5c15856726",
   "metadata": {},
   "outputs": [],
   "source": [
    "Number1=20\n",
    "#int to string\n",
    "str(Number1)"
   ]
  },
  {
   "cell_type": "code",
   "execution_count": null,
   "id": "ca93efd1-f7e9-41a2-9d27-7e9e8de2722b",
   "metadata": {},
   "outputs": [],
   "source": [
    "Number2=30\n",
    "#int to bool\n",
    "bool(Number2)"
   ]
  },
  {
   "cell_type": "code",
   "execution_count": null,
   "id": "318471c2-ec65-4b87-a89c-79d04a6c775c",
   "metadata": {},
   "outputs": [],
   "source": [
    "# Checking how they print\n",
    "float(-10),str(-10),bool(-10)"
   ]
  },
  {
   "cell_type": "code",
   "execution_count": null,
   "id": "017b9f93-77c1-4cd7-ae68-5f996fe0c462",
   "metadata": {},
   "outputs": [],
   "source": [
    "float(0),str(0),bool(0)"
   ]
  },
  {
   "cell_type": "markdown",
   "id": "865903be-802a-4ae1-a71c-a1ba3bd1ded0",
   "metadata": {},
   "source": [
    "**Float to Other Data Types**"
   ]
  },
  {
   "cell_type": "code",
   "execution_count": null,
   "id": "acad13b0-37ae-4e4d-9628-e3ff18f9fd7d",
   "metadata": {},
   "outputs": [],
   "source": [
    "num=-10.5\n",
    "# To int   str     bool\n",
    "int(num),str(num),bool(num)"
   ]
  },
  {
   "cell_type": "code",
   "execution_count": null,
   "id": "1da4c072-b9ec-48d1-bae9-6d57e0e13bbd",
   "metadata": {},
   "outputs": [],
   "source": [
    "num1=0.0\n",
    "# To int  to str    to bool\n",
    "int(num1),str(num1),bool(num)"
   ]
  },
  {
   "cell_type": "markdown",
   "id": "2de9a2ec-c63b-4389-b0b0-0ae79a01f857",
   "metadata": {},
   "source": [
    "**String to other Data Types**"
   ]
  },
  {
   "cell_type": "code",
   "execution_count": null,
   "id": "9458c149-d828-483a-b3cc-0a181939f866",
   "metadata": {},
   "outputs": [],
   "source": [
    "print(int('10'))\n",
    "print(float('10'))\n",
    "print(bool('10'))"
   ]
  },
  {
   "cell_type": "code",
   "execution_count": null,
   "id": "4b598113-b316-4809-b2bd-0b3aa4a64df5",
   "metadata": {},
   "outputs": [],
   "source": [
    "# print(int('10.5'))    # ValueError: invalid literal for int() with base 10: '10.5'\n",
    "print(float('10.5'))\n",
    "print(bool('10.5'))"
   ]
  },
  {
   "cell_type": "code",
   "execution_count": null,
   "id": "ef76f787-1eab-43d0-90c3-39327459bf35",
   "metadata": {},
   "outputs": [],
   "source": [
    "# Some of the examples\n",
    "n1=10\n",
    "print(n1)\n",
    "n2=20\n",
    "print(n2)\n",
    "n4=1000\n",
    "n3=lenovo  # NameError: name 'lenovo' is not defined\n",
    "n4=100\n",
    "n5=600"
   ]
  },
  {
   "cell_type": "code",
   "execution_count": null,
   "id": "b90e14db-e700-437d-8a7e-9252e664dd06",
   "metadata": {},
   "outputs": [],
   "source": [
    "int('10.5') # Error we can't assign the float type in string quates to the int ValueError: invalid literal for int() with base 10: '10.5'"
   ]
  },
  {
   "cell_type": "code",
   "execution_count": null,
   "id": "f1d7a451-8309-454e-a164-3276e062a2f6",
   "metadata": {},
   "outputs": [],
   "source": [
    "float('10.5'),int('10')"
   ]
  },
  {
   "cell_type": "code",
   "execution_count": null,
   "id": "66035c25-439a-4db1-8dde-6c81cf08bd3b",
   "metadata": {},
   "outputs": [],
   "source": [
    "# Some examples\n",
    "\n",
    "int(10)      # 10 \n",
    "int(10.5)    # 10\n",
    "int('10')    # 10\n",
    "int('10.5')  #ValueError: invalid literal for int() with base 10: '10.5'\n",
    "float(10)    # 10.0\n",
    "float(10.5)  # 10.5\n",
    "float('10')  # 10\n",
    "float('10.5')# 10.5 "
   ]
  },
  {
   "cell_type": "code",
   "execution_count": null,
   "id": "62a1a816-7e5a-43f7-a015-4ef4715699d7",
   "metadata": {},
   "outputs": [],
   "source": [
    "int('0'),float('0'),bool('0')"
   ]
  },
  {
   "cell_type": "code",
   "execution_count": null,
   "id": "0b96c309-6d06-49d2-a925-d8d861836120",
   "metadata": {},
   "outputs": [],
   "source": [
    "len('0'),float('0'),bool('0')"
   ]
  },
  {
   "cell_type": "code",
   "execution_count": null,
   "id": "085d5aea-5cce-4419-a5b6-4a91b2ab54e8",
   "metadata": {},
   "outputs": [],
   "source": [
    "len('0'),len(''),len('apple')"
   ]
  },
  {
   "cell_type": "code",
   "execution_count": null,
   "id": "60f4c1a5-b7c9-465f-bdc8-ffaa92357f19",
   "metadata": {},
   "outputs": [],
   "source": [
    "int('0.0')\n",
    "int('10.5')"
   ]
  },
  {
   "cell_type": "code",
   "execution_count": null,
   "id": "5f1f5f90-ebf1-4867-898e-ce0c8f9919de",
   "metadata": {},
   "outputs": [],
   "source": [
    "float('Apple')    # ValueError: could not convert string to float: 'Apple'\n",
    "\n",
    "int('apple')      # error\n",
    "bool('apple')     # True"
   ]
  },
  {
   "cell_type": "markdown",
   "id": "1cb3ce41-fd13-4848-8b1f-57fd4f6a6b11",
   "metadata": {},
   "source": [
    "**Boolean to other data types**"
   ]
  },
  {
   "cell_type": "code",
   "execution_count": null,
   "id": "7a2149c6-f884-497c-9b0d-0a876d76c503",
   "metadata": {},
   "outputs": [],
   "source": [
    "int(True),float(True),str(True)"
   ]
  },
  {
   "cell_type": "code",
   "execution_count": null,
   "id": "b9116303-cb4f-4fd1-8388-c2e39275efce",
   "metadata": {},
   "outputs": [],
   "source": [
    "int(False),float(False),str(False)"
   ]
  },
  {
   "cell_type": "code",
   "execution_count": null,
   "id": "23ae029a-40fa-4b7e-bb74-72e7f2573711",
   "metadata": {},
   "outputs": [],
   "source": [
    "# Some Examples\n",
    "\n",
    "float(100)\n",
    "str(10)\n",
    "bool(10)\n",
    "int(10.5)\n",
    "bool(10.5)\n",
    "str(10.5)\n",
    "int('10')\n",
    "float('10')\n",
    "bool('10')\n",
    "int('10.5')\n",
    "float('10.5')\n",
    "bool('10.5')\n",
    "int('Apple')\n",
    "float('Apple')\n",
    "bool('Apple')\n",
    "int(True)\n",
    "float(False)\n",
    "bool('')"
   ]
  },
  {
   "cell_type": "code",
   "execution_count": null,
   "id": "d71e860f-36b5-42ce-8abc-da3075a2ad70",
   "metadata": {},
   "outputs": [],
   "source": [
    "float('10.5') # Convert a string or number to a floating-point number, if possible."
   ]
  },
  {
   "cell_type": "code",
   "execution_count": null,
   "id": "21ac9f58-4808-4a18-b0e3-4a815c7c3fd9",
   "metadata": {},
   "outputs": [],
   "source": [
    "int(float('10.5')) # Convert a string or number to a floating-point number, if possible. then again convert into the int"
   ]
  },
  {
   "cell_type": "code",
   "execution_count": null,
   "id": "546c48fe-f21e-4f16-8b5d-965270b6edfc",
   "metadata": {},
   "outputs": [],
   "source": [
    "n1=int('100')    # 100 is assigned as the string then converted using int()\n",
    "n2=int('200')    # 200 is assigned as the string then converted using int()\n",
    "n1+n2            # Adding to number n1+n2"
   ]
  },
  {
   "cell_type": "code",
   "execution_count": null,
   "id": "3997f3ea-eb44-46ea-838e-98cc10f42ac4",
   "metadata": {},
   "outputs": [],
   "source": [
    "n1='100'\n",
    "n2='200'\n",
    "print(int(n1+n2)) # Error we adding without converting or taking as string and adding and also we are not assigning as int here concatation will happen"
   ]
  },
  {
   "cell_type": "code",
   "execution_count": null,
   "id": "440210cb-1896-481f-9b69-c7ffa2471d2f",
   "metadata": {},
   "outputs": [],
   "source": [
    "print(int(n1)+int(n2))  #  We can use direct values or Variables effecient approach and reduce the number of lines "
   ]
  },
  {
   "cell_type": "code",
   "execution_count": null,
   "id": "ce416442-81d7-4bc9-8970-b5add52a9e83",
   "metadata": {},
   "outputs": [],
   "source": [
    "num1=int(float('100.5')) # Convering string to float and then int\n",
    "num2=int('200')          # Taking as string and convert to int\n",
    "print(num1+num2)         # Adding two numbers num1 and num2"
   ]
  },
  {
   "cell_type": "code",
   "execution_count": null,
   "id": "96949656-80eb-4067-8ec8-76e00224458c",
   "metadata": {},
   "outputs": [],
   "source": [
    "number1=float('100.5')  # Assigned string then coverted into float\n",
    "number2=float('200')    # Assigned string then coverted into float\n",
    "number1+number2         # Adding the float numbers number1+number2"
   ]
  },
  {
   "cell_type": "markdown",
   "id": "ff079e2a-ecd7-4568-b34f-bfb4043ad54a",
   "metadata": {},
   "source": [
    "**Eval**\n",
    "\n",
    "The eval() function in Python takes a string as input and treats that string as if it were a piece of Python code (specifically, an expression) and then executes it, returning the result.\n",
    "\n",
    "In simpler terms:\n",
    "Imagine you have a string like \"2 + 3 * 5\". If you pass this string to eval(), it will calculate the result of that mathematical expression (which is 17) and give you that number back.\n",
    " - The eval() function automatically detects and handles whether the value is an integer or a float — you don’t need to explicitly use int() or float() in most cases."
   ]
  },
  {
   "cell_type": "code",
   "execution_count": null,
   "id": "e41e2126-d710-4d5a-9214-1ff3c2d2bdb1",
   "metadata": {},
   "outputs": [],
   "source": [
    "n1=eval('100.5') #\n",
    "n2=eval('200')\n",
    "print(n1)\n",
    "print(n2)\n",
    "print(n1+n2)"
   ]
  },
  {
   "cell_type": "code",
   "execution_count": null,
   "id": "090c4b48-567a-426b-81e1-604a8fb7b8e7",
   "metadata": {},
   "outputs": [],
   "source": [
    "100 + '200' # TypeError: unsupported operand type(s) for +: 'int' and 'str' we are trying to add int and string which is not possible without conversion"
   ]
  },
  {
   "cell_type": "markdown",
   "id": "451fec9f-b4f5-42fd-80db-f6b51f2737ee",
   "metadata": {},
   "source": [
    "**Print Statements**\n",
    "\n",
    " The print() function is used to display output to the console."
   ]
  },
  {
   "cell_type": "code",
   "execution_count": null,
   "id": "9a98b8aa-085d-4c02-90c4-1cf4b14c2123",
   "metadata": {},
   "outputs": [],
   "source": [
    "a=10\n",
    "b=20\n",
    "print(a)      # we can print using print() or simpy mention or put variable name(but it works for only for that one statement or one print value\n",
    "print(b)\n",
    "print(a,b)\n",
    "a,b"
   ]
  },
  {
   "cell_type": "code",
   "execution_count": null,
   "id": "589c78f0-ece6-433c-94b3-20c869b3295a",
   "metadata": {},
   "outputs": [],
   "source": [
    "a=10\n",
    "b=20\n",
    "c=a+b\n",
    "string=\"Anand\"\n",
    "print(\"Sum of 10 and 20 is = 30\")  # we are mentioning the values in the statement\n",
    "print(\"Sum of a and b is = c\")     # we are variable names but it don't print Values prints only the a b c\n",
    "print(\"Sum of\", a,\"and\", b,\"is\", \"=\", c) # to print the variable values we need to mention comma the variable name should be in the middle of commas hint: the variable name should be in back when we mention\n",
    "print(\"Name of the Person is \" + string) # We can aslo use the + symbol in print statement to print the variable name"
   ]
  },
  {
   "cell_type": "code",
   "execution_count": null,
   "id": "10af288f-a4ba-40c7-a41b-7229be524ce6",
   "metadata": {},
   "outputs": [],
   "source": [
    "# Example\n",
    "\n",
    "Name = 'Anand'\n",
    "age= 22\n",
    "City= 'Hyderabad'\n",
    "print(\"My Name is\",Name,\"my age is\",age,\"and Im from\",City)"
   ]
  },
  {
   "cell_type": "markdown",
   "id": "611a958f-222b-4685-aadf-bb4482a8731c",
   "metadata": {},
   "source": [
    "**Method 2 :**\n",
    "*Format Method*\n",
    "*Using {}*"
   ]
  },
  {
   "cell_type": "code",
   "execution_count": null,
   "id": "d648e87a-94d0-458c-b1c6-dd7c9c137703",
   "metadata": {},
   "outputs": [],
   "source": [
    "print(\"My Name is {Name} my age is {age} and im from {City}\") # We wrote the varibale names between the '{<variable>}' but doesnt work"
   ]
  },
  {
   "cell_type": "code",
   "execution_count": null,
   "id": "3953a7e2-4fa6-4c41-8666-3c803d40b6d7",
   "metadata": {},
   "outputs": [],
   "source": [
    "print(\"My Name is {} my age is {} and im from {}\".format(Name,age,City)) # We need to mention the .format(<variable>) it works"
   ]
  },
  {
   "cell_type": "markdown",
   "id": "d59bdc56-7191-4f7c-9358-e609748aeb63",
   "metadata": {},
   "source": [
    "**Method 3** : *fstring*\n",
    "\n",
    "*Using f-strings (Formatted strings) ✅ Modern & Clean*"
   ]
  },
  {
   "cell_type": "code",
   "execution_count": null,
   "id": "a04f12c4-c342-43ae-b991-b3167cb5e1dd",
   "metadata": {},
   "outputs": [],
   "source": [
    "print(f\"My Name is {Name} my age is {age} and im from {City}\") # Similar to the above but we mention f (fstring) at the beggining of the statement instead if the .format(<variable>)"
   ]
  },
  {
   "cell_type": "markdown",
   "id": "df71ef27-7619-4a15-ac19-0fc151fee6b4",
   "metadata": {},
   "source": [
    "- wap ask the use take two numbers\n",
    "- print addition substraction multi and division`"
   ]
  },
  {
   "cell_type": "code",
   "execution_count": null,
   "id": "5b1b3dbe-7f31-42a9-9207-734b47af2199",
   "metadata": {},
   "outputs": [],
   "source": [
    "# Practice Problem\n",
    "# wap ask the use take two numbers\n",
    "# print addition substraction multi and division\n",
    "# Using Method 2: .format()\n",
    "\n",
    "num1=100\n",
    "num2=250\n",
    "\n",
    "print(\"Sum of the {} and {} is {}\".format(num1,num2,num1+num2))\n",
    "print(f\"Sum of the{num1} and {num2} is {num1+num2}\\n\")\n",
    "\n",
    "print(\"Substraction of the {} and {} is {}\".format(num1,num2,num1-num2))\n",
    "print(f\"Substraction of the{num1} and {num2} is {num1-num2}\\n\")\n",
    "\n",
    "print(\"Multiplication of the {} and {} is {}\".format(num1,num2,num1-num2))\n",
    "print(f\"Multiplication of the{num1} and {num2} is {num1*num2}\\n\")\n",
    "\n",
    "print(\"Division of the {} and {} is {}\".format(num1,num2,num1-num2))\n",
    "print(f\"Division of the{num1} and {num2} is {num1/num2}\\n\")"
   ]
  },
  {
   "cell_type": "code",
   "execution_count": null,
   "id": "35c6317a-549e-423d-ba4e-e81860f8671c",
   "metadata": {},
   "outputs": [],
   "source": [
    "a=50\n",
    "b=20\n",
    "c=100\n",
    "\n",
    "print(f\" Average of {a},{b},{c} is {a+b+c/3}\")\n",
    "\n",
    "avg=a+b+c/3\n",
    "print(round(avg,1))"
   ]
  },
  {
   "cell_type": "code",
   "execution_count": null,
   "id": "d360cb4b-fdda-4659-84c5-60f724f145d1",
   "metadata": {},
   "outputs": [],
   "source": [
    "*Round of Method*\n",
    "\n",
    "🔹 Definition:\n",
    "The round() function is used to round a number to the nearest integer or to a specified number of decimal places.\n",
    "\n",
    "🔹 Syntax:\n",
    "\n",
    "round(number, digits)\n",
    "number: The floating-point number you want to round.\n",
    "\n",
    "digits (optional): Number of decimal places to round to. If not given, it rounds to the nearest whole number.\n",
    "\n",
    "🔹 Examples:\n",
    "\n",
    "*Example 1: Round to nearest integer*\n",
    "print(round(4.6))     # Output: 5\n",
    "print(round(4.3))     # Output: 4\n",
    "\n",
    "*Example 2: Round to 2 decimal places*\n",
    "print(round(3.14159, 2))   # Output: 3.14\n",
    "\n",
    "*Example 3: Round negative numbers*\n",
    "print(round(-2.7))    # Output: -3\n",
    "\n",
    "🔸 Real-Life Example:\n",
    "\n",
    "price = 49.995\n",
    "final_price = round(price, 2)   # Round to 2 decimal places\n",
    "print(\"Final price:\", final_price)\n",
    "\n",
    "📌 Output:\n",
    "\n",
    "Final price: 50.0\n",
    "\n",
    "🔎 Important Note:\n",
    "Python uses round half to even method (also known as banker’s rounding), so:\n",
    "\n",
    "print(round(2.5))  # Output: 2 (NOT 3)\n",
    "print(round(3.5))  # Output: 4\n",
    "It avoids bias in rounding large sets of data."
   ]
  },
  {
   "cell_type": "code",
   "execution_count": null,
   "id": "72452c20-3934-4a81-b408-7a5da017595c",
   "metadata": {},
   "outputs": [],
   "source": [
    "round(34.67)"
   ]
  },
  {
   "cell_type": "code",
   "execution_count": null,
   "id": "9ed34801-e32c-4bb2-b372-3eb39cd7be43",
   "metadata": {},
   "outputs": [],
   "source": [
    "round(34.48)"
   ]
  },
  {
   "cell_type": "code",
   "execution_count": null,
   "id": "f2bdcb71-f6ab-4fbf-8e06-754cf0cbc563",
   "metadata": {},
   "outputs": [],
   "source": [
    "print(round(34.47777,1)) # 34.5\n",
    "print(round(34.47777,2)) # 34.48\n",
    "print(round(34.47777,3)) # 34.478"
   ]
  },
  {
   "cell_type": "code",
   "execution_count": null,
   "id": "b7ea1b99-c097-46ff-9548-bf9837c6042a",
   "metadata": {},
   "outputs": [],
   "source": [
    "# Some Practice Questions\n",
    "\n",
    "# Q1\n",
    "\n",
    "pi=3.14\n",
    "r=30\n",
    "\n",
    "area_of_cirle=pi*r*r\n",
    "\n",
    "print(f\"with radius {r} area of circle is {area_of_cirle}\\n\")\n",
    "\n",
    "print(f\"with radius {r} area o circle is \",round(area_of_cirle,1))"
   ]
  },
  {
   "cell_type": "code",
   "execution_count": null,
   "id": "0b5a2cb4-da3a-4471-9007-518b7d6b1f6f",
   "metadata": {},
   "outputs": [],
   "source": [
    "#Q3\n",
    "\n",
    "bill_amount=1000\n",
    "tip_amount=30\n",
    "\n",
    "total_bill=bill_amount+tip_amount\n",
    "\n",
    "print(f\"Bill Amount is {bill_amount} and tip {tip_amount} and the Total amount is {total_bill}\")"
   ]
  },
  {
   "cell_type": "code",
   "execution_count": null,
   "id": "1180ea37-6fc2-4837-a71e-57aa38201fcc",
   "metadata": {},
   "outputs": [],
   "source": [
    "#Q4\n",
    "\n",
    "sal=25000\n",
    "tax=25\n",
    "\n",
    "final_sal=sal*tax/100\n",
    "\n",
    "print(f\"Your Salary is {sal} and the Tax Percentage is {tax} and Final Salary is the {final_sal}\")"
   ]
  },
  {
   "cell_type": "code",
   "execution_count": null,
   "id": "1d8427db-b779-4245-b024-2ed995fd14b4",
   "metadata": {},
   "outputs": [],
   "source": [
    "#Q5\n",
    "\n",
    "dollor=10\n",
    "\n",
    "dollor_to_rupee=dollor*85\n",
    "\n",
    "print(f\"The Dollor of {dollor} converted into rupee is {dollor_to_rupee}\")"
   ]
  },
  {
   "cell_type": "code",
   "execution_count": null,
   "id": "2518eb01-1b06-4e72-847a-901728e9780b",
   "metadata": {},
   "outputs": [],
   "source": [
    "#Q6\n",
    "\n",
    "weights=50\n",
    "\n",
    "kgs_into_pounds=weights*2.2\n",
    "\n",
    "print(f\"The weights {weights} into pounds of {kgs_into_pounds}\")\n",
    "\n",
    "print(f\"The weights {weights} into pounds of\", round(kgs_into_pounds,2))"
   ]
  },
  {
   "cell_type": "code",
   "execution_count": null,
   "id": "d8809db0-ec7e-449b-920a-000c539a9bf2",
   "metadata": {},
   "outputs": [],
   "source": [
    "#Practice\n",
    "\n",
    "bill_amount=5000\n",
    "tip_perc=10\n",
    "tip_amount=bill_amount*tip_perc/100\n",
    "total_bill=bill_amount+tip_amount\n",
    "print(f\"The Bill amount is {bill_amount} and the Tip Percentage is {tip_perc}\")\n",
    "print(f\"Total Bill Amount :{total_bill}\")"
   ]
  },
  {
   "cell_type": "code",
   "execution_count": null,
   "id": "180a66f3-ce46-4915-a31e-467c0153b043",
   "metadata": {},
   "outputs": [],
   "source": [
    "dollor=5\n",
    "value_in_rupee=85\n",
    "dollor_in_rupee=dollor*value_in_rupee\n",
    "print(f\"The Dollor are {dollor} and Rupee for One Dolor is {value_in_rupee}\")\n",
    "print(f\"Total Amount of {dollor}$ into rupees is {dollor_in_rupee}\")"
   ]
  },
  {
   "cell_type": "code",
   "execution_count": null,
   "id": "85ea9571-b766-4aca-bbbf-523b9b14d33e",
   "metadata": {},
   "outputs": [],
   "source": [
    "pound=2.2\n",
    "weight=80\n",
    "weight_to_pounds=weight*pound\n",
    "print(f\"The weight is the {weight} and one pound is {pound}\")\n",
    "print(f\"The Weight of {weight}Kgs into pounds is {weight_to_pounds}\")"
   ]
  }
 ],
 "metadata": {
  "kernelspec": {
   "display_name": "Python [conda env:base] *",
   "language": "python",
   "name": "conda-base-py"
  },
  "language_info": {
   "codemirror_mode": {
    "name": "ipython",
    "version": 3
   },
   "file_extension": ".py",
   "mimetype": "text/x-python",
   "name": "python",
   "nbconvert_exporter": "python",
   "pygments_lexer": "ipython3",
   "version": "3.12.7"
  }
 },
 "nbformat": 4,
 "nbformat_minor": 5
}
