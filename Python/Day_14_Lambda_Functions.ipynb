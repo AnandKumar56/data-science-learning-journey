{
 "cells": [
  {
   "cell_type": "markdown",
   "id": "f0cda6cf-3ed3-411d-8547-46b8722c2c93",
   "metadata": {},
   "source": [
    "# Day 14: Lambda Functions in Python\n",
    "\n",
    "This notebook is my personal **Learning Documentation** on Lambda Functions in Python. It contains my notes, explanations, and practice examples as I explore and master lambda functions, including their use with `map`, `filter`, and `reduce`.\n",
    "\n",
    "---\n"
   ]
  },
  {
   "cell_type": "markdown",
   "id": "340c640f-85ff-43d0-8cbd-b04b4edc7714",
   "metadata": {},
   "source": [
    "## What is a Lambda Function?\n",
    "\n",
    "- A **lambda function** is a small, anonymous function defined with the `lambda` keyword.\n",
    "- It is similar to list comprehensions in its concise, single-line syntax.\n",
    "- Lambda functions are often used for short, throwaway functions where defining a full function with `def` would be overkill.\n",
    "\n",
    "**Syntax:**\n",
    "```python\n",
    "lambda arguments: expression\n",
    "```\n"
   ]
  },
  {
   "cell_type": "markdown",
   "id": "70179afd-1d16-4e7f-bd78-1eddb1976532",
   "metadata": {},
   "source": [
    "### Case 1: Lambda Function with One Argument\n",
    "\n",
    "Let's start by converting a simple function to a lambda function."
   ]
  },
  {
   "cell_type": "code",
   "execution_count": null,
   "id": "4036e062-f2b6-4415-a1d5-122c97078eb8",
   "metadata": {},
   "outputs": [
    {
     "data": {
      "text/plain": [
       "30"
      ]
     },
     "execution_count": 3,
     "metadata": {},
     "output_type": "execute_result"
    }
   ],
   "source": [
    "# Traditional function to add 10 to a number\n",
    "def add(a):\n",
    "    return a + 10\n",
    "\n",
    "# Example usage:\n",
    "add(20)"
   ]
  },
  {
   "cell_type": "code",
   "execution_count": null,
   "id": "24dfd53f-e666-426a-86f6-048d1ff3deab",
   "metadata": {},
   "outputs": [],
   "source": [
    "# Function name: add\n",
    "# Argument: a\n",
    "# Output: a + 10\n",
    "\n",
    "# Lambda function syntax:\n",
    "# <function_name> = lambda <args>: <output>\n"
   ]
  },
  {
   "cell_type": "code",
   "execution_count": null,
   "id": "005df3c6-bf3b-4364-8bfd-d290f791fa9b",
   "metadata": {},
   "outputs": [
    {
     "data": {
      "text/plain": [
       "60"
      ]
     },
     "execution_count": 21,
     "metadata": {},
     "output_type": "execute_result"
    }
   ],
   "source": [
    "# Lambda function equivalent of the above\n",
    "add = lambda a: a + 10\n",
    "\n",
    "# Example usage:\n",
    "add(50)"
   ]
  },
  {
   "cell_type": "markdown",
   "id": "3e7c01cf-2982-432c-b6ea-71e310011c93",
   "metadata": {},
   "source": [
    "### Case 2: Lambda Function with Multiple Arguments\n",
    "\n",
    "Lambda functions can take multiple arguments, just like regular functions. You can also use default arguments."
   ]
  },
  {
   "cell_type": "code",
   "execution_count": null,
   "id": "389aaf2b-6905-49a3-bcce-0fcb13f778a2",
   "metadata": {},
   "outputs": [
    {
     "data": {
      "text/plain": [
       "40.0"
      ]
     },
     "execution_count": 24,
     "metadata": {},
     "output_type": "execute_result"
    }
   ],
   "source": [
    "# Traditional function to calculate average (with a bug for demonstration)\n",
    "def avg(x, y, z):\n",
    "    return x + y + z / 3  # Note: This does not calculate the true average!\n",
    "\n",
    "# Example usage:\n",
    "avg(10, 20, 30)"
   ]
  },
  {
   "cell_type": "code",
   "execution_count": null,
   "id": "70f155fe-b355-418a-837d-8ae123a438ae",
   "metadata": {},
   "outputs": [
    {
     "data": {
      "text/plain": [
       "77"
      ]
     },
     "execution_count": 36,
     "metadata": {},
     "output_type": "execute_result"
    }
   ],
   "source": [
    "# Lambda function with multiple arguments and a default value\n",
    "avg = lambda x, y, z=20: round(x + y + z / 3)  # Default arguments also work\n",
    "\n",
    "# Example usage:\n",
    "avg(10, 60)"
   ]
  },
  {
   "cell_type": "markdown",
   "id": "acfe5cea-b4a8-46a7-ba93-2a973afddc3f",
   "metadata": {},
   "source": [
    "### Case 3: Using if-else in Lambda Functions\n",
    "\n",
    "Lambda functions can include conditional expressions (if-else) for simple decision-making."
   ]
  },
  {
   "cell_type": "code",
   "execution_count": null,
   "id": "acf20e6b-96bc-4182-aa6c-c9d293057c54",
   "metadata": {},
   "outputs": [
    {
     "data": {
      "text/plain": [
       "'odd'"
      ]
     },
     "execution_count": 43,
     "metadata": {},
     "output_type": "execute_result"
    }
   ],
   "source": [
    "# Traditional function to check if a number is even or odd\n",
    "def even_odd(num):\n",
    "    if num % 2 == 0:\n",
    "        return 'even'\n",
    "    else:\n",
    "        return 'odd'\n",
    "\n",
    "# Example usage:\n",
    "even_odd(21)"
   ]
  },
  {
   "cell_type": "code",
   "execution_count": null,
   "id": "455291f5-6cf2-426d-8b7a-c44811a7d3df",
   "metadata": {},
   "outputs": [
    {
     "data": {
      "text/plain": [
       "'odd'"
      ]
     },
     "execution_count": 55,
     "metadata": {},
     "output_type": "execute_result"
    }
   ],
   "source": [
    "# Lambda function for even/odd check\n",
    "even_odd1 = lambda num: 'even' if num % 2 == 0 else 'odd'\n",
    "\n",
    "# Example usage:\n",
    "even_odd1(21)"
   ]
  },
  {
   "cell_type": "markdown",
   "id": "d72aae72-cdb7-4ffa-baa1-a1adeaf0ecf4",
   "metadata": {},
   "source": [
    "### Case 4: List Operations with Lambda Functions\n",
    "\n",
    "Lambda functions are powerful when combined with list operations and built-in functions like `map`, `filter`, and `reduce`. Let's see some practical examples."
   ]
  },
  {
   "cell_type": "code",
   "execution_count": null,
   "id": "de03296e-8b4f-4056-93b4-ae8328373d89",
   "metadata": {},
   "outputs": [],
   "source": [
    "# Q1: Capitalize the first letter of each city name in the list\n",
    "input_cities = ['hyd', 'bengaluru', 'mumbai', 'chennai']\n",
    "# Expected output: ['Hyd', 'Bengaluru', 'Mumbai', 'Chennai']"
   ]
  },
  {
   "cell_type": "code",
   "execution_count": null,
   "id": "286e4595-36fe-45be-a008-b64dc4a21d64",
   "metadata": {},
   "outputs": [
    {
     "data": {
      "text/plain": [
       "<function __main__.<lambda>(i)>"
      ]
     },
     "execution_count": 3,
     "metadata": {},
     "output_type": "execute_result"
    }
   ],
   "source": [
    "# Step 1: Define the lambda function to title-case a string\n",
    "capitalize = lambda s: s.title()\n",
    "\n",
    "# Example usage:\n",
    "capitalize('hyd')"
   ]
  },
  {
   "cell_type": "code",
   "execution_count": null,
   "id": "1a1afc1f-708d-4037-9ee1-32c2d9812969",
   "metadata": {},
   "outputs": [
    {
     "data": {
      "text/plain": [
       "(<function __main__.<lambda>(i)>, ['hyd', 'bengaluru', 'mumbai', 'chennai'])"
      ]
     },
     "execution_count": 5,
     "metadata": {},
     "output_type": "execute_result"
    }
   ],
   "source": [
    "# Step 2: Use map to apply the lambda function to each element in the list\n",
    "# Syntax: map(function, iterable)\n",
    "capitalized_cities = map(capitalize, input_cities)\n",
    "\n",
    "# Note: map returns an iterator. To see the results, convert to a list."
   ]
  },
  {
   "cell_type": "markdown",
   "id": "e8499eef-c645-4baf-a22e-dfa186080266",
   "metadata": {},
   "source": [
    "**Map**"
   ]
  },
  {
   "cell_type": "code",
   "execution_count": null,
   "id": "b3fcfb93-7c7d-44a0-a07a-0c49881dd498",
   "metadata": {},
   "outputs": [
    {
     "data": {
      "text/plain": [
       "<map at 0x26fcce7b6a0>"
      ]
     },
     "execution_count": 8,
     "metadata": {},
     "output_type": "execute_result"
    }
   ],
   "source": [
    "# Step 3: Convert the map object to a list to get the output\n",
    "capitalized_cities_list = list(map(lambda i: i.title(), input_cities))\n",
    "capitalized_cities_list"
   ]
  },
  {
   "cell_type": "code",
   "execution_count": null,
   "id": "37edfe8e-62eb-4f78-9ed4-b4f54c02b840",
   "metadata": {},
   "outputs": [
    {
     "data": {
      "text/plain": [
       "['Hyd', 'Bengaluru', 'Mumbai', 'Chennai']"
      ]
     },
     "execution_count": 77,
     "metadata": {},
     "output_type": "execute_result"
    }
   ],
   "source": [
    "# Q2: Convert all city names to uppercase\n",
    "input_cities_upper = ['hyd', 'bengaluru', 'mumbai', 'chennai']\n",
    "uppercase_cities = list(map(lambda i: i.upper(), input_cities_upper))\n",
    "uppercase_cities"
   ]
  },
  {
   "cell_type": "code",
   "execution_count": null,
   "id": "2e538015-204d-4570-a29a-33b16bf5dd12",
   "metadata": {},
   "outputs": [],
   "source": [
    "# Q2) input=['hyd','bengaluru','mumbai','chennai']\n",
    "#     output=['HYD','BENGALURU','MUMBAI','CHENNAI']"
   ]
  },
  {
   "cell_type": "code",
   "execution_count": 81,
   "id": "13e6767d-3a56-42d4-a7f9-8d4438e15f69",
   "metadata": {},
   "outputs": [
    {
     "data": {
      "text/plain": [
       "['HYD', 'BENGALURU', 'MUMBAI', 'CHENNAI']"
      ]
     },
     "execution_count": 81,
     "metadata": {},
     "output_type": "execute_result"
    }
   ],
   "source": [
    "Input_Q2=['hyd','bengaluru','mumbai','chennai']\n",
    "output_Q2=list(map(lambda i: i.upper(),Input_Q2))\n",
    "output_Q2"
   ]
  },
  {
   "cell_type": "code",
   "execution_count": null,
   "id": "c10d193f-dbbd-4ab5-afcc-8aa0097d8533",
   "metadata": {},
   "outputs": [
    {
     "data": {
      "text/plain": [
       "[False, False, True, True]"
      ]
     },
     "execution_count": 91,
     "metadata": {},
     "output_type": "execute_result"
    }
   ],
   "source": [
    "# Q3: Filter city names containing the character '#'\n",
    "input_cities_hash = ['hyd', 'bengaluru', 'mum#bai', 'chen#nai']\n",
    "# Use filter to select only those with '#'\n",
    "cities_with_hash = list(filter(lambda i: '#' in i, input_cities_hash))\n",
    "cities_with_hash"
   ]
  },
  {
   "cell_type": "markdown",
   "id": "9ada6fe6-3a35-4e8d-8932-d4e0bb059d9a",
   "metadata": {},
   "source": [
    "**Filter**"
   ]
  },
  {
   "cell_type": "code",
   "execution_count": null,
   "id": "df792ae1-0e76-4821-bd36-b418b034b32c",
   "metadata": {},
   "outputs": [
    {
     "data": {
      "text/plain": [
       "['mum#bai', 'chen#nai']"
      ]
     },
     "execution_count": 94,
     "metadata": {},
     "output_type": "execute_result"
    }
   ],
   "source": [
    "# Using filter to get city names containing '#'\n",
    "input_cities_hash = ['hyd', 'bengaluru', 'mum#bai', 'chen#nai']\n",
    "cities_with_hash = list(filter(lambda i: '#' in i, input_cities_hash))\n",
    "cities_with_hash"
   ]
  },
  {
   "cell_type": "markdown",
   "id": "4f823d1d-4dbb-489a-ba19-765550af2f37",
   "metadata": {},
   "source": [
    "### Reduce and Math Operations with Lambda Functions\n",
    "\n",
    "The `reduce` function (from the `functools` module) is used for performing cumulative operations, such as summing or multiplying all elements in a list."
   ]
  },
  {
   "cell_type": "markdown",
   "id": "1e88ab15-ccd2-467e-b872-d8e1892cdb67",
   "metadata": {},
   "source": [
    "- `reduce` is useful for any mathematical operation that combines all elements of a list into a single value.\n",
    "- Example: Calculating the sum of the first 10 natural numbers."
   ]
  },
  {
   "cell_type": "code",
   "execution_count": null,
   "id": "03db1f53-68c8-4b34-acfb-27a1b81adfd1",
   "metadata": {},
   "outputs": [
    {
     "data": {
      "text/plain": [
       "[1, 2, 3, 4, 5, 6, 7, 8, 9, 10]"
      ]
     },
     "execution_count": 22,
     "metadata": {},
     "output_type": "execute_result"
    }
   ],
   "source": [
    "# Create a list of the first 10 natural numbers\n",
    "numbers = [i for i in range(1, 11)]\n",
    "numbers"
   ]
  },
  {
   "cell_type": "code",
   "execution_count": null,
   "id": "29af4206-6be7-41dd-9e4f-926140ab8521",
   "metadata": {},
   "outputs": [
    {
     "name": "stdout",
     "output_type": "stream",
     "text": [
      "55\n"
     ]
    }
   ],
   "source": [
    "# Traditional way to sum numbers in a list\n",
    "summ = 0\n",
    "for i in numbers:\n",
    "    summ += i\n",
    "print(summ)"
   ]
  },
  {
   "cell_type": "code",
   "execution_count": null,
   "id": "b0d82583-9c42-4315-906c-706930b345fe",
   "metadata": {},
   "outputs": [],
   "source": [
    " # If You Write the Summ=Summ+i then it Raises the Syntax Error\n",
    "# SyntaxError: invalid syntax. Maybe you meant '==' or ':=' instead of '='?\n",
    "# In List Compherension the '=' Donesnt work instead of '=' We need to use the ':='\n",
    "# If You Remember this was the concept which we learned earlier in List Comprehension Topic is # Velrus Operators"
   ]
  },
  {
   "cell_type": "code",
   "execution_count": null,
   "id": "d5d8bb9c-7b2d-43a3-bfc4-a8b380ea0302",
   "metadata": {},
   "outputs": [
    {
     "data": {
      "text/plain": [
       "55"
      ]
     },
     "execution_count": 34,
     "metadata": {},
     "output_type": "execute_result"
    }
   ],
   "source": [
    "# Using the walrus operator (:=) in a list comprehension to sum numbers\n",
    "summ = 0\n",
    "[summ := summ + i for i in numbers][-1]"
   ]
  },
  {
   "cell_type": "code",
   "execution_count": null,
   "id": "c71bb92d-7887-4b2b-a5c9-7fad2de26549",
   "metadata": {},
   "outputs": [
    {
     "data": {
      "text/plain": [
       "['GenericAlias',\n",
       " 'RLock',\n",
       " 'WRAPPER_ASSIGNMENTS',\n",
       " 'WRAPPER_UPDATES',\n",
       " '_CacheInfo',\n",
       " '_HashedSeq',\n",
       " '_NOT_FOUND',\n",
       " '__all__',\n",
       " '__builtins__',\n",
       " '__cached__',\n",
       " '__doc__',\n",
       " '__file__',\n",
       " '__loader__',\n",
       " '__name__',\n",
       " '__package__',\n",
       " '__spec__',\n",
       " '_c3_merge',\n",
       " '_c3_mro',\n",
       " '_compose_mro',\n",
       " '_convert',\n",
       " '_find_impl',\n",
       " '_ge_from_gt',\n",
       " '_ge_from_le',\n",
       " '_ge_from_lt',\n",
       " '_gt_from_ge',\n",
       " '_gt_from_le',\n",
       " '_gt_from_lt',\n",
       " '_initial_missing',\n",
       " '_le_from_ge',\n",
       " '_le_from_gt',\n",
       " '_le_from_lt',\n",
       " '_lru_cache_wrapper',\n",
       " '_lt_from_ge',\n",
       " '_lt_from_gt',\n",
       " '_lt_from_le',\n",
       " '_make_key',\n",
       " '_unwrap_partial',\n",
       " 'cache',\n",
       " 'cached_property',\n",
       " 'cmp_to_key',\n",
       " 'get_cache_token',\n",
       " 'lru_cache',\n",
       " 'namedtuple',\n",
       " 'partial',\n",
       " 'partialmethod',\n",
       " 'recursive_repr',\n",
       " 'reduce',\n",
       " 'singledispatch',\n",
       " 'singledispatchmethod',\n",
       " 'total_ordering',\n",
       " 'update_wrapper',\n",
       " 'wraps']"
      ]
     },
     "execution_count": 112,
     "metadata": {},
     "output_type": "execute_result"
    }
   ],
   "source": [
    "# Import functools to use reduce\n",
    "import functools\n",
    "\n",
    "# See available functions in functools\n",
    "print(dir(functools))"
   ]
  },
  {
   "cell_type": "code",
   "execution_count": null,
   "id": "f551b7de-0b08-40e7-a886-5f1ce706688d",
   "metadata": {},
   "outputs": [],
   "source": [
    "# Syntax summary for map, filter, and reduce with lambda\n",
    "# map(lambda args: output, iterable)\n",
    "# filter(lambda args: condition, iterable)\n",
    "# functools.reduce(lambda args: output, iterable)"
   ]
  },
  {
   "cell_type": "code",
   "execution_count": null,
   "id": "64db4798-26cb-4a50-837d-4710665fffef",
   "metadata": {},
   "outputs": [],
   "source": [
    "# Import reduce directly from functools\n",
    "from functools import reduce  # reduce is available in functools"
   ]
  },
  {
   "cell_type": "code",
   "execution_count": null,
   "id": "9b2b0d83-a1ee-4c2f-a0d2-8c7f3e2195db",
   "metadata": {},
   "outputs": [
    {
     "data": {
      "text/plain": [
       "55"
      ]
     },
     "execution_count": 118,
     "metadata": {},
     "output_type": "execute_result"
    }
   ],
   "source": [
    "# Use reduce with lambda to sum a list\n",
    "numbers = [i for i in range(1, 11)]\n",
    "total_sum = reduce(lambda s, i: s + i, numbers)  # No need to initialize s=0\n",
    "print(total_sum)"
   ]
  },
  {
   "cell_type": "code",
   "execution_count": null,
   "id": "0f7ee343-73db-4896-99b8-77556b5c73c4",
   "metadata": {},
   "outputs": [],
   "source": []
  },
  {
   "cell_type": "markdown",
   "id": "4664578a-6800-42f1-9bc3-07baeb8e80dd",
   "metadata": {},
   "source": [
    "## Practice: Lambda Functions\n",
    "\n",
    "Let's practice writing lambda functions for various tasks, from basic to more advanced challenges."
   ]
  },
  {
   "cell_type": "markdown",
   "id": "0e63b754-8785-4fd7-9e40-f20ce62714c1",
   "metadata": {},
   "source": [
    "### Example: Double a Number\n",
    "\n",
    "Normally, if you want a function that doubles a number, you would write a function with `def`. But with lambda, you can do it in one line.\n",
    "\n",
    "**Challenge:** Write a lambda function that doubles a number and test it with 5."
   ]
  },
  {
   "cell_type": "code",
   "execution_count": null,
   "id": "064c679b-f4fe-41c2-932d-6debba2a02dd",
   "metadata": {},
   "outputs": [
    {
     "data": {
      "text/plain": [
       "10"
      ]
     },
     "execution_count": 11,
     "metadata": {},
     "output_type": "execute_result"
    }
   ],
   "source": [
    "# Lambda function to double a number\n",
    "double = lambda num: num * 2  # Syntax: func_name = lambda args: output\n",
    "double(5)"
   ]
  },
  {
   "cell_type": "markdown",
   "id": "a16c13af-735c-4047-8544-ef2943d73b52",
   "metadata": {},
   "source": [
    "### Challenge: Add 10 to a Number\n",
    "\n",
    "Write a lambda function that adds 10 to any number you pass in. Test it with 7."
   ]
  },
  {
   "cell_type": "code",
   "execution_count": null,
   "id": "f9d5dee2-ff46-4ba4-b70d-895cce069e27",
   "metadata": {},
   "outputs": [
    {
     "data": {
      "text/plain": [
       "17"
      ]
     },
     "execution_count": 23,
     "metadata": {},
     "output_type": "execute_result"
    }
   ],
   "source": [
    "# Lambda function to add 10 to a number\n",
    "add_ten = lambda num: num + 10\n",
    "add_ten(7)"
   ]
  },
  {
   "cell_type": "markdown",
   "id": "74664bb9-caa0-4e87-8b71-5d79d6b8f71d",
   "metadata": {},
   "source": [
    "### Challenge: Product of Three Numbers\n",
    "\n",
    "Write a lambda that takes three numbers and returns their product. Test it with 2, 3, 4."
   ]
  },
  {
   "cell_type": "code",
   "execution_count": null,
   "id": "5b14ce7e-8c46-4e97-82ae-b669b3766702",
   "metadata": {},
   "outputs": [
    {
     "data": {
      "text/plain": [
       "24"
      ]
     },
     "execution_count": 29,
     "metadata": {},
     "output_type": "execute_result"
    }
   ],
   "source": [
    "# Lambda function to multiply three numbers\n",
    "product_of_num = lambda x, y, z: x * y * z\n",
    "product_of_num(2, 3, 4)"
   ]
  },
  {
   "cell_type": "markdown",
   "id": "71a929b4-b080-45cf-81d2-db9b155c073b",
   "metadata": {},
   "source": [
    "### Challenge: Reverse a String\n",
    "\n",
    "Create a lambda that takes a string and returns it reversed.\n",
    "\n",
    "Example:\n",
    "- Input: \"hello\"\n",
    "- Output: \"olleh\""
   ]
  },
  {
   "cell_type": "code",
   "execution_count": null,
   "id": "1fb64bb3-3d42-4f0c-8185-33d3b21de4b5",
   "metadata": {},
   "outputs": [
    {
     "data": {
      "text/plain": [
       "'olleh'"
      ]
     },
     "execution_count": 36,
     "metadata": {},
     "output_type": "execute_result"
    }
   ],
   "source": [
    "# Lambda function to reverse a string\n",
    "reverse = lambda string: string[::-1]\n",
    "reverse('hello')"
   ]
  },
  {
   "cell_type": "markdown",
   "id": "d5aa2756-39ee-4948-bd98-bd0fe1b57c3b",
   "metadata": {},
   "source": [
    "## Basic Lambda Function Questions\n",
    "\n",
    "Let's solve some basic problems using lambda functions before moving to more complex challenges."
   ]
  },
  {
   "cell_type": "code",
   "execution_count": null,
   "id": "af80ab75-bfd1-4d00-b4f1-828bd14a0318",
   "metadata": {},
   "outputs": [
    {
     "data": {
      "text/plain": [
       "12"
      ]
     },
     "execution_count": 39,
     "metadata": {},
     "output_type": "execute_result"
    }
   ],
   "source": [
    "# Lambda function to add 5 to a given number\n",
    "add_five = lambda num: num + 5\n",
    "add_five(7)"
   ]
  },
  {
   "cell_type": "code",
   "execution_count": null,
   "id": "63d5d67a-a1e6-40b6-83d0-91f0165936c9",
   "metadata": {},
   "outputs": [
    {
     "data": {
      "text/plain": [
       "'even'"
      ]
     },
     "execution_count": 45,
     "metadata": {},
     "output_type": "execute_result"
    }
   ],
   "source": [
    "# Lambda function to check if a number is even or odd\n",
    "is_even = lambda num: 'even' if num % 2 == 0 else 'odd'\n",
    "is_even(2)"
   ]
  },
  {
   "cell_type": "code",
   "execution_count": null,
   "id": "34fc887d-d4a8-4369-bed3-9cd0174fa521",
   "metadata": {},
   "outputs": [
    {
     "data": {
      "text/plain": [
       "25"
      ]
     },
     "execution_count": 47,
     "metadata": {},
     "output_type": "execute_result"
    }
   ],
   "source": [
    "# Lambda function to find the square of a number\n",
    "square = lambda num: num * num\n",
    "square(5)"
   ]
  },
  {
   "cell_type": "code",
   "execution_count": null,
   "id": "144d8753-7b71-4367-8735-d695515caf2c",
   "metadata": {},
   "outputs": [
    {
     "data": {
      "text/plain": [
       "'n'"
      ]
     },
     "execution_count": 49,
     "metadata": {},
     "output_type": "execute_result"
    }
   ],
   "source": [
    "# Lambda function to return the last character of a string\n",
    "last_char = lambda s: s[-1]\n",
    "last_char('Python')"
   ]
  },
  {
   "cell_type": "code",
   "execution_count": null,
   "id": "f15de9b6-990a-441d-8b61-0222fbbace4e",
   "metadata": {},
   "outputs": [
    {
     "data": {
      "text/plain": [
       "'5 is Greater than 2'"
      ]
     },
     "execution_count": 53,
     "metadata": {},
     "output_type": "execute_result"
    }
   ],
   "source": [
    "# Lambda function to return which number is greater\n",
    "maximum = lambda num1, num2: f'{num1} is greater than {num2}' if num1 > num2 else f'{num2} is greater than {num1}'\n",
    "maximum(2, 5)"
   ]
  },
  {
   "cell_type": "markdown",
   "id": "3126b8ff-32c7-492a-9d7f-f70d7efd0469",
   "metadata": {},
   "source": [
    "## Intermediate Lambda Function Questions\n",
    "\n",
    "Now, let's move on to some intermediate-level problems using lambda functions."
   ]
  },
  {
   "cell_type": "code",
   "execution_count": null,
   "id": "f6e39bd0-0001-4931-99b0-8a2afbb545bc",
   "metadata": {},
   "outputs": [
    {
     "data": {
      "text/plain": [
       "<map at 0x21d6b835b70>"
      ]
     },
     "execution_count": 62,
     "metadata": {},
     "output_type": "execute_result"
    }
   ],
   "source": [
    "# Use map() with lambda to return the squares of numbers in a list\n",
    "num_list = [1, 2, 3, 4, 5]\n",
    "squares = list(map(lambda i: i ** 2, num_list))\n",
    "squares"
   ]
  },
  {
   "cell_type": "code",
   "execution_count": 64,
   "id": "3fd46a00-967f-46ca-bac1-f6157f133610",
   "metadata": {},
   "outputs": [
    {
     "data": {
      "text/plain": [
       "[1, 4, 9, 16, 25]"
      ]
     },
     "execution_count": 64,
     "metadata": {},
     "output_type": "execute_result"
    }
   ],
   "source": [
    "num_list=[1,2,3,4,5]\n",
    "\n",
    "squares=list(map(lambda i: i**2,num_list)) # We Have use the list to extract the data from the memory location where the output is stored\n",
    "squares"
   ]
  },
  {
   "cell_type": "code",
   "execution_count": null,
   "id": "d9afc1ee-8916-4cfa-b724-76f1f754830b",
   "metadata": {},
   "outputs": [
    {
     "data": {
      "text/plain": [
       "[1, 3, 5]"
      ]
     },
     "execution_count": 78,
     "metadata": {},
     "output_type": "execute_result"
    }
   ],
   "source": [
    "# Use filter() with lambda to return only odd numbers from a list\n",
    "odd_numbers = list(filter(lambda i: i % 2 != 0, num_list))\n",
    "odd_numbers"
   ]
  },
  {
   "cell_type": "code",
   "execution_count": null,
   "id": "7abccbf3-2227-41c8-91a3-b0b963fa2b92",
   "metadata": {},
   "outputs": [
    {
     "data": {
      "text/plain": [
       "15"
      ]
     },
     "execution_count": 90,
     "metadata": {},
     "output_type": "execute_result"
    }
   ],
   "source": [
    "# Use reduce() with lambda to calculate the sum of all numbers in a list\n",
    "from functools import reduce\n",
    "sum_of_list = reduce(lambda total, item: total + item, num_list)\n",
    "sum_of_list"
   ]
  },
  {
   "cell_type": "code",
   "execution_count": null,
   "id": "a2c484cd-8fd0-4d74-ba3d-3a0cac70eab7",
   "metadata": {},
   "outputs": [
    {
     "name": "stdout",
     "output_type": "stream",
     "text": [
      "[(3, 1), (1, 2), (5, 7)]\n"
     ]
    }
   ],
   "source": [
    "# Lambda function to sort a list of tuples by the second element\n",
    "nums_list = [(1, 2), (3, 1), (5, 7)]\n",
    "sort_by_second = lambda lst: sorted(lst, key=lambda i: i[1])\n",
    "sort_by_second(nums_list)"
   ]
  },
  {
   "cell_type": "code",
   "execution_count": null,
   "id": "55db2afe-4a38-4224-9dde-868ed35a09fe",
   "metadata": {},
   "outputs": [
    {
     "data": {
      "text/plain": [
       "['H', 'E', 'L', 'L', 'O', ' ', 'P', 'Y', 'T', 'H', 'O', 'N']"
      ]
     },
     "execution_count": 104,
     "metadata": {},
     "output_type": "execute_result"
    }
   ],
   "source": [
    "# Lambda function to capitalize each character in a string (not each word)\n",
    "word = 'Hello Python'\n",
    "caps = list(map(lambda i: i.upper(), word))\n",
    "caps"
   ]
  },
  {
   "cell_type": "code",
   "execution_count": null,
   "id": "7f0318bb-220c-4dca-b3c1-b3cfe4fd2fd9",
   "metadata": {},
   "outputs": [],
   "source": []
  }
 ],
 "metadata": {
  "kernelspec": {
   "display_name": "Python [conda env:base] *",
   "language": "python",
   "name": "conda-base-py"
  },
  "language_info": {
   "codemirror_mode": {
    "name": "ipython",
    "version": 3
   },
   "file_extension": ".py",
   "mimetype": "text/x-python",
   "name": "python",
   "nbconvert_exporter": "python",
   "pygments_lexer": "ipython3",
   "version": "3.12.7"
  }
 },
 "nbformat": 4,
 "nbformat_minor": 5
}
