{
 "cells": [
  {
   "cell_type": "markdown",
   "id": "3c1da379-69a8-465a-abad-9c16b023489c",
   "metadata": {},
   "source": [
    "# 🐍 Day 10: My Python Strings Learning Journey 📚\n",
    "\n",
    "This is my personal learning notebook where I explore and practice Python Strings! Here I document everything I learn from basic initialization to advanced string methods.\n",
    "\n",
    "## 📋 My Learning Progress\n",
    "\n",
    "✅ **String Initialization** - How I learned to create strings with different methods  \n",
    "✅ **Built-in Functions** - Essential functions that work with strings that I practiced  \n",
    "   - 🖨️ `print()` - Display strings  \n",
    "   - 🏷️ `type()` - Check data type  \n",
    "   - 📏 `len()` - Get string length  \n",
    "   - ⬇️ `min()` - Find smallest character  \n",
    "   - ⬆️ `max()` - Find largest character  \n",
    "   - ➕ `sum()` - Sum operations (special cases)  \n",
    "   - 🔤 `sorted()` - Sort characters  \n",
    "   - 🔄 `reversed()` - Reverse string  \n",
    "\n",
    "✅ **String Operations I Mastered**  \n",
    "   - 🔗 **Concatenation** - Joining strings  \n",
    "   - 📍 **Index Operations** - Accessing individual characters  \n",
    "   - 🔒 **Mutable vs Immutable** - Understanding string behavior  \n",
    "   - ✂️ **Slicing** - Extracting substrings  \n",
    "\n",
    "✅ **String Methods I Learned** - Built-in string functions for manipulation  \n",
    "\n",
    "---\n",
    "*💡 My Key Discovery: Strings are sequences of characters that are immutable in Python!*"
   ]
  },
  {
   "cell_type": "markdown",
   "id": "31156aca-02fb-4f3e-bf63-769d71f098a5",
   "metadata": {},
   "source": [
    "## 🚀 String Initialization\n",
    "\n",
    "**What are Strings?** 📝  \n",
    "Strings are sequences of characters enclosed in quotes. In Python, you can create strings using:\n",
    "- Single quotes `'text'`\n",
    "- Double quotes `\"text\"`\n",
    "- Triple quotes for multi-line strings `'''text'''` or `\"\"\"text\"\"\"`\n",
    "\n",
    "**Why different quote types?** 🤔  \n",
    "- Use different quotes when you need to include quotes inside the string\n",
    "- Flexibility in handling special characters"
   ]
  },
  {
   "cell_type": "code",
   "execution_count": 6,
   "id": "2868f47b-c37d-42f4-ae1c-5d27ce7bb763",
   "metadata": {},
   "outputs": [
    {
     "name": "stdout",
     "output_type": "stream",
     "text": [
      "✅ str1 = python\n"
     ]
    }
   ],
   "source": [
    "# 📝 Method 1: Single quotes\n",
    "str1 = 'python'\n",
    "print(f\"✅ str1 = {str1}\")  # Display the created string"
   ]
  },
  {
   "cell_type": "code",
   "execution_count": null,
   "id": "611a421a-5ffc-47d4-adf2-9eadf5ae1eb0",
   "metadata": {},
   "outputs": [],
   "source": [
    "# 📝 Method 2: Double quotes (same result as single quotes)\n",
    "str2 = \"python\"\n",
    "print(f\"✅ str2 = {str2}\")\n",
    "print(f\"🔍 Are str1 and str2 equal? {str1 == str2}\")  # Both create identical strings"
   ]
  },
  {
   "cell_type": "code",
   "execution_count": null,
   "id": "0ab20958-8091-4df8-b284-e0a0001002d7",
   "metadata": {},
   "outputs": [
    {
     "data": {
      "text/plain": [
       "'I like Python'"
      ]
     },
     "execution_count": 10,
     "metadata": {},
     "output_type": "execute_result"
    }
   ],
   "source": [
    "# 📝 Method 3: String with spaces (very common in real applications)\n",
    "str3 = 'I like Python'\n",
    "print(f\"✅ str3 = '{str3}'\")\n",
    "print(f\"📏 Length of str3: {len(str3)} characters\")  # Spaces count as characters!"
   ]
  },
  {
   "cell_type": "code",
   "execution_count": null,
   "id": "69b6ac6d-19d3-43b7-bab2-bb088e810f01",
   "metadata": {},
   "outputs": [
    {
     "data": {
      "text/plain": [
       "'I like \"Python\"'"
      ]
     },
     "execution_count": 8,
     "metadata": {},
     "output_type": "execute_result"
    }
   ],
   "source": [
    "# 📝 Method 4: Using quotes inside strings (very useful!)\n",
    "str4 = 'I like \"Python\"'  # Single quotes outside, double quotes inside\n",
    "print(f\"✅ str4 = {str4}\")\n",
    "\n",
    "# 💡 Alternative ways to include quotes:\n",
    "str4_alt1 = \"I like 'Python'\"  # Double quotes outside, single quotes inside\n",
    "str4_alt2 = 'I like \\\"Python\\\"'  # Using escape character \\\"\n",
    "print(f\"🔄 Alternative 1: {str4_alt1}\")\n",
    "print(f\"🔄 Alternative 2: {str4_alt2}\")"
   ]
  },
  {
   "cell_type": "markdown",
   "id": "fcf9c012-6bae-4802-9c3c-4199a91c099f",
   "metadata": {},
   "source": [
    "## 🛠️ Built-in Functions for Strings\n",
    "\n",
    "These are universal Python functions that work with strings and other data types:\n",
    "\n",
    "**🎯 Learning Objective:** Understand how Python's built-in functions behave with strings vs other data types\n",
    "\n",
    "**📚 Functions we'll explore:**\n",
    "- `type()` - What kind of data is this?\n",
    "- `print()` - Display the string\n",
    "- `len()` - How many characters?\n",
    "- `min()` & `max()` - Smallest/largest character (ASCII values)\n",
    "- `sum()` - Can we sum strings? (Spoiler: No!)\n",
    "- `sorted()` - Arrange characters in order\n",
    "- `reversed()` - Flip the string backwards"
   ]
  },
  {
   "cell_type": "code",
   "execution_count": 2,
   "id": "9dbf02fb-a239-4b0c-9de7-689defdabc6d",
   "metadata": {},
   "outputs": [
    {
     "name": "stdout",
     "output_type": "stream",
     "text": [
      "🔍 Testing built-in functions:\n",
      "📋 type(str1): <class 'str'>\n",
      "🖨️ print(str1): python\n",
      "📏 len(str1): 6\n",
      "⬇️ min(str1): h\n",
      "⬆️ max(str1): y\n",
      "❌ sum(str1) Error: unsupported operand type(s) for +: 'int' and 'str'\n",
      "🔤 sorted(str1): ['h', 'n', 'o', 'p', 't', 'y']\n",
      "🔄 reversed(str1): ['n', 'o', 'h', 't', 'y', 'p']\n"
     ]
    }
   ],
   "source": [
    "# 🧪 Let's test all built-in functions with our string\n",
    "str1 = 'python'\n",
    "\n",
    "print(\"🔍 Testing built-in functions:\")\n",
    "print(f\"📋 type(str1): {type(str1)}\")  # <class 'str'>\n",
    "print(f\"🖨️ print(str1): {str1}\")       # python\n",
    "print(f\"📏 len(str1): {len(str1)}\")     # 6 characters\n",
    "\n",
    "# 🚨 Note: Some functions need actual arguments!\n",
    "print(f\"⬇️ min(str1): {min(str1)}\")     # 'h' (smallest ASCII value)\n",
    "print(f\"⬆️ max(str1): {max(str1)}\")     # 'y' (largest ASCII value)\n",
    "\n",
    "# ❌ sum() doesn't work with strings - let's see why:\n",
    "try:\n",
    "    print(f\"➕ sum(str1): {sum(str1)}\")\n",
    "except TypeError as e:\n",
    "    print(f\"❌ sum(str1) Error: {e}\")\n",
    "\n",
    "print(f\"🔤 sorted(str1): {sorted(str1)}\")           # List of sorted characters\n",
    "print(f\"🔄 reversed(str1): {list(reversed(str1))}\") # List of reversed characters"
   ]
  },
  {
   "cell_type": "code",
   "execution_count": null,
   "id": "f05d7916-c183-4198-93c9-0bb936300ea9",
   "metadata": {},
   "outputs": [],
   "source": [
    "# 🆚 Comparing strings vs numbers: How do built-in functions behave differently?\n",
    "str1 = 'python'        # String data\n",
    "numbers = [1, 2, 3, 4, 6, 5, 4, 2]  # List of numbers\n",
    "\n",
    "print(\"📝 Our test data:\")\n",
    "print(f\"String: {str1}\")\n",
    "print(f\"Numbers: {numbers}\")"
   ]
  },
  {
   "cell_type": "code",
   "execution_count": null,
   "id": "78110b36-c228-4686-9f9a-6a1f5fd220c9",
   "metadata": {},
   "outputs": [
    {
     "name": "stdout",
     "output_type": "stream",
     "text": [
      "<class 'str'> <class 'list'>\n"
     ]
    }
   ],
   "source": [
    "# 🏷️ type() - Checking data types\n",
    "print(\"🔍 Data type comparison:\")\n",
    "print(f\"type(str1): {type(str1)}\")      # <class 'str'>\n",
    "print(f\"type(numbers): {type(numbers)}\")  # <class 'list'>\n",
    "\n",
    "# 💡 Key Learning: Python knows the difference between text and numbers!"
   ]
  },
  {
   "cell_type": "code",
   "execution_count": null,
   "id": "e9657e3c-d640-4cbc-a52c-ced3b9eba9c1",
   "metadata": {},
   "outputs": [
    {
     "name": "stdout",
     "output_type": "stream",
     "text": [
      "python : [1, 2, 3, 4, 6, 5, 4, 2]\n"
     ]
    }
   ],
   "source": [
    "# 🖨️ print() with f-strings - Modern Python formatting\n",
    "print(f\"📝 String: '{str1}' | 📊 Numbers: {numbers}\")\n",
    "\n",
    "# 💡 f-strings (f\"...\") are the modern way to format strings in Python!\n",
    "# Alternative ways:\n",
    "print(\"📝 String: '{}' | 📊 Numbers: {}\".format(str1, numbers))  # .format() method\n",
    "print(\"📝 String: '\" + str1 + \"' | 📊 Numbers: \" + str(numbers))  # String concatenation"
   ]
  },
  {
   "cell_type": "code",
   "execution_count": null,
   "id": "287c8dca-aa9e-4b46-affc-e5c10040c19e",
   "metadata": {},
   "outputs": [
    {
     "name": "stdout",
     "output_type": "stream",
     "text": [
      "6 8\n"
     ]
    }
   ],
   "source": [
    "# 📏 len() - Measuring length\n",
    "print(\"📏 Length comparison:\")\n",
    "print(f\"Length of string '{str1}': {len(str1)} characters\")\n",
    "print(f\"Length of numbers list: {len(numbers)} elements\")\n",
    "\n",
    "# 💡 Key Learning: len() counts characters in strings, elements in lists!"
   ]
  },
  {
   "cell_type": "code",
   "execution_count": null,
   "id": "abad0ec5-e191-4f04-af43-aca74c2917d5",
   "metadata": {},
   "outputs": [
    {
     "data": {
      "text/plain": [
       "1"
      ]
     },
     "execution_count": 25,
     "metadata": {},
     "output_type": "execute_result"
    }
   ],
   "source": [
    "# ⬇️ min() with numbers - finds smallest number\n",
    "result = min(numbers)\n",
    "print(f\"⬇️ Smallest number in {numbers}: {result}\")\n",
    "\n",
    "# 💡 min() compares numerical values for numbers"
   ]
  },
  {
   "cell_type": "code",
   "execution_count": null,
   "id": "c5b8c93a-b367-407a-b2d1-ec2d28b9180f",
   "metadata": {},
   "outputs": [
    {
     "data": {
      "text/plain": [
       "6"
      ]
     },
     "execution_count": 27,
     "metadata": {},
     "output_type": "execute_result"
    }
   ],
   "source": [
    "# ⬆️ max() with numbers - finds largest number\n",
    "result = max(numbers)\n",
    "print(f\"⬆️ Largest number in {numbers}: {result}\")\n",
    "\n",
    "# 💡 max() compares numerical values for numbers"
   ]
  },
  {
   "cell_type": "code",
   "execution_count": null,
   "id": "55710c8c-5846-4801-863d-c1ab7777d0ea",
   "metadata": {},
   "outputs": [
    {
     "data": {
      "text/plain": [
       "27"
      ]
     },
     "execution_count": 29,
     "metadata": {},
     "output_type": "execute_result"
    }
   ],
   "source": [
    "# ➕ sum() with numbers - adds all numbers together\n",
    "result = sum(numbers)\n",
    "print(f\"➕ Sum of all numbers {numbers}: {result}\")\n",
    "\n",
    "# 🧮 Calculation: 1+2+3+4+6+5+4+2 = {result}\n",
    "print(f\"🧮 Manual calculation: 1+2+3+4+6+5+4+2 = {1+2+3+4+6+5+4+2}\")"
   ]
  },
  {
   "cell_type": "code",
   "execution_count": null,
   "id": "c4a3e26b-0f20-48fa-8764-d17965fbe0db",
   "metadata": {},
   "outputs": [
    {
     "data": {
      "text/plain": [
       "[1, 2, 2, 3, 4, 4, 5, 6]"
      ]
     },
     "execution_count": 31,
     "metadata": {},
     "output_type": "execute_result"
    }
   ],
   "source": [
    "# 🔤 sorted() with numbers - arranges in ascending order\n",
    "result = sorted(numbers)\n",
    "print(f\"🔢 Original: {numbers}\")\n",
    "print(f\"📈 Sorted (ascending): {result}\")\n",
    "\n",
    "# 💡 sorted() creates a NEW list, doesn't change the original!"
   ]
  },
  {
   "cell_type": "code",
   "execution_count": null,
   "id": "b137b6bd-49e1-4f0e-bbc7-f9a4b5e6f3c9",
   "metadata": {},
   "outputs": [
    {
     "data": {
      "text/plain": [
       "['h', 'n', 'o', 'p', 't', 'y']"
      ]
     },
     "execution_count": 33,
     "metadata": {},
     "output_type": "execute_result"
    }
   ],
   "source": [
    "# 🔤 sorted() with strings - arranges characters alphabetically\n",
    "result = sorted(str1)\n",
    "print(f\"📝 Original string: '{str1}'\")\n",
    "print(f\"🔤 Sorted characters: {result}\")\n",
    "\n",
    "# 💡 sorted() breaks the string into individual characters and sorts them!\n",
    "# Notice it returns a LIST of characters, not a string"
   ]
  },
  {
   "cell_type": "code",
   "execution_count": null,
   "id": "e2dcedb2-bff9-4b0e-abf9-1fc5d59d3cdc",
   "metadata": {},
   "outputs": [
    {
     "data": {
      "text/plain": [
       "'h'"
      ]
     },
     "execution_count": 35,
     "metadata": {},
     "output_type": "execute_result"
    }
   ],
   "source": [
    "# ⬇️ min() with strings - finds character with smallest ASCII value\n",
    "result = min(str1)\n",
    "print(f\"⬇️ Smallest character in '{str1}': '{result}'\")\n",
    "\n",
    "# 🧠 Why 'h'? ASCII values: p=112, y=121, t=116, h=104, o=111, n=110\n",
    "# 'h' has the smallest ASCII value (104)\n",
    "print(f\"🔢 ASCII value of '{result}': {ord(result)}\")"
   ]
  },
  {
   "cell_type": "code",
   "execution_count": null,
   "id": "3badf93f-b9d0-4969-917c-f97f1596947e",
   "metadata": {},
   "outputs": [
    {
     "data": {
      "text/plain": [
       "'y'"
      ]
     },
     "execution_count": 37,
     "metadata": {},
     "output_type": "execute_result"
    }
   ],
   "source": [
    "# ⬆️ max() with strings - finds character with largest ASCII value\n",
    "result = max(str1)\n",
    "print(f\"⬆️ Largest character in '{str1}': '{result}'\")\n",
    "\n",
    "# 🧠 Why 'y'? ASCII values: p=112, y=121, t=116, h=104, o=111, n=110\n",
    "# 'y' has the largest ASCII value (121)\n",
    "print(f\"🔢 ASCII value of '{result}': {ord(result)}\")\n",
    "\n",
    "# 💡 Fun fact: Lowercase letters have higher ASCII values than uppercase!"
   ]
  },
  {
   "cell_type": "code",
   "execution_count": null,
   "id": "f573f5c9-0afd-4509-917f-4a1d011ba700",
   "metadata": {},
   "outputs": [
    {
     "data": {
      "text/plain": [
       "<reversed at 0x222ff2eebc0>"
      ]
     },
     "execution_count": 39,
     "metadata": {},
     "output_type": "execute_result"
    }
   ],
   "source": [
    "# 🔄 reversed() with strings - creates a reverse iterator\n",
    "result = reversed(str1)\n",
    "print(f\"🔄 reversed('{str1}'): {result}\")\n",
    "print(f\"🔄 Type of result: {type(result)}\")\n",
    "\n",
    "# 💡 reversed() returns an iterator object, not the actual reversed string!\n",
    "# We need to convert it to see the result:\n",
    "print(f\"📝 Actual reversed string: {list(result)}\")\n",
    "\n",
    "# 🎯 Better way to reverse a string: use slicing!\n",
    "print(f\"✨ Using slicing: '{str1[::-1]}'\")"
   ]
  },
  {
   "cell_type": "markdown",
   "id": "46ef63a6-20d6-446a-8ee8-93fa9b2a1297",
   "metadata": {},
   "source": [
    "## 🔄 Understanding Iterables\n",
    "\n",
    "**What is an Iterable?** 🤔  \n",
    "An iterable is any Python object that can be looped through (iterated) one element at a time.\n",
    "\n",
    "**📚 Common Iterables in Python:**\n",
    "- 📝 **Strings** - iterate through characters\n",
    "- 📋 **Lists** - iterate through elements  \n",
    "- 📦 **Tuples** - iterate through elements\n",
    "- 🗂️ **Dictionaries** - iterate through keys/values\n",
    "\n",
    "**🎯 Why This Matters:**  \n",
    "Functions like `sorted()`, `reversed()`, `min()`, `max()` work with ANY iterable, not just strings!\n",
    "\n",
    "**💡 Key Concept:** When you apply these functions to strings, Python treats each character as a separate element."
   ]
  },
  {
   "cell_type": "code",
   "execution_count": 44,
   "id": "9e3cf05d-9910-4069-8983-b1bee49b09a7",
   "metadata": {},
   "outputs": [
    {
     "data": {
      "text/plain": [
       "['h', 'n', 'o', 'p', 't', 'y']"
      ]
     },
     "execution_count": 44,
     "metadata": {},
     "output_type": "execute_result"
    }
   ],
   "source": [
    "sorted('pyhton')"
   ]
  },
  {
   "cell_type": "code",
   "execution_count": 48,
   "id": "019cbec7-1ddc-47a3-8736-360e6d03fe82",
   "metadata": {},
   "outputs": [
    {
     "data": {
      "text/plain": [
       "['h', 'n', 'o', 'p', 't', 'y']"
      ]
     },
     "execution_count": 48,
     "metadata": {},
     "output_type": "execute_result"
    }
   ],
   "source": [
    "# Sorted('python')\n",
    "sorted('python',reverse=False)\n",
    "# ascending order"
   ]
  },
  {
   "cell_type": "code",
   "execution_count": 50,
   "id": "cc3f5969-c729-4ae4-819c-17bdaa12efe5",
   "metadata": {},
   "outputs": [
    {
     "data": {
      "text/plain": [
       "['y', 't', 'p', 'o', 'n', 'h']"
      ]
     },
     "execution_count": 50,
     "metadata": {},
     "output_type": "execute_result"
    }
   ],
   "source": [
    "sorted('python',reverse=True)\n",
    "# Descending order"
   ]
  },
  {
   "cell_type": "markdown",
   "id": "a3c7f2b3-f2e2-4bfa-846d-a94b41af5f37",
   "metadata": {},
   "source": [
    "**Reversed**\n",
    "\n",
    "- sequence means string list tuple dict"
   ]
  },
  {
   "cell_type": "code",
   "execution_count": 55,
   "id": "84746475-b7f6-4e1c-9cb4-33d8290a37f0",
   "metadata": {},
   "outputs": [
    {
     "data": {
      "text/plain": [
       "<reversed at 0x222ff4860b0>"
      ]
     },
     "execution_count": 55,
     "metadata": {},
     "output_type": "execute_result"
    }
   ],
   "source": [
    "reversed('python')\n",
    "# It is already reversed\n",
    "# answer located in the Memory"
   ]
  },
  {
   "cell_type": "code",
   "execution_count": 59,
   "id": "14466e9b-9d49-4199-add2-7671885d519c",
   "metadata": {},
   "outputs": [
    {
     "name": "stdout",
     "output_type": "stream",
     "text": [
      "n o h t y p "
     ]
    }
   ],
   "source": [
    "# Save the answer in one variable apply for loop\n",
    "\n",
    "variable=reversed('python')\n",
    "for i in variable:\n",
    "    print(i,end=' ')"
   ]
  },
  {
   "cell_type": "code",
   "execution_count": 65,
   "id": "41e87cf5-7399-44f5-84d0-1a27b648c05c",
   "metadata": {},
   "outputs": [
    {
     "data": {
      "text/plain": [
       "['n', 'o', 'h', 't', 'y', 'p']"
      ]
     },
     "execution_count": 65,
     "metadata": {},
     "output_type": "execute_result"
    }
   ],
   "source": [
    "# Easiest Way\n",
    "list(reversed('python'))"
   ]
  },
  {
   "cell_type": "code",
   "execution_count": 67,
   "id": "b6c8b7b7-81c1-4a69-84ec-de78f432959b",
   "metadata": {},
   "outputs": [
    {
     "data": {
      "text/plain": [
       "str"
      ]
     },
     "execution_count": 67,
     "metadata": {},
     "output_type": "execute_result"
    }
   ],
   "source": [
    "type('python')"
   ]
  },
  {
   "cell_type": "code",
   "execution_count": 69,
   "id": "ad234018-fbcc-45ee-9c91-b037faf688dc",
   "metadata": {},
   "outputs": [
    {
     "name": "stdout",
     "output_type": "stream",
     "text": [
      "python\n"
     ]
    }
   ],
   "source": [
    "print('python')"
   ]
  },
  {
   "cell_type": "code",
   "execution_count": 71,
   "id": "26e8e1a6-5c2d-49be-bafe-3d68e0256775",
   "metadata": {},
   "outputs": [
    {
     "data": {
      "text/plain": [
       "6"
      ]
     },
     "execution_count": 71,
     "metadata": {},
     "output_type": "execute_result"
    }
   ],
   "source": [
    "len('python')"
   ]
  },
  {
   "cell_type": "code",
   "execution_count": 75,
   "id": "60259f72-8415-4679-9bb1-1dddd4ba8aee",
   "metadata": {},
   "outputs": [
    {
     "data": {
      "text/plain": [
       "'h'"
      ]
     },
     "execution_count": 75,
     "metadata": {},
     "output_type": "execute_result"
    }
   ],
   "source": [
    "min('python')"
   ]
  },
  {
   "cell_type": "code",
   "execution_count": 77,
   "id": "7f290b20-8db5-43ca-b63d-35c6571bc373",
   "metadata": {},
   "outputs": [
    {
     "data": {
      "text/plain": [
       "'y'"
      ]
     },
     "execution_count": 77,
     "metadata": {},
     "output_type": "execute_result"
    }
   ],
   "source": [
    "max('python')"
   ]
  },
  {
   "cell_type": "code",
   "execution_count": 79,
   "id": "e49d0924-0f83-4638-87c8-050bbc577a4e",
   "metadata": {},
   "outputs": [
    {
     "ename": "TypeError",
     "evalue": "unsupported operand type(s) for +: 'int' and 'str'",
     "output_type": "error",
     "traceback": [
      "\u001b[1;31m---------------------------------------------------------------------------\u001b[0m",
      "\u001b[1;31mTypeError\u001b[0m                                 Traceback (most recent call last)",
      "Cell \u001b[1;32mIn[79], line 1\u001b[0m\n\u001b[1;32m----> 1\u001b[0m \u001b[38;5;28msum\u001b[39m(\u001b[38;5;124m'\u001b[39m\u001b[38;5;124mpython\u001b[39m\u001b[38;5;124m'\u001b[39m)\n",
      "\u001b[1;31mTypeError\u001b[0m: unsupported operand type(s) for +: 'int' and 'str'"
     ]
    }
   ],
   "source": [
    "sum('python')"
   ]
  },
  {
   "cell_type": "code",
   "execution_count": 81,
   "id": "a80b757c-ca58-445f-a301-32d941f28e56",
   "metadata": {},
   "outputs": [
    {
     "data": {
      "text/plain": [
       "['h', 'n', 'o', 'p', 't', 'y']"
      ]
     },
     "execution_count": 81,
     "metadata": {},
     "output_type": "execute_result"
    }
   ],
   "source": [
    "sorted('python')"
   ]
  },
  {
   "cell_type": "code",
   "execution_count": 83,
   "id": "ee914796-ac7f-42b1-ace1-d9f2f6766e87",
   "metadata": {},
   "outputs": [
    {
     "data": {
      "text/plain": [
       "<reversed at 0x222ff5e9150>"
      ]
     },
     "execution_count": 83,
     "metadata": {},
     "output_type": "execute_result"
    }
   ],
   "source": [
    "reversed('python')"
   ]
  },
  {
   "cell_type": "code",
   "execution_count": 85,
   "id": "da08150d-67f2-4e14-a4ee-7a6aa6f18984",
   "metadata": {},
   "outputs": [
    {
     "data": {
      "text/plain": [
       "['n', 'o', 'h', 't', 'y', 'p']"
      ]
     },
     "execution_count": 85,
     "metadata": {},
     "output_type": "execute_result"
    }
   ],
   "source": [
    "list(reversed('python'))"
   ]
  },
  {
   "cell_type": "markdown",
   "id": "f78e6d6f-ea00-422b-9a83-8f89bf6520ca",
   "metadata": {},
   "source": [
    "## 🔗 String Concatenation\n",
    "\n",
    "**What is Concatenation?** 🤝  \n",
    "Concatenation means joining two or more strings together to create a new string.\n",
    "\n",
    "**🛠️ String Operations Support:**\n",
    "- ✅ **Addition (+)** - Joins strings together\n",
    "- ✅ **Multiplication (*)** - Repeats strings\n",
    "- ❌ **Subtraction (-)** - NOT supported\n",
    "- ❌ **Division (/)** - NOT supported\n",
    "\n",
    "**💡 Why only + and *?**  \n",
    "Think of strings as building blocks - you can stick them together (+) or make copies (*), but you can't subtract or divide text!"
   ]
  },
  {
   "cell_type": "code",
   "execution_count": null,
   "id": "d9d55452-b08a-463c-b640-0ba1ab2c683d",
   "metadata": {},
   "outputs": [],
   "source": [
    "# 🧪 Setting up test strings for concatenation experiments\n",
    "str2 = 'hello'\n",
    "str3 = 'python'\n",
    "\n",
    "print(\"🎯 Our test strings:\")\n",
    "print(f\"str2 = '{str2}'\")\n",
    "print(f\"str3 = '{str3}'\")\n",
    "print(\"Let's try different operations...\")"
   ]
  },
  {
   "cell_type": "code",
   "execution_count": null,
   "id": "2e81c8b5-a327-44d6-9954-0d2151d8c6ee",
   "metadata": {},
   "outputs": [
    {
     "name": "stdout",
     "output_type": "stream",
     "text": [
      "hellopython\n"
     ]
    }
   ],
   "source": [
    "# ✅ Addition (+) - Concatenation WORKS!\n",
    "result = str2 + str3\n",
    "print(f\"✅ {str2} + {str3} = '{result}'\")\n",
    "\n",
    "# 🎨 Adding spaces for better readability:\n",
    "result_with_space = str2 + ' ' + str3\n",
    "print(f\"✨ With space: '{result_with_space}'\")\n",
    "\n",
    "# 💡 Tip: Strings joined together don't automatically add spaces!"
   ]
  },
  {
   "cell_type": "code",
   "execution_count": null,
   "id": "97a7a6f5-e3da-4bc4-b79c-d3b746017b5b",
   "metadata": {},
   "outputs": [
    {
     "ename": "TypeError",
     "evalue": "unsupported operand type(s) for -: 'str' and 'str'",
     "output_type": "error",
     "traceback": [
      "\u001b[1;31m---------------------------------------------------------------------------\u001b[0m",
      "\u001b[1;31mTypeError\u001b[0m                                 Traceback (most recent call last)",
      "Cell \u001b[1;32mIn[93], line 1\u001b[0m\n\u001b[1;32m----> 1\u001b[0m \u001b[38;5;28mprint\u001b[39m(str2\u001b[38;5;241m-\u001b[39mstr3)\n",
      "\u001b[1;31mTypeError\u001b[0m: unsupported operand type(s) for -: 'str' and 'str'"
     ]
    }
   ],
   "source": [
    "# ❌ Subtraction (-) - This will cause an ERROR!\n",
    "try:\n",
    "    result = str2 - str3\n",
    "    print(f\"❌ {str2} - {str3} = {result}\")\n",
    "except TypeError as e:\n",
    "    print(f\"❌ ERROR: {str2} - {str3}\")\n",
    "    print(f\"💥 {e}\")\n",
    "    print(\"🤔 Why? You can't 'subtract' text - what would that even mean?\")"
   ]
  },
  {
   "cell_type": "code",
   "execution_count": null,
   "id": "a6f95313-da0b-4cf6-9f84-3596a5927f45",
   "metadata": {},
   "outputs": [
    {
     "ename": "TypeError",
     "evalue": "can't multiply sequence by non-int of type 'str'",
     "output_type": "error",
     "traceback": [
      "\u001b[1;31m---------------------------------------------------------------------------\u001b[0m",
      "\u001b[1;31mTypeError\u001b[0m                                 Traceback (most recent call last)",
      "Cell \u001b[1;32mIn[95], line 1\u001b[0m\n\u001b[1;32m----> 1\u001b[0m \u001b[38;5;28mprint\u001b[39m(str2\u001b[38;5;241m*\u001b[39mstr3)\n",
      "\u001b[1;31mTypeError\u001b[0m: can't multiply sequence by non-int of type 'str'"
     ]
    }
   ],
   "source": [
    "# ❌ Multiplication with another string - This will cause an ERROR!\n",
    "try:\n",
    "    result = str2 * str3\n",
    "    print(f\"❌ {str2} * {str3} = {result}\")\n",
    "except TypeError as e:\n",
    "    print(f\"❌ ERROR: {str2} * {str3}\")\n",
    "    print(f\"💥 {e}\")\n",
    "    print(\"🤔 Why? You can only multiply strings by NUMBERS, not other strings!\")"
   ]
  },
  {
   "cell_type": "code",
   "execution_count": null,
   "id": "c8d5bfc0-de32-4157-b67b-e8ac23f05ba7",
   "metadata": {},
   "outputs": [
    {
     "ename": "TypeError",
     "evalue": "unsupported operand type(s) for /: 'str' and 'str'",
     "output_type": "error",
     "traceback": [
      "\u001b[1;31m---------------------------------------------------------------------------\u001b[0m",
      "\u001b[1;31mTypeError\u001b[0m                                 Traceback (most recent call last)",
      "Cell \u001b[1;32mIn[97], line 1\u001b[0m\n\u001b[1;32m----> 1\u001b[0m \u001b[38;5;28mprint\u001b[39m(str2\u001b[38;5;241m/\u001b[39mstr3)\n",
      "\u001b[1;31mTypeError\u001b[0m: unsupported operand type(s) for /: 'str' and 'str'"
     ]
    }
   ],
   "source": [
    "# ❌ Division (/) - This will cause an ERROR!\n",
    "try:\n",
    "    result = str2 / str3\n",
    "    print(f\"❌ {str2} / {str3} = {result}\")\n",
    "except TypeError as e:\n",
    "    print(f\"❌ ERROR: {str2} / {str3}\")\n",
    "    print(f\"💥 {e}\")\n",
    "    print(\"🤔 Why? You can't 'divide' text - division is a mathematical concept!\")"
   ]
  },
  {
   "cell_type": "code",
   "execution_count": null,
   "id": "7cb0b752-d4d9-447d-a199-38bd1a166b79",
   "metadata": {},
   "outputs": [],
   "source": [
    "# TypeError: unsupported operand type(s) for -: 'str' and 'str'   str2-str3\n",
    "# TypeError: unsupported operand type(s) for /: 'str' and 'str'   str2/str3\n",
    "\n",
    "# TypeError: can't multiply sequence by non-int of type 'str'     str2*str3"
   ]
  },
  {
   "cell_type": "code",
   "execution_count": null,
   "id": "9ee3b243-18b4-4497-ae56-daa45048c68b",
   "metadata": {},
   "outputs": [
    {
     "data": {
      "text/plain": [
       "'hellohellohellohellohello'"
      ]
     },
     "execution_count": 99,
     "metadata": {},
     "output_type": "execute_result"
    }
   ],
   "source": [
    "# ✅ Multiplication with NUMBER - This WORKS!\n",
    "result = str2 * 5\n",
    "print(f\"✅ '{str2}' * 5 = '{result}'\")\n",
    "\n",
    "# 🎯 Real-world use cases:\n",
    "separator = '-' * 30\n",
    "print(f\"📏 Creating separators: '{separator}'\")\n",
    "\n",
    "border = '*' * 20\n",
    "print(f\"🎨 Creating borders: '{border}'\")"
   ]
  },
  {
   "cell_type": "code",
   "execution_count": 101,
   "id": "57832f53-9799-4af8-9df1-1e6a5310eec5",
   "metadata": {},
   "outputs": [
    {
     "data": {
      "text/plain": [
       "'pythonpython'"
      ]
     },
     "execution_count": 101,
     "metadata": {},
     "output_type": "execute_result"
    }
   ],
   "source": [
    "'python'*2"
   ]
  },
  {
   "cell_type": "code",
   "execution_count": 103,
   "id": "4e5130f6-41f5-48c8-887e-d8e343d78c0f",
   "metadata": {},
   "outputs": [
    {
     "data": {
      "text/plain": [
       "'pythonpython'"
      ]
     },
     "execution_count": 103,
     "metadata": {},
     "output_type": "execute_result"
    }
   ],
   "source": [
    "'python'+'python'"
   ]
  },
  {
   "cell_type": "code",
   "execution_count": null,
   "id": "f74c44d0-5005-482f-8fe4-e58d685b005f",
   "metadata": {},
   "outputs": [],
   "source": [
    "+ and * is same ( Story relation )"
   ]
  },
  {
   "cell_type": "markdown",
   "id": "3872dd6b-fc33-422a-9395-adc41f34c846",
   "metadata": {},
   "source": [
    "## 📍 String Indexing - Accessing Individual Characters\n",
    "\n",
    "**What is Indexing?** 🎯  \n",
    "Indexing allows you to access individual characters in a string using their position number.\n",
    "\n",
    "**🔢 Two Types of Indexing:**\n",
    "- **Positive Indexing:** Starts from 0, goes left to right\n",
    "- **Negative Indexing:** Starts from -1, goes right to left\n",
    "\n",
    "**📝 Important Notes:**\n",
    "- `()` parentheses = function calls\n",
    "- `[]` square brackets = accessing elements/values\n",
    "- First character is at index 0, NOT 1!\n",
    "- Last character is at index -1\n",
    "\n",
    "**💡 Why Two Systems?**  \n",
    "- Positive: When you know position from the start\n",
    "- Negative: When you want position from the end (very useful!)"
   ]
  },
  {
   "cell_type": "code",
   "execution_count": null,
   "id": "c0500c7d-0c99-4768-9392-8f001dc86013",
   "metadata": {},
   "outputs": [],
   "source": [
    "# () indicates function call\n",
    "# [] access the elements and values"
   ]
  },
  {
   "cell_type": "code",
   "execution_count": null,
   "id": "5e8a0a3c-1d56-4c50-bbd6-def25e7150c5",
   "metadata": {},
   "outputs": [],
   "source": [
    "# 📊 Visual Index Map for 'python'\n",
    "print(\"🎯 String: 'python'\")\n",
    "print(\"📍 Negative: -6  -5  -4  -3  -2  -1\")\n",
    "print(\"📝 Letters:   p   y   t   h   o   n\")\n",
    "print(\"📍 Positive:  0   1   2   3   4   5\")\n",
    "print()\n",
    "print(\"💡 Remember: Negative indexing starts from -1 (last character)\")\n",
    "print(\"💡 Remember: Positive indexing starts from 0 (first character)\")"
   ]
  },
  {
   "cell_type": "code",
   "execution_count": 112,
   "id": "fb7c272a-ace9-40cb-8697-53f2e2dc7889",
   "metadata": {},
   "outputs": [
    {
     "data": {
      "text/plain": [
       "('p', 'y', 'y')"
      ]
     },
     "execution_count": 112,
     "metadata": {},
     "output_type": "execute_result"
    }
   ],
   "source": [
    "str1='python'\n",
    "str1[0],str1[1],str1[-5]"
   ]
  },
  {
   "cell_type": "code",
   "execution_count": 118,
   "id": "80126547-5931-4b7d-9316-6db8e66440e4",
   "metadata": {},
   "outputs": [
    {
     "name": "stdout",
     "output_type": "stream",
     "text": [
      "p\n",
      "y\n",
      "t\n",
      "h\n",
      "o\n",
      "n\n"
     ]
    }
   ],
   "source": [
    "print(str1[0])\n",
    "print(str1[1])\n",
    "print(str1[2])\n",
    "print(str1[3])\n",
    "print(str1[4])\n",
    "print(str1[5])"
   ]
  },
  {
   "cell_type": "code",
   "execution_count": 130,
   "id": "23613b3f-fa5e-49dd-8905-614aa862ca4e",
   "metadata": {},
   "outputs": [
    {
     "name": "stdout",
     "output_type": "stream",
     "text": [
      "p\n",
      "y\n",
      "t\n",
      "h\n",
      "o\n",
      "n\n"
     ]
    }
   ],
   "source": [
    "for i in range(6):\n",
    "    print(str1[i])"
   ]
  },
  {
   "cell_type": "code",
   "execution_count": 134,
   "id": "d8db58df-0825-4b09-aa32-cdd37b3027f8",
   "metadata": {},
   "outputs": [
    {
     "name": "stdout",
     "output_type": "stream",
     "text": [
      "p\n",
      "y\n",
      "t\n",
      "h\n",
      "o\n",
      "n\n",
      " \n",
      "h\n",
      "e\n",
      "l\n",
      "l\n",
      "o\n"
     ]
    }
   ],
   "source": [
    "str5='python hello'\n",
    "n=len(str5)\n",
    "\n",
    "for i in range(n):\n",
    "    print(str5[i])"
   ]
  },
  {
   "cell_type": "code",
   "execution_count": 136,
   "id": "47ffbb83-2f42-45c2-8332-5221b3ce7584",
   "metadata": {},
   "outputs": [
    {
     "name": "stdout",
     "output_type": "stream",
     "text": [
      "p y t h o n   h e l l o "
     ]
    }
   ],
   "source": [
    "for i in str5:\n",
    "    print(i,end=' ')"
   ]
  },
  {
   "cell_type": "code",
   "execution_count": null,
   "id": "3183d2b8-e542-4df0-a7e3-96c87500e10c",
   "metadata": {},
   "outputs": [],
   "source": [
    "i in range()  ===  i behave as number\n",
    "str5[i]\n",
    "i in str5     ===  i behave as element\n",
    "i"
   ]
  },
  {
   "cell_type": "markdown",
   "id": "559d436c-45e9-488e-b40e-de2126d0b6f1",
   "metadata": {},
   "source": [
    "# when to use\n",
    "- when we work with indexing then use range method\n",
    "- when you work without indexing use in method"
   ]
  },
  {
   "cell_type": "markdown",
   "id": "eabc2cc7-ee04-45a3-87be-488cc41f45ea",
   "metadata": {},
   "source": [
    "**Note**\n",
    "- when you have a use case with index then use range method access\n",
    "- when you hvae a use case without index then use in method access"
   ]
  },
  {
   "cell_type": "code",
   "execution_count": 156,
   "id": "d43df6a8-f1a3-48da-9337-80197c8ef264",
   "metadata": {},
   "outputs": [
    {
     "name": "stdout",
     "output_type": "stream",
     "text": [
      "1 5 9 "
     ]
    }
   ],
   "source": [
    "# Example Program\n",
    "# Q1) wap asks the user get a indexes of 'a' from given string\n",
    "# str1='hai hai hai'\n",
    "# ans: 1,5,9\n",
    "\n",
    "# idea:\n",
    "# step-1: iterate each letter\n",
    "# step-2: if str[i]=='a'\n",
    "# step-3: \n",
    "\n",
    "string='hai hai hai'\n",
    "n=len(string)\n",
    "\n",
    "for i in range(n):\n",
    "    #print(n-1,string[i],i)\n",
    "    if string[i]=='a':\n",
    "        print(i,end=' ')\n",
    "# step-1: i=0 if string[i]=='a'  'h'=='a' fails\n",
    "# step-2: i=1 if string[i]=='a'  'a'=='a' print(i) i==1"
   ]
  },
  {
   "cell_type": "code",
   "execution_count": 162,
   "id": "0f2b58a7-fee4-4a27-8d7e-62f25139b2a0",
   "metadata": {},
   "outputs": [
    {
     "name": "stdout",
     "output_type": "stream",
     "text": [
      "3\n"
     ]
    }
   ],
   "source": [
    "# Q2) wap ask the user how many 'a' are present\n",
    "# string='hai hai hai' ans=3\n",
    "\n",
    "count=0\n",
    "\n",
    "for i in range(n):\n",
    "    if string[i]=='a':\n",
    "        count+=1\n",
    "print(count)"
   ]
  },
  {
   "cell_type": "code",
   "execution_count": 164,
   "id": "bef2b700-461d-4b25-ae95-29db96d69532",
   "metadata": {},
   "outputs": [
    {
     "name": "stdout",
     "output_type": "stream",
     "text": [
      "3\n"
     ]
    }
   ],
   "source": [
    "count=0\n",
    "\n",
    "for i in string:\n",
    "    if i=='a':\n",
    "        count+=1\n",
    "print(count)"
   ]
  },
  {
   "cell_type": "code",
   "execution_count": 178,
   "id": "fa136cdd-413d-40b9-81b2-f18c84b5f064",
   "metadata": {},
   "outputs": [
    {
     "name": "stdout",
     "output_type": "stream",
     "text": [
      "e o a i o a e o u \n",
      "Count of Vowels : 9\n"
     ]
    }
   ],
   "source": [
    "# Q3) wap ask the user find the all vowels('a','e','i','o','u')\n",
    "# string='hello hai how are you'\n",
    "# all vowels and count also\n",
    "\n",
    "string='hello hai how are you'\n",
    "count=0\n",
    "\n",
    "for i in string:\n",
    "    if i in 'aeiou':\n",
    "        print(i,end=' ')\n",
    "        count+=1\n",
    "print()\n",
    "print(f\"Count of Vowels : {count}\")"
   ]
  },
  {
   "cell_type": "code",
   "execution_count": 180,
   "id": "cb98853e-f1c6-48fd-b21d-541f513ce49f",
   "metadata": {},
   "outputs": [
    {
     "name": "stdout",
     "output_type": "stream",
     "text": [
      "a a \n",
      "Count of Vowels : 2\n"
     ]
    }
   ],
   "source": [
    "# Q4) Update above code with\n",
    "# only one vowel\n",
    "\n",
    "string='hello hai how are you'\n",
    "count=0\n",
    "\n",
    "for i in string:\n",
    "    if i in 'a':\n",
    "        print(i,end=' ')\n",
    "        count+=1\n",
    "print()\n",
    "print(f\"Count of Vowels : {count}\")"
   ]
  },
  {
   "cell_type": "markdown",
   "id": "b9b229f7-2a2e-484d-ba2b-29c075213f32",
   "metadata": {},
   "source": [
    "**Empty String**"
   ]
  },
  {
   "cell_type": "code",
   "execution_count": 203,
   "id": "d17abb5a-b319-4d96-974f-5579c9d52115",
   "metadata": {},
   "outputs": [],
   "source": [
    "s=''"
   ]
  },
  {
   "cell_type": "code",
   "execution_count": 205,
   "id": "f2e8488e-bde5-43bb-8b6a-94eaec6b584d",
   "metadata": {},
   "outputs": [
    {
     "data": {
      "text/plain": [
       "'py'"
      ]
     },
     "execution_count": 205,
     "metadata": {},
     "output_type": "execute_result"
    }
   ],
   "source": [
    "s=s+'p'\n",
    "s=s+'y'\n",
    "s"
   ]
  },
  {
   "cell_type": "code",
   "execution_count": 207,
   "id": "4e1d1a33-56a0-45c0-9a5a-f3a228660219",
   "metadata": {},
   "outputs": [
    {
     "name": "stdout",
     "output_type": "stream",
     "text": [
      "python\n"
     ]
    }
   ],
   "source": [
    "string='python'\n",
    "s=''\n",
    "for i in string:\n",
    "    s+=i\n",
    "print(s)"
   ]
  },
  {
   "cell_type": "code",
   "execution_count": null,
   "id": "059192c6-9b35-4ef9-b937-737fc75ed6c6",
   "metadata": {},
   "outputs": [],
   "source": [
    "# Q5) reverse a String\n",
    "# str1='python'\n",
    "# s='nohtyp'\n",
    "\n",
    "# Q6) Remove the spaces in a string\n",
    "# string='hai how are you'\n",
    "# s='haihowareyou'\n",
    "\n",
    "# Q7) remove digits from string\n",
    "# string='hai123hello435'\n",
    "# s= 'haihello'\n",
    "\n",
    "# Q8) string='banana'\n",
    "# s='b@n@n@'\n"
   ]
  },
  {
   "cell_type": "markdown",
   "id": "de1c1a6f-476b-4762-bd96-d7c5e564e6f7",
   "metadata": {},
   "source": [
    "## 🔒 Mutable vs Immutable - A Critical Python Concept!\n",
    "\n",
    "**🎯 Key Learning Objective:** Understand why you can't change strings after creating them.\n",
    "\n",
    "**📚 Definitions:**\n",
    "- **🔒 Immutable:** Cannot be changed after creation (Strings, Numbers, Tuples)\n",
    "- **🔓 Mutable:** Can be changed after creation (Lists, Dictionaries, Sets)\n",
    "\n",
    "**💡 What This Means for Strings:**\n",
    "- ❌ You CANNOT change individual characters using indexing\n",
    "- ✅ You CAN create NEW strings from existing ones\n",
    "- 🧠 This is for memory efficiency and data safety\n",
    "\n",
    "**🤔 Why Immutable?**\n",
    "- **Performance:** Strings can be cached and reused\n",
    "- **Safety:** Prevents accidental data corruption\n",
    "- **Simplicity:** No need to worry about side effects\n",
    "\n",
    "**🎯 Real Impact:** When you \"modify\" a string, Python creates a completely new string!"
   ]
  },
  {
   "cell_type": "code",
   "execution_count": 3,
   "id": "2b67962c-3092-47da-9a74-ac749b899e1e",
   "metadata": {},
   "outputs": [
    {
     "name": "stdout",
     "output_type": "stream",
     "text": [
      "📝 Original string: 'welcome'\n",
      "📍 Character at index 2: 'l'\n",
      "\n",
      "🚨 Trying to change str1[2] = 'L'...\n",
      "❌ ERROR: 'str' object does not support item assignment\n",
      "💡 This proves strings are IMMUTABLE!\n",
      "🔧 Solution: Create a new string instead\n"
     ]
    }
   ],
   "source": [
    "# 🔒 Demonstrating String Immutability\n",
    "str1 = 'welcome'\n",
    "print(f\"📝 Original string: '{str1}'\")\n",
    "print(f\"📍 Character at index 2: '{str1[2]}'\")\n",
    "\n",
    "# 🚨 Attempting to change character 'l' to 'L' at index 2\n",
    "print(\"\\n🚨 Trying to change str1[2] = 'L'...\")\n",
    "\n",
    "try:\n",
    "    str1[2] = 'L'  # This will FAIL!\n",
    "    print(\"✅ Success!\")\n",
    "except TypeError as e:\n",
    "    print(f\"❌ ERROR: {e}\")\n",
    "    print(\"💡 This proves strings are IMMUTABLE!\")\n",
    "    print(\"🔧 Solution: Create a new string instead\")"
   ]
  },
  {
   "cell_type": "code",
   "execution_count": null,
   "id": "c7783a6c-7f2e-49fc-966a-b2f2d1f83856",
   "metadata": {},
   "outputs": [
    {
     "data": {
      "text/plain": [
       "[10, 20, 300, 40]"
      ]
     },
     "execution_count": 9,
     "metadata": {},
     "output_type": "execute_result"
    }
   ],
   "source": [
    "# 🔓 Demonstrating List Mutability (for comparison)\n",
    "l = [10, 20, 30, 40]\n",
    "print(f\"📊 Original list: {l}\")\n",
    "print(f\"📍 Element at index 2: {l[2]}\")\n",
    "\n",
    "# ✅ Changing element at index 2 - This WORKS with lists!\n",
    "print(\"\\n✅ Changing l[2] = 300...\")\n",
    "l[2] = 300\n",
    "print(f\"📊 Modified list: {l}\")\n",
    "print(\"💡 This proves lists are MUTABLE!\")\n",
    "\n",
    "# 🎯 Summary: Strings = Immutable, Lists = Mutable"
   ]
  },
  {
   "cell_type": "markdown",
   "id": "eb550bb9-d591-45c1-b545-d308cd20dc0a",
   "metadata": {},
   "source": [
    "- initialization\n",
    "\n",
    "- inbuilt functions\n",
    "\n",
    "- Concate\n",
    "\n",
    "- indexing\n",
    "\n",
    "- mutable vs immutable"
   ]
  },
  {
   "cell_type": "markdown",
   "id": "db3653b1-b880-4ab1-a367-b383c1ce1d07",
   "metadata": {},
   "source": [
    "## ✂️ String Slicing - Extracting Substrings\n",
    "\n",
    "**What is Slicing?** 🎯  \n",
    "Slicing extracts a portion (substring) from a string using start and end positions.\n",
    "\n",
    "**📝 Syntax:** `string[start:end:step]`\n",
    "- **start:** Starting index (included)\n",
    "- **end:** Ending index (excluded)\n",
    "- **step:** How many characters to skip (default: 1)\n",
    "\n",
    "**🎯 Key Rules:**\n",
    "- **End index is NOT included** in the result\n",
    "- **Negative indices** work with slicing too\n",
    "- **Missing values** use defaults (start=0, end=len, step=1)\n",
    "- **Invalid indices** don't cause errors - Python handles gracefully\n",
    "\n",
    "**💡 Common Patterns:**\n",
    "- `[:]` → Full string\n",
    "- `[::-1]` → Reverse string  \n",
    "- `[::2]` → Every 2nd character"
   ]
  },
  {
   "cell_type": "code",
   "execution_count": 16,
   "id": "11926174-df5f-49f5-a5a6-8245ced4e3c0",
   "metadata": {},
   "outputs": [
    {
     "data": {
      "text/plain": [
       "15"
      ]
     },
     "execution_count": 16,
     "metadata": {},
     "output_type": "execute_result"
    }
   ],
   "source": [
    "str1='hai how are you'\n",
    "len(str1)"
   ]
  },
  {
   "cell_type": "code",
   "execution_count": null,
   "id": "3ac24c63-05d1-412d-9f30-009c0a9ac2fc",
   "metadata": {},
   "outputs": [],
   "source": [
    "#  -14  -13 -12 -11  -10  -9   -8   -7   -6    -5    -4    -3     -2    -1     0\n",
    "\n",
    "#   h    a   i        h    o    w         a     r     e            y     o     u\n",
    "\n",
    "#   0    1   2   3    4    5    6    7    8    9     10    11     12    13    14"
   ]
  },
  {
   "cell_type": "code",
   "execution_count": null,
   "id": "9542c609-627e-4397-bea3-b8734ade186c",
   "metadata": {},
   "outputs": [],
   "source": [
    "#  h    a    i       h    o    w       a    r    e        y    o     u\n",
    "#  0    1    2   3   4    5    6   7   8    9    0   11   12   13    14  (Positive Indexing)\n",
    "# -15 -14  -13 -12  -11  -10  -9  -8  -7   -6   -5  -4   -3   -2    -1  (Negative Indexing)"
   ]
  },
  {
   "cell_type": "code",
   "execution_count": null,
   "id": "cd72f85c-1d68-433d-ba10-7c2f02601be0",
   "metadata": {},
   "outputs": [],
   "source": [
    "str1[start,end,step]"
   ]
  },
  {
   "cell_type": "code",
   "execution_count": 20,
   "id": "db03f796-6772-496d-8dbd-a79d43fd64ac",
   "metadata": {},
   "outputs": [
    {
     "data": {
      "text/plain": [
       "'i how are'"
      ]
     },
     "execution_count": 20,
     "metadata": {},
     "output_type": "execute_result"
    }
   ],
   "source": [
    "str1[2:-4]     # step=+1 positive direction"
   ]
  },
  {
   "cell_type": "code",
   "execution_count": 22,
   "id": "7e891424-9929-4ebc-96aa-21725738e23f",
   "metadata": {},
   "outputs": [
    {
     "data": {
      "text/plain": [
       "'ihwaey'"
      ]
     },
     "execution_count": 22,
     "metadata": {},
     "output_type": "execute_result"
    }
   ],
   "source": [
    "str1[2:-2:2]"
   ]
  },
  {
   "cell_type": "code",
   "execution_count": 24,
   "id": "2128bb1d-7e3d-454c-84a7-9a93a35f1f8e",
   "metadata": {},
   "outputs": [
    {
     "data": {
      "text/plain": [
       "'a o r '"
      ]
     },
     "execution_count": 24,
     "metadata": {},
     "output_type": "execute_result"
    }
   ],
   "source": [
    "str1[1:-3:2]"
   ]
  },
  {
   "cell_type": "code",
   "execution_count": 26,
   "id": "07456d48-d7eb-402b-a642-910712e11ab7",
   "metadata": {},
   "outputs": [
    {
     "data": {
      "text/plain": [
       "'i how are you'"
      ]
     },
     "execution_count": 26,
     "metadata": {},
     "output_type": "execute_result"
    }
   ],
   "source": [
    "str1[2:100]    # Important Questions"
   ]
  },
  {
   "cell_type": "code",
   "execution_count": 28,
   "id": "d169811c-8e06-42e2-b2a0-ae1d986eed9a",
   "metadata": {},
   "outputs": [
    {
     "data": {
      "text/plain": [
       "'hai how are you'"
      ]
     },
     "execution_count": 28,
     "metadata": {},
     "output_type": "execute_result"
    }
   ],
   "source": [
    "str1[:]     #  Full String will come"
   ]
  },
  {
   "cell_type": "code",
   "execution_count": 30,
   "id": "665ab251-6a01-46f0-97e1-f88b8efe6aab",
   "metadata": {},
   "outputs": [
    {
     "data": {
      "text/plain": [
       "'hai how are you'"
      ]
     },
     "execution_count": 30,
     "metadata": {},
     "output_type": "execute_result"
    }
   ],
   "source": [
    "str1[::]     # Same Print the String"
   ]
  },
  {
   "cell_type": "code",
   "execution_count": 34,
   "id": "07279aef-04b6-4984-9056-44adc17bb7ac",
   "metadata": {},
   "outputs": [
    {
     "data": {
      "text/plain": [
       "'uoy era woh iah'"
      ]
     },
     "execution_count": 34,
     "metadata": {},
     "output_type": "execute_result"
    }
   ],
   "source": [
    "str1[::-1]   # Reverse the String"
   ]
  },
  {
   "cell_type": "code",
   "execution_count": 36,
   "id": "b9d13bd0-5351-4a65-b168-8b62337fb08a",
   "metadata": {},
   "outputs": [
    {
     "data": {
      "text/plain": [
       "''"
      ]
     },
     "execution_count": 36,
     "metadata": {},
     "output_type": "execute_result"
    }
   ],
   "source": [
    "str1[-2:-2:-1]"
   ]
  },
  {
   "cell_type": "markdown",
   "id": "d8ddaa36-5001-40ad-9e0f-0875f00bf941",
   "metadata": {},
   "source": [
    "**Part - 1 Completed**\n",
    "\n",
    "- initialization\n",
    "\n",
    "- inbuilt functions\n",
    "\n",
    "- Concate\n",
    "\n",
    "- indexing\n",
    "\n",
    "- mutable vs immutable\n",
    "\n",
    "- Slicing"
   ]
  },
  {
   "cell_type": "markdown",
   "id": "fae2a112-7dc8-4203-a306-01cd9e4158cf",
   "metadata": {},
   "source": [
    "## 🛠️ String Methods - Powerful Built-in Functions\n",
    "\n",
    "**What are String Methods?** 🎯  \n",
    "Methods are special functions that belong to string objects. They perform operations like changing case, finding text, replacing content, etc.\n",
    "\n",
    "**📝 Method Syntax:** `string.method_name(parameters)`\n",
    "\n",
    "**🎯 Key Difference:**\n",
    "- **Functions:** `len(string)`, `print(string)` - function comes first\n",
    "- **Methods:** `string.upper()`, `string.find()` - string comes first\n",
    "\n",
    "**📚 Categories We'll Learn:**\n",
    "- 🔤 **Case Methods:** upper(), lower(), title(), capitalize()\n",
    "- 🔍 **Search Methods:** find(), index(), count()\n",
    "- ✂️ **Modify Methods:** replace(), strip(), split()\n",
    "- ✅ **Test Methods:** startswith(), endswith()\n",
    "\n",
    "**💡 Important:** String methods return NEW strings (remember: strings are immutable!)"
   ]
  },
  {
   "cell_type": "code",
   "execution_count": null,
   "id": "6a6727aa-ce7c-40c9-bf1f-e9e3be668560",
   "metadata": {},
   "outputs": [],
   "source": [
    "str\n",
    "list\n",
    "tuple\n",
    "dict\n"
   ]
  },
  {
   "cell_type": "code",
   "execution_count": null,
   "id": "a65dc969-ecde-42a5-8d10-9dac40585119",
   "metadata": {},
   "outputs": [
    {
     "data": {
      "text/plain": [
       "['__add__',\n",
       " '__class__',\n",
       " '__contains__',\n",
       " '__delattr__',\n",
       " '__dir__',\n",
       " '__doc__',\n",
       " '__eq__',\n",
       " '__format__',\n",
       " '__ge__',\n",
       " '__getattribute__',\n",
       " '__getitem__',\n",
       " '__getnewargs__',\n",
       " '__getstate__',\n",
       " '__gt__',\n",
       " '__hash__',\n",
       " '__init__',\n",
       " '__init_subclass__',\n",
       " '__iter__',\n",
       " '__le__',\n",
       " '__len__',\n",
       " '__lt__',\n",
       " '__mod__',\n",
       " '__mul__',\n",
       " '__ne__',\n",
       " '__new__',\n",
       " '__reduce__',\n",
       " '__reduce_ex__',\n",
       " '__repr__',\n",
       " '__rmod__',\n",
       " '__rmul__',\n",
       " '__setattr__',\n",
       " '__sizeof__',\n",
       " '__str__',\n",
       " '__subclasshook__',\n",
       " 'capitalize',\n",
       " 'casefold',\n",
       " 'center',\n",
       " 'count',\n",
       " 'encode',\n",
       " 'endswith',\n",
       " 'expandtabs',\n",
       " 'find',\n",
       " 'format',\n",
       " 'format_map',\n",
       " 'index',\n",
       " 'isalnum',\n",
       " 'isalpha',\n",
       " 'isascii',\n",
       " 'isdecimal',\n",
       " 'isdigit',\n",
       " 'isidentifier',\n",
       " 'islower',\n",
       " 'isnumeric',\n",
       " 'isprintable',\n",
       " 'isspace',\n",
       " 'istitle',\n",
       " 'isupper',\n",
       " 'join',\n",
       " 'ljust',\n",
       " 'lower',\n",
       " 'lstrip',\n",
       " 'maketrans',\n",
       " 'partition',\n",
       " 'removeprefix',\n",
       " 'removesuffix',\n",
       " 'replace',\n",
       " 'rfind',\n",
       " 'rindex',\n",
       " 'rjust',\n",
       " 'rpartition',\n",
       " 'rsplit',\n",
       " 'rstrip',\n",
       " 'split',\n",
       " 'splitlines',\n",
       " 'startswith',\n",
       " 'strip',\n",
       " 'swapcase',\n",
       " 'title',\n",
       " 'translate',\n",
       " 'upper',\n",
       " 'zfill']"
      ]
     },
     "execution_count": 43,
     "metadata": {},
     "output_type": "execute_result"
    }
   ],
   "source": [
    "# 🔍 Exploring Available String Methods using dir()\n",
    "str1 = 'Anand'\n",
    "\n",
    "print(\"🛠️ All available string methods:\")\n",
    "methods = dir(str1)\n",
    "print(f\"📊 Total methods available: {len(methods)}\")\n",
    "\n",
    "# 🎯 Let's see just the public methods (without underscores)\n",
    "public_methods = [method for method in methods if not method.startswith('_')]\n",
    "print(f\"📋 Public methods ({len(public_methods)}):\")\n",
    "for i, method in enumerate(public_methods, 1):\n",
    "    print(f\"{i:2d}. {method}\")\n",
    "\n",
    "# 💡 dir() is great for discovering what you can do with any object!"
   ]
  },
  {
   "cell_type": "code",
   "execution_count": 45,
   "id": "562f2855-0ec9-4e6b-9a45-69d37c6dbc65",
   "metadata": {},
   "outputs": [
    {
     "data": {
      "text/plain": [
       "'WELCOME'"
      ]
     },
     "execution_count": 45,
     "metadata": {},
     "output_type": "execute_result"
    }
   ],
   "source": [
    "str1='welcome'\n",
    "str1.upper()"
   ]
  },
  {
   "cell_type": "code",
   "execution_count": null,
   "id": "cea0d607-eba3-4a13-9f7a-13cfbcef8073",
   "metadata": {},
   "outputs": [],
   "source": [
    "upper(str1)   # ❌\n",
    "type(str1)    # ✅\n",
    "print(str1)   # ✅"
   ]
  },
  {
   "cell_type": "code",
   "execution_count": 22,
   "id": "0e509b7c-0b3d-472e-8a0e-909da6ea51a8",
   "metadata": {},
   "outputs": [],
   "source": [
    "str2='Hai Hello world'"
   ]
  },
  {
   "cell_type": "code",
   "execution_count": 59,
   "id": "4e5a02cd-49aa-4f57-b488-a26c9530e1ce",
   "metadata": {},
   "outputs": [
    {
     "data": {
      "text/plain": [
       "'hai hello world'"
      ]
     },
     "execution_count": 59,
     "metadata": {},
     "output_type": "execute_result"
    }
   ],
   "source": [
    "str2.lower()"
   ]
  },
  {
   "cell_type": "code",
   "execution_count": 61,
   "id": "8fe091c3-95da-41e8-ba8b-33e145afe0ad",
   "metadata": {},
   "outputs": [
    {
     "data": {
      "text/plain": [
       "'HAI HELLO WORLD'"
      ]
     },
     "execution_count": 61,
     "metadata": {},
     "output_type": "execute_result"
    }
   ],
   "source": [
    "str2.upper()"
   ]
  },
  {
   "cell_type": "code",
   "execution_count": 63,
   "id": "2c5b5213-f5ad-484a-9af0-496d6d3bcb4e",
   "metadata": {},
   "outputs": [
    {
     "data": {
      "text/plain": [
       "'Hai Hello World'"
      ]
     },
     "execution_count": 63,
     "metadata": {},
     "output_type": "execute_result"
    }
   ],
   "source": [
    "str2.title()"
   ]
  },
  {
   "cell_type": "code",
   "execution_count": 65,
   "id": "9517a140-123e-4a87-9812-4b3d47264dd2",
   "metadata": {},
   "outputs": [
    {
     "data": {
      "text/plain": [
       "'hai hello world'"
      ]
     },
     "execution_count": 65,
     "metadata": {},
     "output_type": "execute_result"
    }
   ],
   "source": [
    "str2.casefold()"
   ]
  },
  {
   "cell_type": "code",
   "execution_count": 30,
   "id": "4a0b54e2-7c85-4b21-9ce0-bf279f9c2251",
   "metadata": {},
   "outputs": [
    {
     "data": {
      "text/plain": [
       "'**Hai Hello world***'"
      ]
     },
     "execution_count": 30,
     "metadata": {},
     "output_type": "execute_result"
    }
   ],
   "source": [
    "str2.center(20,'*')   # with should be greater then the actual string then the center applies"
   ]
  },
  {
   "cell_type": "code",
   "execution_count": 99,
   "id": "ac1fe679-4e93-4ae0-8fa4-0b9f25ddc320",
   "metadata": {},
   "outputs": [],
   "source": [
    "str3='hai how are you'"
   ]
  },
  {
   "cell_type": "code",
   "execution_count": 103,
   "id": "ad7bd276-811d-45c5-93f3-20c997ab4c1b",
   "metadata": {},
   "outputs": [
    {
     "data": {
      "text/plain": [
       "'Hai how are you'"
      ]
     },
     "execution_count": 103,
     "metadata": {},
     "output_type": "execute_result"
    }
   ],
   "source": [
    "str3.capitalize()"
   ]
  },
  {
   "cell_type": "code",
   "execution_count": 105,
   "id": "996e26b9-7d75-46b8-ac7d-7ea954b9e0bf",
   "metadata": {},
   "outputs": [
    {
     "data": {
      "text/plain": [
       "'Hai How Are You'"
      ]
     },
     "execution_count": 105,
     "metadata": {},
     "output_type": "execute_result"
    }
   ],
   "source": [
    "str3.title()"
   ]
  },
  {
   "cell_type": "code",
   "execution_count": 107,
   "id": "28ba0c69-bda0-4da4-834c-f39d66e8afec",
   "metadata": {},
   "outputs": [
    {
     "data": {
      "text/plain": [
       "'hai how are you'"
      ]
     },
     "execution_count": 107,
     "metadata": {},
     "output_type": "execute_result"
    }
   ],
   "source": [
    "str3.casefold()"
   ]
  },
  {
   "cell_type": "code",
   "execution_count": 115,
   "id": "9fbc40c9-3e57-4b2e-8fe9-3860fed6e502",
   "metadata": {},
   "outputs": [
    {
     "data": {
      "text/plain": [
       "'aahai how are youaaa'"
      ]
     },
     "execution_count": 115,
     "metadata": {},
     "output_type": "execute_result"
    }
   ],
   "source": [
    "str3.center(20,'a')    # here is the width to increase on both sides exclicit of the count and then fill with whatever you want"
   ]
  },
  {
   "cell_type": "markdown",
   "id": "75e47604-273c-4eb3-b6a5-8faff0774416",
   "metadata": {},
   "source": [
    "## 🔢 String Count Method - Finding Occurrences\n",
    "\n",
    "**What does count() do?** 🎯  \n",
    "The `count()` method counts how many times a substring appears in a string.\n",
    "\n",
    "**📝 Syntax:** `string.count(substring, start, end)`\n",
    "- **substring:** What to search for\n",
    "- **start:** Starting position (optional)\n",
    "- **end:** Ending position (optional)\n",
    "\n",
    "**💡 Why Use count()?**\n",
    "- ✅ Much simpler than writing loops\n",
    "- ✅ More efficient than manual counting\n",
    "- ✅ Works with single characters or whole words\n",
    "\n",
    "**🎯 Real-world Uses:**\n",
    "- Counting specific letters in names\n",
    "- Finding repeated words in text\n",
    "- Data validation and analysis"
   ]
  },
  {
   "cell_type": "code",
   "execution_count": 120,
   "id": "8812645d-b6f4-4718-9bb6-0bd027d7edbe",
   "metadata": {},
   "outputs": [
    {
     "name": "stdout",
     "output_type": "stream",
     "text": [
      "2\n"
     ]
    }
   ],
   "source": [
    "str1='hai hello are you'\n",
    "count=0\n",
    "\n",
    "for i  in str1:\n",
    "    if i=='a':\n",
    "        count+=1\n",
    "print(count)"
   ]
  },
  {
   "cell_type": "code",
   "execution_count": 122,
   "id": "b7dcc2a8-b404-4063-b661-c19eb1f89146",
   "metadata": {},
   "outputs": [
    {
     "data": {
      "text/plain": [
       "3"
      ]
     },
     "execution_count": 122,
     "metadata": {},
     "output_type": "execute_result"
    }
   ],
   "source": [
    "str1='ola ola ola ola'\n",
    "\n",
    "# str1(sub,start,end)\n",
    "str1.count('a',4)"
   ]
  },
  {
   "cell_type": "code",
   "execution_count": 124,
   "id": "db60e71f-eece-4a83-9ed1-d9266506963a",
   "metadata": {},
   "outputs": [
    {
     "data": {
      "text/plain": [
       "1"
      ]
     },
     "execution_count": 124,
     "metadata": {},
     "output_type": "execute_result"
    }
   ],
   "source": [
    "# str1(sub,start,end)\n",
    "str1.count('a',4,10)"
   ]
  },
  {
   "cell_type": "code",
   "execution_count": 128,
   "id": "1cb3679d-7875-4800-9226-263267e3d6a0",
   "metadata": {},
   "outputs": [
    {
     "data": {
      "text/plain": [
       "4"
      ]
     },
     "execution_count": 128,
     "metadata": {},
     "output_type": "execute_result"
    }
   ],
   "source": [
    "str1.count('a')"
   ]
  },
  {
   "cell_type": "code",
   "execution_count": 130,
   "id": "8740acb5-c7a2-4626-891f-246bd2b3762f",
   "metadata": {},
   "outputs": [
    {
     "data": {
      "text/plain": [
       "0"
      ]
     },
     "execution_count": 130,
     "metadata": {},
     "output_type": "execute_result"
    }
   ],
   "source": [
    "str1.count('z')"
   ]
  },
  {
   "cell_type": "code",
   "execution_count": 134,
   "id": "b007621f-ad88-49a1-8ece-682fd15170f7",
   "metadata": {},
   "outputs": [
    {
     "data": {
      "text/plain": [
       "2"
      ]
     },
     "execution_count": 134,
     "metadata": {},
     "output_type": "execute_result"
    }
   ],
   "source": [
    "str1.count('ola ola')"
   ]
  },
  {
   "cell_type": "code",
   "execution_count": 136,
   "id": "a8b44e0d-d5fb-48d6-bb28-996d7c4a4371",
   "metadata": {},
   "outputs": [
    {
     "data": {
      "text/plain": [
       "1"
      ]
     },
     "execution_count": 136,
     "metadata": {},
     "output_type": "execute_result"
    }
   ],
   "source": [
    "str1.count(str1)"
   ]
  },
  {
   "cell_type": "code",
   "execution_count": 138,
   "id": "888b5f10-9695-401f-ab81-9862da9635de",
   "metadata": {},
   "outputs": [
    {
     "data": {
      "text/plain": [
       "4"
      ]
     },
     "execution_count": 138,
     "metadata": {},
     "output_type": "execute_result"
    }
   ],
   "source": [
    "str1.count('ola')"
   ]
  },
  {
   "cell_type": "code",
   "execution_count": 180,
   "id": "4aed804a-ba9c-41d4-9548-0d5200bd4f44",
   "metadata": {},
   "outputs": [
    {
     "name": "stdout",
     "output_type": "stream",
     "text": [
      "4\n"
     ]
    }
   ],
   "source": [
    "# without using for loop\n",
    "\n",
    "count=0\n",
    "for i in range(len(str1)):\n",
    "    if str1[i:i+3]==str1[0:3]:  # we can also use 'ola'\n",
    "        count+=1\n",
    "print(count)"
   ]
  },
  {
   "cell_type": "code",
   "execution_count": 174,
   "id": "1eb34768-4fce-4846-8117-3384cdc4781b",
   "metadata": {},
   "outputs": [
    {
     "data": {
      "text/plain": [
       "'ol'"
      ]
     },
     "execution_count": 174,
     "metadata": {},
     "output_type": "execute_result"
    }
   ],
   "source": []
  },
  {
   "cell_type": "markdown",
   "id": "1f1dd358-0a06-4462-99b0-754853042165",
   "metadata": {},
   "source": [
    "**Slicing in List**"
   ]
  },
  {
   "cell_type": "code",
   "execution_count": 5,
   "id": "e97a11c7-1d11-4da3-b695-75a9a1a9ce46",
   "metadata": {},
   "outputs": [],
   "source": [
    "numbers=[20,10,30,40,50]"
   ]
  },
  {
   "cell_type": "code",
   "execution_count": null,
   "id": "d2b8c6c5-ad10-4167-8c52-270e5d7b1df0",
   "metadata": {},
   "outputs": [],
   "source": [
    "Positive:  0    1    2    3    4\n",
    "Numbers:  [20, 10,  30,  40,  50]\n",
    "Negative: -5   -4   -3   -2   -1"
   ]
  },
  {
   "cell_type": "code",
   "execution_count": 25,
   "id": "3dacdf22-77b0-4865-9fa2-f1186eda5a13",
   "metadata": {},
   "outputs": [
    {
     "data": {
      "text/plain": [
       "[20]"
      ]
     },
     "execution_count": 25,
     "metadata": {},
     "output_type": "execute_result"
    }
   ],
   "source": [
    "numbers[:-4:2]"
   ]
  },
  {
   "cell_type": "code",
   "execution_count": 31,
   "id": "a0cc16f3-1d37-4ccc-93af-f4c85d88ec78",
   "metadata": {},
   "outputs": [
    {
     "data": {
      "text/plain": [
       "[20, 10, 30, 40]"
      ]
     },
     "execution_count": 31,
     "metadata": {},
     "output_type": "execute_result"
    }
   ],
   "source": [
    "numbers[:-1:1]"
   ]
  },
  {
   "cell_type": "code",
   "execution_count": 9,
   "id": "8696444a-76b0-4953-b04a-91b211f0f58d",
   "metadata": {},
   "outputs": [
    {
     "data": {
      "text/plain": [
       "[10, 30]"
      ]
     },
     "execution_count": 9,
     "metadata": {},
     "output_type": "execute_result"
    }
   ],
   "source": [
    "numbers[1:3]  # index 1 to 2 except(3)"
   ]
  },
  {
   "cell_type": "code",
   "execution_count": 11,
   "id": "d723b6cd-d428-456a-856e-04e203406208",
   "metadata": {},
   "outputs": [
    {
     "data": {
      "text/plain": [
       "[10, 30, 40, 50]"
      ]
     },
     "execution_count": 11,
     "metadata": {},
     "output_type": "execute_result"
    }
   ],
   "source": [
    "numbers[1:]  # index 1 to end of list (Numbers)"
   ]
  },
  {
   "cell_type": "code",
   "execution_count": 13,
   "id": "678723bc-6883-407a-a9d5-6236c7840a77",
   "metadata": {},
   "outputs": [
    {
     "data": {
      "text/plain": [
       "[20, 10]"
      ]
     },
     "execution_count": 13,
     "metadata": {},
     "output_type": "execute_result"
    }
   ],
   "source": [
    "numbers[:2]   # index start at 0 end end at 1 -> 20,10"
   ]
  },
  {
   "cell_type": "code",
   "execution_count": 17,
   "id": "fec72b44-6003-4a82-b32c-a9f02bad72e0",
   "metadata": {},
   "outputs": [
    {
     "data": {
      "text/plain": [
       "[20, 10, 30, 40, 50]"
      ]
     },
     "execution_count": 17,
     "metadata": {},
     "output_type": "execute_result"
    }
   ],
   "source": [
    "numbers[:]    # Prints all the Values with defaults -> start-0 end-len(numbers)"
   ]
  },
  {
   "cell_type": "code",
   "execution_count": 21,
   "id": "4615b8a1-ca79-4602-8ebd-0b4b8ec59dcc",
   "metadata": {},
   "outputs": [
    {
     "data": {
      "text/plain": [
       "[10, 30, 40, 50]"
      ]
     },
     "execution_count": 21,
     "metadata": {},
     "output_type": "execute_result"
    }
   ],
   "source": [
    "numbers[-4:]  # index start at the -4 (10) and moves to end of list"
   ]
  },
  {
   "cell_type": "code",
   "execution_count": 23,
   "id": "bc16ca28-d528-4284-85ff-23444f54387d",
   "metadata": {},
   "outputs": [
    {
     "data": {
      "text/plain": [
       "[20]"
      ]
     },
     "execution_count": 23,
     "metadata": {},
     "output_type": "execute_result"
    }
   ],
   "source": [
    "numbers[:-4:2]"
   ]
  },
  {
   "cell_type": "code",
   "execution_count": 39,
   "id": "08d0f977-2b9a-48f3-b7dd-77c38029f486",
   "metadata": {},
   "outputs": [
    {
     "data": {
      "text/plain": [
       "[50, 40, 30, 10, 20]"
      ]
     },
     "execution_count": 39,
     "metadata": {},
     "output_type": "execute_result"
    }
   ],
   "source": [
    "numbers[::-1]"
   ]
  },
  {
   "cell_type": "code",
   "execution_count": 41,
   "id": "f9f3dab3-9cc8-496f-9856-ea98d89e75ff",
   "metadata": {},
   "outputs": [
    {
     "data": {
      "text/plain": [
       "[50, 30, 20]"
      ]
     },
     "execution_count": 41,
     "metadata": {},
     "output_type": "execute_result"
    }
   ],
   "source": [
    "numbers[::-2]"
   ]
  },
  {
   "cell_type": "code",
   "execution_count": 43,
   "id": "89ab8a98-5897-4e8e-b6c8-6acf849de2ee",
   "metadata": {},
   "outputs": [
    {
     "data": {
      "text/plain": [
       "[50, 10]"
      ]
     },
     "execution_count": 43,
     "metadata": {},
     "output_type": "execute_result"
    }
   ],
   "source": [
    "numbers[::-3]"
   ]
  },
  {
   "cell_type": "code",
   "execution_count": 47,
   "id": "3edf1e76-3290-49d8-84bb-c64610909c8d",
   "metadata": {},
   "outputs": [
    {
     "data": {
      "text/plain": [
       "[10]"
      ]
     },
     "execution_count": 47,
     "metadata": {},
     "output_type": "execute_result"
    }
   ],
   "source": [
    "numbers[1:-5:-2]"
   ]
  },
  {
   "cell_type": "markdown",
   "id": "c7c2d050-ed9c-4ab0-a4d9-762d6c426d1b",
   "metadata": {},
   "source": [
    "- UpperCase/LowerCase/casefold\n",
    "\n",
    "- center\n",
    "\n",
    "- capitalize/title\n",
    "\n",
    "- count"
   ]
  },
  {
   "cell_type": "markdown",
   "id": "ca9b36be-6890-4ee8-8f7e-e122a8791d78",
   "metadata": {},
   "source": [
    "**Strips**\n",
    "\n",
    "**lstrip-rstrip-strip**"
   ]
  },
  {
   "cell_type": "code",
   "execution_count": 64,
   "id": "9b682b3b-1190-48ea-bd92-4b0d6f02da91",
   "metadata": {},
   "outputs": [
    {
     "data": {
      "text/plain": [
       "('python', 'python  ', '  python')"
      ]
     },
     "execution_count": 64,
     "metadata": {},
     "output_type": "execute_result"
    }
   ],
   "source": [
    "str1='  python  '\n",
    "str1.strip(),str1.lstrip(),str1.rstrip()"
   ]
  },
  {
   "cell_type": "code",
   "execution_count": 62,
   "id": "19bd4988-06a4-4393-a4f0-6c62544699dc",
   "metadata": {},
   "outputs": [
    {
     "data": {
      "text/plain": [
       "('python', 'python**', '**python')"
      ]
     },
     "execution_count": 62,
     "metadata": {},
     "output_type": "execute_result"
    }
   ],
   "source": [
    "str1='**python**'\n",
    "str1.strip('*'),str1.lstrip('*'),str1.rstrip('*')"
   ]
  },
  {
   "cell_type": "code",
   "execution_count": 66,
   "id": "baab52f5-d115-48c3-ade2-fe5c83a8e790",
   "metadata": {},
   "outputs": [
    {
     "data": {
      "text/plain": [
       "'python'"
      ]
     },
     "execution_count": 66,
     "metadata": {},
     "output_type": "execute_result"
    }
   ],
   "source": [
    "str1='**@python@**'\n",
    "str1.strip('*@')"
   ]
  },
  {
   "cell_type": "code",
   "execution_count": 70,
   "id": "1c31b37e-2785-4814-8607-c39498c572b2",
   "metadata": {},
   "outputs": [
    {
     "data": {
      "text/plain": [
       "'python'"
      ]
     },
     "execution_count": 70,
     "metadata": {},
     "output_type": "execute_result"
    }
   ],
   "source": [
    "str1='**@python@%**'\n",
    "str1.strip('*@%')"
   ]
  },
  {
   "cell_type": "code",
   "execution_count": 72,
   "id": "9142de75-f553-4c93-b255-8f14e3e32aa1",
   "metadata": {},
   "outputs": [
    {
     "data": {
      "text/plain": [
       "'python'"
      ]
     },
     "execution_count": 72,
     "metadata": {},
     "output_type": "execute_result"
    }
   ],
   "source": [
    "str1='**@python@%**'\n",
    "str1.strip('%@*')"
   ]
  },
  {
   "cell_type": "markdown",
   "id": "baefe5f1-36c8-40b1-bea9-2ee7476edacd",
   "metadata": {},
   "source": [
    "**index Operator and Find Operator**"
   ]
  },
  {
   "cell_type": "code",
   "execution_count": 127,
   "id": "f84aeb6e-46eb-450a-9a17-d1508ce4d26f",
   "metadata": {},
   "outputs": [
    {
     "data": {
      "text/plain": [
       "2"
      ]
     },
     "execution_count": 127,
     "metadata": {},
     "output_type": "execute_result"
    }
   ],
   "source": [
    "str2='ola ola ola ola'\n",
    "# str2.index(sub.start,end)\n",
    "str2.index('a') #Return the lowest index in S where substring sub is found"
   ]
  },
  {
   "cell_type": "code",
   "execution_count": 135,
   "id": "ce341df3-3f4d-4b0b-b320-ab23eaaff626",
   "metadata": {},
   "outputs": [
    {
     "data": {
      "text/plain": [
       "2"
      ]
     },
     "execution_count": 135,
     "metadata": {},
     "output_type": "execute_result"
    }
   ],
   "source": [
    "str2.index('a',3)   # we are adding the 3 bcoz of the step by step process\n",
    "                    # and also if we take input from user we dont know the input right \n",
    "                    # then we must start from the next index rather than the 4,5"
   ]
  },
  {
   "cell_type": "code",
   "execution_count": 133,
   "id": "42b5d15b-7a7b-4fd3-babf-43b4fc576792",
   "metadata": {},
   "outputs": [
    {
     "data": {
      "text/plain": [
       "6"
      ]
     },
     "execution_count": 133,
     "metadata": {},
     "output_type": "execute_result"
    }
   ],
   "source": [
    "str2.index('a',3,11) # here we are at the 6 index and then we start at 3 then move upto 10 then here 2 a's index(6,10) it prints the lowest value index(6)"
   ]
  },
  {
   "cell_type": "code",
   "execution_count": 137,
   "id": "ddf5638f-fdc8-4085-ba29-d9138da4edaf",
   "metadata": {},
   "outputs": [
    {
     "data": {
      "text/plain": [
       "6"
      ]
     },
     "execution_count": 137,
     "metadata": {},
     "output_type": "execute_result"
    }
   ],
   "source": [
    "str2.index('a',3,10) # but here we got the 6 it only move for 9th index then index 6 only have"
   ]
  },
  {
   "cell_type": "markdown",
   "id": "5b732b37-9892-4119-8783-8b0073c9b3e7",
   "metadata": {},
   "source": [
    "**find**"
   ]
  },
  {
   "cell_type": "code",
   "execution_count": 142,
   "id": "efa320e6-25a3-477c-b8a5-1fea1f550b8d",
   "metadata": {},
   "outputs": [
    {
     "data": {
      "text/plain": [
       "2"
      ]
     },
     "execution_count": 142,
     "metadata": {},
     "output_type": "execute_result"
    }
   ],
   "source": [
    "str2.find('a')  # Return the lowest index in S where substring sub is found,Return -1 on failure."
   ]
  },
  {
   "cell_type": "code",
   "execution_count": 146,
   "id": "d2f9acb5-4151-4433-b1cc-582d2448c6a1",
   "metadata": {},
   "outputs": [
    {
     "data": {
      "text/plain": [
       "6"
      ]
     },
     "execution_count": 146,
     "metadata": {},
     "output_type": "execute_result"
    }
   ],
   "source": [
    "str2.find('a',3)"
   ]
  },
  {
   "cell_type": "code",
   "execution_count": 164,
   "id": "9d9f6868-f8f4-41b3-b4ae-f0992f0ee0e1",
   "metadata": {},
   "outputs": [
    {
     "data": {
      "text/plain": [
       "6"
      ]
     },
     "execution_count": 164,
     "metadata": {},
     "output_type": "execute_result"
    }
   ],
   "source": [
    "str2.find('a',3,11)"
   ]
  },
  {
   "cell_type": "code",
   "execution_count": 166,
   "id": "bee897a2-6a54-4a40-9513-76ee82c142d7",
   "metadata": {},
   "outputs": [
    {
     "data": {
      "text/plain": [
       "-1"
      ]
     },
     "execution_count": 166,
     "metadata": {},
     "output_type": "execute_result"
    }
   ],
   "source": [
    "str2.find('z')    # Return -1 on failure."
   ]
  },
  {
   "cell_type": "code",
   "execution_count": 3,
   "id": "9b1ca9e0-7a02-4fa9-9e2d-32e5187a0d29",
   "metadata": {},
   "outputs": [
    {
     "data": {
      "text/plain": [
       "(2, 6, 10, 14)"
      ]
     },
     "execution_count": 3,
     "metadata": {},
     "output_type": "execute_result"
    }
   ],
   "source": [
    "str3='ola ola ola ola'\n",
    "i1=str3.index('a')\n",
    "i2=str3.index('a',i1+1)\n",
    "i3=str3.index('a',i2+1)\n",
    "i4=str3.index('a',i3+1)\n",
    "i1,i2,i3,i4"
   ]
  },
  {
   "cell_type": "code",
   "execution_count": 5,
   "id": "21e9821e-fd74-440f-acb7-5abd315ad6c6",
   "metadata": {},
   "outputs": [],
   "source": [
    "# Implement the code with for loop"
   ]
  },
  {
   "cell_type": "code",
   "execution_count": 23,
   "id": "5d6dfd57-4f04-4d26-b70a-583f8a996d86",
   "metadata": {},
   "outputs": [
    {
     "name": "stdout",
     "output_type": "stream",
     "text": [
      "2 6 10 14 "
     ]
    }
   ],
   "source": [
    "for i in range(len(str3)):\n",
    "    if str3[i]=='a':\n",
    "        print(i,end=' ')"
   ]
  },
  {
   "cell_type": "code",
   "execution_count": 25,
   "id": "37b0dc11-be3a-45b6-bd41-cd92e8b11f12",
   "metadata": {},
   "outputs": [
    {
     "data": {
      "text/plain": [
       "'how'"
      ]
     },
     "execution_count": 25,
     "metadata": {},
     "output_type": "execute_result"
    }
   ],
   "source": [
    "str3='hello.hai.how.areyou'\n",
    "\n",
    "first_dot=str3.index('.')\n",
    "second_dot=str3.index('.',first_dot+1)\n",
    "third_dot=str3.index('.',second_dot+1)\n",
    "\n",
    "str3[second_dot+1:third_dot]"
   ]
  },
  {
   "cell_type": "code",
   "execution_count": 11,
   "id": "9fa30e69-20f4-49ba-a9ec-5a26a823c360",
   "metadata": {},
   "outputs": [
    {
     "name": "stdout",
     "output_type": "stream",
     "text": [
      "virat kohli rcb\n",
      "rohit sharm @mi\n",
      "ms.dh ni@cs .co\n"
     ]
    }
   ],
   "source": [
    "str4='virat.kohli@rcb.com'\n",
    "str5='rohit.sharma@mi.com'\n",
    "str6='ms.dhoni@csk.com'\n",
    "\n",
    "# i want to extract\n",
    "# first name\n",
    "# second name\n",
    "# company\n",
    "\n",
    "first_name=str4.index('.')\n",
    "second_name=str4.index('@')\n",
    "company_name=str4.index('.',first_name+1)\n",
    "\n",
    "first_name1=str4.index('.')\n",
    "second_name1=str4.index('@')\n",
    "company_name1=str4.index('.',first_name1+1)\n",
    "\n",
    "first_name2=str4.index('.')\n",
    "second_name2=str4.index('@')\n",
    "company_name2=str4.index('.',first_name2+1)\n",
    "\n",
    "print(str4[:first_name],str4[first_name+1:second_name],str4[second_name+1:company_name])\n",
    "print(str5[:first_name1],str5[first_name1+1:second_name1],str5[second_name1+1:company_name1])\n",
    "print(str6[:first_name2],str6[first_name2+1:second_name2],str6[second_name2+1:company_name2])\n"
   ]
  },
  {
   "cell_type": "code",
   "execution_count": 27,
   "id": "3f0c5b31-7d73-445c-9ffb-f875ac0ae876",
   "metadata": {},
   "outputs": [
    {
     "name": "stdout",
     "output_type": "stream",
     "text": [
      "virat kohli rcb\n"
     ]
    }
   ],
   "source": [
    "str1='virat.kohli@rcb.com'\n",
    "str2='rohit.sharma@mi.com'\n",
    "str3='ms.dhoni@csk.com'\n",
    "# I want to extract\n",
    "# first name\n",
    "# second name\n",
    "# company name \n",
    "\n",
    "i1_dot=str1.index('.')\n",
    "i2_dot=str1.index('.',i1_dot+1)\n",
    "i_at=str1.index('@')\n",
    "fname=str1[:i1_dot]\n",
    "sname=str1[i1_dot+1:i_at]\n",
    "cname=str1[i_at+1:i2_dot]\n",
    "print(fname,sname,cname)"
   ]
  },
  {
   "cell_type": "markdown",
   "id": "ba4e8612-02e4-491e-a9ca-8cf11a6c3856",
   "metadata": {},
   "source": [
    "**Replace**"
   ]
  },
  {
   "cell_type": "code",
   "execution_count": 238,
   "id": "07103eb1-7b58-4bce-9aea-cd42ce417ef6",
   "metadata": {},
   "outputs": [
    {
     "data": {
      "text/plain": [
       "'weLcome'"
      ]
     },
     "execution_count": 238,
     "metadata": {},
     "output_type": "execute_result"
    }
   ],
   "source": [
    "String='welcome'\n",
    "\n",
    "# 'l' == 'L'\n",
    "# replace l with 'L'\n",
    "# String.replace(old, new, count=-1, /)\n",
    "\n",
    "String.replace('l','L')"
   ]
  },
  {
   "cell_type": "code",
   "execution_count": 242,
   "id": "69b2c3c0-f94e-47be-b081-02bb29b891ef",
   "metadata": {},
   "outputs": [
    {
     "data": {
      "text/plain": [
       "'weLcome welcome'"
      ]
     },
     "execution_count": 242,
     "metadata": {},
     "output_type": "execute_result"
    }
   ],
   "source": [
    "String1='welcome welcome'\n",
    "\n",
    "String1.replace('l','L',1)  # Replace only one occurence"
   ]
  },
  {
   "cell_type": "code",
   "execution_count": 268,
   "id": "cd3c2e63-7ef4-4685-8344-d29b82f10cb1",
   "metadata": {},
   "outputs": [
    {
     "data": {
      "text/plain": [
       "'resta$t'"
      ]
     },
     "execution_count": 268,
     "metadata": {},
     "output_type": "execute_result"
    }
   ],
   "source": [
    "string2='restart'\n",
    "\n",
    "string2[::-1].replace('r','$',1)[::-1]"
   ]
  },
  {
   "cell_type": "code",
   "execution_count": null,
   "id": "facf479a-f19a-4060-acaa-1403462cb36e",
   "metadata": {},
   "outputs": [],
   "source": []
  },
  {
   "cell_type": "markdown",
   "id": "4e1294a9-9d31-459c-85a5-fcb569535ad0",
   "metadata": {},
   "source": [
    "**startswith and endswith**"
   ]
  },
  {
   "cell_type": "code",
   "execution_count": 4,
   "id": "c8c5e171-e2e2-4adb-b30b-87499ae48ece",
   "metadata": {},
   "outputs": [
    {
     "data": {
      "text/plain": [
       "True"
      ]
     },
     "execution_count": 4,
     "metadata": {},
     "output_type": "execute_result"
    }
   ],
   "source": [
    "str1='hai how are you'\n",
    "str1.endswith('you')"
   ]
  },
  {
   "cell_type": "code",
   "execution_count": 8,
   "id": "ffdb0a17-742d-4d74-be9d-051d301bb37a",
   "metadata": {},
   "outputs": [
    {
     "data": {
      "text/plain": [
       "True"
      ]
     },
     "execution_count": 8,
     "metadata": {},
     "output_type": "execute_result"
    }
   ],
   "source": [
    "str1.endswith('you')"
   ]
  },
  {
   "cell_type": "code",
   "execution_count": 12,
   "id": "990e4ee3-0c07-428d-a9db-95d2c2f208de",
   "metadata": {},
   "outputs": [
    {
     "data": {
      "text/plain": [
       "True"
      ]
     },
     "execution_count": 12,
     "metadata": {},
     "output_type": "execute_result"
    }
   ],
   "source": [
    "str1.startswith('h')"
   ]
  },
  {
   "cell_type": "code",
   "execution_count": 14,
   "id": "a4536837-3295-449b-8027-dcd3259f9816",
   "metadata": {},
   "outputs": [
    {
     "data": {
      "text/plain": [
       "True"
      ]
     },
     "execution_count": 14,
     "metadata": {},
     "output_type": "execute_result"
    }
   ],
   "source": [
    "str1.startswith('hai')"
   ]
  },
  {
   "cell_type": "code",
   "execution_count": 16,
   "id": "508068be-9dae-44e6-961b-e30254dfab54",
   "metadata": {},
   "outputs": [
    {
     "data": {
      "text/plain": [
       "False"
      ]
     },
     "execution_count": 16,
     "metadata": {},
     "output_type": "execute_result"
    }
   ],
   "source": [
    "str1.startswith('Hai')"
   ]
  },
  {
   "cell_type": "markdown",
   "id": "c45841f2-76e3-4128-94ab-2cacbacdeb93",
   "metadata": {},
   "source": [
    "**Split**"
   ]
  },
  {
   "cell_type": "code",
   "execution_count": 18,
   "id": "999e7308-9e12-4be2-bcaa-fedbf3313bea",
   "metadata": {},
   "outputs": [
    {
     "data": {
      "text/plain": [
       "['hai', 'how', 'are', 'you']"
      ]
     },
     "execution_count": 18,
     "metadata": {},
     "output_type": "execute_result"
    }
   ],
   "source": [
    "str1.split() # By defaut Space Taken"
   ]
  },
  {
   "cell_type": "code",
   "execution_count": 20,
   "id": "e11b015e-cbcd-4026-9ab0-25aacda99eeb",
   "metadata": {},
   "outputs": [
    {
     "data": {
      "text/plain": [
       "['hai how are you']"
      ]
     },
     "execution_count": 20,
     "metadata": {},
     "output_type": "execute_result"
    }
   ],
   "source": [
    "str1.split(',')"
   ]
  },
  {
   "cell_type": "code",
   "execution_count": 30,
   "id": "f507038f-4081-4a64-a3f2-dc1ed308782a",
   "metadata": {},
   "outputs": [],
   "source": [
    "str2='hai how, are you'"
   ]
  },
  {
   "cell_type": "code",
   "execution_count": 32,
   "id": "34a55688-2bc8-4751-9ae0-0250be5f55be",
   "metadata": {},
   "outputs": [
    {
     "data": {
      "text/plain": [
       "['hai how', ' are you']"
      ]
     },
     "execution_count": 32,
     "metadata": {},
     "output_type": "execute_result"
    }
   ],
   "source": [
    "str2.split(',')"
   ]
  },
  {
   "cell_type": "code",
   "execution_count": 34,
   "id": "fd4aeba9-b890-4077-b43f-756fac6da744",
   "metadata": {},
   "outputs": [
    {
     "data": {
      "text/plain": [
       "['h', 'i how, ', 're you']"
      ]
     },
     "execution_count": 34,
     "metadata": {},
     "output_type": "execute_result"
    }
   ],
   "source": [
    "str2.split('a')"
   ]
  },
  {
   "cell_type": "code",
   "execution_count": 60,
   "id": "8fdee558-f961-4dc9-80e2-0fc6206c82cb",
   "metadata": {},
   "outputs": [
    {
     "name": "stdout",
     "output_type": "stream",
     "text": [
      "60\n"
     ]
    }
   ],
   "source": [
    "num='10 20 30'\n",
    "l=num.split()\n",
    "sum=0\n",
    "for i in l:\n",
    "    sum+=int(i)\n",
    "print(sum)"
   ]
  },
  {
   "cell_type": "code",
   "execution_count": null,
   "id": "51cf7444-d318-4622-a9c1-fa30cca8ae20",
   "metadata": {},
   "outputs": [],
   "source": []
  },
  {
   "cell_type": "markdown",
   "id": "15254930",
   "metadata": {},
   "source": [
    "## 🎯 Day 10 Summary - What I Learned About Strings\n",
    "\n",
    "### 🚀 **Key Concepts Mastered:**\n",
    "\n",
    "#### 1️⃣ **String Basics**\n",
    "- ✅ Strings are sequences of characters\n",
    "- ✅ Can use single (`'`) or double (`\"`) quotes\n",
    "- ✅ Support spaces and special characters\n",
    "- ✅ Are **immutable** (can't change after creation)\n",
    "\n",
    "#### 2️⃣ **Built-in Functions**\n",
    "- ✅ `len()` - counts characters\n",
    "- ✅ `min()/max()` - finds characters by ASCII value\n",
    "- ✅ `sorted()` - arranges characters alphabetically\n",
    "- ✅ `reversed()` - creates reverse iterator\n",
    "- ❌ `sum()` - doesn't work with strings\n",
    "\n",
    "#### 3️⃣ **String Operations**\n",
    "- ✅ **Concatenation (+)** - joins strings\n",
    "- ✅ **Repetition (*)** - repeats strings with numbers\n",
    "- ❌ **Subtraction (-)** - not supported\n",
    "- ❌ **Division (/)** - not supported\n",
    "\n",
    "#### 4️⃣ **Indexing & Slicing**\n",
    "- ✅ **Positive indexing** starts from 0\n",
    "- ✅ **Negative indexing** starts from -1\n",
    "- ✅ **Slicing syntax:** `[start:end:step]`\n",
    "- ✅ End index is excluded from result\n",
    "\n",
    "#### 5️⃣ **Essential Methods**\n",
    "- 🔤 **Case methods:** `upper()`, `lower()`, `title()`, `capitalize()`\n",
    "- 🔍 **Search methods:** `find()`, `index()`, `count()`\n",
    "- ✂️ **Manipulation:** `replace()`, `strip()`, `split()`\n",
    "- ✅ **Testing:** `startswith()`, `endswith()`\n",
    "\n",
    "---\n",
    "\n",
    "### 💡 **Most Important Takeaways:**\n",
    "\n",
    "1. **🔒 Strings are IMMUTABLE** - you create new strings, not modify existing ones\n",
    "2. **📍 Indexing starts at 0** - this is fundamental in programming\n",
    "3. **🎯 Methods return NEW strings** - original string never changes\n",
    "4. **🔄 Multiple ways to solve problems** - loops vs methods vs slicing\n",
    "\n",
    "---\n",
    "\n",
    "### 🎯 **Next Steps in My Python Journey:**\n",
    "- Practice more string manipulation problems\n",
    "- Learn about f-strings and advanced formatting\n",
    "- Explore regular expressions for pattern matching\n",
    "- Understand string encoding (UTF-8, ASCII)\n",
    "\n",
    "---\n",
    "\n",
    "\n",
    "**💪 Keep practicing! Strings are everywhere in programming!**"
   ]
  },
  {
   "cell_type": "markdown",
   "id": "cfc43102",
   "metadata": {},
   "source": [
    "## 💎 Practical Tips & Tricks I Discovered\n",
    "\n",
    "### 🚀 **Performance Tips:**\n",
    "```python\n",
    "# ✅ GOOD: Use join() for multiple concatenations\n",
    "words = ['hello', 'world', 'python']\n",
    "result = ' '.join(words)  # \"hello world python\"\n",
    "\n",
    "# ❌ AVOID: Multiple + operations (creates many temporary strings)\n",
    "result = words[0] + ' ' + words[1] + ' ' + words[2]\n",
    "```\n",
    "\n",
    "### 🎯 **Common Patterns I Should Remember:**\n",
    "\n",
    "#### 🔄 **String Reversal Methods:**\n",
    "```python\n",
    "text = \"python\"\n",
    "# Method 1: Slicing (fastest)\n",
    "reversed_text = text[::-1]\n",
    "# Method 2: Using reversed() function\n",
    "reversed_text = ''.join(reversed(text))\n",
    "```\n",
    "\n",
    "#### 🔍 **Safe Character Access:**\n",
    "```python\n",
    "text = \"hello\"\n",
    "# ✅ SAFE: Check length first\n",
    "if len(text) > 10:\n",
    "    char = text[10]\n",
    "# ✅ SAFE: Use get-like behavior with slicing\n",
    "char = text[10:11]  # Returns '' if index doesn't exist\n",
    "```\n",
    "\n",
    "#### 🧹 **Text Cleaning:**\n",
    "```python\n",
    "text = \"  Hello World!  \"\n",
    "clean = text.strip().lower().replace('!', '')  # \"hello world\"\n",
    "```\n",
    "\n",
    "### 🚨 **Common Mistakes to Avoid:**\n",
    "1. **Forgetting strings are immutable** - always assign method results\n",
    "2. **Confusing indexing with slicing** - remember end index is excluded\n",
    "3. **Not handling empty strings** - always check `if text:` first\n",
    "4. **Mixing up find() vs index()** - find() returns -1, index() raises error"
   ]
  },
  {
   "cell_type": "markdown",
   "id": "000d733c",
   "metadata": {},
   "source": []
  }
 ],
 "metadata": {
  "kernelspec": {
   "display_name": "Python [conda env:base] *",
   "language": "python",
   "name": "conda-base-py"
  },
  "language_info": {
   "codemirror_mode": {
    "name": "ipython",
    "version": 3
   },
   "file_extension": ".py",
   "mimetype": "text/x-python",
   "name": "python",
   "nbconvert_exporter": "python",
   "pygments_lexer": "ipython3",
   "version": "3.12.7"
  }
 },
 "nbformat": 4,
 "nbformat_minor": 5
}
