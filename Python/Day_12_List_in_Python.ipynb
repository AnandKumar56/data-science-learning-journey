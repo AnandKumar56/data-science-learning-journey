{
 "cells": [
  {
   "cell_type": "code",
   "execution_count": null,
   "id": "bbdcfce0-96ff-4a8e-a521-7c6bfd64a2ed",
   "metadata": {},
   "outputs": [],
   "source": [
    "# Day 12: Python Lists - Learning & Exploration\n",
    "\n",
    "# --- List Initialization ---\n",
    "# Lists can store multiple values. They are ordered, mutable, and can hold any data type.\n",
    "\n",
    "# Example 1: Numeric list\n",
    "l1 = [10, 20, 30, 40]  # List of integers\n",
    "\n",
    "# Example 2: String list\n",
    "l2 = ['A', 'B', 'C']   # List of strings\n",
    "\n",
    "# Example 3: Mixed data types\n",
    "l3 = [10, 20, 30, 40, 'A', 'B', 'C']  # Integers and strings together\n",
    "\n",
    "# Example 4: Heterogeneous list (all types)\n",
    "l4 = [10, 'A', 2.5, True, 10+20j]  # int, str, float, bool, complex\n",
    "\n",
    "# Example 5: Nested list (list inside a list)\n",
    "l5 = [[10, 10, 10]]  # A list containing another list\n",
    "\n",
    "# Example 6: List with duplicate values\n",
    "l6 = [10, 10, 10]  # Duplicates are allowed\n",
    "\n",
    "# Example 7: Empty list\n",
    "l7 = []  # No elements\n",
    "\n",
    "# Key Points:\n",
    "# - Lists can hold any data type (heterogeneous)\n",
    "# - Duplicates are allowed\n",
    "# - Lists can contain other lists (nested lists)\n",
    "\n",
    "# --- Error Example: Mixing incompatible types in operations ---\n",
    "try:\n",
    "    print(sum(l3))  # This will fail because l3 has both numbers and strings\n",
    "except TypeError as e:\n",
    "    print('Error:', e)\n",
    "\n",
    "# --- Fix: Use only numeric values for sum ---\n",
    "l3_numeric = [10, 20, 30, 40]\n",
    "print('Sum of l3_numeric:', sum(l3_numeric))\n",
    "\n",
    "# --- Example: Creating a list from user input (comma separated) ---\n",
    "# input_str = input('Enter numbers separated by commas: ')\n",
    "# user_list = [int(x) for x in input_str.split(',')]\n",
    "# print('User list:', user_list)\n",
    "\n",
    "# --- Example: List comprehension for squares ---\n",
    "squares = [x**2 for x in range(1, 6)]\n",
    "print('Squares:', squares)"
   ]
  },
  {
   "cell_type": "code",
   "execution_count": 9,
   "id": "33b0a6fa-d2d9-4b80-b919-0a59ee6b79a1",
   "metadata": {},
   "outputs": [],
   "source": [
    "l1=[10,20,30,40]\n",
    "l2=['A','B','C']\n",
    "l3=[10,20,30,40,'A','B','C']"
   ]
  },
  {
   "cell_type": "code",
   "execution_count": 13,
   "id": "ebaccf22-2b49-4c2b-9552-54a0021cdcfe",
   "metadata": {},
   "outputs": [
    {
     "name": "stdout",
     "output_type": "stream",
     "text": [
      "4 3 7\n"
     ]
    }
   ],
   "source": [
    "print(len(l1),len(l2),len(l3))"
   ]
  },
  {
   "cell_type": "code",
   "execution_count": 25,
   "id": "9dbcdf1a-7468-4280-8f0e-c4d455e32eaa",
   "metadata": {},
   "outputs": [
    {
     "name": "stdout",
     "output_type": "stream",
     "text": [
      "100\n"
     ]
    },
    {
     "ename": "TypeError",
     "evalue": "unsupported operand type(s) for +: 'int' and 'str'",
     "output_type": "error",
     "traceback": [
      "\u001b[1;31m---------------------------------------------------------------------------\u001b[0m",
      "\u001b[1;31mTypeError\u001b[0m                                 Traceback (most recent call last)",
      "Cell \u001b[1;32mIn[25], line 2\u001b[0m\n\u001b[0;32m      1\u001b[0m \u001b[38;5;28mprint\u001b[39m(\u001b[38;5;28msum\u001b[39m(l1))\n\u001b[1;32m----> 2\u001b[0m \u001b[38;5;28mprint\u001b[39m(\u001b[38;5;28msum\u001b[39m(l2))\n\u001b[0;32m      3\u001b[0m \u001b[38;5;28mprint\u001b[39m(\u001b[38;5;28msum\u001b[39m(l3))\n",
      "\u001b[1;31mTypeError\u001b[0m: unsupported operand type(s) for +: 'int' and 'str'"
     ]
    }
   ],
   "source": [
    "print(sum(l1)) # Works\n",
    "print(sum(l2)) # fails\n",
    "print(sum(l3)) # fails"
   ]
  },
  {
   "cell_type": "code",
   "execution_count": 27,
   "id": "aaac8a8c-d7bf-4b22-8ce6-92e192d97cc3",
   "metadata": {},
   "outputs": [
    {
     "name": "stdout",
     "output_type": "stream",
     "text": [
      "40\n",
      "C\n"
     ]
    },
    {
     "ename": "TypeError",
     "evalue": "'>' not supported between instances of 'str' and 'int'",
     "output_type": "error",
     "traceback": [
      "\u001b[1;31m---------------------------------------------------------------------------\u001b[0m",
      "\u001b[1;31mTypeError\u001b[0m                                 Traceback (most recent call last)",
      "Cell \u001b[1;32mIn[27], line 3\u001b[0m\n\u001b[0;32m      1\u001b[0m \u001b[38;5;28mprint\u001b[39m(\u001b[38;5;28mmax\u001b[39m(l1))\n\u001b[0;32m      2\u001b[0m \u001b[38;5;28mprint\u001b[39m(\u001b[38;5;28mmax\u001b[39m(l2))\n\u001b[1;32m----> 3\u001b[0m \u001b[38;5;28mprint\u001b[39m(\u001b[38;5;28mmax\u001b[39m(l3))\n",
      "\u001b[1;31mTypeError\u001b[0m: '>' not supported between instances of 'str' and 'int'"
     ]
    }
   ],
   "source": [
    "print(max(l1))\n",
    "print(max(l2))\n",
    "print(max(l3)) # Fails"
   ]
  },
  {
   "cell_type": "code",
   "execution_count": 31,
   "id": "e457f56d-1ae5-4bf1-9aba-0c1cdeb8334c",
   "metadata": {},
   "outputs": [
    {
     "name": "stdout",
     "output_type": "stream",
     "text": [
      "10\n",
      "A\n"
     ]
    },
    {
     "ename": "TypeError",
     "evalue": "'<' not supported between instances of 'str' and 'int'",
     "output_type": "error",
     "traceback": [
      "\u001b[1;31m---------------------------------------------------------------------------\u001b[0m",
      "\u001b[1;31mTypeError\u001b[0m                                 Traceback (most recent call last)",
      "Cell \u001b[1;32mIn[31], line 3\u001b[0m\n\u001b[0;32m      1\u001b[0m \u001b[38;5;28mprint\u001b[39m(\u001b[38;5;28mmin\u001b[39m(l1))\n\u001b[0;32m      2\u001b[0m \u001b[38;5;28mprint\u001b[39m(\u001b[38;5;28mmin\u001b[39m(l2))\n\u001b[1;32m----> 3\u001b[0m \u001b[38;5;28mprint\u001b[39m(\u001b[38;5;28mmin\u001b[39m(l3))\n",
      "\u001b[1;31mTypeError\u001b[0m: '<' not supported between instances of 'str' and 'int'"
     ]
    }
   ],
   "source": [
    "print(min(l1))\n",
    "print(min(l2))\n",
    "print(min(l3)) # Fails"
   ]
  },
  {
   "cell_type": "code",
   "execution_count": 33,
   "id": "740b3ca3-d5da-4a01-853c-0a84aad2ffbf",
   "metadata": {},
   "outputs": [
    {
     "name": "stdout",
     "output_type": "stream",
     "text": [
      "[10, 20, 30, 40]\n",
      "['A', 'B', 'C']\n"
     ]
    },
    {
     "ename": "TypeError",
     "evalue": "'<' not supported between instances of 'str' and 'int'",
     "output_type": "error",
     "traceback": [
      "\u001b[1;31m---------------------------------------------------------------------------\u001b[0m",
      "\u001b[1;31mTypeError\u001b[0m                                 Traceback (most recent call last)",
      "Cell \u001b[1;32mIn[33], line 3\u001b[0m\n\u001b[0;32m      1\u001b[0m \u001b[38;5;28mprint\u001b[39m(\u001b[38;5;28msorted\u001b[39m(l1))\n\u001b[0;32m      2\u001b[0m \u001b[38;5;28mprint\u001b[39m(\u001b[38;5;28msorted\u001b[39m(l2))\n\u001b[1;32m----> 3\u001b[0m \u001b[38;5;28mprint\u001b[39m(\u001b[38;5;28msorted\u001b[39m(l3))\n",
      "\u001b[1;31mTypeError\u001b[0m: '<' not supported between instances of 'str' and 'int'"
     ]
    }
   ],
   "source": [
    "print(sorted(l1))\n",
    "print(sorted(l2))\n",
    "print(sorted(l3)) # Fails"
   ]
  },
  {
   "cell_type": "code",
   "execution_count": 37,
   "id": "a686eee8-968d-4719-8942-8fc7c35a708f",
   "metadata": {},
   "outputs": [
    {
     "name": "stdout",
     "output_type": "stream",
     "text": [
      "[40, 30, 20, 10]\n",
      "['C', 'B', 'A']\n",
      "['C', 'B', 'A', 40, 30, 20, 10]\n"
     ]
    }
   ],
   "source": [
    "print(list(reversed(l1))) # Works\n",
    "print(list(reversed(l2))) # works\n",
    "print(list(reversed(l3))) # Works"
   ]
  },
  {
   "cell_type": "markdown",
   "id": "43b238cb-dfdb-4d3a-9ee3-9d8b325adadb",
   "metadata": {},
   "source": [
    "**Indexing**"
   ]
  },
  {
   "cell_type": "code",
   "execution_count": 42,
   "id": "8eca84ca-c24e-47cb-a1a1-3916489e9c1e",
   "metadata": {},
   "outputs": [
    {
     "data": {
      "text/plain": [
       "30"
      ]
     },
     "execution_count": 42,
     "metadata": {},
     "output_type": "execute_result"
    }
   ],
   "source": [
    "l3=[10,20,30,40,50]\n",
    "\n",
    "# -5  -4  -3  -2  -1\n",
    "# 10  20  30  40  50\n",
    "# 0   1   2   3   4\n",
    "\n",
    "l3[2]"
   ]
  },
  {
   "cell_type": "code",
   "execution_count": 46,
   "id": "33353b52-21a0-4ec6-8d98-f2d8e816730b",
   "metadata": {},
   "outputs": [
    {
     "data": {
      "text/plain": [
       "'Banana'"
      ]
     },
     "execution_count": 46,
     "metadata": {},
     "output_type": "execute_result"
    }
   ],
   "source": [
    "l=['Apple','Banana']\n",
    "l[1]"
   ]
  },
  {
   "cell_type": "code",
   "execution_count": 50,
   "id": "53bf71c1-6bac-4cf8-8589-c53ed02f7a0e",
   "metadata": {},
   "outputs": [
    {
     "data": {
      "text/plain": [
       "'Banana'"
      ]
     },
     "execution_count": 50,
     "metadata": {},
     "output_type": "execute_result"
    }
   ],
   "source": [
    "l=['Apple',['Banana']]\n",
    "\n",
    "l[1][0]"
   ]
  },
  {
   "cell_type": "code",
   "execution_count": 58,
   "id": "e119ae19-eadc-4428-85a4-fbfb570dc64a",
   "metadata": {},
   "outputs": [
    {
     "data": {
      "text/plain": [
       "'Cherry'"
      ]
     },
     "execution_count": 58,
     "metadata": {},
     "output_type": "execute_result"
    }
   ],
   "source": [
    "l1=['Apple',['Banana','Cherry']]\n",
    "\n",
    "l1[1][1]"
   ]
  },
  {
   "cell_type": "code",
   "execution_count": 62,
   "id": "b7b57640-ca19-4254-9ab6-f6f569a32fb7",
   "metadata": {},
   "outputs": [
    {
     "data": {
      "text/plain": [
       "'Cherry'"
      ]
     },
     "execution_count": 62,
     "metadata": {},
     "output_type": "execute_result"
    }
   ],
   "source": [
    "l=['Apple',['Banana',['Cherry']]]\n",
    "\n",
    "l[1][1][0]"
   ]
  },
  {
   "cell_type": "code",
   "execution_count": 66,
   "id": "06764572-b8e5-4fd8-b946-392565c6bba6",
   "metadata": {},
   "outputs": [
    {
     "data": {
      "text/plain": [
       "'VK'"
      ]
     },
     "execution_count": 66,
     "metadata": {},
     "output_type": "execute_result"
    }
   ],
   "source": [
    "l=['Orange',['Nagpur',['MH',['Shivaji',['Shambaji',['Chava',['VK']]]]]]]\n",
    "\n",
    "l[1][1][1][1][1][1][0]"
   ]
  },
  {
   "cell_type": "code",
   "execution_count": 70,
   "id": "d5bf5e76-6690-417d-9b3f-9adcd7b00145",
   "metadata": {},
   "outputs": [
    {
     "data": {
      "text/plain": [
       "'onion'"
      ]
     },
     "execution_count": 70,
     "metadata": {},
     "output_type": "execute_result"
    }
   ],
   "source": [
    "l=[[[[[[[[['onion']]]]]]]]]\n",
    "\n",
    "l[0][0][0][0][0][0][0][0][0]"
   ]
  },
  {
   "cell_type": "markdown",
   "id": "e5e2a13c-995b-472c-89d6-167047dac173",
   "metadata": {},
   "source": [
    "**Mutable Vs Immutable**"
   ]
  },
  {
   "cell_type": "code",
   "execution_count": 3,
   "id": "ab0f3d71-49dd-45cf-bf29-ecdd7c9843af",
   "metadata": {},
   "outputs": [
    {
     "data": {
      "text/plain": [
       "'cherry'"
      ]
     },
     "execution_count": 3,
     "metadata": {},
     "output_type": "execute_result"
    }
   ],
   "source": [
    "fruits=['apple','banana','orange']\n",
    "fruits[0]='cherry'\n",
    "fruits[0]                   # The values are chnages means list are mutable\n",
    "                            # We can change name based on index"
   ]
  },
  {
   "cell_type": "markdown",
   "id": "75ded96d-1970-4aae-98a0-d2cdfc79f665",
   "metadata": {},
   "source": [
    "**Concatenation**"
   ]
  },
  {
   "cell_type": "code",
   "execution_count": 11,
   "id": "cdc44107-3e7c-40b9-8148-c9a9f285c4e0",
   "metadata": {},
   "outputs": [
    {
     "data": {
      "text/plain": [
       "['cherry', 'banana', 'orange', 'grapes', 'pineapple']"
      ]
     },
     "execution_count": 11,
     "metadata": {},
     "output_type": "execute_result"
    }
   ],
   "source": [
    "fruits_new=['grapes','pineapple']\n",
    "\n",
    "l=fruits+fruits_new          # Concatenate two list\n",
    "l"
   ]
  },
  {
   "cell_type": "code",
   "execution_count": 15,
   "id": "87b9ab76-69a3-4b19-849b-94df32d555d2",
   "metadata": {},
   "outputs": [
    {
     "data": {
      "text/plain": [
       "[10, 20, 30, 40, 'A', 'B', 'C']"
      ]
     },
     "execution_count": 15,
     "metadata": {},
     "output_type": "execute_result"
    }
   ],
   "source": [
    "l1=[10,20,30,40]\n",
    "l2=['A','B','C']\n",
    "\n",
    "l1+l2"
   ]
  },
  {
   "cell_type": "code",
   "execution_count": null,
   "id": "2120f67e-cdd9-4950-bf08-7e8b7b1bf345",
   "metadata": {},
   "outputs": [],
   "source": [
    "l1-l2    # Operand not Support\n",
    "l/l2     # Operand not Support"
   ]
  },
  {
   "cell_type": "markdown",
   "id": "97ac8b60-e889-4f99-96ee-add6f02560bf",
   "metadata": {},
   "source": [
    "**Slice**"
   ]
  },
  {
   "cell_type": "code",
   "execution_count": 18,
   "id": "28934c1d-befa-4649-b32d-7fcae8732790",
   "metadata": {},
   "outputs": [
    {
     "data": {
      "text/plain": [
       "15"
      ]
     },
     "execution_count": 18,
     "metadata": {},
     "output_type": "execute_result"
    }
   ],
   "source": [
    "l=[10,20,30,40,1,2,3,4,'a','p','p','l','e',True,False]\n",
    "len(l)"
   ]
  },
  {
   "cell_type": "code",
   "execution_count": null,
   "id": "5396ad01-a6dc-4b1a-b1dd-adfc13c8ff52",
   "metadata": {},
   "outputs": [],
   "source": [
    "\n",
    "-15  -14   -13   -12   -11   -10   -9   -8    -7     -6      -5      -4      -3    -2        -1\n",
    "10,   20,   30,   40,   1,    2,    3,   4,   'a',    'p'    ,'p'    ,'l'   ,'e',   True,   False\n",
    " 0    1     2     3     4     5     6    7     8      9       10      11     12     13       14\n"
   ]
  },
  {
   "cell_type": "code",
   "execution_count": 26,
   "id": "96fc8b56-01f3-4117-a4a0-723fe8ae36df",
   "metadata": {},
   "outputs": [
    {
     "data": {
      "text/plain": [
       "([30, 1, 3, 'a', 'p'], [], [True, 'l', 'p', 4, 2], [])"
      ]
     },
     "execution_count": 26,
     "metadata": {},
     "output_type": "execute_result"
    }
   ],
   "source": [
    "l[2:12:2],l[2:12:-2],l[-2:-12:-2],l[2:-12:-2]"
   ]
  },
  {
   "cell_type": "code",
   "execution_count": 28,
   "id": "ba131112-a97f-4045-a768-e042d893c67e",
   "metadata": {
    "scrolled": true
   },
   "outputs": [
    {
     "data": {
      "text/plain": [
       "['__add__',\n",
       " '__class__',\n",
       " '__class_getitem__',\n",
       " '__contains__',\n",
       " '__delattr__',\n",
       " '__delitem__',\n",
       " '__dir__',\n",
       " '__doc__',\n",
       " '__eq__',\n",
       " '__format__',\n",
       " '__ge__',\n",
       " '__getattribute__',\n",
       " '__getitem__',\n",
       " '__getstate__',\n",
       " '__gt__',\n",
       " '__hash__',\n",
       " '__iadd__',\n",
       " '__imul__',\n",
       " '__init__',\n",
       " '__init_subclass__',\n",
       " '__iter__',\n",
       " '__le__',\n",
       " '__len__',\n",
       " '__lt__',\n",
       " '__mul__',\n",
       " '__ne__',\n",
       " '__new__',\n",
       " '__reduce__',\n",
       " '__reduce_ex__',\n",
       " '__repr__',\n",
       " '__reversed__',\n",
       " '__rmul__',\n",
       " '__setattr__',\n",
       " '__setitem__',\n",
       " '__sizeof__',\n",
       " '__str__',\n",
       " '__subclasshook__',\n",
       " 'append',\n",
       " 'clear',\n",
       " 'copy',\n",
       " 'count',\n",
       " 'extend',\n",
       " 'index',\n",
       " 'insert',\n",
       " 'pop',\n",
       " 'remove',\n",
       " 'reverse',\n",
       " 'sort']"
      ]
     },
     "execution_count": 28,
     "metadata": {},
     "output_type": "execute_result"
    }
   ],
   "source": [
    "dir([])"
   ]
  },
  {
   "cell_type": "code",
   "execution_count": null,
   "id": "f39f8599-19e3-4b8b-a735-845adaacd4c0",
   "metadata": {},
   "outputs": [],
   "source": [
    "'append',\n",
    " 'clear',\n",
    " 'copy',\n",
    " 'count',\n",
    " 'extend',\n",
    " 'index',\n",
    " 'insert',\n",
    " 'pop',\n",
    " 'remove',\n",
    " 'reverse',\n",
    " 'sort'"
   ]
  },
  {
   "cell_type": "code",
   "execution_count": 40,
   "id": "5138b011-5593-4eb8-bce6-d48c0828cfd8",
   "metadata": {},
   "outputs": [],
   "source": [
    "l1=[10,20,30,40]"
   ]
  },
  {
   "cell_type": "markdown",
   "id": "f3b54445-a02e-4f4f-bcf3-4ddd09fc69f0",
   "metadata": {},
   "source": [
    "**Clear()**"
   ]
  },
  {
   "cell_type": "code",
   "execution_count": 34,
   "id": "2793b2aa-73c7-4954-a341-864364373a68",
   "metadata": {},
   "outputs": [
    {
     "data": {
      "text/plain": [
       "[]"
      ]
     },
     "execution_count": 34,
     "metadata": {},
     "output_type": "execute_result"
    }
   ],
   "source": [
    "l1.clear()  # Remove all items from list.\n",
    "l1"
   ]
  },
  {
   "cell_type": "markdown",
   "id": "14088469-bdfa-4109-9bad-d0f5bdbe1c8d",
   "metadata": {},
   "source": [
    "**Copy()**"
   ]
  },
  {
   "cell_type": "code",
   "execution_count": 48,
   "id": "90010bba-688b-4e85-8e67-c44e6565dd5b",
   "metadata": {},
   "outputs": [
    {
     "data": {
      "text/plain": [
       "['A', 'B', 'C']"
      ]
     },
     "execution_count": 48,
     "metadata": {},
     "output_type": "execute_result"
    }
   ],
   "source": [
    "l2=['A','B','C']\n",
    "l1=l2.copy()  # Return a shallow copy of the list.\n",
    "l1"
   ]
  },
  {
   "cell_type": "code",
   "execution_count": 50,
   "id": "60c88bd8-5d87-4be8-aa86-6d84f0c77b80",
   "metadata": {},
   "outputs": [
    {
     "data": {
      "text/plain": [
       "([10, 20, 30, 40], [])"
      ]
     },
     "execution_count": 50,
     "metadata": {},
     "output_type": "execute_result"
    }
   ],
   "source": [
    "l3=[10,20,30,40]\n",
    "l4=l3.copy()\n",
    "l3.clear()\n",
    "l4,l3"
   ]
  },
  {
   "cell_type": "markdown",
   "id": "28b201db-b5ef-4105-b0f7-645474d36817",
   "metadata": {},
   "source": [
    "**Count()**"
   ]
  },
  {
   "cell_type": "code",
   "execution_count": 56,
   "id": "0cf1834d-e575-4023-9c05-3a6bb7361ee7",
   "metadata": {},
   "outputs": [],
   "source": [
    "l5=[10,10,10,30,20,20]"
   ]
  },
  {
   "cell_type": "code",
   "execution_count": 58,
   "id": "c131a1d4-bcd6-4a4f-a026-7bae5e06507f",
   "metadata": {},
   "outputs": [
    {
     "data": {
      "text/plain": [
       "3"
      ]
     },
     "execution_count": 58,
     "metadata": {},
     "output_type": "execute_result"
    }
   ],
   "source": [
    "l5.count(10)"
   ]
  },
  {
   "cell_type": "markdown",
   "id": "efa153d8-dfa9-4306-9f53-5c42db8d44c9",
   "metadata": {},
   "source": [
    "**Slice**"
   ]
  },
  {
   "cell_type": "code",
   "execution_count": 64,
   "id": "922020fc-0838-4d1d-88b0-ea6e9e64ef03",
   "metadata": {},
   "outputs": [],
   "source": [
    "l6=[10,20,30,40,50,'A','B','C']"
   ]
  },
  {
   "cell_type": "code",
   "execution_count": 68,
   "id": "4f0e5f72-71e4-4ed8-b26d-d8d82daca187",
   "metadata": {},
   "outputs": [
    {
     "data": {
      "text/plain": [
       "[10, 20, 30, 40, 50]"
      ]
     },
     "execution_count": 68,
     "metadata": {},
     "output_type": "execute_result"
    }
   ],
   "source": [
    "l6[0:5]"
   ]
  },
  {
   "cell_type": "code",
   "execution_count": 70,
   "id": "55f11b67-e9be-4df8-a6a6-468b182ab3ad",
   "metadata": {},
   "outputs": [
    {
     "data": {
      "text/plain": [
       "[10, 30, 50]"
      ]
     },
     "execution_count": 70,
     "metadata": {},
     "output_type": "execute_result"
    }
   ],
   "source": [
    "l6[0:5:2]"
   ]
  },
  {
   "cell_type": "code",
   "execution_count": 72,
   "id": "307306c4-2061-42d5-83bb-1e0da2765600",
   "metadata": {},
   "outputs": [
    {
     "data": {
      "text/plain": [
       "['C', 'B', 'A', 50, 40, 30, 20, 10]"
      ]
     },
     "execution_count": 72,
     "metadata": {},
     "output_type": "execute_result"
    }
   ],
   "source": [
    "l6[::-1]"
   ]
  },
  {
   "cell_type": "markdown",
   "id": "b1dbb609-c0bf-4850-a4ab-ddffad2078a0",
   "metadata": {},
   "source": [
    "**Indexing**"
   ]
  },
  {
   "cell_type": "code",
   "execution_count": 108,
   "id": "4001108b-d0d9-4206-ac29-bf9ced1806d5",
   "metadata": {},
   "outputs": [],
   "source": [
    "l=[10,20,30,40,1,2,3,4,'a','p','p','l','e',True,False]"
   ]
  },
  {
   "cell_type": "code",
   "execution_count": 83,
   "id": "16d42b0f-9687-4449-8353-826121a97f08",
   "metadata": {},
   "outputs": [
    {
     "data": {
      "text/plain": [
       "13"
      ]
     },
     "execution_count": 83,
     "metadata": {},
     "output_type": "execute_result"
    }
   ],
   "source": [
    "l7=l.index(1)\n",
    "l.index(1,l7+1)"
   ]
  },
  {
   "cell_type": "code",
   "execution_count": 110,
   "id": "cc2b03ba-a18f-4dc2-af63-1bd870ed8469",
   "metadata": {},
   "outputs": [
    {
     "data": {
      "text/plain": [
       "4"
      ]
     },
     "execution_count": 110,
     "metadata": {},
     "output_type": "execute_result"
    }
   ],
   "source": [
    "l.index(1)"
   ]
  },
  {
   "cell_type": "markdown",
   "id": "afb0d0c3-e72d-41ae-8417-3bdbdf350dc2",
   "metadata": {},
   "source": [
    "**Pop - Remove**"
   ]
  },
  {
   "cell_type": "code",
   "execution_count": 113,
   "id": "2275aefd-dcc2-415b-a32a-afce0fb41860",
   "metadata": {},
   "outputs": [],
   "source": [
    "lst1=[10,20,30,40]"
   ]
  },
  {
   "cell_type": "code",
   "execution_count": 117,
   "id": "3bc177df-5b14-40ec-9ad6-e5f1a0036616",
   "metadata": {},
   "outputs": [
    {
     "data": {
      "text/plain": [
       "10"
      ]
     },
     "execution_count": 117,
     "metadata": {},
     "output_type": "execute_result"
    }
   ],
   "source": [
    "lst1.pop(0) # Remove and return item at index (default last).\n",
    "\n",
    "            # Raises IndexError if list is empty or index is out of range."
   ]
  },
  {
   "cell_type": "code",
   "execution_count": 119,
   "id": "0fec4184-88c1-4ceb-9165-2022a3566a4d",
   "metadata": {},
   "outputs": [
    {
     "data": {
      "text/plain": [
       "[20, 30, 40]"
      ]
     },
     "execution_count": 119,
     "metadata": {},
     "output_type": "execute_result"
    }
   ],
   "source": [
    "lst1"
   ]
  },
  {
   "cell_type": "code",
   "execution_count": 139,
   "id": "aa792d01-eae7-4916-b279-f6823ba7e827",
   "metadata": {},
   "outputs": [
    {
     "data": {
      "text/plain": [
       "[20, 30]"
      ]
     },
     "execution_count": 139,
     "metadata": {},
     "output_type": "execute_result"
    }
   ],
   "source": [
    "lst2=[10,20,30]   # Remove first occurrence of value.                 \n",
    "lst2.remove(10)  # Raises ValueError if the value is not present.\n",
    "lst2"
   ]
  },
  {
   "cell_type": "code",
   "execution_count": 143,
   "id": "699d6e87-1715-4e4f-8a03-65ac1de702a2",
   "metadata": {},
   "outputs": [
    {
     "ename": "ValueError",
     "evalue": "list.remove(x): x not in list",
     "output_type": "error",
     "traceback": [
      "\u001b[1;31m---------------------------------------------------------------------------\u001b[0m",
      "\u001b[1;31mValueError\u001b[0m                                Traceback (most recent call last)",
      "Cell \u001b[1;32mIn[143], line 1\u001b[0m\n\u001b[1;32m----> 1\u001b[0m lst2\u001b[38;5;241m.\u001b[39mremove(\u001b[38;5;241m20\u001b[39m)\n\u001b[0;32m      2\u001b[0m lst2\n",
      "\u001b[1;31mValueError\u001b[0m: list.remove(x): x not in list"
     ]
    }
   ],
   "source": [
    "lst2.remove(20)\n",
    "lst2"
   ]
  },
  {
   "cell_type": "code",
   "execution_count": 145,
   "id": "952230a3-c999-428b-a424-b0aba2624038",
   "metadata": {},
   "outputs": [
    {
     "data": {
      "text/plain": [
       "'cherry'"
      ]
     },
     "execution_count": 145,
     "metadata": {},
     "output_type": "execute_result"
    }
   ],
   "source": [
    "l=['apple','banana','cherry','cherry','a','b',10,20,30]\n",
    "\n",
    "l.pop(3)"
   ]
  },
  {
   "cell_type": "code",
   "execution_count": 183,
   "id": "0575b532-ecda-4c6c-ad05-fe3e2e457202",
   "metadata": {},
   "outputs": [],
   "source": [
    "l2=['apple','banana','cherry','cherry','a','b',10,20,30]"
   ]
  },
  {
   "cell_type": "code",
   "execution_count": 185,
   "id": "47571886-8a25-44e3-a233-33bc8cdf7f26",
   "metadata": {},
   "outputs": [
    {
     "data": {
      "text/plain": [
       "['apple', 'banana', 'cherry', 'a', 'b', 10, 20, 30]"
      ]
     },
     "execution_count": 185,
     "metadata": {},
     "output_type": "execute_result"
    }
   ],
   "source": [
    "index_cherry=l2.index('cherry')\n",
    "index_cherry2=l2.index('cherry',index_cherry+1)\n",
    "index_cherry,index_cherry2\n",
    "l2.pop(index_cherry2)\n",
    "l2"
   ]
  },
  {
   "cell_type": "code",
   "execution_count": 189,
   "id": "553e4ac3-0faa-4fe6-8b2d-751971965315",
   "metadata": {},
   "outputs": [
    {
     "data": {
      "text/plain": [
       "['apple', 'banana', 'cherry', 'a', 'b', 10, 20, 30]"
      ]
     },
     "execution_count": 189,
     "metadata": {},
     "output_type": "execute_result"
    }
   ],
   "source": [
    "list_1=['apple','banana','cherry','cherry','a','b',10,20,30]\n",
    "list_1.remove('cherry')\n",
    "list_1"
   ]
  },
  {
   "cell_type": "code",
   "execution_count": 191,
   "id": "774eaedf-4133-42a5-b4d3-1cd88a6660ef",
   "metadata": {},
   "outputs": [],
   "source": [
    "s='apple'"
   ]
  },
  {
   "cell_type": "code",
   "execution_count": 193,
   "id": "bec662ab-5ecd-4ead-a7f1-076bb76a6aa7",
   "metadata": {},
   "outputs": [
    {
     "data": {
      "text/plain": [
       "0"
      ]
     },
     "execution_count": 193,
     "metadata": {},
     "output_type": "execute_result"
    }
   ],
   "source": [
    "s.count('z')"
   ]
  },
  {
   "cell_type": "code",
   "execution_count": 195,
   "id": "7ab55bc1-c92c-40b8-85b0-bb1db8aa2639",
   "metadata": {},
   "outputs": [
    {
     "data": {
      "text/plain": [
       "'apple'"
      ]
     },
     "execution_count": 195,
     "metadata": {},
     "output_type": "execute_result"
    }
   ],
   "source": [
    "s.replace('z','Z')"
   ]
  },
  {
   "cell_type": "code",
   "execution_count": 197,
   "id": "6796197c-9567-43e1-991e-d3a0d6d9f4d5",
   "metadata": {},
   "outputs": [
    {
     "ename": "ValueError",
     "evalue": "substring not found",
     "output_type": "error",
     "traceback": [
      "\u001b[1;31m---------------------------------------------------------------------------\u001b[0m",
      "\u001b[1;31mValueError\u001b[0m                                Traceback (most recent call last)",
      "Cell \u001b[1;32mIn[197], line 1\u001b[0m\n\u001b[1;32m----> 1\u001b[0m s\u001b[38;5;241m.\u001b[39mindex(\u001b[38;5;124m'\u001b[39m\u001b[38;5;124mz\u001b[39m\u001b[38;5;124m'\u001b[39m)\n",
      "\u001b[1;31mValueError\u001b[0m: substring not found"
     ]
    }
   ],
   "source": [
    "s.index('z')"
   ]
  },
  {
   "cell_type": "code",
   "execution_count": 199,
   "id": "5ea850b5-81e4-4f8d-811d-bdded9f4f3e3",
   "metadata": {},
   "outputs": [
    {
     "data": {
      "text/plain": [
       "-1"
      ]
     },
     "execution_count": 199,
     "metadata": {},
     "output_type": "execute_result"
    }
   ],
   "source": [
    "s.find('z')"
   ]
  },
  {
   "cell_type": "markdown",
   "id": "c4e24a1d-638a-4c86-84db-976683f640db",
   "metadata": {},
   "source": [
    "**Append - extend - contatenate**"
   ]
  },
  {
   "cell_type": "code",
   "execution_count": 204,
   "id": "8266f9ad-07cc-41f6-93fb-5f048844247e",
   "metadata": {},
   "outputs": [
    {
     "data": {
      "text/plain": [
       "['apple', 'banana', 'cherry', 'cherry', 'Orange']"
      ]
     },
     "execution_count": 204,
     "metadata": {},
     "output_type": "execute_result"
    }
   ],
   "source": [
    "list_lst=['apple','banana','cherry','cherry']\n",
    "list_lst.append('Orange')   # Append object to the end of the list.\n",
    "list_lst"
   ]
  },
  {
   "cell_type": "code",
   "execution_count": 208,
   "id": "4a242e39-16cc-4b40-b74f-da7b8035839a",
   "metadata": {},
   "outputs": [
    {
     "data": {
      "text/plain": [
       "[10, 20, 30, 40]"
      ]
     },
     "execution_count": 208,
     "metadata": {},
     "output_type": "execute_result"
    }
   ],
   "source": [
    "list_num=[10,20,30]\n",
    "list_num.append(40)\n",
    "list_num"
   ]
  },
  {
   "cell_type": "code",
   "execution_count": 212,
   "id": "e5fc4ae3-4c9a-42dd-ad0e-4e6009ecc90b",
   "metadata": {},
   "outputs": [
    {
     "data": {
      "text/plain": [
       "[10, 20, 30, 40, [50, 60], [50, 60]]"
      ]
     },
     "execution_count": 212,
     "metadata": {},
     "output_type": "execute_result"
    }
   ],
   "source": [
    "list_num.append([50,60])\n",
    "list_num"
   ]
  },
  {
   "cell_type": "code",
   "execution_count": 222,
   "id": "8d634468-6ab2-4998-a2de-ded65f7510b3",
   "metadata": {},
   "outputs": [
    {
     "name": "stdout",
     "output_type": "stream",
     "text": [
      "[10, 20, 30]\n",
      "['A', 'B', 'C']\n"
     ]
    },
    {
     "data": {
      "text/plain": [
       "[10, 20, 30, 'A', 'B', 'C']"
      ]
     },
     "execution_count": 222,
     "metadata": {},
     "output_type": "execute_result"
    }
   ],
   "source": [
    "list_lst1=[10,20,30]\n",
    "l2=['A','B','C']\n",
    "print(list_lst1)\n",
    "print(l2)\n",
    "list_lst1.extend(l2) #  Extend list by appending elements from the iterable.\n",
    "list_lst1"
   ]
  },
  {
   "cell_type": "markdown",
   "id": "8d9981ba-5f02-45a1-952d-98acb5e1c4e1",
   "metadata": {},
   "source": [
    "**Append**\n",
    "\n",
    "- in many projects with append there is no code\n",
    "\n",
    "- append is used to store the results\n",
    "\n",
    "- so far we just print the results\n",
    "\n",
    "- we far we just print the results\n",
    "\n",
    "- we never stored it"
   ]
  },
  {
   "cell_type": "code",
   "execution_count": 3,
   "id": "9a23fd75-8152-4a99-aaa1-fe261fef9d6b",
   "metadata": {},
   "outputs": [
    {
     "data": {
      "text/plain": [
       "[1, 2, 3]"
      ]
     },
     "execution_count": 3,
     "metadata": {},
     "output_type": "execute_result"
    }
   ],
   "source": [
    "l=[]\n",
    "l.append(1)\n",
    "l.append(2)\n",
    "l.append(3)\n",
    "l"
   ]
  },
  {
   "cell_type": "code",
   "execution_count": 13,
   "id": "c11fedda-a4a8-471f-a31a-7a662fce1636",
   "metadata": {},
   "outputs": [
    {
     "name": "stdout",
     "output_type": "stream",
     "text": [
      "1\n",
      "2\n",
      "3\n",
      "[1, 2, 3]\n"
     ]
    }
   ],
   "source": [
    "l1=[]\n",
    "for i in range(1,4):\n",
    "    print(i)\n",
    "    l1.append(i)\n",
    "print(l1)"
   ]
  },
  {
   "cell_type": "code",
   "execution_count": 32,
   "id": "8abf8c67-2223-44ea-b653-dc67e917ff92",
   "metadata": {},
   "outputs": [
    {
     "name": "stdout",
     "output_type": "stream",
     "text": [
      "Enter the Five Random Numbers 50\n",
      "Enter the Five Random Numbers 12\n",
      "Enter the Five Random Numbers 12\n",
      "Enter the Five Random Numbers 60\n",
      "Enter the Five Random Numbers 80\n"
     ]
    },
    {
     "name": "stdout",
     "output_type": "stream",
     "text": [
      "The Even Numbers is : [50, 12, 12, 60, 80]\n",
      "The odd Numbers is : []\n"
     ]
    }
   ],
   "source": [
    "# wap ask the user take 5 random numbers\n",
    "# print even and odd\n",
    "# save even and odd\n",
    "\n",
    "even_num=[]\n",
    "odd_num=[]\n",
    "\n",
    "for i in range(5):\n",
    "    number=eval(input(\"Enter the Five Random Numbers\"))\n",
    "    if number%2==0:\n",
    "        even_num.append(number)\n",
    "    else:\n",
    "        odd_num.append(number)\n",
    "print(f\"The Even Numbers is : {even_num}\")\n",
    "print(f\"The odd Numbers is : {odd_num}\")"
   ]
  },
  {
   "cell_type": "code",
   "execution_count": 24,
   "id": "a800cf2d-d176-47aa-a6ee-742b15a21625",
   "metadata": {},
   "outputs": [
    {
     "name": "stdout",
     "output_type": "stream",
     "text": [
      "53 odd\n",
      "30 even\n",
      "12 even\n",
      "43 odd\n",
      "4 even\n",
      "[30, 12, 4] [53, 43]\n"
     ]
    }
   ],
   "source": [
    "import random\n",
    "\n",
    "even=[]\n",
    "odd=[]\n",
    "\n",
    "for i in range(5):\n",
    "    num=random.randint(1,100)\n",
    "    if num%2==0:\n",
    "        print(f\"{num} even\")\n",
    "        even.append(num)\n",
    "    else:\n",
    "        print(f\"{num} odd\")\n",
    "        odd.append(num)\n",
    "print(even,odd)"
   ]
  },
  {
   "cell_type": "markdown",
   "id": "1ed31444-6d45-41d5-a04b-6ed1419e52d9",
   "metadata": {},
   "source": [
    "**Del()**"
   ]
  },
  {
   "cell_type": "code",
   "execution_count": 100,
   "id": "30d24fd1-0e6a-46fa-a984-b9ba248fcbc3",
   "metadata": {},
   "outputs": [
    {
     "data": {
      "text/plain": [
       "[20, 30, 50, 60]"
      ]
     },
     "execution_count": 100,
     "metadata": {},
     "output_type": "execute_result"
    }
   ],
   "source": [
    "l=[20,30,40,50,60]\n",
    "del(l[2])\n",
    "l"
   ]
  },
  {
   "cell_type": "code",
   "execution_count": 103,
   "id": "6fd818a8-59c8-4493-bafb-9f1812600e28",
   "metadata": {},
   "outputs": [],
   "source": [
    "del(l)"
   ]
  },
  {
   "cell_type": "code",
   "execution_count": 105,
   "id": "d346a040-312d-43b0-8b57-47fbc2198e4e",
   "metadata": {},
   "outputs": [
    {
     "ename": "NameError",
     "evalue": "name 'l' is not defined",
     "output_type": "error",
     "traceback": [
      "\u001b[1;31m---------------------------------------------------------------------------\u001b[0m",
      "\u001b[1;31mNameError\u001b[0m                                 Traceback (most recent call last)",
      "Cell \u001b[1;32mIn[105], line 1\u001b[0m\n\u001b[1;32m----> 1\u001b[0m l\n",
      "\u001b[1;31mNameError\u001b[0m: name 'l' is not defined"
     ]
    }
   ],
   "source": [
    "l"
   ]
  },
  {
   "cell_type": "markdown",
   "id": "28cfbdfe-f1d2-4da3-ad63-be319292b707",
   "metadata": {},
   "source": [
    "**Sorted- Sort**\n",
    "\n",
    "- Sorted is a inbuilt function\n",
    "\n",
    "- sort is a method"
   ]
  },
  {
   "cell_type": "code",
   "execution_count": 108,
   "id": "dcc1a4bb-130c-4c65-b77d-a9e49216698b",
   "metadata": {},
   "outputs": [],
   "source": [
    "l=[90,20,30,60,10,50,40]"
   ]
  },
  {
   "cell_type": "code",
   "execution_count": 111,
   "id": "9340fa78-8eab-464c-a6c5-9bade38c4a5e",
   "metadata": {},
   "outputs": [
    {
     "data": {
      "text/plain": [
       "[10, 20, 30, 40, 50, 60, 90]"
      ]
     },
     "execution_count": 111,
     "metadata": {},
     "output_type": "execute_result"
    }
   ],
   "source": [
    "sorted(l)  # Return a new list containing all items from the iterable in ascending order. but doesnt save the values in the same variable"
   ]
  },
  {
   "cell_type": "code",
   "execution_count": 119,
   "id": "5162579b-4696-454b-9a94-160bf61831c2",
   "metadata": {},
   "outputs": [
    {
     "name": "stdout",
     "output_type": "stream",
     "text": [
      "[10, 20, 30, 40, 50, 60, 90]\n"
     ]
    }
   ],
   "source": [
    "print(l)"
   ]
  },
  {
   "cell_type": "markdown",
   "id": "75e564b2-d80b-4699-b89c-4bdf92a88719",
   "metadata": {},
   "source": [
    "**Note**\n",
    "\n",
    "$inplace$\n",
    "\n",
    "- ouputs will saved in same variable only"
   ]
  },
  {
   "cell_type": "code",
   "execution_count": 115,
   "id": "25713522-7a71-4fa0-848e-db77e3b56f12",
   "metadata": {},
   "outputs": [
    {
     "name": "stdout",
     "output_type": "stream",
     "text": [
      "None\n"
     ]
    }
   ],
   "source": [
    "l.sort()    # Sort the list in ascending order and return None. Stores the Values in the same variable"
   ]
  },
  {
   "cell_type": "code",
   "execution_count": 121,
   "id": "bd7aac15-5db0-49ed-a3bf-aeaa5f1f5695",
   "metadata": {},
   "outputs": [
    {
     "data": {
      "text/plain": [
       "[10, 20, 30, 40, 50, 60, 90]"
      ]
     },
     "execution_count": 121,
     "metadata": {},
     "output_type": "execute_result"
    }
   ],
   "source": [
    "l          # Stores values in the Same Variable"
   ]
  },
  {
   "cell_type": "markdown",
   "id": "50b303d6-a6a3-42b0-814c-2942ac6239cf",
   "metadata": {},
   "source": [
    "**Reverse - Reversed**"
   ]
  },
  {
   "cell_type": "code",
   "execution_count": 132,
   "id": "e6199b6e-fdd1-449b-8499-ce39c5e81622",
   "metadata": {},
   "outputs": [],
   "source": [
    "l1=[90,80,70,60,50,40]"
   ]
  },
  {
   "cell_type": "code",
   "execution_count": 134,
   "id": "fc57cf2c-23e8-4d95-bbac-0cf6ed2b135b",
   "metadata": {},
   "outputs": [
    {
     "data": {
      "text/plain": [
       "[40, 50, 60, 70, 80, 90]"
      ]
     },
     "execution_count": 134,
     "metadata": {},
     "output_type": "execute_result"
    }
   ],
   "source": [
    "l1.reverse()# Reverse *IN PLACE*\n",
    "l1"
   ]
  },
  {
   "cell_type": "code",
   "execution_count": 3,
   "id": "e43cbdf5-34fb-4a70-969b-dbe0661d3d82",
   "metadata": {},
   "outputs": [
    {
     "data": {
      "text/plain": [
       "['hai', 'how', 'are', 'you']"
      ]
     },
     "execution_count": 3,
     "metadata": {},
     "output_type": "execute_result"
    }
   ],
   "source": [
    "str1=\"hai how are you\"\n",
    "str1.split(\" \")\n",
    "\n",
    "# How i Splited? -> Using Space"
   ]
  },
  {
   "cell_type": "code",
   "execution_count": 7,
   "id": "24f0ca30-745d-4d3a-922f-3f8356cc7c1c",
   "metadata": {},
   "outputs": [
    {
     "data": {
      "text/plain": [
       "['hai', 'how', 'are', 'you']"
      ]
     },
     "execution_count": 7,
     "metadata": {},
     "output_type": "execute_result"
    }
   ],
   "source": [
    "l1=str1.split()\n",
    "l1"
   ]
  },
  {
   "cell_type": "code",
   "execution_count": 17,
   "id": "62dfbdcf-8c3c-450e-b28c-441a0b50f02a",
   "metadata": {},
   "outputs": [
    {
     "data": {
      "text/plain": [
       "'hai how are you'"
      ]
     },
     "execution_count": 17,
     "metadata": {},
     "output_type": "execute_result"
    }
   ],
   "source": [
    "space=' '\n",
    "space.join(l1)"
   ]
  },
  {
   "cell_type": "code",
   "execution_count": 19,
   "id": "7215db11-8867-482b-9186-42999a4d8716",
   "metadata": {},
   "outputs": [
    {
     "data": {
      "text/plain": [
       "'haihowareyou'"
      ]
     },
     "execution_count": 19,
     "metadata": {},
     "output_type": "execute_result"
    }
   ],
   "source": [
    "''.join(l1)"
   ]
  },
  {
   "cell_type": "code",
   "execution_count": 21,
   "id": "81394798-2da6-475d-a684-a313809af7ad",
   "metadata": {},
   "outputs": [
    {
     "data": {
      "text/plain": [
       "['hai', 'how', 'are', 'you']"
      ]
     },
     "execution_count": 21,
     "metadata": {},
     "output_type": "execute_result"
    }
   ],
   "source": [
    "l1"
   ]
  },
  {
   "cell_type": "code",
   "execution_count": 23,
   "id": "b9605b3e-e249-471e-ac10-e1fe1eebf959",
   "metadata": {},
   "outputs": [
    {
     "data": {
      "text/plain": [
       "'hai===>how===>are===>you'"
      ]
     },
     "execution_count": 23,
     "metadata": {},
     "output_type": "execute_result"
    }
   ],
   "source": [
    "'===>'.join(l1)"
   ]
  },
  {
   "cell_type": "code",
   "execution_count": null,
   "id": "4813f714-86e1-48a9-b173-16682daf3b2b",
   "metadata": {},
   "outputs": [],
   "source": [
    "split('hai how are you')  # inbuit function\n",
    "'hai how are you'.split() # method"
   ]
  },
  {
   "cell_type": "code",
   "execution_count": 27,
   "id": "cf019867-508e-451d-b9e9-bb892f52cef0",
   "metadata": {},
   "outputs": [
    {
     "data": {
      "text/plain": [
       "'The sun peeks out through skies so blue,\\nA morning kiss with drops of dew.\\nThe trees all dance in gentle breeze,\\nWhispers soft through fields and leaves.\\nA quiet world, so fresh, so new.'"
      ]
     },
     "execution_count": 27,
     "metadata": {},
     "output_type": "execute_result"
    }
   ],
   "source": [
    "# we will take one string\n",
    "# split the string \n",
    "# calculate len of each string \n",
    "# if len>3 then we will take those words in a new list\n",
    "# then we will join those words then join those word\n",
    "\n",
    "text='''The sun peeks out through skies so blue,\n",
    "A morning kiss with drops of dew.\n",
    "The trees all dance in gentle breeze,\n",
    "Whispers soft through fields and leaves.\n",
    "A quiet world, so fresh, so new.'''\n",
    "text"
   ]
  },
  {
   "cell_type": "code",
   "execution_count": 31,
   "id": "f52d2eb3-b61b-4911-8a27-93d0201716be",
   "metadata": {
    "scrolled": true
   },
   "outputs": [
    {
     "data": {
      "text/plain": [
       "['The',\n",
       " 'sun',\n",
       " 'peeks',\n",
       " 'out',\n",
       " 'through',\n",
       " 'skies',\n",
       " 'so',\n",
       " 'blue,',\n",
       " 'A',\n",
       " 'morning',\n",
       " 'kiss',\n",
       " 'with',\n",
       " 'drops',\n",
       " 'of',\n",
       " 'dew.',\n",
       " 'The',\n",
       " 'trees',\n",
       " 'all',\n",
       " 'dance',\n",
       " 'in',\n",
       " 'gentle',\n",
       " 'breeze,',\n",
       " 'Whispers',\n",
       " 'soft',\n",
       " 'through',\n",
       " 'fields',\n",
       " 'and',\n",
       " 'leaves.',\n",
       " 'A',\n",
       " 'quiet',\n",
       " 'world,',\n",
       " 'so',\n",
       " 'fresh,',\n",
       " 'so',\n",
       " 'new.']"
      ]
     },
     "execution_count": 31,
     "metadata": {},
     "output_type": "execute_result"
    }
   ],
   "source": [
    "text_split=text.split()\n",
    "text_split"
   ]
  },
  {
   "cell_type": "code",
   "execution_count": 39,
   "id": "b444929b-aaa0-46fa-a436-6fcddb8b7acc",
   "metadata": {},
   "outputs": [
    {
     "name": "stdout",
     "output_type": "stream",
     "text": [
      "['peeks', 'through', 'skies', 'blue,', 'morning', 'kiss', 'with', 'drops', 'dew.', 'trees', 'dance', 'gentle', 'breeze,', 'Whispers', 'soft', 'through', 'fields', 'leaves.', 'quiet', 'world,', 'fresh,', 'new.']\n"
     ]
    },
    {
     "data": {
      "text/plain": [
       "'peeks through skies blue, morning kiss with drops dew. trees dance gentle breeze, Whispers soft through fields leaves. quiet world, fresh, new.'"
      ]
     },
     "execution_count": 39,
     "metadata": {},
     "output_type": "execute_result"
    }
   ],
   "source": [
    "new_string=[]\n",
    "\n",
    "\n",
    "for i in text_split:\n",
    "    if len(i)>3:\n",
    "        new_string.append(i)\n",
    "print(new_string)\n",
    "' '.join(new_string)"
   ]
  },
  {
   "cell_type": "code",
   "execution_count": null,
   "id": "b406088e-c5c2-4726-b4d6-ff6571591758",
   "metadata": {},
   "outputs": [],
   "source": []
  },
  {
   "cell_type": "markdown",
   "id": "d54ebf38-3e87-45c7-a273-9dbf7d9ea853",
   "metadata": {},
   "source": [
    "1️⃣ List Initialization\n",
    "🔹 What is a list?\n",
    "A list is an ordered collection of items (numbers, strings, or mixed types).\n",
    "\n",
    "Lists are mutable, meaning they can be changed.\n",
    "\n",
    "🔹 How to initialize a list?\n",
    "\n",
    "    numbers = [10, 20, 30, 40, 50]\n",
    "    fruits = [\"apple\", \"banana\", \"cherry\"]\n",
    "    mixed = [1, \"hello\", 3.5, True]\n",
    "    empty_list = []\n",
    "\n",
    "✅ Try This:\n",
    "\n",
    "Create a list of your 5 favorite movies.\n",
    "\n",
    "Print the list and type using type()"
   ]
  },
  {
   "cell_type": "code",
   "execution_count": 15,
   "id": "94f14fb2-ea60-4fa1-8353-ac541ed390e2",
   "metadata": {},
   "outputs": [],
   "source": [
    "# Create a list of your 5 favorite movies.\n",
    "\n",
    "movies=['Jersey','Billa','Kaleja','Mirchi','Rebel']"
   ]
  },
  {
   "cell_type": "code",
   "execution_count": 17,
   "id": "1b704e01-f7a6-4e78-9e2e-7b05f717d440",
   "metadata": {},
   "outputs": [
    {
     "name": "stdout",
     "output_type": "stream",
     "text": [
      "['Jersey', 'Billa', 'Kaleja', 'Mirchi', 'Rebel']\n"
     ]
    },
    {
     "data": {
      "text/plain": [
       "list"
      ]
     },
     "execution_count": 17,
     "metadata": {},
     "output_type": "execute_result"
    }
   ],
   "source": [
    "#Print the list and type using type()\n",
    "\n",
    "print(movies)\n",
    "type(movies)"
   ]
  },
  {
   "cell_type": "markdown",
   "id": "44bc2435-ab92-4df2-9b80-7aac92a3e498",
   "metadata": {},
   "source": [
    "2️⃣ Basic Functions on Lists\n",
    "\n",
    "🔹 Useful Functions:\n",
    "len() → number of elements\n",
    "\n",
    "sum() → sum of numeric list\n",
    "\n",
    "min() / max() → smallest & largest element\n",
    "\n",
    "sorted() → returns a new sorted list\n",
    "\n",
    "reversed() → returns a reverse iterator\n",
    "\n",
    "\n",
    "    numbers = [10, 50, 30, 20]\n",
    "    print(len(numbers))        # 4\n",
    "    print(sum(numbers))        # 110\n",
    "    print(min(numbers))        # 10\n",
    "    print(max(numbers))        # 50\n",
    "    print(sorted(numbers))     # [10, 20, 30, 50]\n",
    "    print(list(reversed(numbers)))  # [20, 30, 50, 10]\n",
    "    \n",
    "✅ Try This:\n",
    "\n",
    "Create a list of 6 random numbers.\n",
    "\n",
    "Print its sum, min, max, sorted order, and reversed order."
   ]
  },
  {
   "cell_type": "code",
   "execution_count": 20,
   "id": "af28d18c-f6f1-46a7-881e-6c248baa8480",
   "metadata": {},
   "outputs": [
    {
     "name": "stdout",
     "output_type": "stream",
     "text": [
      "430\n",
      "10\n",
      "150\n",
      "[10, 30, 50, 90, 100, 150]\n",
      "[150, 100, 90, 50, 30, 10]\n"
     ]
    }
   ],
   "source": [
    "# Create a list of 6 random numbers.\n",
    "\n",
    "random_list=[10,30,50,90,100,150]\n",
    "\n",
    "# Print its sum, min, max, sorted order, and reversed order.\n",
    "\n",
    "print(sum(random_list))\n",
    "print(min(random_list))\n",
    "print(max(random_list))\n",
    "print(sorted(random_list))\n",
    "print(list(reversed(random_list)))"
   ]
  },
  {
   "cell_type": "markdown",
   "id": "8a36aed0-3edb-47be-a3c2-2d68aa7f8058",
   "metadata": {},
   "source": [
    "3️⃣ Indexing & Accessing Elements\n",
    "Lists support indexing (0-based).\n",
    "\n",
    "Negative index -1 gives the last element.\n",
    "\n",
    "    numbers = [10, 20, 30, 40, 50]\n",
    "    print(numbers[0])   # 10\n",
    "    print(numbers[-1])  # 50\n",
    "    \n",
    "✅ Try This:\n",
    "\n",
    "Access the second and second-last elements of your movie list."
   ]
  },
  {
   "cell_type": "code",
   "execution_count": 23,
   "id": "17702a42-97e5-4e07-865a-12e88ac03658",
   "metadata": {},
   "outputs": [
    {
     "name": "stdout",
     "output_type": "stream",
     "text": [
      "Billa Mirchi\n"
     ]
    }
   ],
   "source": [
    "# Access the second and second-last elements of your movie list.\n",
    "\n",
    "print(movies[1],movies[-2])"
   ]
  },
  {
   "cell_type": "code",
   "execution_count": 27,
   "id": "5cdba865-6e48-4d2c-9f1e-5f019798be32",
   "metadata": {},
   "outputs": [
    {
     "data": {
      "text/plain": [
       "['Billa', 'Mirchi']"
      ]
     },
     "execution_count": 27,
     "metadata": {},
     "output_type": "execute_result"
    }
   ],
   "source": [
    "movies[1::2]    # index at the second element and the end to default and step=2 then it move two steps forward towards second last element"
   ]
  },
  {
   "cell_type": "markdown",
   "id": "8e9c4f8f-da3f-4203-97ec-40c10ccb32db",
   "metadata": {},
   "source": [
    "4️⃣ Mutable vs Immutable\n",
    "\n",
    "Lists are mutable: You can change elements.\n",
    "\n",
    "Strings/Tuples are immutable: Cannot change elements directly.\n",
    "\n",
    "    numbers = [10, 20, 30]\n",
    "    numbers[1] = 200\n",
    "    print(numbers)  # [10, 200, 30]\n",
    "    \n",
    "✅ Try This:\n",
    "\n",
    "Change the 3rd movie in your movie list.\n",
    "\n",
    "Try to change a character in a string and see the error."
   ]
  },
  {
   "cell_type": "code",
   "execution_count": 31,
   "id": "454c1d23-653e-4417-a67a-d266ab779cc4",
   "metadata": {},
   "outputs": [
    {
     "name": "stdout",
     "output_type": "stream",
     "text": [
      "['Jersey', 'Billa', 'Bahubali', 'Mirchi', 'Rebel']\n"
     ]
    }
   ],
   "source": [
    "# Change the 3rd movie in your movie list.\n",
    "\n",
    "movies[2]=\"Bahubali\"    # 3rd movie refers to the 2nd index where the list index start at the default at '0'\n",
    "print(movies)           # List are mutable it can change value directly by using the index"
   ]
  },
  {
   "cell_type": "code",
   "execution_count": 49,
   "id": "a6c69083-0bdd-45db-924e-b3692dda20d1",
   "metadata": {},
   "outputs": [],
   "source": [
    "string='A','B','C'"
   ]
  },
  {
   "cell_type": "code",
   "execution_count": 55,
   "id": "57ca1ea1-4235-4395-bd4a-0db87c775a4b",
   "metadata": {},
   "outputs": [
    {
     "ename": "TypeError",
     "evalue": "'tuple' object does not support item assignment",
     "output_type": "error",
     "traceback": [
      "\u001b[1;31m---------------------------------------------------------------------------\u001b[0m",
      "\u001b[1;31mTypeError\u001b[0m                                 Traceback (most recent call last)",
      "Cell \u001b[1;32mIn[55], line 3\u001b[0m\n\u001b[0;32m      1\u001b[0m \u001b[38;5;66;03m# Try to change a character in a string and see the error.\u001b[39;00m\n\u001b[1;32m----> 3\u001b[0m string[\u001b[38;5;241m0\u001b[39m]\u001b[38;5;241m=\u001b[39m\u001b[38;5;124m'\u001b[39m\u001b[38;5;124mB\u001b[39m\u001b[38;5;124m'\u001b[39m\n\u001b[0;32m      4\u001b[0m string\n",
      "\u001b[1;31mTypeError\u001b[0m: 'tuple' object does not support item assignment"
     ]
    }
   ],
   "source": [
    "# Try to change a character in a string and see the error.\n",
    "\n",
    "string='B' # TypeError: 'tuple' object does not support item assignment String are immutable"
   ]
  },
  {
   "cell_type": "markdown",
   "id": "498dbd87-b657-4eac-a54c-ca90069091eb",
   "metadata": {},
   "source": [
    "5️⃣ Concatenation & Repetition\n",
    "\n",
    "    a = [1, 2]\n",
    "    b = [3, 4]\n",
    "    print(a + b)      # [1, 2, 3, 4]\n",
    "    print(a * 3)      # [1, 2, 1, 2, 1, 2]\n",
    "\n",
    "✅ Try This:\n",
    "\n",
    "Combine two lists of fruits and print 3 times using *"
   ]
  },
  {
   "cell_type": "code",
   "execution_count": 62,
   "id": "fdfc457a-ea4a-4b14-a9db-904bdc583918",
   "metadata": {},
   "outputs": [
    {
     "name": "stdout",
     "output_type": "stream",
     "text": [
      "['apple', 'banana', 'orange', 'Grapes', 'Pineapple', 'Dragon Fruit']\n",
      "['apple', 'banana', 'orange', 'Grapes', 'Pineapple', 'Dragon Fruit', 'apple', 'banana', 'orange', 'Grapes', 'Pineapple', 'Dragon Fruit', 'apple', 'banana', 'orange', 'Grapes', 'Pineapple', 'Dragon Fruit']\n"
     ]
    }
   ],
   "source": [
    "# Combine two lists of fruits and print 3 times using *\n",
    "\n",
    "lst_1=['apple','banana','orange']\n",
    "lst_2=['Grapes','Pineapple','Dragon Fruit']\n",
    "\n",
    "lst_3=lst_1+lst_2\n",
    "print(lst_3)\n",
    "print(lst_3*3)"
   ]
  },
  {
   "cell_type": "code",
   "execution_count": 43,
   "id": "773206ae-38cf-407f-804e-6652376eb27d",
   "metadata": {},
   "outputs": [
    {
     "name": "stdout",
     "output_type": "stream",
     "text": [
      "['apple', 'banana', 'cherry', 'mango']\n",
      "apple\n"
     ]
    }
   ],
   "source": [
    "# Create a list called fruits with 4 items of your choice (any fruit names).\n",
    "# Then print the whole list and the first item.\n",
    "\n",
    "fruits=['apple','banana','cherry','mango']\n",
    "\n",
    "print(fruits)\n",
    "print(fruits[0])"
   ]
  },
  {
   "cell_type": "code",
   "execution_count": 45,
   "id": "cb35f7db-ada7-43dd-9f69-f6de3ee7bd99",
   "metadata": {},
   "outputs": [
    {
     "data": {
      "text/plain": [
       "('mango', 'cherry')"
      ]
     },
     "execution_count": 45,
     "metadata": {},
     "output_type": "execute_result"
    }
   ],
   "source": [
    "# 👉 Access the last item in your list, and also the second last item using negative indexing.\n",
    "\n",
    "# Negative Indexing\n",
    "\n",
    "fruits[-1],fruits[-2]"
   ]
  },
  {
   "cell_type": "code",
   "execution_count": 47,
   "id": "13ba6ca5-a0ec-4cdc-a4a1-d2ced6c927fe",
   "metadata": {},
   "outputs": [
    {
     "data": {
      "text/plain": [
       "(['apple', 'banana'], ['cherry', 'mango'])"
      ]
     },
     "execution_count": 47,
     "metadata": {},
     "output_type": "execute_result"
    }
   ],
   "source": [
    "''' Instead of picking just one item, you can grab a range of items.\n",
    "\n",
    "👉 Try taking the first two items from your fruits list.\n",
    "👉 Then try taking everything from the second item to the end.'''\n",
    "\n",
    "fruits[:2],fruits[2:]   # Here the index start at default 0 and then next end at default but start at 2"
   ]
  },
  {
   "cell_type": "code",
   "execution_count": 49,
   "id": "13031164-ea79-48de-80bb-48557d6493af",
   "metadata": {},
   "outputs": [
    {
     "name": "stdout",
     "output_type": "stream",
     "text": [
      "['apple', 'Grape', 'cherry', 'mango']\n"
     ]
    }
   ],
   "source": [
    "'''Lists are mutable, meaning you can change items.\n",
    "\n",
    "👉 Try changing the second item ('banana') into another fruit of your choice.\n",
    "👉 Then print the list again to see the update.'''\n",
    "\n",
    "fruits[1]='Grape'     # Changing the name of Banana to the Grape Because that List Are Mutable\n",
    "print(fruits)"
   ]
  },
  {
   "cell_type": "code",
   "execution_count": 51,
   "id": "a8eafe29-0ec9-4b3c-b403-8be6501f568b",
   "metadata": {},
   "outputs": [
    {
     "name": "stdout",
     "output_type": "stream",
     "text": [
      "['apple', 'PineApple', 'Grape', 'cherry', 'mango', 'Banana']\n"
     ]
    }
   ],
   "source": [
    "'''Next Exploration: Adding new items\n",
    "\n",
    "👉 Try two things:\n",
    "\n",
    "Add a new fruit at the end of the list.\n",
    "\n",
    "Insert a new fruit at the second position in the list.'''\n",
    "\n",
    "fruits.append('Banana')\n",
    "fruits.insert(1,'PineApple')\n",
    "print(fruits)"
   ]
  },
  {
   "cell_type": "code",
   "execution_count": 53,
   "id": "cda36d07-9cb6-49c4-8655-2743dd1e1b4f",
   "metadata": {},
   "outputs": [
    {
     "name": "stdout",
     "output_type": "stream",
     "text": [
      "['PineApple', 'Grape', 'cherry', 'mango']\n"
     ]
    }
   ],
   "source": [
    "'''Next Exploration: Removing items\n",
    "\n",
    "👉 Try removing:\n",
    "\n",
    "A fruit by its value (e.g., remove \"apple\").\n",
    "\n",
    "A fruit by its index (e.g., remove the item at position 2).'''\n",
    "\n",
    "fruits.remove('Banana')    # Possible to remove the Values by the String value\n",
    "fruits.remove(fruits[0])   # Possible to remove the values by using the index aslo\n",
    "\n",
    "print(fruits)"
   ]
  },
  {
   "cell_type": "code",
   "execution_count": 55,
   "id": "ef3c316d-2dd0-46ea-9814-ace22d2f1d7e",
   "metadata": {},
   "outputs": [
    {
     "data": {
      "text/plain": [
       "'mango'"
      ]
     },
     "execution_count": 55,
     "metadata": {},
     "output_type": "execute_result"
    }
   ],
   "source": [
    "fruits.pop()     # Remove the last element if the args are default"
   ]
  },
  {
   "cell_type": "code",
   "execution_count": 59,
   "id": "40fd85e0-362b-4bea-973f-c8d4b2b5bdb5",
   "metadata": {},
   "outputs": [
    {
     "data": {
      "text/plain": [
       "'PineApple'"
      ]
     },
     "execution_count": 59,
     "metadata": {},
     "output_type": "execute_result"
    }
   ],
   "source": [
    "fruits.pop(0)   # Remove the Value using the index here we cant mention the list string or Value only Index is possible"
   ]
  },
  {
   "cell_type": "code",
   "execution_count": 61,
   "id": "9dee557c-0b30-4d08-aa11-840a4c64f34c",
   "metadata": {},
   "outputs": [
    {
     "name": "stdout",
     "output_type": "stream",
     "text": [
      "['Grape', 'cherry']\n"
     ]
    }
   ],
   "source": [
    "print(fruits)"
   ]
  },
  {
   "cell_type": "code",
   "execution_count": 84,
   "id": "95aeb71f-3616-4235-96c6-2f42545234b7",
   "metadata": {},
   "outputs": [
    {
     "name": "stdout",
     "output_type": "stream",
     "text": [
      "[1, 2, 3, 4, 5, [6, 7, 8, 9, 10]]\n"
     ]
    }
   ],
   "source": [
    "'''⚡ Next Challenge:\n",
    "Can you think of a way to combine two lists of fruits into one?\n",
    "(Hint: there’s a method that joins them, and another way using the + operator.)'''\n",
    "\n",
    "# We Can Join the two list using an Operator or Method we Are going do both\n",
    "\n",
    "list_one=[1,2,3,4,5]\n",
    "list_two=[6,7,8,9,10]\n",
    "\n",
    "# print(list_one+list_two)  # Using the '+' Operator\n",
    "# list_one.extend(list_two)\n",
    "# list_one\n",
    "list_one.append(list_two)\n",
    "print(list_one)"
   ]
  },
  {
   "cell_type": "code",
   "execution_count": 129,
   "id": "2a901efe-fc39-46c7-bd67-e3221f2246bf",
   "metadata": {},
   "outputs": [
    {
     "name": "stdout",
     "output_type": "stream",
     "text": [
      "[1, 2, 3, 4, 5, 6, 7, 8, 9, 10]\n"
     ]
    }
   ],
   "source": [
    "new_list=[]\n",
    "l=len(list_one)\n",
    "\n",
    "for i in range(l):\n",
    "    if isinstance(list_one[i], list):\n",
    "        for item in list_one[i]:\n",
    "            new_list.append(item)\n",
    "    else:\n",
    "        new_list.append(list_one[i])\n",
    "print(new_list)"
   ]
  },
  {
   "cell_type": "code",
   "execution_count": 119,
   "id": "1aa1596b-7437-4a68-839e-2e8d3c314c78",
   "metadata": {},
   "outputs": [
    {
     "name": "stdout",
     "output_type": "stream",
     "text": [
      "1\n",
      "2\n",
      "3\n",
      "4\n",
      "5\n",
      "[6, 7, 8, 9, 10]\n"
     ]
    }
   ],
   "source": []
  },
  {
   "cell_type": "code",
   "execution_count": 137,
   "id": "5e568448-0db2-4ee4-ba4f-bbe2684d606e",
   "metadata": {},
   "outputs": [
    {
     "name": "stdout",
     "output_type": "stream",
     "text": [
      "[1, 2, 3, 4, 5, 6, 7, 8, 9, 10]\n"
     ]
    }
   ],
   "source": [
    "new_list1=[]\n",
    "l=len(list_one)\n",
    "\n",
    "for i in list_one:\n",
    "    if isinstance(i, list):\n",
    "        for item in i:\n",
    "            new_list1.append(item)\n",
    "    else:\n",
    "        new_list1.append(i)\n",
    "print(new_list1)"
   ]
  },
  {
   "cell_type": "markdown",
   "id": "4db22020-058e-4256-998d-8cc3efa0fded",
   "metadata": {},
   "source": [
    "**Built-in Methods**"
   ]
  },
  {
   "cell_type": "markdown",
   "id": "e8fae30a-aa24-4759-8836-0b8f6244dc62",
   "metadata": {},
   "source": [
    "**1) Length of the list**\n",
    "\n",
    "Use the built-in function that tells you how many items are in a container.\n",
    "\n",
    "Apply it to your new_list1 and print the result.\n",
    "\n",
    "You should see 10 with your current list.\n",
    "\n",
    "mini-challenge: add one more number to new_list1, check the length again, then remove one item and check once more.'''"
   ]
  },
  {
   "cell_type": "code",
   "execution_count": 140,
   "id": "3fd65e0a-8197-4391-8729-e2c3c73f950c",
   "metadata": {},
   "outputs": [
    {
     "name": "stdout",
     "output_type": "stream",
     "text": [
      "5\n",
      "10\n"
     ]
    }
   ],
   "source": [
    "list_num=[1,2,3,4,5]\n",
    "\n",
    "print(len(list_num))    # Printing the Length of the list using the 'len()' method\n",
    "print(len(new_list1))"
   ]
  },
  {
   "cell_type": "code",
   "execution_count": 146,
   "id": "e3123b25-e997-47dc-919a-137f672fcd5b",
   "metadata": {},
   "outputs": [
    {
     "name": "stdout",
     "output_type": "stream",
     "text": [
      "[1, 2, 3, 4, 5, [6, 7, 8, 9, 10, 111, 12, 13, 14, 15], [6, 7, 8, 9, 10, 111, 12, 13, 14, 15]]\n"
     ]
    }
   ],
   "source": [
    "# Adding more elements to the list\n",
    "\n",
    "list_num.append([6,7,8,9,10,111,12,13,14,15]) # Added the new list to the previous list using the append\n",
    "print(list_num)"
   ]
  },
  {
   "cell_type": "code",
   "execution_count": 152,
   "id": "b833d89a-bc49-42ae-add1-d7d02f672c12",
   "metadata": {},
   "outputs": [
    {
     "name": "stdout",
     "output_type": "stream",
     "text": [
      "[1, 2, 3, 4, 5, 6, 7, 8, 9, 10, 11, 12, 13, 14, 15, 11, 12, 13, 14, 15]\n"
     ]
    }
   ],
   "source": [
    "new_list1.extend([11,12,13,14,15])\n",
    "print(new_list1)      # Added the elements using the extend Method"
   ]
  },
  {
   "cell_type": "markdown",
   "id": "05246858-ee41-47c3-bdcc-7ba9dd07b05b",
   "metadata": {},
   "source": [
    "**2) Accessing elements with indexing**\n",
    "\n",
    "pick the 3rd element from your new_list1 (remember: Python starts counting from 0).\n",
    "\n",
    "also try the last element using negative indexing.\n",
    "\n",
    "👉 mini-challenge: print both values together in one line."
   ]
  },
  {
   "cell_type": "code",
   "execution_count": 165,
   "id": "a30fa192-3c06-4174-8442-3d4f8a087b40",
   "metadata": {},
   "outputs": [
    {
     "name": "stdout",
     "output_type": "stream",
     "text": [
      "C\n",
      "4\n"
     ]
    }
   ],
   "source": [
    "list_items=['A','B','C','D',1,2,3,4]\n",
    "\n",
    "print(list_items[2])  # Picking the 3rd element from the list\n",
    "print(list_items[-1]) # last element using the Negative indexing"
   ]
  },
  {
   "cell_type": "code",
   "execution_count": 167,
   "id": "40087e0c-e116-434d-b974-82618dc2ab6a",
   "metadata": {},
   "outputs": [
    {
     "data": {
      "text/plain": [
       "('C', 4)"
      ]
     },
     "execution_count": 167,
     "metadata": {},
     "output_type": "execute_result"
    }
   ],
   "source": [
    "# printing both values together in one line.\n",
    "\n",
    "list_items[2],list_items[-1]"
   ]
  },
  {
   "cell_type": "markdown",
   "id": "30ab0251-4a22-4794-9612-23cfc2a760a2",
   "metadata": {},
   "source": [
    "**3) Slicing a list**\n",
    "\n",
    "try getting only the first 3 elements from your new_list1.\n",
    "\n",
    "then, get everything from the 3rd element onward.\n",
    "\n",
    "finally, grab the middle part (exclude the first and last elements).\n",
    "\n",
    "👉 hint: slicing works like this → list[start:end]\n",
    "(start is inclusive, end is exclusive)."
   ]
  },
  {
   "cell_type": "code",
   "execution_count": 183,
   "id": "f9a44694-7ef1-49c8-8b3b-7bcbf9a7d297",
   "metadata": {},
   "outputs": [
    {
     "name": "stdout",
     "output_type": "stream",
     "text": [
      "['A', 'B', 'C']\n",
      "['D', 1, 2, 3, 4]\n"
     ]
    }
   ],
   "source": [
    "# Slicing means getting a Substring from a list or a specific part from the list\n",
    "\n",
    "print(list_items[:3])    # Trying to get first 3 elements from your list_items.\n",
    "print(list_items[3:])    # Rest of the elements from 3rd index"
   ]
  },
  {
   "cell_type": "code",
   "execution_count": 191,
   "id": "053f11a5-0b10-4f38-b112-7368d73dbaba",
   "metadata": {},
   "outputs": [
    {
     "name": "stdout",
     "output_type": "stream",
     "text": [
      "['D', 1]\n"
     ]
    }
   ],
   "source": [
    "print(list_items[3:5])    # Middle part of the list"
   ]
  },
  {
   "cell_type": "markdown",
   "id": "21fa670b-3c03-4139-a93b-deb729fb7461",
   "metadata": {},
   "source": [
    "**4) Sorting and Reversing a list**\n",
    "\n",
    "Take a new list and try these:\n",
    "\n",
    "Sort it in ascending order.\n",
    "\n",
    "Sort it in descending order.\n",
    "\n",
    "Reverse it (without sorting).\n",
    "\n",
    "👉 hint:\n",
    "\n",
    "use .sort() for in-place sorting.\n",
    "\n",
    "use sorted(list, reverse=True) for a new sorted list.\n",
    "\n",
    "use .reverse() to flip the list."
   ]
  },
  {
   "cell_type": "code",
   "execution_count": 207,
   "id": "25c8a853-8794-4a72-9633-2f84f974abea",
   "metadata": {},
   "outputs": [
    {
     "name": "stdout",
     "output_type": "stream",
     "text": [
      "[1, 2, 3, 4, 5]\n"
     ]
    }
   ],
   "source": [
    "list_num=[5,4,3,2,1]\n",
    "\n",
    "list_num.sort()\n",
    "print(list_num)"
   ]
  },
  {
   "cell_type": "code",
   "execution_count": 216,
   "id": "c1141381-435a-4b76-8ccc-f517909d87ab",
   "metadata": {},
   "outputs": [
    {
     "name": "stdout",
     "output_type": "stream",
     "text": [
      "[9, 8, 7, 6, 5, 4, 3, 2, 1]\n"
     ]
    }
   ],
   "source": [
    "list_num1=[1,2,3,4,5,6,7,8,9]\n",
    "\n",
    "list_num1.sort(reverse=True)\n",
    "print(list_num1)"
   ]
  },
  {
   "cell_type": "code",
   "execution_count": 218,
   "id": "221626ca-7309-4500-afa9-d43d0d57e4b8",
   "metadata": {},
   "outputs": [
    {
     "name": "stdout",
     "output_type": "stream",
     "text": [
      "[1, 2, 3, 4, 5, 6, 7, 8, 9]\n"
     ]
    }
   ],
   "source": [
    "list_num1.reverse()\n",
    "print(list_num1)"
   ]
  },
  {
   "cell_type": "markdown",
   "id": "e6e84d13-1893-4b3d-ab5a-f2380bf12cbd",
   "metadata": {},
   "source": [
    "**5) List Slicing Tricks**\n",
    "\n",
    "You already know simple slices like fruits[:2].\n",
    "Now try these on your new_list1 (or any list you like):\n",
    "\n",
    "Get every 2nd element.\n",
    "\n",
    "Get the list in reverse order using slicing.\n",
    "\n",
    "Get a middle chunk (say from index 2 to 5).\n",
    "\n",
    "👉 hint: slicing has the form [start:end:step].\n",
    "Play with the step (positive and negative) and see what happens.\n",
    "\n",
    "want to try one?"
   ]
  },
  {
   "cell_type": "markdown",
   "id": "68e9bfe6-4ab1-41c5-825e-20347ea87fe9",
   "metadata": {},
   "source": [
    "[1, 2, 3, 4, 5, 6, 7, 8, 9]`"
   ]
  },
  {
   "cell_type": "code",
   "execution_count": 221,
   "id": "4b3d291c-3d8a-44dd-9c50-f991ca64da30",
   "metadata": {},
   "outputs": [
    {
     "data": {
      "text/plain": [
       "2"
      ]
     },
     "execution_count": 221,
     "metadata": {},
     "output_type": "execute_result"
    }
   ],
   "source": [
    "list_num1[1] # for the 2d element"
   ]
  },
  {
   "cell_type": "code",
   "execution_count": 224,
   "id": "2ebebc23-461b-4bc7-8d7e-050e649ccf9c",
   "metadata": {},
   "outputs": [
    {
     "data": {
      "text/plain": [
       "[9, 8, 7, 6, 5, 4, 3, 2, 1]"
      ]
     },
     "execution_count": 224,
     "metadata": {},
     "output_type": "execute_result"
    }
   ],
   "source": [
    "# List in reverse order using the slicing\n",
    "\n",
    "list_num1[::-1]"
   ]
  },
  {
   "cell_type": "code",
   "execution_count": 226,
   "id": "7d7a1ee5-7aec-4d99-97ea-77a214412d4c",
   "metadata": {},
   "outputs": [
    {
     "data": {
      "text/plain": [
       "[3, 4, 5]"
      ]
     },
     "execution_count": 226,
     "metadata": {},
     "output_type": "execute_result"
    }
   ],
   "source": [
    "list_num1[2:5]"
   ]
  },
  {
   "cell_type": "code",
   "execution_count": 228,
   "id": "b1551cb2-c14b-472e-ab2a-7a10e6f9d7cc",
   "metadata": {},
   "outputs": [
    {
     "data": {
      "text/plain": [
       "[2, 4, 6]"
      ]
     },
     "execution_count": 228,
     "metadata": {},
     "output_type": "execute_result"
    }
   ],
   "source": [
    "list_num1[1:6:2]   # Slicing Depend on this [start:end:step] index start at start and end and step to move forward(+) or Backward(-)"
   ]
  },
  {
   "cell_type": "markdown",
   "id": "9e266533-8c50-4559-94d9-80188bfcf132",
   "metadata": {},
   "source": [
    "**6) Sorting & Reversing Lists**\n",
    "\n",
    "With lists, you can rearrange items easily:\n",
    "\n",
    "Reverse the order of a list.\n",
    "\n",
    "Sort numbers in ascending order.\n",
    "\n",
    "Sort numbers in descending order.\n",
    "\n",
    "Try sorting a list of strings (like fruits).\n",
    "\n",
    "👉 hint: use the built-in methods instead of writing your own loop."
   ]
  },
  {
   "cell_type": "code",
   "execution_count": 241,
   "id": "480db1fc-8d37-43bd-ae14-6c4f5ce91b75",
   "metadata": {},
   "outputs": [
    {
     "name": "stdout",
     "output_type": "stream",
     "text": [
      "[9, 8, 7, 6, 5, 4, 3, 2, 1]\n"
     ]
    }
   ],
   "source": [
    "# Reverse the order of a list.\n",
    "\n",
    "list_num1.sort(reverse=True)\n",
    "print(list_num1) "
   ]
  },
  {
   "cell_type": "code",
   "execution_count": 243,
   "id": "893a93f2-681f-4de9-93ab-8d724d383e7a",
   "metadata": {},
   "outputs": [
    {
     "data": {
      "text/plain": [
       "[1, 2, 3, 4, 5, 6, 7, 8, 9]"
      ]
     },
     "execution_count": 243,
     "metadata": {},
     "output_type": "execute_result"
    }
   ],
   "source": [
    "# Sort numbers in ascending order.\n",
    "\n",
    "list_num1.sort()\n",
    "list_num1"
   ]
  },
  {
   "cell_type": "code",
   "execution_count": 247,
   "id": "cca56889-b32f-42ab-a9fa-fd563f97478d",
   "metadata": {},
   "outputs": [
    {
     "data": {
      "text/plain": [
       "[9, 8, 7, 6, 5, 4, 3, 2, 1]"
      ]
     },
     "execution_count": 247,
     "metadata": {},
     "output_type": "execute_result"
    }
   ],
   "source": [
    "# Sort numbers in descending order.\n",
    "\n",
    "list_num1.sort(reverse=True)\n",
    "list_num1"
   ]
  },
  {
   "cell_type": "code",
   "execution_count": 251,
   "id": "89facd77-5c36-4f8c-853f-71551082a4f5",
   "metadata": {},
   "outputs": [
    {
     "data": {
      "text/plain": [
       "['apple', 'banana', 'cherry', 'mango']"
      ]
     },
     "execution_count": 251,
     "metadata": {},
     "output_type": "execute_result"
    }
   ],
   "source": [
    "# Try sorting a list of strings (like fruits).\n",
    "\n",
    "fruits=['apple','banana','cherry','mango']\n",
    "\n",
    "fruits.sort()\n",
    "fruits"
   ]
  },
  {
   "cell_type": "code",
   "execution_count": 253,
   "id": "de80032c-bdca-4326-9beb-489ff6f35e27",
   "metadata": {},
   "outputs": [
    {
     "data": {
      "text/plain": [
       "['mango', 'cherry', 'banana', 'apple']"
      ]
     },
     "execution_count": 253,
     "metadata": {},
     "output_type": "execute_result"
    }
   ],
   "source": [
    "fruits.sort(reverse=True)\n",
    "fruits"
   ]
  },
  {
   "cell_type": "markdown",
   "id": "182aa36b-6512-4e3a-b310-c24ee3b03095",
   "metadata": {},
   "source": [
    "**7) Nested Lists (Lists inside Lists)**\n",
    "\n",
    "A list can contain another list as an element. This is called a nested list.\n",
    "\n",
    "Access a whole inner list.\n",
    "\n",
    "Access a single element from inside the inner list (like row/column).\n",
    "\n",
    "💡 Think of it like a table (rows and columns)."
   ]
  },
  {
   "cell_type": "code",
   "execution_count": 277,
   "id": "bcfb8d97-f2a2-4db5-b1ac-3f730a228892",
   "metadata": {},
   "outputs": [
    {
     "data": {
      "text/plain": [
       "([1, 2, 3], [4, 5, 6], [7, 8, 9])"
      ]
     },
     "execution_count": 277,
     "metadata": {},
     "output_type": "execute_result"
    }
   ],
   "source": [
    "num_list=[[1,2,3],[4,5,6],[7,8,9]]  # Here we have only 3 indexes which are 0 1 2\n",
    "\n",
    "num_list[0],num_list[1],num_list[2]"
   ]
  },
  {
   "cell_type": "code",
   "execution_count": 281,
   "id": "83b74bf3-3867-400e-8513-59c7170f83eb",
   "metadata": {},
   "outputs": [
    {
     "data": {
      "text/plain": [
       "5"
      ]
     },
     "execution_count": 281,
     "metadata": {},
     "output_type": "execute_result"
    }
   ],
   "source": [
    "# We Want to Access the single Element from the list\n",
    "\n",
    "# Let us think that we want to acces the 1 index and value '5'\n",
    "\n",
    "num_list[1][1]    # We refers to the 1 index and then inside that another 1st index"
   ]
  },
  {
   "cell_type": "markdown",
   "id": "e468c976-7c94-4ee2-8c86-2c839092fbdb",
   "metadata": {},
   "source": [
    "**8) Common List Methods to Explore Next**\n",
    "\n",
    "append() → add one item at the end\n",
    "\n",
    "insert() → add an item at a specific index\n",
    "\n",
    "extend() → add multiple items from another list\n",
    "\n",
    "remove() → remove an item by value\n",
    "\n",
    "pop() → remove an item by index (or last item)\n",
    "\n",
    "count() → count how many times a value appears\n",
    "\n",
    "index() → find the position of a value\n",
    "\n",
    "clear() → remove all items\n",
    "\n",
    "💡 mini-challenge: pick one method you haven’t used yet, try it on your list, and see what happens.\n",
    "\n",
    "Which one do you want to try first?"
   ]
  },
  {
   "cell_type": "markdown",
   "id": "eb1d82d8-c254-467f-b67a-dc5b3f1fd3e1",
   "metadata": {},
   "source": [
    "**Whats the difference between the remove() and pop()**\n",
    "\n",
    "remove() -> Removes an item by its value. Nothing (returns None)\n",
    "\n",
    "pop() -> Removes an item by its index (default last item). Returns the removed item\n",
    "\n"
   ]
  },
  {
   "cell_type": "markdown",
   "id": "75325dc9-02c1-44c8-944a-3c100a896bdd",
   "metadata": {},
   "source": [
    "**9) Counting & Finding Items**\n",
    "\n",
    "Two useful operations:\n",
    "\n",
    "count() → tells you how many times a value appears in the list.\n",
    "\n",
    "index() → tells you the position of the first occurrence of a value.\n",
    "\n",
    "💡 Mini-challenge:\n",
    "\n",
    "Take your current list.\n",
    "\n",
    "Pick a value that appears more than once (or add a duplicate).\n",
    "\n",
    "Use count() to see how many times it appears.\n",
    "\n",
    "Use index() to see where it first appears.\n",
    "\n",
    "Try it and see what you get."
   ]
  },
  {
   "cell_type": "code",
   "execution_count": 327,
   "id": "52d3e269-6b2e-43a7-80d6-cd915a0b1b97",
   "metadata": {},
   "outputs": [
    {
     "name": "stdout",
     "output_type": "stream",
     "text": [
      "[1, 2, 3, 4, 5, 6, 7]\n",
      "1 appears 1 times\n",
      "2 appears 1 times\n",
      "3 appears 2 times\n",
      "4 appears 3 times\n",
      "5 appears 3 times\n",
      "6 appears 3 times\n",
      "7 appears 1 times\n"
     ]
    }
   ],
   "source": [
    "number_list=[1,2,3,3,4,4,4,5,5,5,6,6,6,7]\n",
    "\n",
    "unique_list=[]\n",
    "\n",
    "for i in number_list:\n",
    "    if i not in unique_list:\n",
    "        unique_list.append(i)\n",
    "print(unique_list)\n",
    "\n",
    "for num in unique_list:\n",
    "    print(num, \"appears\", number_list.count(num), \"times\")"
   ]
  },
  {
   "cell_type": "code",
   "execution_count": null,
   "id": "2dbe1339-d15e-48d0-860a-1b47777e40a1",
   "metadata": {},
   "outputs": [],
   "source": []
  }
 ],
 "metadata": {
  "kernelspec": {
   "display_name": "Python [conda env:base] *",
   "language": "python",
   "name": "conda-base-py"
  },
  "language_info": {
   "codemirror_mode": {
    "name": "ipython",
    "version": 3
   },
   "file_extension": ".py",
   "mimetype": "text/x-python",
   "name": "python",
   "nbconvert_exporter": "python",
   "pygments_lexer": "ipython3",
   "version": "3.12.7"
  }
 },
 "nbformat": 4,
 "nbformat_minor": 5
}
