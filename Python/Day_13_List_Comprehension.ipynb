{
 "cells": [
  {
   "cell_type": "markdown",
   "id": "9fc395af-8c9f-4eb4-a1ff-1bbc1aa2566e",
   "metadata": {},
   "source": [
    "**List Comprehension**\n",
    "\n",
    "- writing list operation in a line is called as List Comprehension\n",
    "\n",
    "- Generally Code Process time will be increase when we use for and if\n",
    "\n",
    "- List Comprehension will reduce the processing time"
   ]
  },
  {
   "cell_type": "markdown",
   "id": "49a1db2f-8106-4514-98c0-d3a1ce51ed90",
   "metadata": {},
   "source": [
    "**List Comprehension**\n",
    "\n",
    "List comprehension is a concise way to create lists in Python using a single line of code. It is more readable and often faster than using traditional for-loops and if-statements.\n",
    "\n",
    "**Why use List Comprehension?**\n",
    "- It makes your code shorter and easier to read.\n",
    "- It can reduce the processing time compared to using for and if statements separately.\n",
    "\n",
    "**General Syntax:**\n",
    "```python\n",
    "[expression for item in iterable if condition]\n",
    "```\n",
    "\n",
    "**Example 1: Create a list of squares from 1 to 5**\n",
    "```python\n",
    "squares = [x**2 for x in range(1, 6)]\n",
    "print(squares)  # Output: [1, 4, 9, 16, 25]\n",
    "```\n",
    "\n",
    "**Example 2: Get even numbers from a list**\n",
    "```python\n",
    "numbers = [1, 2, 3, 4, 5, 6]\n",
    "evens = [n for n in numbers if n % 2 == 0]\n",
    "print(evens)  # Output: [2, 4, 6]\n",
    "```\n",
    "\n",
    "List comprehensions help you write clean, efficient, and Pythonic code!"
   ]
  },
  {
   "cell_type": "markdown",
   "id": "354dae18-5915-4c87-895e-11a219e28aec",
   "metadata": {},
   "source": [
    "**List with For Loop**"
   ]
  },
  {
   "cell_type": "code",
   "execution_count": 8,
   "id": "9d59d576-246f-4f3c-b57a-6f7b2dabfa38",
   "metadata": {},
   "outputs": [
    {
     "name": "stdout",
     "output_type": "stream",
     "text": [
      "[1, 2, 3, 4, 5, 6, 7, 8, 9, 10]\n"
     ]
    }
   ],
   "source": [
    "# append 1 to 10 numbers in a list\n",
    "\n",
    "lst=[]\n",
    "\n",
    "for i in range(1,11):\n",
    "    lst.append(i)\n",
    "print(lst)"
   ]
  },
  {
   "cell_type": "code",
   "execution_count": 64,
   "id": "d925065a-946b-45cb-8920-598dfffb9700",
   "metadata": {},
   "outputs": [
    {
     "data": {
      "text/plain": [
       "[1, 2, 3, 4, 5, 6, 7, 8, 9, 10]"
      ]
     },
     "execution_count": 64,
     "metadata": {},
     "output_type": "execute_result"
    }
   ],
   "source": [
    "# what is for loop line: for i in range(1,11):\n",
    "# whar is the output: i\n",
    "\n",
    "# l=[<output> <for loop>]\n",
    "l=[i for i in range(1,11)]\n",
    "l"
   ]
  },
  {
   "cell_type": "code",
   "execution_count": null,
   "id": "487ea492-5b08-4f21-8b66-ae40f9a2e26f",
   "metadata": {},
   "outputs": [],
   "source": [
    "#Q1) input=['hyd','bengaluru','mumbai','chennai']\n",
    "#     output=['Hyd','Bengaluru','Mumbai','Chennai']\n",
    "\n",
    "# Q2) input=['hyd','bengaluru','mumbai','chennai']\n",
    "#     output=['HYD','BENGALURU','MUMBAI','CHENNAI']\n",
    "\n",
    "# Q3) input=['hyd','bengaluru','mum#bai','chen#nai']\n",
    "#     output=['mum#bai','chen#nai']\n",
    "\n",
    "# Q4) input=['hyd','bengaluru','mum#bai','chen#nai']\n",
    "#     output=['hyd','bengaluru']\n",
    "\n",
    "# Q5) input=['hyd','bengaluru','mumbai','chennai']\n",
    "#     multiply all indexes by 10\n",
    "\n",
    "# Q6) input=['hyd','bengaluru','mumbai','chennai']\n",
    "#     sum of all indexes\n",
    "\n",
    "# Q7) Sum of first 10 Natural numbers"
   ]
  },
  {
   "cell_type": "code",
   "execution_count": 30,
   "id": "b6db80d2-01c2-4119-8433-d924bc47310a",
   "metadata": {},
   "outputs": [
    {
     "data": {
      "text/plain": [
       "['Hyd', 'Bengaluru', 'Mumbai', 'Chennai']"
      ]
     },
     "execution_count": 30,
     "metadata": {},
     "output_type": "execute_result"
    }
   ],
   "source": [
    "#Q1) input=['hyd','bengaluru','mumbai','chennai']\n",
    "#     output=['Hyd','Bengaluru','Mumbai','Chennai']\n",
    "\n",
    "\n",
    "input_Q1=['hyd','bengaluru','mumbai','chennai']\n",
    "output=[]\n",
    "\n",
    "for i in input_Q1:\n",
    "    output.append(i.title())\n",
    "output"
   ]
  },
  {
   "cell_type": "code",
   "execution_count": 38,
   "id": "e3c22005-ee58-40f8-a18a-15043ea1dae5",
   "metadata": {},
   "outputs": [
    {
     "data": {
      "text/plain": [
       "['Hyd', 'Bengaluru', 'Mumbai', 'Chennai']"
      ]
     },
     "execution_count": 38,
     "metadata": {},
     "output_type": "execute_result"
    }
   ],
   "source": [
    "l=[i.title() for i in input_Q1]\n",
    "l"
   ]
  },
  {
   "cell_type": "code",
   "execution_count": 32,
   "id": "08961a1b-6001-49e3-be0f-cc2f2e722a41",
   "metadata": {},
   "outputs": [
    {
     "data": {
      "text/plain": [
       "['HYD', 'BENGALURU', 'MUMBAI', 'CHENNAI']"
      ]
     },
     "execution_count": 32,
     "metadata": {},
     "output_type": "execute_result"
    }
   ],
   "source": [
    "# Q2) input=['hyd','bengaluru','mumbai','chennai']\n",
    "#     output=['HYD','BENGALURU','MUMBAI','CHENNAI']\n",
    "\n",
    "input_Q2=['hyd','bengaluru','mumbai','chennai']\n",
    "output_Q2=[]\n",
    "\n",
    "for i in input_Q2:\n",
    "    output_Q2.append(i.upper())\n",
    "output_Q2"
   ]
  },
  {
   "cell_type": "code",
   "execution_count": 36,
   "id": "93320364-2632-49bb-aef8-1898b9bf71b2",
   "metadata": {},
   "outputs": [
    {
     "data": {
      "text/plain": [
       "['HYD', 'BENGALURU', 'MUMBAI', 'CHENNAI']"
      ]
     },
     "execution_count": 36,
     "metadata": {},
     "output_type": "execute_result"
    }
   ],
   "source": [
    "l1=[i.upper() for i in input_Q2]\n",
    "l1"
   ]
  },
  {
   "cell_type": "code",
   "execution_count": 42,
   "id": "c9b7caf3-deb6-4572-9c92-3a72ec70b3c4",
   "metadata": {},
   "outputs": [
    {
     "data": {
      "text/plain": [
       "['mum#bai', 'chen#nai']"
      ]
     },
     "execution_count": 42,
     "metadata": {},
     "output_type": "execute_result"
    }
   ],
   "source": [
    "# Q3) input=['hyd','bengaluru','mum#bai','chen#nai']\n",
    "#     output=['mum#bai','chen#nai']\n",
    "\n",
    "input_Q3=['hyd','bengaluru','mum#bai','chen#nai']\n",
    "output_Q3=[]\n",
    "\n",
    "for i in input_Q3:\n",
    "    if '#' in i:\n",
    "        output_Q3.append(i)\n",
    "output_Q3"
   ]
  },
  {
   "cell_type": "markdown",
   "id": "81c8a75d-c38c-42c6-b76f-c13ef40596e7",
   "metadata": {},
   "source": [
    "$Case-2$: **for-if condition**"
   ]
  },
  {
   "cell_type": "code",
   "execution_count": null,
   "id": "d1fc36d2-46fc-422c-b895-6921030ce551",
   "metadata": {},
   "outputs": [],
   "source": [
    "[<output> <for loop>]\n",
    "[<output> <for loop> <if condition>]"
   ]
  },
  {
   "cell_type": "code",
   "execution_count": 4,
   "id": "e546f0ce-7d93-467a-8837-624cfa1204e2",
   "metadata": {},
   "outputs": [
    {
     "data": {
      "text/plain": [
       "[35, 35, 47, 26, 40]"
      ]
     },
     "execution_count": 4,
     "metadata": {},
     "output_type": "execute_result"
    }
   ],
   "source": [
    "import random\n",
    "numbers=[random.randint(1,100) for i in range(5)]\n",
    "numbers"
   ]
  },
  {
   "cell_type": "code",
   "execution_count": 50,
   "id": "fe5d4c19-fe16-462f-b32f-4373c044e658",
   "metadata": {},
   "outputs": [
    {
     "data": {
      "text/plain": [
       "['hyd', 'bengaluru']"
      ]
     },
     "execution_count": 50,
     "metadata": {},
     "output_type": "execute_result"
    }
   ],
   "source": [
    "# Q4) input=['hyd','bengaluru','mum#bai','chen#nai']\n",
    "#     output=['hyd','bengaluru']\n",
    "\n",
    "input_Q4=['hyd','bengaluru','mum#bai','chen#nai']\n",
    "output_Q4=[]\n",
    "\n",
    "for i in input_Q4:\n",
    "    if '#' not in i:\n",
    "        output_Q4.append(i)\n",
    "output_Q4"
   ]
  },
  {
   "cell_type": "code",
   "execution_count": 54,
   "id": "12320af0-ad17-4117-bed9-894dcf885e33",
   "metadata": {},
   "outputs": [
    {
     "data": {
      "text/plain": [
       "['hyd', 'bengaluru']"
      ]
     },
     "execution_count": 54,
     "metadata": {},
     "output_type": "execute_result"
    }
   ],
   "source": [
    "l4=[i for i in input_Q4 if '#' not in i]\n",
    "l4"
   ]
  },
  {
   "cell_type": "code",
   "execution_count": 58,
   "id": "465229a8-2591-4922-96b5-eaa18b36a75e",
   "metadata": {},
   "outputs": [
    {
     "data": {
      "text/plain": [
       "[98, 8, 10]"
      ]
     },
     "execution_count": 58,
     "metadata": {},
     "output_type": "execute_result"
    }
   ],
   "source": [
    "import random\n",
    "\n",
    "numbers=[random.randint(1,100) for i in range(5)]\n",
    "even_lst=[]\n",
    "\n",
    "for i in numbers:\n",
    "    if i%2==0:\n",
    "        even_lst.append(i)\n",
    "even_lst"
   ]
  },
  {
   "cell_type": "code",
   "execution_count": 62,
   "id": "e7340fe2-e008-4426-afe3-68f30f09d42d",
   "metadata": {},
   "outputs": [
    {
     "data": {
      "text/plain": [
       "[98, 8, 10]"
      ]
     },
     "execution_count": 62,
     "metadata": {},
     "output_type": "execute_result"
    }
   ],
   "source": [
    "l5=[i for i in numbers if i%2==0]\n",
    "l5"
   ]
  },
  {
   "cell_type": "code",
   "execution_count": 70,
   "id": "f051f829-0600-4028-9c42-242a2c580b11",
   "metadata": {},
   "outputs": [
    {
     "data": {
      "text/plain": [
       "[0, 10, 20, 30]"
      ]
     },
     "execution_count": 70,
     "metadata": {},
     "output_type": "execute_result"
    }
   ],
   "source": [
    "# Q5) input=['hyd','bengaluru','mumbai','chennai']\n",
    "#     multiply all indexes by 10\n",
    "\n",
    "input_Q5=['hyd','bengaluru','mumbai','chennai']\n",
    "output_Q4=[]\n",
    "\n",
    "for i in input_Q5:\n",
    "    output_Q4.append(input_Q5.index(i)*10)\n",
    "output_Q4"
   ]
  },
  {
   "cell_type": "code",
   "execution_count": 74,
   "id": "344532e1-14cd-4160-9573-6686446f3781",
   "metadata": {},
   "outputs": [
    {
     "data": {
      "text/plain": [
       "[0, 10, 20, 30]"
      ]
     },
     "execution_count": 74,
     "metadata": {},
     "output_type": "execute_result"
    }
   ],
   "source": [
    "l6=[input_Q5.index(i)*10 for i in input_Q5]\n",
    "l6"
   ]
  },
  {
   "cell_type": "code",
   "execution_count": 78,
   "id": "859a2e9d-4757-46a9-b73a-bca0014eb58d",
   "metadata": {},
   "outputs": [
    {
     "data": {
      "text/plain": [
       "6"
      ]
     },
     "execution_count": 78,
     "metadata": {},
     "output_type": "execute_result"
    }
   ],
   "source": [
    "# Q6) input=['hyd','bengaluru','mumbai','chennai']\n",
    "#     sum of all indexes\n",
    "\n",
    "input_Q6=['hyd','bengaluru','mumbai','chennai']\n",
    "output_Q6=[]\n",
    "\n",
    "for i in input_Q6:\n",
    "    output_Q6.append(input_Q6.index(i))\n",
    "sum(output_Q6)"
   ]
  },
  {
   "cell_type": "code",
   "execution_count": 82,
   "id": "402b3d7c-6e11-4497-8275-56dce6dab5fc",
   "metadata": {},
   "outputs": [
    {
     "data": {
      "text/plain": [
       "6"
      ]
     },
     "execution_count": 82,
     "metadata": {},
     "output_type": "execute_result"
    }
   ],
   "source": [
    "l7=[input_Q6.index(i) for i in input_Q6]\n",
    "sum(l7)"
   ]
  },
  {
   "cell_type": "markdown",
   "id": "6d13cefc-8f40-4222-adc4-5ba98b6baab5",
   "metadata": {},
   "source": [
    "**$Case-3$ for - if - else**"
   ]
  },
  {
   "cell_type": "code",
   "execution_count": null,
   "id": "c4a23632-fd2d-4038-85a1-b93c00d7cef4",
   "metadata": {},
   "outputs": [],
   "source": [
    "[<output> <for loop>]\n",
    "[<output> <for loop> <if Cond>]\n",
    "[<output if> <if Cond> <else cond> <else output> <for loop>]"
   ]
  },
  {
   "cell_type": "code",
   "execution_count": 99,
   "id": "b6be1795-0a5a-4692-8c09-1910e6b46508",
   "metadata": {},
   "outputs": [
    {
     "name": "stdout",
     "output_type": "stream",
     "text": [
      "['Even:8'] ['Odd:27', 'Odd:21', 'Odd:17', 'Odd:83']\n"
     ]
    }
   ],
   "source": [
    "# Even odd code\n",
    "\n",
    "numbers1=[random.randint(1,100) for i in range(5)]\n",
    "even_lst1=[]\n",
    "odd_lst2=[]\n",
    "for i in numbers1:\n",
    "    if i%2==0:\n",
    "        even_lst1.append(f\"Even:{i}\")\n",
    "    else:\n",
    "        odd_lst2.append(f\"Odd:{i}\")\n",
    "print(even_lst1,odd_lst2)"
   ]
  },
  {
   "cell_type": "code",
   "execution_count": 103,
   "id": "e11b7b15-3aa4-4e02-a6d0-eca2bba04d26",
   "metadata": {},
   "outputs": [
    {
     "data": {
      "text/plain": [
       "['Odd:27', 'Odd:21', 'Odd:17', 'Even:8', 'Odd:83']"
      ]
     },
     "execution_count": 103,
     "metadata": {},
     "output_type": "execute_result"
    }
   ],
   "source": [
    "# [<if out> <if cond> <else> <else out> <for loop>]\n",
    "\n",
    "l8=[f\"Even:{i}\" if i%2==0 else f\"Odd:{i}\" for i in numbers1] \n",
    "l8"
   ]
  },
  {
   "cell_type": "markdown",
   "id": "c24f0ebd-6283-493a-ad4c-e1ee077ea447",
   "metadata": {},
   "source": [
    "**$Case - 4$ for - if - elif - else**"
   ]
  },
  {
   "cell_type": "code",
   "execution_count": null,
   "id": "63b9fe2f-66ed-41df-9f6d-3e4c24867732",
   "metadata": {},
   "outputs": [],
   "source": [
    "[<output> <for loop>]\n",
    "[<output> <for loop> <if cond>]\n",
    "[<if out> <if cond> else <else out> <for loop>]\n",
    "[<if out> <if cond>  "
   ]
  },
  {
   "cell_type": "code",
   "execution_count": 111,
   "id": "bf2e8276-f77f-4a50-bdd1-6806c81c8501",
   "metadata": {},
   "outputs": [
    {
     "data": {
      "text/plain": [
       "['C', 'B', 'A']"
      ]
     },
     "execution_count": 111,
     "metadata": {},
     "output_type": "execute_result"
    }
   ],
   "source": [
    "marks=[50,70,90]\n",
    "grades=[]\n",
    "for i in marks:\n",
    "    if i>85:\n",
    "        grades.append('A')\n",
    "    elif i>65:\n",
    "        grades.append('B')\n",
    "    else:\n",
    "        grades.append('C')\n",
    "grades"
   ]
  },
  {
   "cell_type": "code",
   "execution_count": 115,
   "id": "17e6401f-7d39-4014-8963-e78cf25b08c1",
   "metadata": {},
   "outputs": [
    {
     "data": {
      "text/plain": [
       "['C', 'B', 'A']"
      ]
     },
     "execution_count": 115,
     "metadata": {},
     "output_type": "execute_result"
    }
   ],
   "source": [
    "lst=['A'  if i>85 else 'B' if i>65 else 'C' for i in marks]\n",
    "lst"
   ]
  },
  {
   "cell_type": "code",
   "execution_count": 1,
   "id": "20a38fac-6979-4653-b0e0-a1c10fd0766b",
   "metadata": {},
   "outputs": [],
   "source": [
    "marks=[45,76,89,53,67,90,82,49,33,99]"
   ]
  },
  {
   "cell_type": "code",
   "execution_count": 7,
   "id": "773e89e3-6693-493c-978c-dad2569eaf8f",
   "metadata": {},
   "outputs": [
    {
     "data": {
      "text/plain": [
       "[76, 89, 53, 67, 90, 82, 99]"
      ]
     },
     "execution_count": 7,
     "metadata": {},
     "output_type": "execute_result"
    }
   ],
   "source": [
    "# a) filter students who passed (marks>=50)\n",
    "\n",
    "passed=[i for i in marks if i>=50]\n",
    "passed"
   ]
  },
  {
   "cell_type": "code",
   "execution_count": 25,
   "id": "2c8072c6-fedd-4ae0-9a71-b6af6ac9cfcd",
   "metadata": {},
   "outputs": [
    {
     "data": {
      "text/plain": [
       "['A', 'A', 'D', 'A', 'A', 'D', 'A', 'A', 'A', 'D']"
      ]
     },
     "execution_count": 25,
     "metadata": {},
     "output_type": "execute_result"
    }
   ],
   "source": [
    "# b) Calculate grades of all students (A: 85+, B:70-84, C: 50-69, D:<50)\n",
    "\n",
    "# [<if out> <if cond> else <else out> <for loop>]\n",
    "\n",
    "grades=['A' if i<85 else 'B' if 70<i<84 else 'C' if 50<i<69 else 'D' for i in marks]\n",
    "grades"
   ]
  },
  {
   "cell_type": "code",
   "execution_count": 45,
   "id": "dedcdfba-3e04-4ec7-a06d-81258612f7d5",
   "metadata": {},
   "outputs": [
    {
     "data": {
      "text/plain": [
       "['Before:45: After:50', 'Before:49: After:54', 'Before:33: After:38']"
      ]
     },
     "execution_count": 45,
     "metadata": {},
     "output_type": "execute_result"
    }
   ],
   "source": [
    "# c) add 5 grades marks to students who failed (<50)\n",
    "\n",
    "add_marks=[f\"Before:{i}: After:{i+5}\" for i in marks if i<50]\n",
    "add_marks"
   ]
  },
  {
   "cell_type": "markdown",
   "id": "acb71075-7155-4e3e-9ca2-2f54f4300d1a",
   "metadata": {},
   "source": [
    "**Velrus Operators**"
   ]
  },
  {
   "cell_type": "code",
   "execution_count": 52,
   "id": "5a4f2959-4c1b-4289-9893-0104ca044a68",
   "metadata": {},
   "outputs": [
    {
     "data": {
      "text/plain": [
       "5.5"
      ]
     },
     "execution_count": 52,
     "metadata": {},
     "output_type": "execute_result"
    }
   ],
   "source": [
    "marks=list(range(1,11))\n",
    "summ=0\n",
    "\n",
    "# [summ=summ+i for i in marks]\n",
    "# i will not support =\n",
    "# i will support ==\n",
    "# i will support Velrus Operator :=\n",
    "\n",
    "summ=[summ:=summ+i for i in marks][-1]\n",
    "summ/len(marks)"
   ]
  },
  {
   "cell_type": "markdown",
   "id": "64e0accb-9b10-4103-b78c-133ad85999b1",
   "metadata": {},
   "source": [
    "**Practice Problems**"
   ]
  },
  {
   "cell_type": "code",
   "execution_count": 9,
   "id": "0678e26f-e5fa-490d-b829-7f65fd1a4f67",
   "metadata": {},
   "outputs": [
    {
     "data": {
      "text/plain": [
       "[0, 4, 16, 36, 64]"
      ]
     },
     "execution_count": 9,
     "metadata": {},
     "output_type": "execute_result"
    }
   ],
   "source": [
    "[items_list for items_list in range(10)]"
   ]
  },
  {
   "cell_type": "code",
   "execution_count": 11,
   "id": "9b51f4d0-dd32-4ed3-b8e2-2ca00095638d",
   "metadata": {},
   "outputs": [
    {
     "data": {
      "text/plain": [
       "[0, 1, 4, 9, 16, 25, 36, 49, 64, 81]"
      ]
     },
     "execution_count": 11,
     "metadata": {},
     "output_type": "execute_result"
    }
   ],
   "source": [
    "[items_list**2 for items_list in range(10)]"
   ]
  },
  {
   "cell_type": "code",
   "execution_count": 21,
   "id": "3feec7e2-e784-45c7-af56-db64e5367cab",
   "metadata": {},
   "outputs": [
    {
     "data": {
      "text/plain": [
       "[0, 4, 16, 36, 64]"
      ]
     },
     "execution_count": 21,
     "metadata": {},
     "output_type": "execute_result"
    }
   ],
   "source": [
    "[items_list**2 for items_list in range(10) if items_list%2==0]"
   ]
  },
  {
   "cell_type": "code",
   "execution_count": 23,
   "id": "42ebac12-8f22-4473-940c-66a0e000533f",
   "metadata": {},
   "outputs": [
    {
     "data": {
      "text/plain": [
       "['Sqauare of 0 is 0',\n",
       " 'Sqauare of 2 is 4',\n",
       " 'Sqauare of 4 is 16',\n",
       " 'Sqauare of 6 is 36',\n",
       " 'Sqauare of 8 is 64']"
      ]
     },
     "execution_count": 23,
     "metadata": {},
     "output_type": "execute_result"
    }
   ],
   "source": [
    "[f\"Sqauare of {items_list} is {items_list**2}\" for items_list in range(10) if items_list%2==0]"
   ]
  },
  {
   "cell_type": "code",
   "execution_count": 27,
   "id": "cb3319f1-da3b-476b-9867-c8d3edf02b26",
   "metadata": {},
   "outputs": [],
   "source": [
    "nested = [[1,2,3], [4,5], [6,7,8]]\n",
    "list_lst=[]"
   ]
  },
  {
   "cell_type": "code",
   "execution_count": 39,
   "id": "060a901e-ae9b-4569-b8ee-84a220937099",
   "metadata": {},
   "outputs": [
    {
     "data": {
      "text/plain": [
       "['Hyd', 'Bengaluru', 'Mumbai', 'Chennai']"
      ]
     },
     "execution_count": 39,
     "metadata": {},
     "output_type": "execute_result"
    }
   ],
   "source": [
    "#Q1) input=['hyd','bengaluru','mumbai','chennai']\n",
    "#     output=['Hyd','Bengaluru','Mumbai','Chennai']\n",
    "\n",
    "input_q1=['hyd','bengaluru','mumbai','chennai']\n",
    "output_q1=[]\n",
    "\n",
    "for i in input_q1:\n",
    "    output_q1.append(i.title())\n",
    "output_q1"
   ]
  },
  {
   "cell_type": "code",
   "execution_count": 41,
   "id": "63fc660c-3e0c-4544-bebc-1ce9f5aeb75b",
   "metadata": {},
   "outputs": [],
   "source": [
    "lst_output_q1=[i.title() for i in input_q1]"
   ]
  },
  {
   "cell_type": "code",
   "execution_count": 43,
   "id": "ac244837-c735-4556-a7db-14c708e891e6",
   "metadata": {},
   "outputs": [
    {
     "data": {
      "text/plain": [
       "['Hyd', 'Bengaluru', 'Mumbai', 'Chennai']"
      ]
     },
     "execution_count": 43,
     "metadata": {},
     "output_type": "execute_result"
    }
   ],
   "source": [
    "lst_output_q1"
   ]
  },
  {
   "cell_type": "code",
   "execution_count": null,
   "id": "c2ad0176-c69f-428e-a0b3-e86519d264c1",
   "metadata": {},
   "outputs": [],
   "source": [
    "#  There are three cases for writing the list comprehension\n",
    "\n",
    "# Case -1:\n",
    "[<output> <for loop>]\n",
    "\n",
    "# Case -2:\n",
    "[<output> <for loop> <if Condition>]\n",
    "\n",
    "# Case -3:\n",
    "[<if output> <if Condition> <else cond> <else output> <for loop>]"
   ]
  },
  {
   "cell_type": "code",
   "execution_count": 5,
   "id": "4b3a5a37-a284-4eb1-9ad6-0e0c7dd65c08",
   "metadata": {},
   "outputs": [],
   "source": [
    "nested = [[1,2,3], [4,5], [6,7,8]]"
   ]
  },
  {
   "cell_type": "code",
   "execution_count": 9,
   "id": "4a08d66e-207c-47f6-9d00-dbbd3db2bfdd",
   "metadata": {},
   "outputs": [
    {
     "name": "stdout",
     "output_type": "stream",
     "text": [
      "[1, 2, 3, 4, 5, 6, 7, 8]\n"
     ]
    }
   ],
   "source": [
    "# Flaten the list using the for loop\n",
    "\n",
    "flaten_list=[]\n",
    "for i in nested:\n",
    "    if isinstance(i,list):\n",
    "        for j in i:\n",
    "            flaten_list.append(j)\n",
    "    else:\n",
    "        flaten_list.append(i)\n",
    "print(flaten_list)"
   ]
  },
  {
   "cell_type": "code",
   "execution_count": 19,
   "id": "363525a0-0f68-47e2-9290-2d00b91a47f4",
   "metadata": {},
   "outputs": [
    {
     "name": "stdout",
     "output_type": "stream",
     "text": [
      "[8, 8, 8]\n"
     ]
    }
   ],
   "source": [
    "# Flaten the list uisng the list comprehension\n",
    "\n",
    "flaten_list1=[j if isinstance(i,list) else i for i in nested]\n",
    "print(flaten_list1)"
   ]
  },
  {
   "cell_type": "code",
   "execution_count": 15,
   "id": "abdbd56f-37e6-4230-b1b6-7b92bbca2aee",
   "metadata": {},
   "outputs": [
    {
     "data": {
      "text/plain": [
       "[1, 2, 3, 4, 5, 6, 7, 8]"
      ]
     },
     "execution_count": 15,
     "metadata": {},
     "output_type": "execute_result"
    }
   ],
   "source": [
    "flatten_list = [j for i in nested for j in i]\n",
    "flatten_list"
   ]
  },
  {
   "cell_type": "markdown",
   "id": "51e5a864-ff68-4fdf-ad89-3115d310a64c",
   "metadata": {},
   "source": [
    "**Some Practice question on the list comprehensions**"
   ]
  },
  {
   "cell_type": "code",
   "execution_count": 23,
   "id": "ab1db502-f77f-46de-a12a-1544c889177a",
   "metadata": {},
   "outputs": [
    {
     "data": {
      "text/plain": [
       "[1, 2, 3, 4, 5, 6, 7, 8, 9, 10, 11, 12, 13, 14, 15, 16, 17, 18, 19, 20]"
      ]
     },
     "execution_count": 23,
     "metadata": {},
     "output_type": "execute_result"
    }
   ],
   "source": [
    "# Create a list of all numbers from 1 to 20 using list comprehension.\n",
    "\n",
    "num_list=[i for i in range(1,21)]\n",
    "num_list"
   ]
  },
  {
   "cell_type": "code",
   "execution_count": 29,
   "id": "01479127-a440-4ff1-ad5e-876439ebf7a1",
   "metadata": {},
   "outputs": [
    {
     "name": "stdout",
     "output_type": "stream",
     "text": [
      "[2, 4, 6, 8, 10, 12, 14, 16, 18, 20, 22, 24, 26, 28, 30, 32, 34, 36, 38, 40, 42, 44, 46, 48, 50]\n"
     ]
    }
   ],
   "source": [
    "# Create a list of all even numbers between 1 and 50.\n",
    "\n",
    "num_list1=[i for i in range(1,51) if i%2==0]\n",
    "print(num_list1)"
   ]
  },
  {
   "cell_type": "code",
   "execution_count": 35,
   "id": "f714a36c-2ca6-43eb-9413-9ccd451a8ec8",
   "metadata": {},
   "outputs": [
    {
     "data": {
      "text/plain": [
       "['Square of 1 is 1',\n",
       " 'Square of 2 is 4',\n",
       " 'Square of 3 is 9',\n",
       " 'Square of 4 is 16',\n",
       " 'Square of 5 is 25',\n",
       " 'Square of 6 is 36',\n",
       " 'Square of 7 is 49',\n",
       " 'Square of 8 is 64',\n",
       " 'Square of 9 is 81',\n",
       " 'Square of 10 is 100']"
      ]
     },
     "execution_count": 35,
     "metadata": {},
     "output_type": "execute_result"
    }
   ],
   "source": [
    "# Generate a list of squares of numbers from 1 to 10.\n",
    "\n",
    "num_list2=[f'Square of {i} is {i**2}' for i in range(1,11)]\n",
    "num_list2"
   ]
  },
  {
   "cell_type": "code",
   "execution_count": 41,
   "id": "95010c10-3a1f-48f9-bec9-b46406f33cca",
   "metadata": {},
   "outputs": [
    {
     "data": {
      "text/plain": [
       "[5, 6, 6]"
      ]
     },
     "execution_count": 41,
     "metadata": {},
     "output_type": "execute_result"
    }
   ],
   "source": [
    "# From a list of strings [\"apple\", \"banana\", \"cherry\"], create a new list with their lengths.\n",
    "\n",
    "fruits=[\"apple\", \"banana\", \"cherry\"]    # We need to create the new list with length of the every string in the list\n",
    "\n",
    "new_lst=[len(i) for i in fruits]        # we are looping through the list and instead of storing the value we store the lenth of string using len(i)\n",
    "new_lst"
   ]
  },
  {
   "cell_type": "code",
   "execution_count": 73,
   "id": "f2453d5f-2ee8-4b2a-97d9-4e5668a748fd",
   "metadata": {},
   "outputs": [
    {
     "data": {
      "text/plain": [
       "['i', 'o', 'e', 'e', 'i', 'o', 'i', 'o', 'e', 'u']"
      ]
     },
     "execution_count": 73,
     "metadata": {},
     "output_type": "execute_result"
    }
   ],
   "source": [
    "# Extract all vowels from the string \"list comprehension is powerful\" using the list comprehension\n",
    "\n",
    "string=\"list comprehension is powerful\"\n",
    "\n",
    "vowels=[i for i in string if i in 'aeiou']\n",
    "vowels"
   ]
  },
  {
   "cell_type": "code",
   "execution_count": 75,
   "id": "aad2db59-4347-4f60-b929-4c6c69fbfc88",
   "metadata": {},
   "outputs": [
    {
     "data": {
      "text/plain": [
       "[15, 30]"
      ]
     },
     "execution_count": 75,
     "metadata": {},
     "output_type": "execute_result"
    }
   ],
   "source": [
    "# Create a list of numbers from 1 to 30 that are divisible by 3 and 5.\n",
    "\n",
    "number_list=[i for i in range(1,31) if i%3==0 and i%5==0]\n",
    "number_list"
   ]
  },
  {
   "cell_type": "code",
   "execution_count": 79,
   "id": "e91f5e38-5963-49d4-9874-8799a0b3f110",
   "metadata": {},
   "outputs": [
    {
     "name": "stdout",
     "output_type": "stream",
     "text": [
      "['HELLO', 'PYTHON', 'WORLD']\n"
     ]
    }
   ],
   "source": [
    "# Given words = [\"hello\", \"python\", \"world\"], generate a list of words with uppercase letters.\n",
    "\n",
    "words= [\"hello\", \"python\", \"world\"]\n",
    "\n",
    "upper_words=[i.upper() for i in words]\n",
    "print(upper_words)"
   ]
  },
  {
   "cell_type": "code",
   "execution_count": 92,
   "id": "d8ab3437-a2ff-44fe-b842-c58780618974",
   "metadata": {},
   "outputs": [
    {
     "name": "stdout",
     "output_type": "stream",
     "text": [
      "[1, 2, 3, 4, 5, 6]\n"
     ]
    }
   ],
   "source": [
    "# Flatten a nested list [[1, 2], [3, 4], [5, 6]] into [1, 2, 3, 4, 5, 6].\n",
    "\n",
    "num_lst=[[1, 2], [3, 4], [5, 6]]\n",
    "\n",
    "# Am Just experimenting this Flattening without the isinstance function and methods\n",
    "\n",
    "flatten_list1 = []\n",
    "\n",
    "for item in num_lst:\n",
    "    try:\n",
    "        for j in item:   # if item is iterable (like list, string, tuple)\n",
    "            flatten_list1.append(j)\n",
    "    except TypeError:\n",
    "        flatten_list1.append(item)   # if item is not iterable, add directly\n",
    "\n",
    "print(flatten_list1)"
   ]
  },
  {
   "cell_type": "code",
   "execution_count": null,
   "id": "22268ac8-15ff-4db9-9211-49b17bb1eccd",
   "metadata": {},
   "outputs": [],
   "source": []
  },
  {
   "cell_type": "code",
   "execution_count": null,
   "id": "2c889423-d189-4bab-a6cf-165d7ca7972a",
   "metadata": {},
   "outputs": [],
   "source": []
  }
 ],
 "metadata": {
  "kernelspec": {
   "display_name": "Python [conda env:base] *",
   "language": "python",
   "name": "conda-base-py"
  },
  "language_info": {
   "codemirror_mode": {
    "name": "ipython",
    "version": 3
   },
   "file_extension": ".py",
   "mimetype": "text/x-python",
   "name": "python",
   "nbconvert_exporter": "python",
   "pygments_lexer": "ipython3",
   "version": "3.12.7"
  }
 },
 "nbformat": 4,
 "nbformat_minor": 5
}
