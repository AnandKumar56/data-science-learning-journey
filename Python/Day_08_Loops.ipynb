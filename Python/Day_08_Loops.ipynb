{
 "cells": [
  {
   "cell_type": "markdown",
   "id": "17b4ca7f-acbe-4f2a-b4a8-0d88b869ee32",
   "metadata": {},
   "source": [
    "**Loops**\n",
    "- Loops are used to repeat a block of code multiple times\n",
    "\n",
    "- function means reuse of code \n",
    "\n",
    "- when ever you think about how many times then think about loops"
   ]
  },
  {
   "cell_type": "markdown",
   "id": "07593a2a-a4b3-4a40-81c6-5d26fe485b55",
   "metadata": {},
   "source": [
    "- Entry point : Initial point\n",
    "\n",
    "- Condition : How many times the loop shoud run\n",
    "\n",
    "    - incremental \n",
    "\n",
    "    - decremental\n",
    "\n",
    "- Stop point : Condition to stop"
   ]
  },
  {
   "cell_type": "markdown",
   "id": "d1dc69a2-9b95-434c-aeba-ba6d7d4f3e5d",
   "metadata": {},
   "source": [
    "**for loop and while loop**"
   ]
  },
  {
   "cell_type": "markdown",
   "id": "efaba96a-0bc9-423f-b8bb-68a2bcd406f1",
   "metadata": {},
   "source": [
    "**For loop**"
   ]
  },
  {
   "cell_type": "code",
   "execution_count": 7,
   "id": "18ae2e10-88e4-439b-860d-874d1f9af638",
   "metadata": {},
   "outputs": [
    {
     "name": "stdout",
     "output_type": "stream",
     "text": [
      "hello\n",
      "hello\n",
      "hello\n"
     ]
    }
   ],
   "source": [
    "print('hello') # 0\n",
    "print('hello') # 1\n",
    "print('hello') # 2"
   ]
  },
  {
   "cell_type": "markdown",
   "id": "0925d7a7-8466-4d25-9295-b62b4b5a10f5",
   "metadata": {},
   "source": [
    "**case-1: range(stop)**\n",
    "\n",
    "- range(3)\n",
    "\n",
    "- start=0\n",
    "\n",
    "- increment by 1\n",
    "\n",
    "- last=stop-1 = 3-1=2\n",
    "\n",
    "- 0 1 2"
   ]
  },
  {
   "cell_type": "code",
   "execution_count": null,
   "id": "4d410a84-5227-4023-a898-aa2b74306b42",
   "metadata": {},
   "outputs": [],
   "source": [
    "# syntax\n",
    "\n",
    "for i in range(3):\n",
    "    # write your lines"
   ]
  },
  {
   "cell_type": "code",
   "execution_count": 14,
   "id": "346061c0-923a-4367-93fd-3e42923c7ef4",
   "metadata": {},
   "outputs": [
    {
     "name": "stdout",
     "output_type": "stream",
     "text": [
      "0\n",
      "1\n",
      "2\n"
     ]
    }
   ],
   "source": [
    "for i in range(3):\n",
    "    print(i)\n",
    "\n",
    "# i=0    print(0)\n",
    "# i=1    print(1)\n",
    "# i=2    print(2)"
   ]
  },
  {
   "cell_type": "code",
   "execution_count": 16,
   "id": "49d97de0-c980-471f-8c63-54232e8af481",
   "metadata": {},
   "outputs": [
    {
     "name": "stdout",
     "output_type": "stream",
     "text": [
      "hello\n",
      "hello\n",
      "hello\n"
     ]
    }
   ],
   "source": [
    "for i in range(3):\n",
    "    print('hello')"
   ]
  },
  {
   "cell_type": "code",
   "execution_count": 18,
   "id": "44c6f374-fbc6-44c2-abbb-c84d8b40d4c5",
   "metadata": {},
   "outputs": [
    {
     "name": "stdin",
     "output_type": "stream",
     "text": [
      "Enter the numer 5\n"
     ]
    },
    {
     "name": "stdout",
     "output_type": "stream",
     "text": [
      "25\n"
     ]
    },
    {
     "name": "stdin",
     "output_type": "stream",
     "text": [
      "Enter the numer 5\n"
     ]
    },
    {
     "name": "stdout",
     "output_type": "stream",
     "text": [
      "25\n"
     ]
    },
    {
     "name": "stdin",
     "output_type": "stream",
     "text": [
      "Enter the numer 4\n"
     ]
    },
    {
     "name": "stdout",
     "output_type": "stream",
     "text": [
      "16\n"
     ]
    }
   ],
   "source": [
    "# Q1) wasp ask the user take a number print sqaure of the number\n",
    "# ask the repeat the task 3 times\n",
    "\n",
    "# step-1: num=eval()\n",
    "# step-2: print(num*num)\n",
    "\n",
    "# above two lines keep in a loop\n",
    "for i in range(3):\n",
    "    num=eval(input(\"Enter the numer\"))\n",
    "    print(num*num)"
   ]
  },
  {
   "cell_type": "code",
   "execution_count": null,
   "id": "7facc4d0-ec81-4065-bb22-f15509badca2",
   "metadata": {},
   "outputs": [],
   "source": [
    "# Not Optimized\n",
    "\n",
    "num=eval(input('Enter a Number'))\n",
    "print(f\"the square f the {num} is:{num*num}\")\n",
    "\n",
    "num=eval(input('Enter a Number'))\n",
    "print(f\"the square f the {num} is:{num*num}\")\n",
    "\n",
    "num=eval(input('Enter a Number'))\n",
    "print(f\"the square f the {num} is:{num*num}\")"
   ]
  },
  {
   "cell_type": "code",
   "execution_count": 26,
   "id": "b6d33bdb-9e60-480d-9bc2-8de67adff7c9",
   "metadata": {},
   "outputs": [
    {
     "name": "stdin",
     "output_type": "stream",
     "text": [
      "Enter a Number 10\n"
     ]
    },
    {
     "name": "stdout",
     "output_type": "stream",
     "text": [
      "the square f the 10 is:100\n"
     ]
    },
    {
     "name": "stdin",
     "output_type": "stream",
     "text": [
      "Enter a Number 20\n"
     ]
    },
    {
     "name": "stdout",
     "output_type": "stream",
     "text": [
      "the square f the 20 is:400\n"
     ]
    },
    {
     "name": "stdin",
     "output_type": "stream",
     "text": [
      "Enter a Number 30\n"
     ]
    },
    {
     "name": "stdout",
     "output_type": "stream",
     "text": [
      "the square f the 30 is:900\n"
     ]
    }
   ],
   "source": [
    "for i in range(3):\n",
    "    num=eval(input('Enter a Number'))\n",
    "    print(f\"the square f the {num} is:{num*num}\")"
   ]
  },
  {
   "cell_type": "code",
   "execution_count": 28,
   "id": "448935e1-0276-4887-96dc-9a0f4943baae",
   "metadata": {},
   "outputs": [
    {
     "name": "stdout",
     "output_type": "stream",
     "text": [
      "the square f the 0 is:0\n",
      "the square f the 1 is:1\n",
      "the square f the 2 is:4\n"
     ]
    }
   ],
   "source": [
    "for i in range(3):\n",
    "    print(f\"the square f the {i} is:{i*i}\")"
   ]
  },
  {
   "cell_type": "code",
   "execution_count": 48,
   "id": "abe673d1-648b-4711-94ee-43da09e142bd",
   "metadata": {},
   "outputs": [
    {
     "name": "stdout",
     "output_type": "stream",
     "text": [
      "7 X 0 = 0\n",
      "7 X 1 = 7\n",
      "7 X 2 = 14\n",
      "7 X 3 = 21\n",
      "7 X 4 = 28\n",
      "7 X 5 = 35\n",
      "7 X 6 = 42\n",
      "7 X 7 = 49\n",
      "7 X 8 = 56\n",
      "7 X 9 = 63\n",
      "7 X 10 = 70\n"
     ]
    }
   ],
   "source": [
    "for i in range(11):\n",
    "    print(f\"7 X {i} = {7*i}\")"
   ]
  },
  {
   "cell_type": "markdown",
   "id": "70e2970b-d041-4cda-be0c-ecbe7c2e7e67",
   "metadata": {},
   "source": [
    "**Case-2 : range(start,stop)**\n",
    "\n",
    "- range(10,15)\n",
    "\n",
    "- start=start\n",
    "\n",
    "- increment by 1\n",
    "\n",
    "- last=stop-1 =15-14=14\n",
    "\n",
    "- 10,11,12,13,14"
   ]
  },
  {
   "cell_type": "code",
   "execution_count": 54,
   "id": "c35cc4c0-cbce-41ba-8bf6-6e360d244a11",
   "metadata": {},
   "outputs": [
    {
     "name": "stdout",
     "output_type": "stream",
     "text": [
      "10\n",
      "11\n",
      "12\n",
      "13\n",
      "14\n"
     ]
    }
   ],
   "source": [
    "for i in range(10,15):\n",
    "    print(i)"
   ]
  },
  {
   "cell_type": "code",
   "execution_count": 62,
   "id": "131a4558-6b3b-45c9-9392-fd1035444969",
   "metadata": {},
   "outputs": [
    {
     "name": "stdout",
     "output_type": "stream",
     "text": [
      "hello--->hai***hey\n"
     ]
    }
   ],
   "source": [
    "print('hello',end='--->')\n",
    "print('hai',end='***')\n",
    "print('hey')"
   ]
  },
  {
   "cell_type": "code",
   "execution_count": 70,
   "id": "96afa100-2961-47c7-a45a-fab6d2e2ff2b",
   "metadata": {},
   "outputs": [
    {
     "name": "stdin",
     "output_type": "stream",
     "text": [
      "enter a number: 10\n"
     ]
    },
    {
     "name": "stdout",
     "output_type": "stream",
     "text": [
      "the sqare of the 10 is :100\n"
     ]
    },
    {
     "name": "stdin",
     "output_type": "stream",
     "text": [
      "enter a number: 200\n"
     ]
    },
    {
     "name": "stdout",
     "output_type": "stream",
     "text": [
      "the sqare of the 200 is :40000\n"
     ]
    },
    {
     "name": "stdin",
     "output_type": "stream",
     "text": [
      "enter a number: 40\n"
     ]
    },
    {
     "name": "stdout",
     "output_type": "stream",
     "text": [
      "the sqare of the 40 is :1600\n"
     ]
    },
    {
     "name": "stdin",
     "output_type": "stream",
     "text": [
      "enter a number: 50\n"
     ]
    },
    {
     "name": "stdout",
     "output_type": "stream",
     "text": [
      "the sqare of the 50 is :2500\n"
     ]
    }
   ],
   "source": [
    "for i in range(100,104):\n",
    "    num=eval(input('enter a number:'))\n",
    "    print(f\"the sqare of the {num} is :{num*num}\")"
   ]
  },
  {
   "cell_type": "code",
   "execution_count": null,
   "id": "ee731d56-eac5-4dce-a3fc-640689d6cacb",
   "metadata": {},
   "outputs": [],
   "source": [
    "# Q3) aks the user enter a number print even or odd\n",
    "# repeat the task 5 times\n",
    "\n",
    "# Q4) ask the user get a random number between 1 to 100 print even or odd\n",
    "# repeat the task 5 times\n",
    "\n",
    "#Case1 user input Case2 random number"
   ]
  },
  {
   "cell_type": "code",
   "execution_count": 79,
   "id": "a6ebb2d1-3171-44b3-9e15-8650b887633f",
   "metadata": {},
   "outputs": [
    {
     "name": "stdin",
     "output_type": "stream",
     "text": [
      "Enter the Number 1\n"
     ]
    },
    {
     "name": "stdout",
     "output_type": "stream",
     "text": [
      "odd\n"
     ]
    },
    {
     "name": "stdin",
     "output_type": "stream",
     "text": [
      "Enter the Number 2\n"
     ]
    },
    {
     "name": "stdout",
     "output_type": "stream",
     "text": [
      "even\n"
     ]
    },
    {
     "name": "stdin",
     "output_type": "stream",
     "text": [
      "Enter the Number 3\n"
     ]
    },
    {
     "name": "stdout",
     "output_type": "stream",
     "text": [
      "odd\n"
     ]
    },
    {
     "name": "stdin",
     "output_type": "stream",
     "text": [
      "Enter the Number 4\n"
     ]
    },
    {
     "name": "stdout",
     "output_type": "stream",
     "text": [
      "even\n"
     ]
    },
    {
     "name": "stdin",
     "output_type": "stream",
     "text": [
      "Enter the Number 5\n"
     ]
    },
    {
     "name": "stdout",
     "output_type": "stream",
     "text": [
      "odd\n"
     ]
    }
   ],
   "source": [
    "for i in range(5):\n",
    "    number=eval(input(\"Enter the Number\"))\n",
    "    if number%2==0:\n",
    "        print('even')\n",
    "    else:\n",
    "        print('odd')"
   ]
  },
  {
   "cell_type": "code",
   "execution_count": 101,
   "id": "f75cd9ff-9b0f-48a3-9462-864575b54845",
   "metadata": {},
   "outputs": [
    {
     "name": "stdout",
     "output_type": "stream",
     "text": [
      "5 is even\n",
      "1 is odd\n",
      "5 is even\n",
      "5 is even\n",
      "81 is odd\n"
     ]
    }
   ],
   "source": [
    "import random\n",
    "for i in range(5):\n",
    "    number1=random.randint(1,100)\n",
    "    if number1%2==0:\n",
    "        print(f'{number} is even')\n",
    "    else:\n",
    "        print(f'{number1} is odd')"
   ]
  },
  {
   "cell_type": "code",
   "execution_count": 107,
   "id": "892edf9d-373a-46a0-bf61-101bc845f2d8",
   "metadata": {},
   "outputs": [
    {
     "name": "stdin",
     "output_type": "stream",
     "text": [
      "enter the num: 5\n"
     ]
    },
    {
     "name": "stdout",
     "output_type": "stream",
     "text": [
      "5 is odd\n"
     ]
    },
    {
     "name": "stdin",
     "output_type": "stream",
     "text": [
      "enter the num: 3\n"
     ]
    },
    {
     "name": "stdout",
     "output_type": "stream",
     "text": [
      "3 is odd\n"
     ]
    },
    {
     "name": "stdin",
     "output_type": "stream",
     "text": [
      "enter the num: 8\n"
     ]
    },
    {
     "name": "stdout",
     "output_type": "stream",
     "text": [
      "8 is even\n"
     ]
    },
    {
     "name": "stdin",
     "output_type": "stream",
     "text": [
      "enter the num: 1\n"
     ]
    },
    {
     "name": "stdout",
     "output_type": "stream",
     "text": [
      "1 is odd\n"
     ]
    },
    {
     "name": "stdin",
     "output_type": "stream",
     "text": [
      "enter the num: 1\n"
     ]
    },
    {
     "name": "stdout",
     "output_type": "stream",
     "text": [
      "1 is odd\n"
     ]
    }
   ],
   "source": [
    "def even_odd(num1):\n",
    "    if num1%2==0:\n",
    "        print(f'{num1} is even')\n",
    "    else:\n",
    "        print(f'{num1} is odd')\n",
    "for i in range(5):\n",
    "    num1=eval(input('enter the num:'))\n",
    "    even_odd(num1)"
   ]
  },
  {
   "cell_type": "markdown",
   "id": "92be0266-40d2-4227-b528-e3d195befdd2",
   "metadata": {},
   "source": [
    "- case-1:  range(stop) = range(5)\n",
    "\n",
    "- case-2:  range(start,stop) = range(1,10)\n",
    "\n",
    "- case-3:  range(start,stop,step) = range(1,20,2)"
   ]
  },
  {
   "cell_type": "markdown",
   "id": "97c9228e-e7dc-4633-990f-8aa811f905d1",
   "metadata": {},
   "source": [
    "**Case-3: range(start,stop,step)**\n",
    "\n",
    "- step: positive value or negative\n",
    "\n",
    "    - range(1,20,2) : step= 2 positive increment\n",
    "\n",
    "    - range(1,20,-2): step=-2 negative decrement\n",
    "\n",
    "- start = start\n",
    "\n",
    "- if we have negative step\n",
    "\n",
    "    -last=step+1\n",
    "\n",
    "range(1,11,2)\n",
    "start=1 step=2 last=11-1=10\n",
    "1    3    5    7    9"
   ]
  },
  {
   "cell_type": "code",
   "execution_count": 114,
   "id": "3eb0f85c-b7ed-4fb5-8cb6-fd1b2ee1f77a",
   "metadata": {},
   "outputs": [
    {
     "name": "stdout",
     "output_type": "stream",
     "text": [
      "2 5 8 11 14 17 "
     ]
    }
   ],
   "source": [
    "for i in range(2,20,3):\n",
    "    print(i,end=' ')\n",
    "\n",
    "# start=2 step=3 last=20-1=19\n",
    "# 2 5 8 11 14 17"
   ]
  },
  {
   "cell_type": "code",
   "execution_count": 116,
   "id": "5c227dcb-ced9-4e14-a3ee-b9f241a90b5c",
   "metadata": {},
   "outputs": [],
   "source": [
    "for i in range(2,20,-3):\n",
    "    print(i,end=' ')\n",
    "\n",
    "# start=2 step=-3  last= stop-3 20-3"
   ]
  },
  {
   "cell_type": "code",
   "execution_count": 122,
   "id": "e6fa5695-f60c-4675-ac1d-0f999f77df9e",
   "metadata": {},
   "outputs": [
    {
     "name": "stdout",
     "output_type": "stream",
     "text": [
      "20 17 14 11 8 5 "
     ]
    }
   ],
   "source": [
    "for i in range(20,2,-3):\n",
    "    print(i,end=' ')\n",
    "\n",
    "# start=2 step=-3  last= stop-3 20-3"
   ]
  },
  {
   "cell_type": "code",
   "execution_count": 124,
   "id": "fa2db95f-8ff1-4243-ba85-5264c3b8ad60",
   "metadata": {},
   "outputs": [],
   "source": [
    "for i in range(-20,2,-3):\n",
    "    print(i,end=' ')\n",
    "\n",
    "# start=2 step=-3  last= stop-3 20-3"
   ]
  },
  {
   "cell_type": "code",
   "execution_count": null,
   "id": "278d3bab-50fb-4721-b6a3-3703db252ddb",
   "metadata": {},
   "outputs": [],
   "source": [
    "range(3,18,3)   # p\n",
    "range(3,18,-3)  # nw\n",
    "range(3,-18,3)  # nw\n",
    "range(-3,18.3)  # w\n",
    "range(3,-18,-3) # w\n",
    "range(-3,-18,3) # nw\n",
    "range(-3,-18,3) #nw\n"
   ]
  },
  {
   "cell_type": "markdown",
   "id": "f3785d87-f055-4f3d-86c2-a5a0c573a797",
   "metadata": {},
   "source": [
    "# Practive Probelms"
   ]
  },
  {
   "cell_type": "markdown",
   "id": "5035344b-9ca7-4879-8272-b6527d23172f",
   "metadata": {},
   "source": [
    "✅ **What is a for loop?**\n",
    "\n",
    "A for loop is used to repeat a block of code a certain number of times. It is most often used to iterate over sequences like lists, strings, or ranges."
   ]
  },
  {
   "cell_type": "markdown",
   "id": "31caf97c-02bb-4de8-af95-7b17f03bd63c",
   "metadata": {},
   "source": [
    "**Syntax**\n",
    "\n",
    "```\n",
    "for variable in sequence:\n",
    "    # code block"
   ]
  },
  {
   "cell_type": "code",
   "execution_count": null,
   "id": "064cb605-1675-47a4-842b-9baaacb5be49",
   "metadata": {},
   "outputs": [],
   "source": [
    "Basic Practice"
   ]
  },
  {
   "cell_type": "code",
   "execution_count": 12,
   "id": "503b2e91-a1fc-4930-82b8-ac69abd56798",
   "metadata": {},
   "outputs": [
    {
     "name": "stdout",
     "output_type": "stream",
     "text": [
      "1\n",
      "2\n",
      "3\n",
      "4\n",
      "5\n",
      "6\n",
      "7\n",
      "8\n",
      "9\n",
      "10\n"
     ]
    }
   ],
   "source": [
    "# Print numbers from 1 to 10\n",
    "\n",
    "for i in range(1,11):\n",
    "    print(i)"
   ]
  },
  {
   "cell_type": "code",
   "execution_count": 14,
   "id": "ee859197-86f0-4051-9e01-c31bbad03cd2",
   "metadata": {},
   "outputs": [
    {
     "name": "stdout",
     "output_type": "stream",
     "text": [
      "2\n",
      "4\n",
      "6\n",
      "8\n",
      "10\n",
      "12\n",
      "14\n",
      "16\n",
      "18\n",
      "20\n"
     ]
    }
   ],
   "source": [
    "# Print even numbers from 1 to 20\n",
    "\n",
    "for i in range(1,21):\n",
    "    if i%2==0:\n",
    "        print(i)"
   ]
  },
  {
   "cell_type": "code",
   "execution_count": 26,
   "id": "6b624f99-80e4-437f-9e72-f0897b0f1d45",
   "metadata": {},
   "outputs": [
    {
     "name": "stdout",
     "output_type": "stream",
     "text": [
      "A\n",
      "n\n",
      "a\n",
      "n\n",
      "d\n"
     ]
    }
   ],
   "source": [
    "# Print the characters in your name one by one\n",
    "\n",
    "name='Anand'\n",
    "for i in name:\n",
    "    print(i)"
   ]
  },
  {
   "cell_type": "code",
   "execution_count": 30,
   "id": "60d6d36c-19af-49fd-b9a3-be8f300ca2e8",
   "metadata": {},
   "outputs": [
    {
     "name": "stdout",
     "output_type": "stream",
     "text": [
      "1\n",
      "4\n",
      "9\n",
      "16\n",
      "25\n"
     ]
    }
   ],
   "source": [
    "# Print the square of numbers from 1 to 5\n",
    "\n",
    "for i in range(1,6):\n",
    "    print(i**2)"
   ]
  },
  {
   "cell_type": "code",
   "execution_count": 32,
   "id": "8fe7bcf3-d153-4053-9762-84c1ba3c2109",
   "metadata": {},
   "outputs": [
    {
     "name": "stdout",
     "output_type": "stream",
     "text": [
      "3\n",
      "6\n",
      "9\n",
      "12\n",
      "15\n",
      "18\n",
      "21\n",
      "24\n",
      "27\n",
      "30\n",
      "33\n",
      "36\n",
      "39\n",
      "42\n",
      "45\n",
      "48\n",
      "51\n",
      "54\n",
      "57\n",
      "60\n",
      "63\n",
      "66\n",
      "69\n",
      "72\n",
      "75\n",
      "78\n",
      "81\n",
      "84\n",
      "87\n",
      "90\n",
      "93\n",
      "96\n",
      "99\n"
     ]
    }
   ],
   "source": [
    "# Print all numbers from 1 to 100 that are divisible by 3\n",
    "\n",
    "for i in range(1,100):\n",
    "    if i%3==0:\n",
    "        print(i)"
   ]
  },
  {
   "cell_type": "code",
   "execution_count": 53,
   "id": "a06e5c26-d4e2-4684-a680-51241322d2e3",
   "metadata": {},
   "outputs": [
    {
     "name": "stdin",
     "output_type": "stream",
     "text": [
      "Enter the Number 5\n"
     ]
    },
    {
     "name": "stdout",
     "output_type": "stream",
     "text": [
      "The factorial of Number 5 is 120\n"
     ]
    }
   ],
   "source": [
    "# ind the factorial of a number using a loop\n",
    "\n",
    "num=eval(input(\"Enter the Number\"))\n",
    "fact=1\n",
    "for i in range(1,num+1):\n",
    "    fact=fact*i\n",
    "print(f\"The factorial of Number {num} is {fact}\")"
   ]
  },
  {
   "cell_type": "code",
   "execution_count": 7,
   "id": "73a3c8b7-48ba-48ba-a043-6dbfa5a44dd5",
   "metadata": {},
   "outputs": [
    {
     "name": "stdin",
     "output_type": "stream",
     "text": [
      "Enter the string Anand\n"
     ]
    },
    {
     "name": "stdout",
     "output_type": "stream",
     "text": [
      "The reverse of the d is dnanA\n"
     ]
    },
    {
     "data": {
      "text/plain": [
       "5"
      ]
     },
     "execution_count": 7,
     "metadata": {},
     "output_type": "execute_result"
    }
   ],
   "source": [
    "# Print reverse of a string using a for loop\n",
    "\n",
    "text=input(\"Enter the string\")\n",
    "reverse=''\n",
    "\n",
    "for char in text:\n",
    "    reverse=char+reverse\n",
    "print(f\"The reverse of the {char} is {reverse}\")\n",
    "len(reverse)"
   ]
  },
  {
   "cell_type": "code",
   "execution_count": 65,
   "id": "10ef420d-a8fe-476d-a0d8-9a1fac85620f",
   "metadata": {},
   "outputs": [
    {
     "name": "stdin",
     "output_type": "stream",
     "text": [
      "Enter the Number 50\n"
     ]
    },
    {
     "name": "stdout",
     "output_type": "stream",
     "text": [
      "The Sum of all the Numbers from 1 to 50 is 1275\n"
     ]
    }
   ],
   "source": [
    "# Sum all numbers from 1 to n (user input)\n",
    "\n",
    "number_input=eval(input(\"Enter the Number\"))\n",
    "total=0\n",
    "\n",
    "for i in range(1,number_input+1):\n",
    "    total=total+i\n",
    "print(f\"The Sum of all the Numbers from 1 to {number_input} is {total}\")"
   ]
  },
  {
   "cell_type": "code",
   "execution_count": null,
   "id": "1319748e-852f-4da5-92f0-c678b546e784",
   "metadata": {},
   "outputs": [],
   "source": []
  },
  {
   "cell_type": "code",
   "execution_count": null,
   "id": "c695dba2-9ea6-4bfe-9bb8-96f779b307f7",
   "metadata": {},
   "outputs": [],
   "source": [
    "# wap ask the user find the divisior of 75\n",
    "# asn is 1,5,15,25,75"
   ]
  },
  {
   "cell_type": "code",
   "execution_count": 12,
   "id": "636dbac4-80e5-4d87-9d17-147fa5486ba3",
   "metadata": {},
   "outputs": [
    {
     "name": "stdout",
     "output_type": "stream",
     "text": [
      "1\n",
      "3\n",
      "5\n",
      "15\n",
      "25\n",
      "75\n"
     ]
    }
   ],
   "source": [
    "\n",
    "\n",
    "for i in range(1,76):\n",
    "    if 75%i==0:\n",
    "        print(i)"
   ]
  },
  {
   "cell_type": "code",
   "execution_count": 14,
   "id": "b96c982c-d78e-4e4b-8289-427b2d4218ff",
   "metadata": {},
   "outputs": [
    {
     "name": "stdin",
     "output_type": "stream",
     "text": [
      "Which Divisior You Want: 75\n"
     ]
    },
    {
     "name": "stdout",
     "output_type": "stream",
     "text": [
      "1\n",
      "3\n",
      "5\n",
      "15\n",
      "25\n",
      "75\n"
     ]
    }
   ],
   "source": [
    "num=eval(input(\"Which Divisior You Want:\"))\n",
    "for i in range(1,num+1):\n",
    "    if num%i==0:\n",
    "        print(i)"
   ]
  },
  {
   "cell_type": "code",
   "execution_count": 24,
   "id": "d43de0c8-28ee-4773-9a3e-43fa13156911",
   "metadata": {},
   "outputs": [
    {
     "name": "stdin",
     "output_type": "stream",
     "text": [
      "Guess the Number 1 - 5: 5\n"
     ]
    },
    {
     "name": "stdout",
     "output_type": "stream",
     "text": [
      "lost\n"
     ]
    },
    {
     "name": "stdin",
     "output_type": "stream",
     "text": [
      "Guess the Number 1 - 5: 3\n"
     ]
    },
    {
     "name": "stdout",
     "output_type": "stream",
     "text": [
      "lost\n"
     ]
    },
    {
     "name": "stdin",
     "output_type": "stream",
     "text": [
      "Guess the Number 1 - 5: 1\n"
     ]
    },
    {
     "name": "stdout",
     "output_type": "stream",
     "text": [
      "lost\n"
     ]
    }
   ],
   "source": [
    "# wap ask the user enter a number\n",
    "# ask the usetr to a get random number\n",
    "# if both are eqaul print won\n",
    "# other wise print lost\n",
    "# give 3 chances to the user (for loop)\n",
    "\n",
    "import random\n",
    "\n",
    "for i in range(3):\n",
    "    num1=eval(input(\"Guess the Number 1 - 5:\"))\n",
    "    num2=random.randint(1,5)\n",
    "    if num1==num2:\n",
    "        print(\"Guess correct\")\n",
    "    else:\n",
    "        print(\"lost\")"
   ]
  },
  {
   "cell_type": "code",
   "execution_count": 38,
   "id": "254f4c88-b638-4d23-851f-f1cee00f3d94",
   "metadata": {},
   "outputs": [
    {
     "name": "stdin",
     "output_type": "stream",
     "text": [
      "Guess the Number 1 - 5: 4\n"
     ]
    },
    {
     "name": "stdout",
     "output_type": "stream",
     "text": [
      "Guess correct\n"
     ]
    }
   ],
   "source": [
    "for i in range(3):\n",
    "    num3=eval(input(\"Guess the Number 1 - 5:\"))\n",
    "    num4=random.randint(1,5)\n",
    "    if num3==num3:\n",
    "        print(\"Guess correct\")\n",
    "        break\n",
    "    else:\n",
    "        print(\"lost\")"
   ]
  },
  {
   "cell_type": "code",
   "execution_count": null,
   "id": "d9fb8550-9aab-4a31-8613-610149b91db4",
   "metadata": {},
   "outputs": [],
   "source": [
    "# imagine that your develeping internet banking\n",
    "\n",
    "# Case-1: when ever the correct pwd: code should print wrong password\n",
    "# Case-2: \n",
    "\n",
    "\n",
    "\n",
    "Hint: for i in range(3):\n",
    "    print(3-i)\n",
    "    val=3-i"
   ]
  },
  {
   "cell_type": "code",
   "execution_count": null,
   "id": "35c806f8-0c21-4f21-b95e-a117331e8b56",
   "metadata": {},
   "outputs": [],
   "source": [
    "# wap ask the user get the sum of first 10 natural numbers\n",
    "# 1+2+3+45+6+7+8+9+10= 55"
   ]
  },
  {
   "cell_type": "code",
   "execution_count": 66,
   "id": "b2807f3c-8409-467e-aa60-6e9ff79389fd",
   "metadata": {},
   "outputs": [
    {
     "name": "stdout",
     "output_type": "stream",
     "text": [
      "1\n",
      "3\n",
      "6\n",
      "10\n",
      "15\n",
      "21\n",
      "28\n",
      "36\n",
      "45\n",
      "55\n"
     ]
    }
   ],
   "source": [
    "Sum=0\n",
    "for i in range(1,11):\n",
    "    Sum+=i\n",
    "    print(Sum)"
   ]
  },
  {
   "cell_type": "code",
   "execution_count": 76,
   "id": "eb9ad676-4ab7-462e-a6d3-396276b10bea",
   "metadata": {},
   "outputs": [
    {
     "name": "stdin",
     "output_type": "stream",
     "text": [
      "Which Divisior You Want: 75\n"
     ]
    },
    {
     "name": "stdout",
     "output_type": "stream",
     "text": [
      "1 is a divisior of 75\n",
      "3 is a divisior of 75\n",
      "5 is a divisior of 75\n",
      "15 is a divisior of 75\n",
      "25 is a divisior of 75\n",
      "75 is a divisior of 75\n",
      "124\n"
     ]
    }
   ],
   "source": [
    "# wap ask the user get sum of divisiors of 75\n",
    "\n",
    "Sum1=0\n",
    "num=eval(input(\"Which Divisior You Want:\"))\n",
    "for i in range(1,num+1):\n",
    "    if num%i==0:\n",
    "        print(f\"{i} is a divisior of {num}\",)\n",
    "        Sum1+=i\n",
    "print(Sum1)"
   ]
  },
  {
   "cell_type": "code",
   "execution_count": 80,
   "id": "b1279749-7c25-4e35-91a4-c182b223ae20",
   "metadata": {},
   "outputs": [
    {
     "name": "stdin",
     "output_type": "stream",
     "text": [
      "Enter the Number between 1 - 100 : 2\n"
     ]
    },
    {
     "name": "stdout",
     "output_type": "stream",
     "text": [
      "2 is the evenh number\n"
     ]
    },
    {
     "name": "stdin",
     "output_type": "stream",
     "text": [
      "Enter the Number between 1 - 100 : 6\n"
     ]
    },
    {
     "name": "stdout",
     "output_type": "stream",
     "text": [
      "6 is the evenh number\n"
     ]
    },
    {
     "name": "stdin",
     "output_type": "stream",
     "text": [
      "Enter the Number between 1 - 100 : 4\n"
     ]
    },
    {
     "name": "stdout",
     "output_type": "stream",
     "text": [
      "4 is the evenh number\n"
     ]
    },
    {
     "name": "stdin",
     "output_type": "stream",
     "text": [
      "Enter the Number between 1 - 100 : 8\n"
     ]
    },
    {
     "name": "stdout",
     "output_type": "stream",
     "text": [
      "8 is the evenh number\n"
     ]
    },
    {
     "name": "stdin",
     "output_type": "stream",
     "text": [
      "Enter the Number between 1 - 100 : 5\n"
     ]
    },
    {
     "name": "stdout",
     "output_type": "stream",
     "text": [
      "5 is odd number\n",
      "20 sum of even numbers\n",
      "5 sum of odd numbers\n"
     ]
    }
   ],
   "source": [
    "# wap ask the user get a random number 1-100 find even or odd\n",
    "# also get some even number and sum of odd numbers and get 5 random numbers\n",
    "\n",
    "even_sum=0\n",
    "odd_sum=0\n",
    "for i in range(1,6):\n",
    "    number=eval(input(\"Enter the Number between 1 - 100 :\"))\n",
    "    if number%2==0:\n",
    "        print(f\"{number} is the even number\")\n",
    "        even_sum+=number\n",
    "    else:\n",
    "        print(f\"{number} is odd number\")\n",
    "        odd_sum+=number\n",
    "print(f\"{even_sum} sum of even numbers\")\n",
    "print(f\"{odd_sum} sum of odd numbers\")"
   ]
  },
  {
   "cell_type": "markdown",
   "id": "9a733102-0848-4fdc-a46f-7209bfeb1692",
   "metadata": {},
   "source": [
    "**Counter Program**\n",
    "\n",
    "- Summation Program when sucess it will add the number\n",
    "\n",
    "      - Summ=0 then  sum- sum+i or sum=sum+i based on condition\n",
    "- count=0 count=count+1 or Count+=1"
   ]
  },
  {
   "cell_type": "code",
   "execution_count": 92,
   "id": "8d123767-f80a-4290-a225-2390847322f4",
   "metadata": {},
   "outputs": [
    {
     "name": "stdin",
     "output_type": "stream",
     "text": [
      "Enter the Number between 1 - 100 : 2\n"
     ]
    },
    {
     "name": "stdout",
     "output_type": "stream",
     "text": [
      "2 is the even number\n"
     ]
    },
    {
     "name": "stdin",
     "output_type": "stream",
     "text": [
      "Enter the Number between 1 - 100 : 4\n"
     ]
    },
    {
     "name": "stdout",
     "output_type": "stream",
     "text": [
      "4 is the even number\n"
     ]
    },
    {
     "name": "stdin",
     "output_type": "stream",
     "text": [
      "Enter the Number between 1 - 100 : 6\n"
     ]
    },
    {
     "name": "stdout",
     "output_type": "stream",
     "text": [
      "6 is the even number\n"
     ]
    },
    {
     "name": "stdin",
     "output_type": "stream",
     "text": [
      "Enter the Number between 1 - 100 : 8\n"
     ]
    },
    {
     "name": "stdout",
     "output_type": "stream",
     "text": [
      "8 is the even number\n"
     ]
    },
    {
     "name": "stdin",
     "output_type": "stream",
     "text": [
      "Enter the Number between 1 - 100 : 5\n"
     ]
    },
    {
     "name": "stdout",
     "output_type": "stream",
     "text": [
      "5 is odd number\n",
      "4 count of even numbers\n",
      "1 count of odd numbers\n"
     ]
    }
   ],
   "source": [
    "# Counter Program\n",
    "\n",
    "even_count=0\n",
    "odd_count=0\n",
    "for i in range(1,6):\n",
    "    number=eval(input(\"Enter the Number between 1 - 100 :\"))\n",
    "    if number%2==0:\n",
    "        print(f\"{number} is the even number\")\n",
    "        even_count+=1\n",
    "    else:\n",
    "        print(f\"{number} is odd number\")\n",
    "        odd_count+=1\n",
    "print(f\"{even_count} count of even numbers\")\n",
    "print(f\"{odd_count} count of odd numbers\")"
   ]
  },
  {
   "cell_type": "markdown",
   "id": "360e2efc-da88-4982-ab8d-0e2069791902",
   "metadata": {},
   "source": [
    "**in Operator**"
   ]
  },
  {
   "cell_type": "code",
   "execution_count": 102,
   "id": "3ce8bd1d-a4f3-4f26-a097-ff4ec7efb076",
   "metadata": {},
   "outputs": [
    {
     "data": {
      "text/plain": [
       "True"
      ]
     },
     "execution_count": 102,
     "metadata": {},
     "output_type": "execute_result"
    }
   ],
   "source": [
    "'p' in 'python'\n",
    "'y' in 'python'\n",
    "'t' in 'python'\n",
    "'h' in 'python'\n",
    "'o' in 'python'\n",
    "'n' in 'python'"
   ]
  },
  {
   "cell_type": "code",
   "execution_count": 104,
   "id": "809148ce-a628-4ed2-be99-4264ab1f3aa6",
   "metadata": {},
   "outputs": [
    {
     "name": "stdout",
     "output_type": "stream",
     "text": [
      "p\n",
      "y\n",
      "t\n",
      "h\n",
      "o\n",
      "n\n"
     ]
    }
   ],
   "source": [
    "for i in 'python':\n",
    "    print(i)"
   ]
  },
  {
   "cell_type": "code",
   "execution_count": 108,
   "id": "dfb58e1f-edcc-4a09-bfd8-d5775ec2ba11",
   "metadata": {},
   "outputs": [
    {
     "name": "stdout",
     "output_type": "stream",
     "text": [
      "p y t h o n "
     ]
    }
   ],
   "source": [
    "for i in 'python':\n",
    "    print(i,end=' ')"
   ]
  },
  {
   "cell_type": "code",
   "execution_count": 112,
   "id": "07aa19ea-f6f2-4c1c-b4ee-220115b55c70",
   "metadata": {},
   "outputs": [
    {
     "name": "stdout",
     "output_type": "stream",
     "text": [
      "p y t h o n "
     ]
    }
   ],
   "source": [
    "name='python'\n",
    "for i in name:\n",
    "    print(i,end=' ')"
   ]
  },
  {
   "cell_type": "code",
   "execution_count": null,
   "id": "b2faa0cd-0c92-4bb6-9594-f535647205b1",
   "metadata": {},
   "outputs": [],
   "source": [
    "'English to the Computer'\n",
    "ASCII : American Standard Code for Information Interchange"
   ]
  },
  {
   "cell_type": "code",
   "execution_count": 114,
   "id": "749c9a37-8bda-4e18-8020-9b01c3afcfca",
   "metadata": {},
   "outputs": [
    {
     "data": {
      "text/plain": [
       "65"
      ]
     },
     "execution_count": 114,
     "metadata": {},
     "output_type": "execute_result"
    }
   ],
   "source": [
    "ord('A')"
   ]
  },
  {
   "cell_type": "code",
   "execution_count": 118,
   "id": "db5e74ff-76b8-461c-9c99-2e49609ff820",
   "metadata": {},
   "outputs": [
    {
     "data": {
      "text/plain": [
       "'A'"
      ]
     },
     "execution_count": 118,
     "metadata": {},
     "output_type": "execute_result"
    }
   ],
   "source": [
    "chr(65)"
   ]
  },
  {
   "cell_type": "code",
   "execution_count": 120,
   "id": "a9154061-ec6c-4441-9166-02e54f835f4d",
   "metadata": {},
   "outputs": [
    {
     "data": {
      "text/plain": [
       "True"
      ]
     },
     "execution_count": 120,
     "metadata": {},
     "output_type": "execute_result"
    }
   ],
   "source": [
    "'p'<'P' # 112>80"
   ]
  },
  {
   "cell_type": "code",
   "execution_count": 124,
   "id": "a7f4f1f7-bce6-4071-bcfa-58810eb68aa2",
   "metadata": {},
   "outputs": [
    {
     "data": {
      "text/plain": [
       "112"
      ]
     },
     "execution_count": 124,
     "metadata": {},
     "output_type": "execute_result"
    }
   ],
   "source": [
    "ord('p')"
   ]
  },
  {
   "cell_type": "code",
   "execution_count": 126,
   "id": "4eb555d4-78d3-4a93-a9eb-f66164e12917",
   "metadata": {},
   "outputs": [
    {
     "data": {
      "text/plain": [
       "80"
      ]
     },
     "execution_count": 126,
     "metadata": {},
     "output_type": "execute_result"
    }
   ],
   "source": [
    "ord('P')"
   ]
  },
  {
   "cell_type": "code",
   "execution_count": 5,
   "id": "aa5d7d84-9bb7-4ff7-b70e-359dc71a7f91",
   "metadata": {},
   "outputs": [
    {
     "name": "stdout",
     "output_type": "stream",
     "text": [
      "p : 112 ; y : 121 ; t : 116 ; h : 104 ; o : 111 ; n : 110 ; "
     ]
    }
   ],
   "source": [
    "for i in 'python':\n",
    "    print(f\"{i} : {ord(i)}\",end=' ; ')"
   ]
  },
  {
   "cell_type": "code",
   "execution_count": 39,
   "id": "51e4bec5-7c24-4f37-8312-80589c62c32c",
   "metadata": {},
   "outputs": [
    {
     "name": "stdout",
     "output_type": "stream",
     "text": [
      "A : 65 ; B : 66 ; C : 67 ; D : 68 ; E : 69 ; F : 70 ; G : 71 ; H : 72 ; I : 73 ; J : 74 ; K : 75 ; L : 76 ; M : 77 ; N : 78 ; O : 79 ; P : 80 ; Q : 81 ; R : 82 ; S : 83 ; T : 84 ; U : 85 ; V : 86 ; W : 87 ; X : 88 ; Y : 89 ; Z : 90 ; "
     ]
    }
   ],
   "source": [
    "# Print ascii values for A to Z\n",
    "\n",
    "import string\n",
    "Capital=string.ascii_uppercase\n",
    "\n",
    "for i in Capital:\n",
    "    print(f\"{i} : {ord(i)}\",end=' ; ')"
   ]
  },
  {
   "cell_type": "code",
   "execution_count": 41,
   "id": "f2424173-2cdc-490e-8285-65741917bb26",
   "metadata": {},
   "outputs": [
    {
     "name": "stdout",
     "output_type": "stream",
     "text": [
      "a : 97 ; b : 98 ; c : 99 ; d : 100 ; e : 101 ; f : 102 ; g : 103 ; h : 104 ; i : 105 ; j : 106 ; k : 107 ; l : 108 ; m : 109 ; n : 110 ; o : 111 ; p : 112 ; q : 113 ; r : 114 ; s : 115 ; t : 116 ; u : 117 ; v : 118 ; w : 119 ; x : 120 ; y : 121 ; z : 122 ; "
     ]
    }
   ],
   "source": [
    "lower=string.ascii_lowercase\n",
    "\n",
    "for i in lower:\n",
    "    print(f\"{i} : {ord(i)}\",end=' ; ')"
   ]
  },
  {
   "cell_type": "code",
   "execution_count": 49,
   "id": "6280232c-96c4-42cf-9191-923c326c25ab",
   "metadata": {},
   "outputs": [
    {
     "name": "stdout",
     "output_type": "stream",
     "text": [
      "20 : \u0014 ; 21 : \u0015 ; 22 : \u0016 ; 23 : \u0017 ; 24 : \u0018 ; 25 : \u0019 ; 26 : \u001a ; 27 : \u001b ; 28 : \u001c",
      " ; 29 : \u001d",
      " ; 30 : \u001e",
      " ; 31 : \u001f ; 32 :   ; 33 : ! ; 34 : \" ; 35 : # ; 36 : $ ; 37 : % ; 38 : & ; 39 : ' ; 40 : ( ; 41 : ) ; 42 : * ; 43 : + ; 44 : , ; 45 : - ; 46 : . ; 47 : / ; 48 : 0 ; 49 : 1 ; 50 : 2 ; 51 : 3 ; 52 : 4 ; 53 : 5 ; 54 : 6 ; 55 : 7 ; 56 : 8 ; 57 : 9 ; 58 : : ; 59 : ; ; 60 : < ; 61 : = ; 62 : > ; 63 : ? ; 64 : @ ; 65 : A ; 66 : B ; 67 : C ; 68 : D ; 69 : E ; 70 : F ; 71 : G ; 72 : H ; 73 : I ; 74 : J ; 75 : K ; 76 : L ; 77 : M ; 78 : N ; 79 : O ; 80 : P ; 81 : Q ; 82 : R ; 83 : S ; 84 : T ; 85 : U ; 86 : V ; 87 : W ; 88 : X ; 89 : Y ; 90 : Z ; 91 : [ ; 92 : \\ ; 93 : ] ; 94 : ^ ; 95 : _ ; 96 : ` ; 97 : a ; 98 : b ; 99 : c ; 100 : d ; 101 : e ; 102 : f ; 103 : g ; 104 : h ; 105 : i ; 106 : j ; 107 : k ; 108 : l ; 109 : m ; 110 : n ; 111 : o ; 112 : p ; 113 : q ; 114 : r ; 115 : s ; 116 : t ; 117 : u ; 118 : v ; 119 : w ; 120 : x ; 121 : y ; 122 : z ; 123 : { ; 124 : | ; 125 : } ; 126 : ~ ; 127 :  ; 128 :  ; 129 :  ; 130 :  ; 131 :  ; 132 :  ; 133 : ",
      " ; 134 :  ; 135 :  ; 136 :  ; 137 :  ; 138 :  ; 139 :  ; 140 :  ; 141 :  ; 142 :  ; 143 :  ; 144 :  ; 145 :  ; 146 :  ; 147 :  ; 148 :  ; 149 :  ; "
     ]
    }
   ],
   "source": [
    "# A : 65    z = 122\n",
    "\n",
    "for i in range(20,150):\n",
    "    print(f\"{i} : {chr(i)}\",end=' ; ')"
   ]
  },
  {
   "cell_type": "code",
   "execution_count": 57,
   "id": "a87e298f-edbb-4ae6-8acc-7eec22456712",
   "metadata": {},
   "outputs": [
    {
     "name": "stdout",
     "output_type": "stream",
     "text": [
      "2500 : ৄ ; 2501 : ৅ ; 2502 : ৆ ; 2503 : ে ; 2504 : ৈ ; 2505 : ৉ ; 2506 : ৊ ; 2507 : ো ; 2508 : ৌ ; 2509 : ্ ; 2510 : ৎ ; 2511 : ৏ ; 2512 : ৐ ; 2513 : ৑ ; 2514 : ৒ ; 2515 : ৓ ; 2516 : ৔ ; 2517 : ৕ ; 2518 : ৖ ; 2519 : ৗ ; 2520 : ৘ ; 2521 : ৙ ; 2522 : ৚ ; 2523 : ৛ ; 2524 : ড় ; 2525 : ঢ় ; 2526 : ৞ ; 2527 : য় ; 2528 : ৠ ; 2529 : ৡ ; 2530 : ৢ ; 2531 : ৣ ; 2532 : ৤ ; 2533 : ৥ ; 2534 : ০ ; 2535 : ১ ; 2536 : ২ ; 2537 : ৩ ; 2538 : ৪ ; 2539 : ৫ ; 2540 : ৬ ; 2541 : ৭ ; 2542 : ৮ ; 2543 : ৯ ; 2544 : ৰ ; 2545 : ৱ ; 2546 : ৲ ; 2547 : ৳ ; 2548 : ৴ ; 2549 : ৵ ; 2550 : ৶ ; 2551 : ৷ ; 2552 : ৸ ; 2553 : ৹ ; 2554 : ৺ ; 2555 : ৻ ; 2556 : ৼ ; 2557 : ৽ ; 2558 : ৾ ; 2559 : ৿ ; 2560 : ਀ ; 2561 : ਁ ; 2562 : ਂ ; 2563 : ਃ ; 2564 : ਄ ; 2565 : ਅ ; 2566 : ਆ ; 2567 : ਇ ; 2568 : ਈ ; 2569 : ਉ ; 2570 : ਊ ; 2571 : ਋ ; 2572 : ਌ ; 2573 : ਍ ; 2574 : ਎ ; 2575 : ਏ ; 2576 : ਐ ; 2577 : ਑ ; 2578 : ਒ ; 2579 : ਓ ; 2580 : ਔ ; 2581 : ਕ ; 2582 : ਖ ; 2583 : ਗ ; 2584 : ਘ ; 2585 : ਙ ; 2586 : ਚ ; 2587 : ਛ ; 2588 : ਜ ; 2589 : ਝ ; 2590 : ਞ ; 2591 : ਟ ; 2592 : ਠ ; 2593 : ਡ ; 2594 : ਢ ; 2595 : ਣ ; 2596 : ਤ ; 2597 : ਥ ; 2598 : ਦ ; 2599 : ਧ ; 2600 : ਨ ; 2601 : ਩ ; 2602 : ਪ ; 2603 : ਫ ; 2604 : ਬ ; 2605 : ਭ ; 2606 : ਮ ; 2607 : ਯ ; 2608 : ਰ ; 2609 : ਱ ; 2610 : ਲ ; 2611 : ਲ਼ ; 2612 : ਴ ; 2613 : ਵ ; 2614 : ਸ਼ ; 2615 : ਷ ; 2616 : ਸ ; 2617 : ਹ ; 2618 : ਺ ; 2619 : ਻ ; 2620 : ਼ ; 2621 : ਽ ; 2622 : ਾ ; 2623 : ਿ ; 2624 : ੀ ; 2625 : ੁ ; 2626 : ੂ ; 2627 : ੃ ; 2628 : ੄ ; 2629 : ੅ ; 2630 : ੆ ; 2631 : ੇ ; 2632 : ੈ ; 2633 : ੉ ; 2634 : ੊ ; 2635 : ੋ ; 2636 : ੌ ; 2637 : ੍ ; 2638 : ੎ ; 2639 : ੏ ; 2640 : ੐ ; 2641 : ੑ ; 2642 : ੒ ; 2643 : ੓ ; 2644 : ੔ ; 2645 : ੕ ; 2646 : ੖ ; 2647 : ੗ ; 2648 : ੘ ; 2649 : ਖ਼ ; 2650 : ਗ਼ ; 2651 : ਜ਼ ; 2652 : ੜ ; 2653 : ੝ ; 2654 : ਫ਼ ; 2655 : ੟ ; 2656 : ੠ ; 2657 : ੡ ; 2658 : ੢ ; 2659 : ੣ ; 2660 : ੤ ; 2661 : ੥ ; 2662 : ੦ ; 2663 : ੧ ; 2664 : ੨ ; 2665 : ੩ ; 2666 : ੪ ; 2667 : ੫ ; 2668 : ੬ ; 2669 : ੭ ; 2670 : ੮ ; 2671 : ੯ ; 2672 : ੰ ; 2673 : ੱ ; 2674 : ੲ ; 2675 : ੳ ; 2676 : ੴ ; 2677 : ੵ ; 2678 : ੶ ; 2679 : ੷ ; 2680 : ੸ ; 2681 : ੹ ; 2682 : ੺ ; 2683 : ੻ ; 2684 : ੼ ; 2685 : ੽ ; 2686 : ੾ ; 2687 : ੿ ; 2688 : ઀ ; 2689 : ઁ ; 2690 : ં ; 2691 : ઃ ; 2692 : ઄ ; 2693 : અ ; 2694 : આ ; 2695 : ઇ ; 2696 : ઈ ; 2697 : ઉ ; 2698 : ઊ ; 2699 : ઋ ; 2700 : ઌ ; 2701 : ઍ ; 2702 : ઎ ; 2703 : એ ; 2704 : ઐ ; 2705 : ઑ ; 2706 : ઒ ; 2707 : ઓ ; 2708 : ઔ ; 2709 : ક ; 2710 : ખ ; 2711 : ગ ; 2712 : ઘ ; 2713 : ઙ ; 2714 : ચ ; 2715 : છ ; 2716 : જ ; 2717 : ઝ ; 2718 : ઞ ; 2719 : ટ ; 2720 : ઠ ; 2721 : ડ ; 2722 : ઢ ; 2723 : ણ ; 2724 : ત ; 2725 : થ ; 2726 : દ ; 2727 : ધ ; 2728 : ન ; 2729 : ઩ ; 2730 : પ ; 2731 : ફ ; 2732 : બ ; 2733 : ભ ; 2734 : મ ; 2735 : ય ; 2736 : ર ; 2737 : ઱ ; 2738 : લ ; 2739 : ળ ; 2740 : ઴ ; 2741 : વ ; 2742 : શ ; 2743 : ષ ; 2744 : સ ; 2745 : હ ; 2746 : ઺ ; 2747 : ઻ ; 2748 : ઼ ; 2749 : ઽ ; 2750 : ા ; 2751 : િ ; 2752 : ી ; 2753 : ુ ; 2754 : ૂ ; 2755 : ૃ ; 2756 : ૄ ; 2757 : ૅ ; 2758 : ૆ ; 2759 : ે ; 2760 : ૈ ; 2761 : ૉ ; 2762 : ૊ ; 2763 : ો ; 2764 : ૌ ; 2765 : ્ ; 2766 : ૎ ; 2767 : ૏ ; 2768 : ૐ ; 2769 : ૑ ; 2770 : ૒ ; 2771 : ૓ ; 2772 : ૔ ; 2773 : ૕ ; 2774 : ૖ ; 2775 : ૗ ; 2776 : ૘ ; 2777 : ૙ ; 2778 : ૚ ; 2779 : ૛ ; 2780 : ૜ ; 2781 : ૝ ; 2782 : ૞ ; 2783 : ૟ ; 2784 : ૠ ; 2785 : ૡ ; 2786 : ૢ ; 2787 : ૣ ; 2788 : ૤ ; 2789 : ૥ ; 2790 : ૦ ; 2791 : ૧ ; 2792 : ૨ ; 2793 : ૩ ; 2794 : ૪ ; 2795 : ૫ ; 2796 : ૬ ; 2797 : ૭ ; 2798 : ૮ ; 2799 : ૯ ; 2800 : ૰ ; 2801 : ૱ ; 2802 : ૲ ; 2803 : ૳ ; 2804 : ૴ ; 2805 : ૵ ; 2806 : ૶ ; 2807 : ૷ ; 2808 : ૸ ; 2809 : ૹ ; 2810 : ૺ ; 2811 : ૻ ; 2812 : ૼ ; 2813 : ૽ ; 2814 : ૾ ; 2815 : ૿ ; 2816 : ଀ ; 2817 : ଁ ; 2818 : ଂ ; 2819 : ଃ ; 2820 : ଄ ; 2821 : ଅ ; 2822 : ଆ ; 2823 : ଇ ; 2824 : ଈ ; 2825 : ଉ ; 2826 : ଊ ; 2827 : ଋ ; 2828 : ଌ ; 2829 : ଍ ; 2830 : ଎ ; 2831 : ଏ ; 2832 : ଐ ; 2833 : ଑ ; 2834 : ଒ ; 2835 : ଓ ; 2836 : ଔ ; 2837 : କ ; 2838 : ଖ ; 2839 : ଗ ; 2840 : ଘ ; 2841 : ଙ ; 2842 : ଚ ; 2843 : ଛ ; 2844 : ଜ ; 2845 : ଝ ; 2846 : ଞ ; 2847 : ଟ ; 2848 : ଠ ; 2849 : ଡ ; 2850 : ଢ ; 2851 : ଣ ; 2852 : ତ ; 2853 : ଥ ; 2854 : ଦ ; 2855 : ଧ ; 2856 : ନ ; 2857 : ଩ ; 2858 : ପ ; 2859 : ଫ ; 2860 : ବ ; 2861 : ଭ ; 2862 : ମ ; 2863 : ଯ ; 2864 : ର ; 2865 : ଱ ; 2866 : ଲ ; 2867 : ଳ ; 2868 : ଴ ; 2869 : ଵ ; 2870 : ଶ ; 2871 : ଷ ; 2872 : ସ ; 2873 : ହ ; 2874 : ଺ ; 2875 : ଻ ; 2876 : ଼ ; 2877 : ଽ ; 2878 : ା ; 2879 : ି ; 2880 : ୀ ; 2881 : ୁ ; 2882 : ୂ ; 2883 : ୃ ; 2884 : ୄ ; 2885 : ୅ ; 2886 : ୆ ; 2887 : େ ; 2888 : ୈ ; 2889 : ୉ ; 2890 : ୊ ; 2891 : ୋ ; 2892 : ୌ ; 2893 : ୍ ; 2894 : ୎ ; 2895 : ୏ ; 2896 : ୐ ; 2897 : ୑ ; 2898 : ୒ ; 2899 : ୓ ; 2900 : ୔ ; 2901 : ୕ ; 2902 : ୖ ; 2903 : ୗ ; 2904 : ୘ ; 2905 : ୙ ; 2906 : ୚ ; 2907 : ୛ ; 2908 : ଡ଼ ; 2909 : ଢ଼ ; 2910 : ୞ ; 2911 : ୟ ; 2912 : ୠ ; 2913 : ୡ ; 2914 : ୢ ; 2915 : ୣ ; 2916 : ୤ ; 2917 : ୥ ; 2918 : ୦ ; 2919 : ୧ ; 2920 : ୨ ; 2921 : ୩ ; 2922 : ୪ ; 2923 : ୫ ; 2924 : ୬ ; 2925 : ୭ ; 2926 : ୮ ; 2927 : ୯ ; 2928 : ୰ ; 2929 : ୱ ; 2930 : ୲ ; 2931 : ୳ ; 2932 : ୴ ; 2933 : ୵ ; 2934 : ୶ ; 2935 : ୷ ; 2936 : ୸ ; 2937 : ୹ ; 2938 : ୺ ; 2939 : ୻ ; 2940 : ୼ ; 2941 : ୽ ; 2942 : ୾ ; 2943 : ୿ ; 2944 : ஀ ; 2945 : ஁ ; 2946 : ஂ ; 2947 : ஃ ; 2948 : ஄ ; 2949 : அ ; 2950 : ஆ ; 2951 : இ ; 2952 : ஈ ; 2953 : உ ; 2954 : ஊ ; 2955 : ஋ ; 2956 : ஌ ; 2957 : ஍ ; 2958 : எ ; 2959 : ஏ ; 2960 : ஐ ; 2961 : ஑ ; 2962 : ஒ ; 2963 : ஓ ; 2964 : ஔ ; 2965 : க ; 2966 : ஖ ; 2967 : ஗ ; 2968 : ஘ ; 2969 : ங ; 2970 : ச ; 2971 : ஛ ; 2972 : ஜ ; 2973 : ஝ ; 2974 : ஞ ; 2975 : ட ; 2976 : ஠ ; 2977 : ஡ ; 2978 : ஢ ; 2979 : ண ; 2980 : த ; 2981 : ஥ ; 2982 : ஦ ; 2983 : ஧ ; 2984 : ந ; 2985 : ன ; 2986 : ப ; 2987 : ஫ ; 2988 : ஬ ; 2989 : ஭ ; 2990 : ம ; 2991 : ய ; 2992 : ர ; 2993 : ற ; 2994 : ல ; 2995 : ள ; 2996 : ழ ; 2997 : வ ; 2998 : ஶ ; 2999 : ஷ ; 3000 : ஸ ; 3001 : ஹ ; 3002 : ஺ ; 3003 : ஻ ; 3004 : ஼ ; 3005 : ஽ ; 3006 : ா ; 3007 : ி ; 3008 : ீ ; 3009 : ு ; 3010 : ூ ; 3011 : ௃ ; 3012 : ௄ ; 3013 : ௅ ; 3014 : ெ ; 3015 : ே ; 3016 : ை ; 3017 : ௉ ; 3018 : ொ ; 3019 : ோ ; 3020 : ௌ ; 3021 : ் ; 3022 : ௎ ; 3023 : ௏ ; 3024 : ௐ ; 3025 : ௑ ; 3026 : ௒ ; 3027 : ௓ ; 3028 : ௔ ; 3029 : ௕ ; 3030 : ௖ ; 3031 : ௗ ; 3032 : ௘ ; 3033 : ௙ ; 3034 : ௚ ; 3035 : ௛ ; 3036 : ௜ ; 3037 : ௝ ; 3038 : ௞ ; 3039 : ௟ ; 3040 : ௠ ; 3041 : ௡ ; 3042 : ௢ ; 3043 : ௣ ; 3044 : ௤ ; 3045 : ௥ ; 3046 : ௦ ; 3047 : ௧ ; 3048 : ௨ ; 3049 : ௩ ; 3050 : ௪ ; 3051 : ௫ ; 3052 : ௬ ; 3053 : ௭ ; 3054 : ௮ ; 3055 : ௯ ; 3056 : ௰ ; 3057 : ௱ ; 3058 : ௲ ; 3059 : ௳ ; 3060 : ௴ ; 3061 : ௵ ; 3062 : ௶ ; 3063 : ௷ ; 3064 : ௸ ; 3065 : ௹ ; 3066 : ௺ ; 3067 : ௻ ; 3068 : ௼ ; 3069 : ௽ ; 3070 : ௾ ; 3071 : ௿ ; 3072 : ఀ ; 3073 : ఁ ; 3074 : ం ; 3075 : ః ; 3076 : ఄ ; 3077 : అ ; 3078 : ఆ ; 3079 : ఇ ; 3080 : ఈ ; 3081 : ఉ ; 3082 : ఊ ; 3083 : ఋ ; 3084 : ఌ ; 3085 : ఍ ; 3086 : ఎ ; 3087 : ఏ ; 3088 : ఐ ; 3089 : ఑ ; 3090 : ఒ ; 3091 : ఓ ; 3092 : ఔ ; 3093 : క ; 3094 : ఖ ; 3095 : గ ; 3096 : ఘ ; 3097 : ఙ ; 3098 : చ ; 3099 : ఛ ; 3100 : జ ; 3101 : ఝ ; 3102 : ఞ ; 3103 : ట ; 3104 : ఠ ; 3105 : డ ; 3106 : ఢ ; 3107 : ణ ; 3108 : త ; 3109 : థ ; 3110 : ద ; 3111 : ధ ; 3112 : న ; 3113 : ఩ ; 3114 : ప ; 3115 : ఫ ; 3116 : బ ; 3117 : భ ; 3118 : మ ; 3119 : య ; 3120 : ర ; 3121 : ఱ ; 3122 : ల ; 3123 : ళ ; 3124 : ఴ ; 3125 : వ ; 3126 : శ ; 3127 : ష ; 3128 : స ; 3129 : హ ; 3130 : ఺ ; 3131 : ఻ ; 3132 : ఼ ; 3133 : ఽ ; 3134 : ా ; 3135 : ి ; 3136 : ీ ; 3137 : ు ; 3138 : ూ ; 3139 : ృ ; 3140 : ౄ ; 3141 : ౅ ; 3142 : ె ; 3143 : ే ; 3144 : ై ; 3145 : ౉ ; 3146 : ొ ; 3147 : ో ; 3148 : ౌ ; 3149 : ్ ; 3150 : ౎ ; 3151 : ౏ ; 3152 : ౐ ; 3153 : ౑ ; 3154 : ౒ ; 3155 : ౓ ; 3156 : ౔ ; 3157 : ౕ ; 3158 : ౖ ; 3159 : ౗ ; 3160 : ౘ ; 3161 : ౙ ; 3162 : ౚ ; 3163 : ౛ ; 3164 : ౜ ; 3165 : ౝ ; 3166 : ౞ ; 3167 : ౟ ; 3168 : ౠ ; 3169 : ౡ ; 3170 : ౢ ; 3171 : ౣ ; 3172 : ౤ ; 3173 : ౥ ; 3174 : ౦ ; 3175 : ౧ ; 3176 : ౨ ; 3177 : ౩ ; 3178 : ౪ ; 3179 : ౫ ; 3180 : ౬ ; 3181 : ౭ ; 3182 : ౮ ; 3183 : ౯ ; 3184 : ౰ ; 3185 : ౱ ; 3186 : ౲ ; 3187 : ౳ ; 3188 : ౴ ; 3189 : ౵ ; 3190 : ౶ ; 3191 : ౷ ; 3192 : ౸ ; 3193 : ౹ ; 3194 : ౺ ; 3195 : ౻ ; 3196 : ౼ ; 3197 : ౽ ; 3198 : ౾ ; 3199 : ౿ ; 3200 : ಀ ; 3201 : ಁ ; 3202 : ಂ ; 3203 : ಃ ; 3204 : ಄ ; 3205 : ಅ ; 3206 : ಆ ; 3207 : ಇ ; 3208 : ಈ ; 3209 : ಉ ; 3210 : ಊ ; 3211 : ಋ ; 3212 : ಌ ; 3213 : ಍ ; 3214 : ಎ ; 3215 : ಏ ; 3216 : ಐ ; 3217 : ಑ ; 3218 : ಒ ; 3219 : ಓ ; 3220 : ಔ ; 3221 : ಕ ; 3222 : ಖ ; 3223 : ಗ ; 3224 : ಘ ; 3225 : ಙ ; 3226 : ಚ ; 3227 : ಛ ; 3228 : ಜ ; 3229 : ಝ ; 3230 : ಞ ; 3231 : ಟ ; 3232 : ಠ ; 3233 : ಡ ; 3234 : ಢ ; 3235 : ಣ ; 3236 : ತ ; 3237 : ಥ ; 3238 : ದ ; 3239 : ಧ ; 3240 : ನ ; 3241 : ಩ ; 3242 : ಪ ; 3243 : ಫ ; 3244 : ಬ ; 3245 : ಭ ; 3246 : ಮ ; 3247 : ಯ ; 3248 : ರ ; 3249 : ಱ ; 3250 : ಲ ; 3251 : ಳ ; 3252 : ಴ ; 3253 : ವ ; 3254 : ಶ ; 3255 : ಷ ; 3256 : ಸ ; 3257 : ಹ ; 3258 : ಺ ; 3259 : ಻ ; 3260 : ಼ ; 3261 : ಽ ; 3262 : ಾ ; 3263 : ಿ ; 3264 : ೀ ; 3265 : ು ; 3266 : ೂ ; 3267 : ೃ ; 3268 : ೄ ; 3269 : ೅ ; 3270 : ೆ ; 3271 : ೇ ; 3272 : ೈ ; 3273 : ೉ ; 3274 : ೊ ; 3275 : ೋ ; 3276 : ೌ ; 3277 : ್ ; 3278 : ೎ ; 3279 : ೏ ; 3280 : ೐ ; 3281 : ೑ ; 3282 : ೒ ; 3283 : ೓ ; 3284 : ೔ ; 3285 : ೕ ; 3286 : ೖ ; 3287 : ೗ ; 3288 : ೘ ; 3289 : ೙ ; 3290 : ೚ ; 3291 : ೛ ; 3292 : ೜ ; 3293 : ೝ ; 3294 : ೞ ; 3295 : ೟ ; 3296 : ೠ ; 3297 : ೡ ; 3298 : ೢ ; 3299 : ೣ ; 3300 : ೤ ; 3301 : ೥ ; 3302 : ೦ ; 3303 : ೧ ; 3304 : ೨ ; 3305 : ೩ ; 3306 : ೪ ; 3307 : ೫ ; 3308 : ೬ ; 3309 : ೭ ; 3310 : ೮ ; 3311 : ೯ ; 3312 : ೰ ; 3313 : ೱ ; 3314 : ೲ ; 3315 : ೳ ; 3316 : ೴ ; 3317 : ೵ ; 3318 : ೶ ; 3319 : ೷ ; 3320 : ೸ ; 3321 : ೹ ; 3322 : ೺ ; 3323 : ೻ ; 3324 : ೼ ; 3325 : ೽ ; 3326 : ೾ ; 3327 : ೿ ; 3328 : ഀ ; 3329 : ഁ ; 3330 : ം ; 3331 : ഃ ; 3332 : ഄ ; 3333 : അ ; 3334 : ആ ; 3335 : ഇ ; 3336 : ഈ ; 3337 : ഉ ; 3338 : ഊ ; 3339 : ഋ ; 3340 : ഌ ; 3341 : ഍ ; 3342 : എ ; 3343 : ഏ ; 3344 : ഐ ; 3345 : ഑ ; 3346 : ഒ ; 3347 : ഓ ; 3348 : ഔ ; 3349 : ക ; 3350 : ഖ ; 3351 : ഗ ; 3352 : ഘ ; 3353 : ങ ; 3354 : ച ; 3355 : ഛ ; 3356 : ജ ; 3357 : ഝ ; 3358 : ഞ ; 3359 : ട ; 3360 : ഠ ; 3361 : ഡ ; 3362 : ഢ ; 3363 : ണ ; 3364 : ത ; 3365 : ഥ ; 3366 : ദ ; 3367 : ധ ; 3368 : ന ; 3369 : ഩ ; 3370 : പ ; 3371 : ഫ ; 3372 : ബ ; 3373 : ഭ ; 3374 : മ ; 3375 : യ ; 3376 : ര ; 3377 : റ ; 3378 : ല ; 3379 : ള ; 3380 : ഴ ; 3381 : വ ; 3382 : ശ ; 3383 : ഷ ; 3384 : സ ; 3385 : ഹ ; 3386 : ഺ ; 3387 : ഻ ; 3388 : ഼ ; 3389 : ഽ ; 3390 : ാ ; 3391 : ി ; 3392 : ീ ; 3393 : ു ; 3394 : ൂ ; 3395 : ൃ ; 3396 : ൄ ; 3397 : ൅ ; 3398 : െ ; 3399 : േ ; 3400 : ൈ ; 3401 : ൉ ; 3402 : ൊ ; 3403 : ോ ; 3404 : ൌ ; 3405 : ് ; 3406 : ൎ ; 3407 : ൏ ; 3408 : ൐ ; 3409 : ൑ ; 3410 : ൒ ; 3411 : ൓ ; 3412 : ൔ ; 3413 : ൕ ; 3414 : ൖ ; 3415 : ൗ ; 3416 : ൘ ; 3417 : ൙ ; 3418 : ൚ ; 3419 : ൛ ; 3420 : ൜ ; 3421 : ൝ ; 3422 : ൞ ; 3423 : ൟ ; 3424 : ൠ ; 3425 : ൡ ; 3426 : ൢ ; 3427 : ൣ ; 3428 : ൤ ; 3429 : ൥ ; 3430 : ൦ ; 3431 : ൧ ; 3432 : ൨ ; 3433 : ൩ ; 3434 : ൪ ; 3435 : ൫ ; 3436 : ൬ ; 3437 : ൭ ; 3438 : ൮ ; 3439 : ൯ ; 3440 : ൰ ; 3441 : ൱ ; 3442 : ൲ ; 3443 : ൳ ; 3444 : ൴ ; 3445 : ൵ ; 3446 : ൶ ; 3447 : ൷ ; 3448 : ൸ ; 3449 : ൹ ; 3450 : ൺ ; 3451 : ൻ ; 3452 : ർ ; 3453 : ൽ ; 3454 : ൾ ; 3455 : ൿ ; 3456 : ඀ ; 3457 : ඁ ; 3458 : ං ; 3459 : ඃ ; 3460 : ඄ ; 3461 : අ ; 3462 : ආ ; 3463 : ඇ ; 3464 : ඈ ; 3465 : ඉ ; 3466 : ඊ ; 3467 : උ ; 3468 : ඌ ; 3469 : ඍ ; 3470 : ඎ ; 3471 : ඏ ; 3472 : ඐ ; 3473 : එ ; 3474 : ඒ ; 3475 : ඓ ; 3476 : ඔ ; 3477 : ඕ ; 3478 : ඖ ; 3479 : ඗ ; 3480 : ඘ ; 3481 : ඙ ; 3482 : ක ; 3483 : ඛ ; 3484 : ග ; 3485 : ඝ ; 3486 : ඞ ; 3487 : ඟ ; 3488 : ච ; 3489 : ඡ ; 3490 : ජ ; 3491 : ඣ ; 3492 : ඤ ; 3493 : ඥ ; 3494 : ඦ ; 3495 : ට ; 3496 : ඨ ; 3497 : ඩ ; 3498 : ඪ ; 3499 : ණ ; 3500 : ඬ ; 3501 : ත ; 3502 : ථ ; 3503 : ද ; 3504 : ධ ; 3505 : න ; 3506 : ඲ ; 3507 : ඳ ; 3508 : ප ; 3509 : ඵ ; 3510 : බ ; 3511 : භ ; 3512 : ම ; 3513 : ඹ ; 3514 : ය ; 3515 : ර ; 3516 : ඼ ; 3517 : ල ; 3518 : ඾ ; 3519 : ඿ ; 3520 : ව ; 3521 : ශ ; 3522 : ෂ ; 3523 : ස ; 3524 : හ ; 3525 : ළ ; 3526 : ෆ ; 3527 : ෇ ; 3528 : ෈ ; 3529 : ෉ ; 3530 : ් ; 3531 : ෋ ; 3532 : ෌ ; 3533 : ෍ ; 3534 : ෎ ; 3535 : ා ; 3536 : ැ ; 3537 : ෑ ; 3538 : ි ; 3539 : ී ; 3540 : ු ; 3541 : ෕ ; 3542 : ූ ; 3543 : ෗ ; 3544 : ෘ ; 3545 : ෙ ; 3546 : ේ ; 3547 : ෛ ; 3548 : ො ; 3549 : ෝ ; 3550 : ෞ ; 3551 : ෟ ; 3552 : ෠ ; 3553 : ෡ ; 3554 : ෢ ; 3555 : ෣ ; 3556 : ෤ ; 3557 : ෥ ; 3558 : ෦ ; 3559 : ෧ ; 3560 : ෨ ; 3561 : ෩ ; 3562 : ෪ ; 3563 : ෫ ; 3564 : ෬ ; 3565 : ෭ ; 3566 : ෮ ; 3567 : ෯ ; 3568 : ෰ ; 3569 : ෱ ; 3570 : ෲ ; 3571 : ෳ ; 3572 : ෴ ; 3573 : ෵ ; 3574 : ෶ ; 3575 : ෷ ; 3576 : ෸ ; 3577 : ෹ ; 3578 : ෺ ; 3579 : ෻ ; 3580 : ෼ ; 3581 : ෽ ; 3582 : ෾ ; 3583 : ෿ ; 3584 : ฀ ; 3585 : ก ; 3586 : ข ; 3587 : ฃ ; 3588 : ค ; 3589 : ฅ ; 3590 : ฆ ; 3591 : ง ; 3592 : จ ; 3593 : ฉ ; 3594 : ช ; 3595 : ซ ; 3596 : ฌ ; 3597 : ญ ; 3598 : ฎ ; 3599 : ฏ ; 3600 : ฐ ; 3601 : ฑ ; 3602 : ฒ ; 3603 : ณ ; 3604 : ด ; 3605 : ต ; 3606 : ถ ; 3607 : ท ; 3608 : ธ ; 3609 : น ; 3610 : บ ; 3611 : ป ; 3612 : ผ ; 3613 : ฝ ; 3614 : พ ; 3615 : ฟ ; 3616 : ภ ; 3617 : ม ; 3618 : ย ; 3619 : ร ; 3620 : ฤ ; 3621 : ล ; 3622 : ฦ ; 3623 : ว ; 3624 : ศ ; 3625 : ษ ; 3626 : ส ; 3627 : ห ; 3628 : ฬ ; 3629 : อ ; 3630 : ฮ ; 3631 : ฯ ; 3632 : ะ ; 3633 : ั ; 3634 : า ; 3635 : ำ ; 3636 : ิ ; 3637 : ี ; 3638 : ึ ; 3639 : ื ; 3640 : ุ ; 3641 : ู ; 3642 : ฺ ; 3643 : ฻ ; 3644 : ฼ ; 3645 : ฽ ; 3646 : ฾ ; 3647 : ฿ ; 3648 : เ ; 3649 : แ ; 3650 : โ ; 3651 : ใ ; 3652 : ไ ; 3653 : ๅ ; 3654 : ๆ ; 3655 : ็ ; 3656 : ่ ; 3657 : ้ ; 3658 : ๊ ; 3659 : ๋ ; 3660 : ์ ; 3661 : ํ ; 3662 : ๎ ; 3663 : ๏ ; 3664 : ๐ ; 3665 : ๑ ; 3666 : ๒ ; 3667 : ๓ ; 3668 : ๔ ; 3669 : ๕ ; 3670 : ๖ ; 3671 : ๗ ; 3672 : ๘ ; 3673 : ๙ ; 3674 : ๚ ; 3675 : ๛ ; 3676 : ๜ ; 3677 : ๝ ; 3678 : ๞ ; 3679 : ๟ ; 3680 : ๠ ; 3681 : ๡ ; 3682 : ๢ ; 3683 : ๣ ; 3684 : ๤ ; 3685 : ๥ ; 3686 : ๦ ; 3687 : ๧ ; 3688 : ๨ ; 3689 : ๩ ; 3690 : ๪ ; 3691 : ๫ ; 3692 : ๬ ; 3693 : ๭ ; 3694 : ๮ ; 3695 : ๯ ; 3696 : ๰ ; 3697 : ๱ ; 3698 : ๲ ; 3699 : ๳ ; 3700 : ๴ ; 3701 : ๵ ; 3702 : ๶ ; 3703 : ๷ ; 3704 : ๸ ; 3705 : ๹ ; 3706 : ๺ ; 3707 : ๻ ; 3708 : ๼ ; 3709 : ๽ ; 3710 : ๾ ; 3711 : ๿ ; 3712 : ຀ ; 3713 : ກ ; 3714 : ຂ ; 3715 : ຃ ; 3716 : ຄ ; 3717 : ຅ ; 3718 : ຆ ; 3719 : ງ ; 3720 : ຈ ; 3721 : ຉ ; 3722 : ຊ ; 3723 : ຋ ; 3724 : ຌ ; 3725 : ຍ ; 3726 : ຎ ; 3727 : ຏ ; 3728 : ຐ ; 3729 : ຑ ; 3730 : ຒ ; 3731 : ຓ ; 3732 : ດ ; 3733 : ຕ ; 3734 : ຖ ; 3735 : ທ ; 3736 : ຘ ; 3737 : ນ ; 3738 : ບ ; 3739 : ປ ; 3740 : ຜ ; 3741 : ຝ ; 3742 : ພ ; 3743 : ຟ ; 3744 : ຠ ; 3745 : ມ ; 3746 : ຢ ; 3747 : ຣ ; 3748 : ຤ ; 3749 : ລ ; 3750 : ຦ ; 3751 : ວ ; 3752 : ຨ ; 3753 : ຩ ; 3754 : ສ ; 3755 : ຫ ; 3756 : ຬ ; 3757 : ອ ; 3758 : ຮ ; 3759 : ຯ ; 3760 : ະ ; 3761 : ັ ; 3762 : າ ; 3763 : ຳ ; 3764 : ິ ; 3765 : ີ ; 3766 : ຶ ; 3767 : ື ; 3768 : ຸ ; 3769 : ູ ; 3770 : ຺ ; 3771 : ົ ; 3772 : ຼ ; 3773 : ຽ ; 3774 : ຾ ; 3775 : ຿ ; 3776 : ເ ; 3777 : ແ ; 3778 : ໂ ; 3779 : ໃ ; 3780 : ໄ ; 3781 : ໅ ; 3782 : ໆ ; 3783 : ໇ ; 3784 : ່ ; 3785 : ້ ; 3786 : ໊ ; 3787 : ໋ ; 3788 : ໌ ; 3789 : ໍ ; 3790 : ໎ ; 3791 : ໏ ; 3792 : ໐ ; 3793 : ໑ ; 3794 : ໒ ; 3795 : ໓ ; 3796 : ໔ ; 3797 : ໕ ; 3798 : ໖ ; 3799 : ໗ ; 3800 : ໘ ; 3801 : ໙ ; 3802 : ໚ ; 3803 : ໛ ; 3804 : ໜ ; 3805 : ໝ ; 3806 : ໞ ; 3807 : ໟ ; 3808 : ໠ ; 3809 : ໡ ; 3810 : ໢ ; 3811 : ໣ ; 3812 : ໤ ; 3813 : ໥ ; 3814 : ໦ ; 3815 : ໧ ; 3816 : ໨ ; 3817 : ໩ ; 3818 : ໪ ; 3819 : ໫ ; 3820 : ໬ ; 3821 : ໭ ; 3822 : ໮ ; 3823 : ໯ ; 3824 : ໰ ; 3825 : ໱ ; 3826 : ໲ ; 3827 : ໳ ; 3828 : ໴ ; 3829 : ໵ ; 3830 : ໶ ; 3831 : ໷ ; 3832 : ໸ ; 3833 : ໹ ; 3834 : ໺ ; 3835 : ໻ ; 3836 : ໼ ; 3837 : ໽ ; 3838 : ໾ ; 3839 : ໿ ; 3840 : ༀ ; 3841 : ༁ ; 3842 : ༂ ; 3843 : ༃ ; 3844 : ༄ ; 3845 : ༅ ; 3846 : ༆ ; 3847 : ༇ ; 3848 : ༈ ; 3849 : ༉ ; 3850 : ༊ ; 3851 : ་ ; 3852 : ༌ ; 3853 : ། ; 3854 : ༎ ; 3855 : ༏ ; 3856 : ༐ ; 3857 : ༑ ; 3858 : ༒ ; 3859 : ༓ ; 3860 : ༔ ; 3861 : ༕ ; 3862 : ༖ ; 3863 : ༗ ; 3864 : ༘ ; 3865 : ༙ ; 3866 : ༚ ; 3867 : ༛ ; 3868 : ༜ ; 3869 : ༝ ; 3870 : ༞ ; 3871 : ༟ ; 3872 : ༠ ; 3873 : ༡ ; 3874 : ༢ ; 3875 : ༣ ; 3876 : ༤ ; 3877 : ༥ ; 3878 : ༦ ; 3879 : ༧ ; 3880 : ༨ ; 3881 : ༩ ; 3882 : ༪ ; 3883 : ༫ ; 3884 : ༬ ; 3885 : ༭ ; 3886 : ༮ ; 3887 : ༯ ; 3888 : ༰ ; 3889 : ༱ ; 3890 : ༲ ; 3891 : ༳ ; 3892 : ༴ ; 3893 : ༵ ; 3894 : ༶ ; 3895 : ༷ ; 3896 : ༸ ; 3897 : ༹ ; 3898 : ༺ ; 3899 : ༻ ; 3900 : ༼ ; 3901 : ༽ ; 3902 : ༾ ; 3903 : ༿ ; 3904 : ཀ ; 3905 : ཁ ; 3906 : ག ; 3907 : གྷ ; 3908 : ང ; 3909 : ཅ ; 3910 : ཆ ; 3911 : ཇ ; 3912 : ཈ ; 3913 : ཉ ; 3914 : ཊ ; 3915 : ཋ ; 3916 : ཌ ; 3917 : ཌྷ ; 3918 : ཎ ; 3919 : ཏ ; 3920 : ཐ ; 3921 : ད ; 3922 : དྷ ; 3923 : ན ; 3924 : པ ; 3925 : ཕ ; 3926 : བ ; 3927 : བྷ ; 3928 : མ ; 3929 : ཙ ; 3930 : ཚ ; 3931 : ཛ ; 3932 : ཛྷ ; 3933 : ཝ ; 3934 : ཞ ; 3935 : ཟ ; 3936 : འ ; 3937 : ཡ ; 3938 : ར ; 3939 : ལ ; 3940 : ཤ ; 3941 : ཥ ; 3942 : ས ; 3943 : ཧ ; 3944 : ཨ ; 3945 : ཀྵ ; 3946 : ཪ ; 3947 : ཫ ; 3948 : ཬ ; 3949 : ཭ ; 3950 : ཮ ; 3951 : ཯ ; 3952 : ཰ ; 3953 : ཱ ; 3954 : ི ; 3955 : ཱི ; 3956 : ུ ; 3957 : ཱུ ; 3958 : ྲྀ ; 3959 : ཷ ; 3960 : ླྀ ; 3961 : ཹ ; 3962 : ེ ; 3963 : ཻ ; 3964 : ོ ; 3965 : ཽ ; 3966 : ཾ ; 3967 : ཿ ; 3968 : ྀ ; 3969 : ཱྀ ; 3970 : ྂ ; 3971 : ྃ ; 3972 : ྄ ; 3973 : ྅ ; 3974 : ྆ ; 3975 : ྇ ; 3976 : ྈ ; 3977 : ྉ ; 3978 : ྊ ; 3979 : ྋ ; 3980 : ྌ ; 3981 : ྍ ; 3982 : ྎ ; 3983 : ྏ ; 3984 : ྐ ; 3985 : ྑ ; 3986 : ྒ ; 3987 : ྒྷ ; 3988 : ྔ ; 3989 : ྕ ; 3990 : ྖ ; 3991 : ྗ ; 3992 : ྘ ; 3993 : ྙ ; 3994 : ྚ ; 3995 : ྛ ; 3996 : ྜ ; 3997 : ྜྷ ; 3998 : ྞ ; 3999 : ྟ ; 4000 : ྠ ; 4001 : ྡ ; 4002 : ྡྷ ; 4003 : ྣ ; 4004 : ྤ ; 4005 : ྥ ; 4006 : ྦ ; 4007 : ྦྷ ; 4008 : ྨ ; 4009 : ྩ ; 4010 : ྪ ; 4011 : ྫ ; 4012 : ྫྷ ; 4013 : ྭ ; 4014 : ྮ ; 4015 : ྯ ; 4016 : ྰ ; 4017 : ྱ ; 4018 : ྲ ; 4019 : ླ ; 4020 : ྴ ; 4021 : ྵ ; 4022 : ྶ ; 4023 : ྷ ; 4024 : ྸ ; 4025 : ྐྵ ; 4026 : ྺ ; 4027 : ྻ ; 4028 : ྼ ; 4029 : ྽ ; 4030 : ྾ ; 4031 : ྿ ; 4032 : ࿀ ; 4033 : ࿁ ; 4034 : ࿂ ; 4035 : ࿃ ; 4036 : ࿄ ; 4037 : ࿅ ; 4038 : ࿆ ; 4039 : ࿇ ; 4040 : ࿈ ; 4041 : ࿉ ; 4042 : ࿊ ; 4043 : ࿋ ; 4044 : ࿌ ; 4045 : ࿍ ; 4046 : ࿎ ; 4047 : ࿏ ; 4048 : ࿐ ; 4049 : ࿑ ; 4050 : ࿒ ; 4051 : ࿓ ; 4052 : ࿔ ; 4053 : ࿕ ; 4054 : ࿖ ; 4055 : ࿗ ; 4056 : ࿘ ; 4057 : ࿙ ; 4058 : ࿚ ; 4059 : ࿛ ; 4060 : ࿜ ; 4061 : ࿝ ; 4062 : ࿞ ; 4063 : ࿟ ; 4064 : ࿠ ; 4065 : ࿡ ; 4066 : ࿢ ; 4067 : ࿣ ; 4068 : ࿤ ; 4069 : ࿥ ; 4070 : ࿦ ; 4071 : ࿧ ; 4072 : ࿨ ; 4073 : ࿩ ; 4074 : ࿪ ; 4075 : ࿫ ; 4076 : ࿬ ; 4077 : ࿭ ; 4078 : ࿮ ; 4079 : ࿯ ; 4080 : ࿰ ; 4081 : ࿱ ; 4082 : ࿲ ; 4083 : ࿳ ; 4084 : ࿴ ; 4085 : ࿵ ; 4086 : ࿶ ; 4087 : ࿷ ; 4088 : ࿸ ; 4089 : ࿹ ; 4090 : ࿺ ; 4091 : ࿻ ; 4092 : ࿼ ; 4093 : ࿽ ; 4094 : ࿾ ; 4095 : ࿿ ; 4096 : က ; 4097 : ခ ; 4098 : ဂ ; 4099 : ဃ ; 4100 : င ; 4101 : စ ; 4102 : ဆ ; 4103 : ဇ ; 4104 : ဈ ; 4105 : ဉ ; 4106 : ည ; 4107 : ဋ ; 4108 : ဌ ; 4109 : ဍ ; 4110 : ဎ ; 4111 : ဏ ; 4112 : တ ; 4113 : ထ ; 4114 : ဒ ; 4115 : ဓ ; 4116 : န ; 4117 : ပ ; 4118 : ဖ ; 4119 : ဗ ; 4120 : ဘ ; 4121 : မ ; 4122 : ယ ; 4123 : ရ ; 4124 : လ ; 4125 : ဝ ; 4126 : သ ; 4127 : ဟ ; 4128 : ဠ ; 4129 : အ ; 4130 : ဢ ; 4131 : ဣ ; 4132 : ဤ ; 4133 : ဥ ; 4134 : ဦ ; 4135 : ဧ ; 4136 : ဨ ; 4137 : ဩ ; 4138 : ဪ ; 4139 : ါ ; 4140 : ာ ; 4141 : ိ ; 4142 : ီ ; 4143 : ု ; 4144 : ူ ; 4145 : ေ ; 4146 : ဲ ; 4147 : ဳ ; 4148 : ဴ ; 4149 : ဵ ; 4150 : ံ ; 4151 : ့ ; 4152 : း ; 4153 : ္ ; 4154 : ် ; 4155 : ျ ; 4156 : ြ ; 4157 : ွ ; 4158 : ှ ; 4159 : ဿ ; 4160 : ၀ ; 4161 : ၁ ; 4162 : ၂ ; 4163 : ၃ ; 4164 : ၄ ; 4165 : ၅ ; 4166 : ၆ ; 4167 : ၇ ; 4168 : ၈ ; 4169 : ၉ ; 4170 : ၊ ; 4171 : ။ ; 4172 : ၌ ; 4173 : ၍ ; 4174 : ၎ ; 4175 : ၏ ; 4176 : ၐ ; 4177 : ၑ ; 4178 : ၒ ; 4179 : ၓ ; 4180 : ၔ ; 4181 : ၕ ; 4182 : ၖ ; 4183 : ၗ ; 4184 : ၘ ; 4185 : ၙ ; 4186 : ၚ ; 4187 : ၛ ; 4188 : ၜ ; 4189 : ၝ ; 4190 : ၞ ; 4191 : ၟ ; 4192 : ၠ ; 4193 : ၡ ; 4194 : ၢ ; 4195 : ၣ ; 4196 : ၤ ; 4197 : ၥ ; 4198 : ၦ ; 4199 : ၧ ; 4200 : ၨ ; 4201 : ၩ ; 4202 : ၪ ; 4203 : ၫ ; 4204 : ၬ ; 4205 : ၭ ; 4206 : ၮ ; 4207 : ၯ ; 4208 : ၰ ; 4209 : ၱ ; 4210 : ၲ ; 4211 : ၳ ; 4212 : ၴ ; 4213 : ၵ ; 4214 : ၶ ; 4215 : ၷ ; 4216 : ၸ ; 4217 : ၹ ; 4218 : ၺ ; 4219 : ၻ ; 4220 : ၼ ; 4221 : ၽ ; 4222 : ၾ ; 4223 : ၿ ; 4224 : ႀ ; 4225 : ႁ ; 4226 : ႂ ; 4227 : ႃ ; 4228 : ႄ ; 4229 : ႅ ; 4230 : ႆ ; 4231 : ႇ ; 4232 : ႈ ; 4233 : ႉ ; 4234 : ႊ ; 4235 : ႋ ; 4236 : ႌ ; 4237 : ႍ ; 4238 : ႎ ; 4239 : ႏ ; 4240 : ႐ ; 4241 : ႑ ; 4242 : ႒ ; 4243 : ႓ ; 4244 : ႔ ; 4245 : ႕ ; 4246 : ႖ ; 4247 : ႗ ; 4248 : ႘ ; 4249 : ႙ ; 4250 : ႚ ; 4251 : ႛ ; 4252 : ႜ ; 4253 : ႝ ; 4254 : ႞ ; 4255 : ႟ ; 4256 : Ⴀ ; 4257 : Ⴁ ; 4258 : Ⴂ ; 4259 : Ⴃ ; 4260 : Ⴄ ; 4261 : Ⴅ ; 4262 : Ⴆ ; 4263 : Ⴇ ; 4264 : Ⴈ ; 4265 : Ⴉ ; 4266 : Ⴊ ; 4267 : Ⴋ ; 4268 : Ⴌ ; 4269 : Ⴍ ; 4270 : Ⴎ ; 4271 : Ⴏ ; 4272 : Ⴐ ; 4273 : Ⴑ ; 4274 : Ⴒ ; 4275 : Ⴓ ; 4276 : Ⴔ ; 4277 : Ⴕ ; 4278 : Ⴖ ; 4279 : Ⴗ ; 4280 : Ⴘ ; 4281 : Ⴙ ; 4282 : Ⴚ ; 4283 : Ⴛ ; 4284 : Ⴜ ; 4285 : Ⴝ ; 4286 : Ⴞ ; 4287 : Ⴟ ; 4288 : Ⴠ ; 4289 : Ⴡ ; 4290 : Ⴢ ; 4291 : Ⴣ ; 4292 : Ⴤ ; 4293 : Ⴥ ; 4294 : ჆ ; 4295 : Ⴧ ; 4296 : ჈ ; 4297 : ჉ ; 4298 : ჊ ; 4299 : ჋ ; 4300 : ჌ ; 4301 : Ⴭ ; 4302 : ჎ ; 4303 : ჏ ; 4304 : ა ; 4305 : ბ ; 4306 : გ ; 4307 : დ ; 4308 : ე ; 4309 : ვ ; 4310 : ზ ; 4311 : თ ; 4312 : ი ; 4313 : კ ; 4314 : ლ ; 4315 : მ ; 4316 : ნ ; 4317 : ო ; 4318 : პ ; 4319 : ჟ ; 4320 : რ ; 4321 : ს ; 4322 : ტ ; 4323 : უ ; 4324 : ფ ; 4325 : ქ ; 4326 : ღ ; 4327 : ყ ; 4328 : შ ; 4329 : ჩ ; 4330 : ც ; 4331 : ძ ; 4332 : წ ; 4333 : ჭ ; 4334 : ხ ; 4335 : ჯ ; 4336 : ჰ ; 4337 : ჱ ; 4338 : ჲ ; 4339 : ჳ ; 4340 : ჴ ; 4341 : ჵ ; 4342 : ჶ ; 4343 : ჷ ; 4344 : ჸ ; 4345 : ჹ ; 4346 : ჺ ; 4347 : ჻ ; 4348 : ჼ ; 4349 : ჽ ; 4350 : ჾ ; 4351 : ჿ ; 4352 : ᄀ ; 4353 : ᄁ ; 4354 : ᄂ ; 4355 : ᄃ ; 4356 : ᄄ ; 4357 : ᄅ ; 4358 : ᄆ ; 4359 : ᄇ ; 4360 : ᄈ ; 4361 : ᄉ ; 4362 : ᄊ ; 4363 : ᄋ ; 4364 : ᄌ ; 4365 : ᄍ ; 4366 : ᄎ ; 4367 : ᄏ ; 4368 : ᄐ ; 4369 : ᄑ ; 4370 : ᄒ ; 4371 : ᄓ ; 4372 : ᄔ ; 4373 : ᄕ ; 4374 : ᄖ ; 4375 : ᄗ ; 4376 : ᄘ ; 4377 : ᄙ ; 4378 : ᄚ ; 4379 : ᄛ ; 4380 : ᄜ ; 4381 : ᄝ ; 4382 : ᄞ ; 4383 : ᄟ ; 4384 : ᄠ ; 4385 : ᄡ ; 4386 : ᄢ ; 4387 : ᄣ ; 4388 : ᄤ ; 4389 : ᄥ ; 4390 : ᄦ ; 4391 : ᄧ ; 4392 : ᄨ ; 4393 : ᄩ ; 4394 : ᄪ ; 4395 : ᄫ ; 4396 : ᄬ ; 4397 : ᄭ ; 4398 : ᄮ ; 4399 : ᄯ ; 4400 : ᄰ ; 4401 : ᄱ ; 4402 : ᄲ ; 4403 : ᄳ ; 4404 : ᄴ ; 4405 : ᄵ ; 4406 : ᄶ ; 4407 : ᄷ ; 4408 : ᄸ ; 4409 : ᄹ ; 4410 : ᄺ ; 4411 : ᄻ ; 4412 : ᄼ ; 4413 : ᄽ ; 4414 : ᄾ ; 4415 : ᄿ ; 4416 : ᅀ ; 4417 : ᅁ ; 4418 : ᅂ ; 4419 : ᅃ ; 4420 : ᅄ ; 4421 : ᅅ ; 4422 : ᅆ ; 4423 : ᅇ ; 4424 : ᅈ ; 4425 : ᅉ ; 4426 : ᅊ ; 4427 : ᅋ ; 4428 : ᅌ ; 4429 : ᅍ ; 4430 : ᅎ ; 4431 : ᅏ ; 4432 : ᅐ ; 4433 : ᅑ ; 4434 : ᅒ ; 4435 : ᅓ ; 4436 : ᅔ ; 4437 : ᅕ ; 4438 : ᅖ ; 4439 : ᅗ ; 4440 : ᅘ ; 4441 : ᅙ ; 4442 : ᅚ ; 4443 : ᅛ ; 4444 : ᅜ ; 4445 : ᅝ ; 4446 : ᅞ ; 4447 : ᅟ ; 4448 : ᅠ ; 4449 : ᅡ ; 4450 : ᅢ ; 4451 : ᅣ ; 4452 : ᅤ ; 4453 : ᅥ ; 4454 : ᅦ ; 4455 : ᅧ ; 4456 : ᅨ ; 4457 : ᅩ ; 4458 : ᅪ ; 4459 : ᅫ ; 4460 : ᅬ ; 4461 : ᅭ ; 4462 : ᅮ ; 4463 : ᅯ ; 4464 : ᅰ ; 4465 : ᅱ ; 4466 : ᅲ ; 4467 : ᅳ ; 4468 : ᅴ ; 4469 : ᅵ ; 4470 : ᅶ ; 4471 : ᅷ ; 4472 : ᅸ ; 4473 : ᅹ ; 4474 : ᅺ ; 4475 : ᅻ ; 4476 : ᅼ ; 4477 : ᅽ ; 4478 : ᅾ ; 4479 : ᅿ ; 4480 : ᆀ ; 4481 : ᆁ ; 4482 : ᆂ ; 4483 : ᆃ ; 4484 : ᆄ ; 4485 : ᆅ ; 4486 : ᆆ ; 4487 : ᆇ ; 4488 : ᆈ ; 4489 : ᆉ ; 4490 : ᆊ ; 4491 : ᆋ ; 4492 : ᆌ ; 4493 : ᆍ ; 4494 : ᆎ ; 4495 : ᆏ ; 4496 : ᆐ ; 4497 : ᆑ ; 4498 : ᆒ ; 4499 : ᆓ ; 4500 : ᆔ ; 4501 : ᆕ ; 4502 : ᆖ ; 4503 : ᆗ ; 4504 : ᆘ ; 4505 : ᆙ ; 4506 : ᆚ ; 4507 : ᆛ ; 4508 : ᆜ ; 4509 : ᆝ ; 4510 : ᆞ ; 4511 : ᆟ ; 4512 : ᆠ ; 4513 : ᆡ ; 4514 : ᆢ ; 4515 : ᆣ ; 4516 : ᆤ ; 4517 : ᆥ ; 4518 : ᆦ ; 4519 : ᆧ ; 4520 : ᆨ ; 4521 : ᆩ ; 4522 : ᆪ ; 4523 : ᆫ ; 4524 : ᆬ ; 4525 : ᆭ ; 4526 : ᆮ ; 4527 : ᆯ ; 4528 : ᆰ ; 4529 : ᆱ ; 4530 : ᆲ ; 4531 : ᆳ ; 4532 : ᆴ ; 4533 : ᆵ ; 4534 : ᆶ ; 4535 : ᆷ ; 4536 : ᆸ ; 4537 : ᆹ ; 4538 : ᆺ ; 4539 : ᆻ ; 4540 : ᆼ ; 4541 : ᆽ ; 4542 : ᆾ ; 4543 : ᆿ ; 4544 : ᇀ ; 4545 : ᇁ ; 4546 : ᇂ ; 4547 : ᇃ ; 4548 : ᇄ ; 4549 : ᇅ ; 4550 : ᇆ ; 4551 : ᇇ ; 4552 : ᇈ ; 4553 : ᇉ ; 4554 : ᇊ ; 4555 : ᇋ ; 4556 : ᇌ ; 4557 : ᇍ ; 4558 : ᇎ ; 4559 : ᇏ ; 4560 : ᇐ ; 4561 : ᇑ ; 4562 : ᇒ ; 4563 : ᇓ ; 4564 : ᇔ ; 4565 : ᇕ ; 4566 : ᇖ ; 4567 : ᇗ ; 4568 : ᇘ ; 4569 : ᇙ ; 4570 : ᇚ ; 4571 : ᇛ ; 4572 : ᇜ ; 4573 : ᇝ ; 4574 : ᇞ ; 4575 : ᇟ ; 4576 : ᇠ ; 4577 : ᇡ ; 4578 : ᇢ ; 4579 : ᇣ ; 4580 : ᇤ ; 4581 : ᇥ ; 4582 : ᇦ ; 4583 : ᇧ ; 4584 : ᇨ ; 4585 : ᇩ ; 4586 : ᇪ ; 4587 : ᇫ ; 4588 : ᇬ ; 4589 : ᇭ ; 4590 : ᇮ ; 4591 : ᇯ ; 4592 : ᇰ ; 4593 : ᇱ ; 4594 : ᇲ ; 4595 : ᇳ ; 4596 : ᇴ ; 4597 : ᇵ ; 4598 : ᇶ ; 4599 : ᇷ ; 4600 : ᇸ ; 4601 : ᇹ ; 4602 : ᇺ ; 4603 : ᇻ ; 4604 : ᇼ ; 4605 : ᇽ ; 4606 : ᇾ ; 4607 : ᇿ ; 4608 : ሀ ; 4609 : ሁ ; 4610 : ሂ ; 4611 : ሃ ; 4612 : ሄ ; 4613 : ህ ; 4614 : ሆ ; 4615 : ሇ ; 4616 : ለ ; 4617 : ሉ ; 4618 : ሊ ; 4619 : ላ ; 4620 : ሌ ; 4621 : ል ; 4622 : ሎ ; 4623 : ሏ ; 4624 : ሐ ; 4625 : ሑ ; 4626 : ሒ ; 4627 : ሓ ; 4628 : ሔ ; 4629 : ሕ ; 4630 : ሖ ; 4631 : ሗ ; 4632 : መ ; 4633 : ሙ ; 4634 : ሚ ; 4635 : ማ ; 4636 : ሜ ; 4637 : ም ; 4638 : ሞ ; 4639 : ሟ ; 4640 : ሠ ; 4641 : ሡ ; 4642 : ሢ ; 4643 : ሣ ; 4644 : ሤ ; 4645 : ሥ ; 4646 : ሦ ; 4647 : ሧ ; 4648 : ረ ; 4649 : ሩ ; 4650 : ሪ ; 4651 : ራ ; 4652 : ሬ ; 4653 : ር ; 4654 : ሮ ; 4655 : ሯ ; 4656 : ሰ ; 4657 : ሱ ; 4658 : ሲ ; 4659 : ሳ ; 4660 : ሴ ; 4661 : ስ ; 4662 : ሶ ; 4663 : ሷ ; 4664 : ሸ ; 4665 : ሹ ; 4666 : ሺ ; 4667 : ሻ ; 4668 : ሼ ; 4669 : ሽ ; 4670 : ሾ ; 4671 : ሿ ; 4672 : ቀ ; 4673 : ቁ ; 4674 : ቂ ; 4675 : ቃ ; 4676 : ቄ ; 4677 : ቅ ; 4678 : ቆ ; 4679 : ቇ ; 4680 : ቈ ; 4681 : ቉ ; 4682 : ቊ ; 4683 : ቋ ; 4684 : ቌ ; 4685 : ቍ ; 4686 : ቎ ; 4687 : ቏ ; 4688 : ቐ ; 4689 : ቑ ; 4690 : ቒ ; 4691 : ቓ ; 4692 : ቔ ; 4693 : ቕ ; 4694 : ቖ ; 4695 : ቗ ; 4696 : ቘ ; 4697 : ቙ ; 4698 : ቚ ; 4699 : ቛ ; 4700 : ቜ ; 4701 : ቝ ; 4702 : ቞ ; 4703 : ቟ ; 4704 : በ ; 4705 : ቡ ; 4706 : ቢ ; 4707 : ባ ; 4708 : ቤ ; 4709 : ብ ; 4710 : ቦ ; 4711 : ቧ ; 4712 : ቨ ; 4713 : ቩ ; 4714 : ቪ ; 4715 : ቫ ; 4716 : ቬ ; 4717 : ቭ ; 4718 : ቮ ; 4719 : ቯ ; 4720 : ተ ; 4721 : ቱ ; 4722 : ቲ ; 4723 : ታ ; 4724 : ቴ ; 4725 : ት ; 4726 : ቶ ; 4727 : ቷ ; 4728 : ቸ ; 4729 : ቹ ; 4730 : ቺ ; 4731 : ቻ ; 4732 : ቼ ; 4733 : ች ; 4734 : ቾ ; 4735 : ቿ ; 4736 : ኀ ; 4737 : ኁ ; 4738 : ኂ ; 4739 : ኃ ; 4740 : ኄ ; 4741 : ኅ ; 4742 : ኆ ; 4743 : ኇ ; 4744 : ኈ ; 4745 : ኉ ; 4746 : ኊ ; 4747 : ኋ ; 4748 : ኌ ; 4749 : ኍ ; 4750 : ኎ ; 4751 : ኏ ; 4752 : ነ ; 4753 : ኑ ; 4754 : ኒ ; 4755 : ና ; 4756 : ኔ ; 4757 : ን ; 4758 : ኖ ; 4759 : ኗ ; 4760 : ኘ ; 4761 : ኙ ; 4762 : ኚ ; 4763 : ኛ ; 4764 : ኜ ; 4765 : ኝ ; 4766 : ኞ ; 4767 : ኟ ; 4768 : አ ; 4769 : ኡ ; 4770 : ኢ ; 4771 : ኣ ; 4772 : ኤ ; 4773 : እ ; 4774 : ኦ ; 4775 : ኧ ; 4776 : ከ ; 4777 : ኩ ; 4778 : ኪ ; 4779 : ካ ; 4780 : ኬ ; 4781 : ክ ; 4782 : ኮ ; 4783 : ኯ ; 4784 : ኰ ; 4785 : ኱ ; 4786 : ኲ ; 4787 : ኳ ; 4788 : ኴ ; 4789 : ኵ ; 4790 : ኶ ; 4791 : ኷ ; 4792 : ኸ ; 4793 : ኹ ; 4794 : ኺ ; 4795 : ኻ ; 4796 : ኼ ; 4797 : ኽ ; 4798 : ኾ ; 4799 : ኿ ; 4800 : ዀ ; 4801 : ዁ ; 4802 : ዂ ; 4803 : ዃ ; 4804 : ዄ ; 4805 : ዅ ; 4806 : ዆ ; 4807 : ዇ ; 4808 : ወ ; 4809 : ዉ ; 4810 : ዊ ; 4811 : ዋ ; 4812 : ዌ ; 4813 : ው ; 4814 : ዎ ; 4815 : ዏ ; 4816 : ዐ ; 4817 : ዑ ; 4818 : ዒ ; 4819 : ዓ ; 4820 : ዔ ; 4821 : ዕ ; 4822 : ዖ ; 4823 : ዗ ; 4824 : ዘ ; 4825 : ዙ ; 4826 : ዚ ; 4827 : ዛ ; 4828 : ዜ ; 4829 : ዝ ; 4830 : ዞ ; 4831 : ዟ ; 4832 : ዠ ; 4833 : ዡ ; 4834 : ዢ ; 4835 : ዣ ; 4836 : ዤ ; 4837 : ዥ ; 4838 : ዦ ; 4839 : ዧ ; 4840 : የ ; 4841 : ዩ ; 4842 : ዪ ; 4843 : ያ ; 4844 : ዬ ; 4845 : ይ ; 4846 : ዮ ; 4847 : ዯ ; 4848 : ደ ; 4849 : ዱ ; 4850 : ዲ ; 4851 : ዳ ; 4852 : ዴ ; 4853 : ድ ; 4854 : ዶ ; 4855 : ዷ ; 4856 : ዸ ; 4857 : ዹ ; 4858 : ዺ ; 4859 : ዻ ; 4860 : ዼ ; 4861 : ዽ ; 4862 : ዾ ; 4863 : ዿ ; 4864 : ጀ ; 4865 : ጁ ; 4866 : ጂ ; 4867 : ጃ ; 4868 : ጄ ; 4869 : ጅ ; 4870 : ጆ ; 4871 : ጇ ; 4872 : ገ ; 4873 : ጉ ; 4874 : ጊ ; 4875 : ጋ ; 4876 : ጌ ; 4877 : ግ ; 4878 : ጎ ; 4879 : ጏ ; 4880 : ጐ ; 4881 : ጑ ; 4882 : ጒ ; 4883 : ጓ ; 4884 : ጔ ; 4885 : ጕ ; 4886 : ጖ ; 4887 : ጗ ; 4888 : ጘ ; 4889 : ጙ ; 4890 : ጚ ; 4891 : ጛ ; 4892 : ጜ ; 4893 : ጝ ; 4894 : ጞ ; 4895 : ጟ ; 4896 : ጠ ; 4897 : ጡ ; 4898 : ጢ ; 4899 : ጣ ; 4900 : ጤ ; 4901 : ጥ ; 4902 : ጦ ; 4903 : ጧ ; 4904 : ጨ ; 4905 : ጩ ; 4906 : ጪ ; 4907 : ጫ ; 4908 : ጬ ; 4909 : ጭ ; 4910 : ጮ ; 4911 : ጯ ; 4912 : ጰ ; 4913 : ጱ ; 4914 : ጲ ; 4915 : ጳ ; 4916 : ጴ ; 4917 : ጵ ; 4918 : ጶ ; 4919 : ጷ ; 4920 : ጸ ; 4921 : ጹ ; 4922 : ጺ ; 4923 : ጻ ; 4924 : ጼ ; 4925 : ጽ ; 4926 : ጾ ; 4927 : ጿ ; 4928 : ፀ ; 4929 : ፁ ; 4930 : ፂ ; 4931 : ፃ ; 4932 : ፄ ; 4933 : ፅ ; 4934 : ፆ ; 4935 : ፇ ; 4936 : ፈ ; 4937 : ፉ ; 4938 : ፊ ; 4939 : ፋ ; 4940 : ፌ ; 4941 : ፍ ; 4942 : ፎ ; 4943 : ፏ ; 4944 : ፐ ; 4945 : ፑ ; 4946 : ፒ ; 4947 : ፓ ; 4948 : ፔ ; 4949 : ፕ ; 4950 : ፖ ; 4951 : ፗ ; 4952 : ፘ ; 4953 : ፙ ; 4954 : ፚ ; 4955 : ፛ ; 4956 : ፜ ; 4957 : ፝ ; 4958 : ፞ ; 4959 : ፟ ; 4960 : ፠ ; 4961 : ፡ ; 4962 : ። ; 4963 : ፣ ; 4964 : ፤ ; 4965 : ፥ ; 4966 : ፦ ; 4967 : ፧ ; 4968 : ፨ ; 4969 : ፩ ; 4970 : ፪ ; 4971 : ፫ ; 4972 : ፬ ; 4973 : ፭ ; 4974 : ፮ ; 4975 : ፯ ; 4976 : ፰ ; 4977 : ፱ ; 4978 : ፲ ; 4979 : ፳ ; 4980 : ፴ ; 4981 : ፵ ; 4982 : ፶ ; 4983 : ፷ ; 4984 : ፸ ; 4985 : ፹ ; 4986 : ፺ ; 4987 : ፻ ; 4988 : ፼ ; 4989 : ፽ ; 4990 : ፾ ; 4991 : ፿ ; 4992 : ᎀ ; 4993 : ᎁ ; 4994 : ᎂ ; 4995 : ᎃ ; 4996 : ᎄ ; 4997 : ᎅ ; 4998 : ᎆ ; 4999 : ᎇ ; "
     ]
    }
   ],
   "source": [
    "for i in range(2500,5000):\n",
    "    print(f\"{i} : {chr(i)}\",end=' ; ')"
   ]
  },
  {
   "cell_type": "code",
   "execution_count": null,
   "id": "d183ab42-9d9c-43d5-90ae-a473513a16a1",
   "metadata": {},
   "outputs": [],
   "source": []
  },
  {
   "cell_type": "markdown",
   "id": "4648aab4-de27-4209-bb8b-f4800404dbdb",
   "metadata": {},
   "source": [
    "- Any Loop we need 3 things\n",
    "\n",
    "- initial point\n",
    "\n",
    "- increment or decrement\n",
    "\n",
    "- stop point"
   ]
  },
  {
   "cell_type": "code",
   "execution_count": null,
   "id": "35e0869e-3257-4e01-9c6f-ef139c66c2c3",
   "metadata": {},
   "outputs": [],
   "source": [
    "# intial point\n",
    "while <condition>:\n",
    "    # increment\n",
    "    # Statements\n",
    "\n",
    "\n",
    "for i in range(start,stop):\n",
    "    # statements"
   ]
  },
  {
   "cell_type": "code",
   "execution_count": 14,
   "id": "27a1de41-9bcf-4727-aac9-db67c3ff642f",
   "metadata": {},
   "outputs": [
    {
     "name": "stdout",
     "output_type": "stream",
     "text": [
      "3\n",
      "4\n",
      "5\n",
      "6\n",
      "7\n",
      "8\n",
      "9\n",
      "10\n"
     ]
    }
   ],
   "source": [
    "# Print values from 3 to 10\n",
    "\n",
    "i=3\n",
    "while i<=10:\n",
    "    print(i)\n",
    "    i=i+1"
   ]
  },
  {
   "cell_type": "code",
   "execution_count": 18,
   "id": "0f2dee36-c4f5-4417-9c01-ab692f6f5b9b",
   "metadata": {},
   "outputs": [
    {
     "name": "stdout",
     "output_type": "stream",
     "text": [
      "1 2 3 4 5 6 7 8 9 10 "
     ]
    }
   ],
   "source": [
    "i=1\n",
    "while i<=10:\n",
    "    print(i,end=' ')\n",
    "    i+=1"
   ]
  },
  {
   "cell_type": "code",
   "execution_count": 1,
   "id": "8adb98bc-6bd1-4420-a0fc-3a6fbbf23efd",
   "metadata": {},
   "outputs": [
    {
     "name": "stdout",
     "output_type": "stream",
     "text": [
      "10 9 8 7 6 5 4 3 2 1 0 "
     ]
    }
   ],
   "source": [
    "i=10\n",
    "while i>=0:\n",
    "    print(i,end=' ')\n",
    "    i-=1"
   ]
  },
  {
   "cell_type": "code",
   "execution_count": 9,
   "id": "b8106016-1353-47c9-80b5-a55c171f741f",
   "metadata": {},
   "outputs": [
    {
     "name": "stdout",
     "output_type": "stream",
     "text": [
      "-10 -9 -8 -7 -6 -5 -4 -3 -2 -1 0 "
     ]
    }
   ],
   "source": [
    "i=-10\n",
    "while i<=0:\n",
    "    print(i,end=' ')\n",
    "    i+=1"
   ]
  },
  {
   "cell_type": "code",
   "execution_count": 3,
   "id": "081b65b0-431c-41e3-ba10-6728d503c2cd",
   "metadata": {},
   "outputs": [
    {
     "name": "stdout",
     "output_type": "stream",
     "text": [
      "-1 -2 -3 -4 -5 -6 -7 -8 -9 -10 "
     ]
    }
   ],
   "source": [
    "i=-1\n",
    "while i>-11:\n",
    "    print(i,end=' ')\n",
    "    i-=1"
   ]
  },
  {
   "cell_type": "code",
   "execution_count": 3,
   "id": "b7379fb3-b873-416d-8f3b-dca335bb76c4",
   "metadata": {},
   "outputs": [
    {
     "name": "stdout",
     "output_type": "stream",
     "text": [
      "1 2 3 4 5 6 7 8 9 10 "
     ]
    }
   ],
   "source": [
    "i=1 \n",
    "while True:\n",
    "    print(i,end=' ')\n",
    "    i+=1\n",
    "    if i==11:\n",
    "        break"
   ]
  },
  {
   "cell_type": "code",
   "execution_count": 9,
   "id": "fcffb35a-2e7f-49c4-b50b-9e2263257b9d",
   "metadata": {},
   "outputs": [
    {
     "name": "stdout",
     "output_type": "stream",
     "text": [
      "10 9 8 7 6 5 4 3 2 1 "
     ]
    }
   ],
   "source": [
    "# Breaking the infinate loops\n",
    "\n",
    "i=10\n",
    "while True:\n",
    "    print(i,end=' ')\n",
    "    i-=1\n",
    "    if i==0:\n",
    "        break"
   ]
  },
  {
   "cell_type": "code",
   "execution_count": 11,
   "id": "1b24ebca-5ff1-49e2-b76b-45eb50217ddc",
   "metadata": {},
   "outputs": [
    {
     "name": "stdout",
     "output_type": "stream",
     "text": [
      "-10 -9 -8 -7 -6 -5 -4 -3 -2 -1 "
     ]
    }
   ],
   "source": [
    "i=-10\n",
    "while True:\n",
    "    print(i,end=' ')\n",
    "    i+=1\n",
    "    if i==0:\n",
    "        break"
   ]
  },
  {
   "cell_type": "code",
   "execution_count": 13,
   "id": "ca007652-2784-4af5-b5e7-b5b27d88528b",
   "metadata": {},
   "outputs": [
    {
     "name": "stdout",
     "output_type": "stream",
     "text": [
      "-1 -2 -3 -4 -5 -6 -7 -8 -9 -10 "
     ]
    }
   ],
   "source": [
    "i=-1\n",
    "while True:\n",
    "    print(i,end=' ')\n",
    "    i-=1\n",
    "    if i==-11:\n",
    "        break"
   ]
  },
  {
   "cell_type": "markdown",
   "id": "f4c3811c-93bc-4a0a-aa5e-cd20afd1d552",
   "metadata": {},
   "source": [
    "**Important Note**"
   ]
  },
  {
   "cell_type": "code",
   "execution_count": null,
   "id": "f3bf7ee3-55df-4607-9c70-136838443246",
   "metadata": {},
   "outputs": [],
   "source": [
    "# if we dont know where is the stop condition\n",
    "# if we want to give infinite chances till the answer should corrent\n",
    "# then we can use while loop\n",
    "\n",
    "# In for loop inherently stop value availabe\n",
    "# range(3) stop =2\n",
    "# range(3,11) stop =10\n"
   ]
  },
  {
   "cell_type": "code",
   "execution_count": 7,
   "id": "1dc160d7-52b5-407d-88cc-b22b28ae725c",
   "metadata": {
    "scrolled": true
   },
   "outputs": [
    {
     "name": "stdin",
     "output_type": "stream",
     "text": [
      "Enter Number 5\n"
     ]
    },
    {
     "name": "stdout",
     "output_type": "stream",
     "text": [
      "loose\n"
     ]
    },
    {
     "name": "stdin",
     "output_type": "stream",
     "text": [
      "Enter Number 5\n"
     ]
    },
    {
     "name": "stdout",
     "output_type": "stream",
     "text": [
      "loose\n"
     ]
    },
    {
     "name": "stdin",
     "output_type": "stream",
     "text": [
      "Enter Number 1\n"
     ]
    },
    {
     "name": "stdout",
     "output_type": "stream",
     "text": [
      "loose\n"
     ]
    },
    {
     "name": "stdin",
     "output_type": "stream",
     "text": [
      "Enter Number 2\n"
     ]
    },
    {
     "name": "stdout",
     "output_type": "stream",
     "text": [
      "loose\n"
     ]
    },
    {
     "name": "stdin",
     "output_type": "stream",
     "text": [
      "Enter Number 3\n"
     ]
    },
    {
     "name": "stdout",
     "output_type": "stream",
     "text": [
      "loose\n"
     ]
    },
    {
     "name": "stdin",
     "output_type": "stream",
     "text": [
      "Enter Number 4\n"
     ]
    },
    {
     "name": "stdout",
     "output_type": "stream",
     "text": [
      "loose\n"
     ]
    },
    {
     "name": "stdin",
     "output_type": "stream",
     "text": [
      "Enter Number 5\n"
     ]
    },
    {
     "name": "stdout",
     "output_type": "stream",
     "text": [
      "loose\n"
     ]
    },
    {
     "name": "stdin",
     "output_type": "stream",
     "text": [
      "Enter Number 7\n"
     ]
    },
    {
     "name": "stdout",
     "output_type": "stream",
     "text": [
      "loose\n"
     ]
    },
    {
     "name": "stdin",
     "output_type": "stream",
     "text": [
      "Enter Number 9\n"
     ]
    },
    {
     "name": "stdout",
     "output_type": "stream",
     "text": [
      "loose\n"
     ]
    },
    {
     "name": "stdin",
     "output_type": "stream",
     "text": [
      "Enter Number 6\n"
     ]
    },
    {
     "name": "stdout",
     "output_type": "stream",
     "text": [
      "loose\n"
     ]
    },
    {
     "name": "stdin",
     "output_type": "stream",
     "text": [
      "Enter Number 1\n"
     ]
    },
    {
     "name": "stdout",
     "output_type": "stream",
     "text": [
      "loose\n"
     ]
    },
    {
     "name": "stdin",
     "output_type": "stream",
     "text": [
      "Enter Number 5\n"
     ]
    },
    {
     "name": "stdout",
     "output_type": "stream",
     "text": [
      "loose\n"
     ]
    },
    {
     "name": "stdin",
     "output_type": "stream",
     "text": [
      "Enter Number 5\n"
     ]
    },
    {
     "name": "stdout",
     "output_type": "stream",
     "text": [
      "loose\n"
     ]
    },
    {
     "name": "stdin",
     "output_type": "stream",
     "text": [
      "Enter Number 8\n"
     ]
    },
    {
     "name": "stdout",
     "output_type": "stream",
     "text": [
      "won\n"
     ]
    }
   ],
   "source": [
    "import random\n",
    "random_num=random.randint(1,10)\n",
    "while True:\n",
    "    user_num=eval(input(\"Enter Number\"))\n",
    "    if user_num==random_num:\n",
    "        print(\"won\")\n",
    "        break\n",
    "    else:\n",
    "        print(\"loose\")"
   ]
  },
  {
   "cell_type": "code",
   "execution_count": null,
   "id": "5288abf0-b1db-4fad-afd4-08adf021e53b",
   "metadata": {},
   "outputs": [],
   "source": []
  }
 ],
 "metadata": {
  "kernelspec": {
   "display_name": "Python [conda env:base] *",
   "language": "python",
   "name": "conda-base-py"
  },
  "language_info": {
   "codemirror_mode": {
    "name": "ipython",
    "version": 3
   },
   "file_extension": ".py",
   "mimetype": "text/x-python",
   "name": "python",
   "nbconvert_exporter": "python",
   "pygments_lexer": "ipython3",
   "version": "3.12.7"
  }
 },
 "nbformat": 4,
 "nbformat_minor": 5
}
