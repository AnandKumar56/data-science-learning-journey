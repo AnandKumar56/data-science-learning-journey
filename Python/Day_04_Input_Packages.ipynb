{
 "cells": [
  {
   "cell_type": "markdown",
   "id": "669eae54-5b8b-47bc-8553-b7339fc8437b",
   "metadata": {},
   "source": [
    "**Input()**\n",
    "\n",
    "*he input() function in Python is a built-in function used to obtain user input from the console. It pauses the program's execution and waits for the user to type something and press Enter.*"
   ]
  },
  {
   "cell_type": "code",
   "execution_count": 21,
   "id": "f6f80b31-5a5f-4eda-a9ee-a57b35b393c5",
   "metadata": {},
   "outputs": [
    {
     "data": {
      "text/plain": [
       "<bound method Kernel.raw_input of <ipykernel.ipkernel.IPythonKernel object at 0x000002700CCF3FE0>>"
      ]
     },
     "execution_count": 21,
     "metadata": {},
     "output_type": "execute_result"
    }
   ],
   "source": [
    "input"
   ]
  },
  {
   "cell_type": "markdown",
   "id": "f8778c03-a40b-4434-bbc5-725ffe465620",
   "metadata": {},
   "source": [
    "- bound method \n",
    "\n",
    "- function`\n",
    "\n",
    "- we need to add brackets"
   ]
  },
  {
   "cell_type": "code",
   "execution_count": 29,
   "id": "88931399-af07-4e72-95b5-4d50e8e14aa5",
   "metadata": {},
   "outputs": [
    {
     "name": "stdin",
     "output_type": "stream",
     "text": [
      " Hello\n"
     ]
    },
    {
     "data": {
      "text/plain": [
       "'Hello'"
      ]
     },
     "execution_count": 29,
     "metadata": {},
     "output_type": "execute_result"
    }
   ],
   "source": [
    "input()"
   ]
  },
  {
   "cell_type": "code",
   "execution_count": 31,
   "id": "e681a08e-245d-40e6-829f-5ed286cf230f",
   "metadata": {},
   "outputs": [
    {
     "name": "stdin",
     "output_type": "stream",
     "text": [
      " 10\n",
      " 20\n"
     ]
    },
    {
     "data": {
      "text/plain": [
       "'20'"
      ]
     },
     "execution_count": 31,
     "metadata": {},
     "output_type": "execute_result"
    }
   ],
   "source": [
    "input()\n",
    "input()"
   ]
  },
  {
   "cell_type": "code",
   "execution_count": 35,
   "id": "bd34a30a-ec63-41cc-a07b-38964b528d55",
   "metadata": {},
   "outputs": [
    {
     "name": "stdin",
     "output_type": "stream",
     "text": [
      "Enter the Number1: 20\n",
      "Enter the Number2: 30\n"
     ]
    },
    {
     "data": {
      "text/plain": [
       "'30'"
      ]
     },
     "execution_count": 35,
     "metadata": {},
     "output_type": "execute_result"
    }
   ],
   "source": [
    "input(\"Enter the Number1:\")\n",
    "input(\"Enter the Number2:\")"
   ]
  },
  {
   "cell_type": "code",
   "execution_count": 51,
   "id": "382ab478-3bcc-4a75-9c43-2ed1a43e2260",
   "metadata": {},
   "outputs": [
    {
     "name": "stdin",
     "output_type": "stream",
     "text": [
      "Enter the Number1: 10\n",
      "Enter the Number2: 20\n"
     ]
    },
    {
     "data": {
      "text/plain": [
       "'1020'"
      ]
     },
     "execution_count": 51,
     "metadata": {},
     "output_type": "execute_result"
    }
   ],
   "source": [
    "a=input(\"Enter the Number1:\") # '10' # What ever you enter it take it as the string\n",
    "b=input(\"Enter the Number2:\") \n",
    "c=a+b\n",
    "c"
   ]
  },
  {
   "cell_type": "code",
   "execution_count": 47,
   "id": "229d5b61-64c3-477e-8efb-eb7490af4317",
   "metadata": {},
   "outputs": [
    {
     "name": "stdin",
     "output_type": "stream",
     "text": [
      "Enter the Number1: 20\n",
      "Enter the Number2: 30\n"
     ]
    },
    {
     "data": {
      "text/plain": [
       "50"
      ]
     },
     "execution_count": 47,
     "metadata": {},
     "output_type": "execute_result"
    }
   ],
   "source": [
    "a=int(input(\"Enter the Number1:\")) # Converting the string into the int\n",
    "b=int(input(\"Enter the Number2:\"))\n",
    "c=a+b\n",
    "c"
   ]
  },
  {
   "cell_type": "code",
   "execution_count": 53,
   "id": "ed38f49e-1404-45bb-9c87-a684e8fbcf90",
   "metadata": {},
   "outputs": [
    {
     "name": "stdin",
     "output_type": "stream",
     "text": [
      "Enter the Number1: 10\n",
      "Enter the Number2: 20\n"
     ]
    },
    {
     "data": {
      "text/plain": [
       "30"
      ]
     },
     "execution_count": 53,
     "metadata": {},
     "output_type": "execute_result"
    }
   ],
   "source": [
    "a=eval(input(\"Enter the Number1:\"))\n",
    "b=eval(input(\"Enter the Number2:\"))\n",
    "c=a+b\n",
    "c"
   ]
  },
  {
   "cell_type": "code",
   "execution_count": 55,
   "id": "55e44504-94a9-4897-ab27-021490885b35",
   "metadata": {},
   "outputs": [
    {
     "data": {
      "text/plain": [
       "<bound method Kernel.raw_input of <ipykernel.ipkernel.IPythonKernel object at 0x000002700CCF3FE0>>"
      ]
     },
     "execution_count": 55,
     "metadata": {},
     "output_type": "execute_result"
    }
   ],
   "source": [
    "input"
   ]
  },
  {
   "cell_type": "code",
   "execution_count": 57,
   "id": "2b7b38b4-5efe-419e-a6c1-583707fbce43",
   "metadata": {},
   "outputs": [
    {
     "name": "stdin",
     "output_type": "stream",
     "text": [
      " 10\n"
     ]
    },
    {
     "data": {
      "text/plain": [
       "'10'"
      ]
     },
     "execution_count": 57,
     "metadata": {},
     "output_type": "execute_result"
    }
   ],
   "source": [
    "input()"
   ]
  },
  {
   "cell_type": "code",
   "execution_count": 73,
   "id": "13242fcb-4993-4e62-9951-ff87b07a65ca",
   "metadata": {},
   "outputs": [
    {
     "name": "stdin",
     "output_type": "stream",
     "text": [
      "enter the number 25\n"
     ]
    }
   ],
   "source": [
    "a1=input('enter the number')"
   ]
  },
  {
   "cell_type": "code",
   "execution_count": 75,
   "id": "340f2c02-9a7d-4796-9ded-6352e41ddc81",
   "metadata": {},
   "outputs": [
    {
     "name": "stdin",
     "output_type": "stream",
     "text": [
      "Enter the Number 25\n"
     ]
    }
   ],
   "source": [
    "b1=input('Enter the Number')"
   ]
  },
  {
   "cell_type": "code",
   "execution_count": 77,
   "id": "8422795a-1a09-4026-8aa2-bbd4a4c2002f",
   "metadata": {},
   "outputs": [
    {
     "data": {
      "text/plain": [
       "'2525'"
      ]
     },
     "execution_count": 77,
     "metadata": {},
     "output_type": "execute_result"
    }
   ],
   "source": [
    "a1+b1"
   ]
  },
  {
   "cell_type": "code",
   "execution_count": 79,
   "id": "1af61a75-983b-43f1-a205-40d8a66dc0d0",
   "metadata": {},
   "outputs": [
    {
     "name": "stdin",
     "output_type": "stream",
     "text": [
      "Enter the Number1: 20\n",
      "Enter the Number2: 20\n"
     ]
    },
    {
     "name": "stdout",
     "output_type": "stream",
     "text": [
      "40\n"
     ]
    }
   ],
   "source": [
    "a2=eval(input(\"Enter the Number1:\"))\n",
    "b2=eval(input(\"Enter the Number2:\"))\n",
    "c1=a2+b2\n",
    "print(c1)"
   ]
  },
  {
   "cell_type": "markdown",
   "id": "6596db54-7a6e-4c01-828b-5aa9d6bb4f42",
   "metadata": {},
   "source": [
    "***Assignment 2***"
   ]
  },
  {
   "cell_type": "code",
   "execution_count": 92,
   "id": "12d281be-48b1-4ddc-b270-58431132cbb4",
   "metadata": {},
   "outputs": [
    {
     "name": "stdin",
     "output_type": "stream",
     "text": [
      "Enter the Radius: 50\n"
     ]
    },
    {
     "name": "stdout",
     "output_type": "stream",
     "text": [
      "The Radius You have Entered is 50 and area of cirle is 7850.0\n"
     ]
    }
   ],
   "source": [
    "#Q1\n",
    "\n",
    "radius=eval(input(\"Enter the Radius:\"))   # Taking the radius from the user\n",
    "pi=3.14                                   # Assigning the pi value to the pi variable\n",
    "area_of_circle=pi*radius*radius           # logic formula for the area_of_cirlce is πr²\n",
    "\n",
    "print(f\"The Radius You have Entered is {radius} and area of cirle is {area_of_circle}\")  # Printing the Radius and area of cirlce"
   ]
  },
  {
   "cell_type": "code",
   "execution_count": 98,
   "id": "025f0446-7b0c-479e-a0f6-11548d1da188",
   "metadata": {},
   "outputs": [
    {
     "name": "stdin",
     "output_type": "stream",
     "text": [
      "Enter the Height of the Traingle: 30\n",
      "Enter the Breadth of the Traingle: 50\n"
     ]
    },
    {
     "name": "stdout",
     "output_type": "stream",
     "text": [
      "Height of Traingle is 30 and Breadth of traingle is 50 Area of traingle is 750.0\n"
     ]
    }
   ],
   "source": [
    "#Q2\n",
    "\n",
    "height=eval(input(\"Enter the Height of the Traingle:\"))   # Taking the input height from the User\n",
    "breadth=eval(input(\"Enter the Breadth of the Traingle:\")) # Taking the input breadth from the User\n",
    "\n",
    "area_of_traingle=0.5*height*breadth                       # logic Here is formula for calculating the area_of_traingle= 0.5*h*b\n",
    "print(f\"Height of Traingle is {height} and Breadth of traingle is {breadth} Area of traingle is {area_of_traingle}\") # Printing the height breadth of the traingle"
   ]
  },
  {
   "cell_type": "code",
   "execution_count": 100,
   "id": "f3812504-28a7-4d87-88b2-ade05b8bee35",
   "metadata": {},
   "outputs": [
    {
     "name": "stdin",
     "output_type": "stream",
     "text": [
      "Enter the Bill Amount : 5000\n",
      "Enter the Tip Amount : 50\n"
     ]
    },
    {
     "name": "stdout",
     "output_type": "stream",
     "text": [
      "Bill Amount is 5000 and tip 50 and the Total amount is 5050\n"
     ]
    }
   ],
   "source": [
    "#Q3\n",
    "\n",
    "bill_amount=eval(input(\"Enter the Bill Amount :\"))  # Taking the input bill_amount from the User\n",
    "tip_amount=eval(input(\"Enter the Tip Amount :\"))    # Taking the input tip_amount from the User\n",
    "\n",
    "total_bill=bill_amount+tip_amount                   # Calculating total amount which is bill_amout + tip_amount\n",
    "\n",
    "print(f\"Bill Amount is {bill_amount} and tip {tip_amount} and the Total amount is {total_bill}\") # Printing both bill and tip amount and total bill"
   ]
  },
  {
   "cell_type": "code",
   "execution_count": 104,
   "id": "4bf51eb7-0337-446f-b3b5-6c1e190ffe7a",
   "metadata": {},
   "outputs": [
    {
     "name": "stdin",
     "output_type": "stream",
     "text": [
      "Enter the Salary: 5000\n",
      "Enter the tax: 10\n"
     ]
    },
    {
     "name": "stdout",
     "output_type": "stream",
     "text": [
      "Your Salary is 5000 and the Tax Percentage is 10 and Final Salary is the 500.0\n"
     ]
    }
   ],
   "source": [
    "#Q4\n",
    "\n",
    "sal=eval(input(\"Enter the Salary:\")) # Taking the input salary from the User\n",
    "tax=eval(input(\"Enter the tax:\"))    # Taking the input tax from the User\n",
    "\n",
    "final_sal=sal*tax/100                # calculating the final salary which is salary multiply by tax divide by 100\n",
    "\n",
    "print(f\"Your Salary is {sal} and the Tax Percentage is {tax} and Final Salary is the {final_sal}\") # Printing the Salary, Tax and Final Salary"
   ]
  },
  {
   "cell_type": "code",
   "execution_count": 106,
   "id": "8fa03fc1-bac2-4012-9db0-5b0bc6b68d6f",
   "metadata": {},
   "outputs": [
    {
     "name": "stdin",
     "output_type": "stream",
     "text": [
      "Enter The Dollors: 50\n"
     ]
    },
    {
     "name": "stdout",
     "output_type": "stream",
     "text": [
      "The Dollor of 50 converted into rupee is 4250\n"
     ]
    }
   ],
   "source": [
    "#Q5\n",
    "\n",
    "dollor=eval(input(\"Enter The Dollors:\")) # Taking the input dollor from the User\n",
    "\n",
    "dollor_to_rupee=dollor*85                # Calculating the dollors into rupees Price of dollor is 85 and dollor to rupee is dollor * rupees\n",
    "\n",
    "print(f\"The Dollor of {dollor} converted into rupee is {dollor_to_rupee}\") # Printing user entered value and dollor value in rupees"
   ]
  },
  {
   "cell_type": "code",
   "execution_count": 110,
   "id": "7bbf9cfb-96f7-4149-a14b-9b76d74c9d32",
   "metadata": {},
   "outputs": [
    {
     "name": "stdin",
     "output_type": "stream",
     "text": [
      "Enter the Weight: 80\n"
     ]
    },
    {
     "name": "stdout",
     "output_type": "stream",
     "text": [
      "The weights 80 into pounds of 176.0\n",
      "The weights 80 into pounds of 176.0\n"
     ]
    }
   ],
   "source": [
    "#Q6\n",
    "\n",
    "weights=eval(input(\"Enter the Weight:\")) # Taking the input weights from the User\n",
    "\n",
    "kgs_into_pounds=weights*2.2              # Converting the kgs into pounds (1 pound = 2.2)\n",
    "\n",
    "print(f\"The weights {weights} into pounds of {kgs_into_pounds}\")  # Printing the Weight in kgs and pounds\n",
    "\n",
    "print(f\"The weights {weights} into pounds of\", round(kgs_into_pounds,2))"
   ]
  },
  {
   "cell_type": "code",
   "execution_count": 112,
   "id": "9c0d5338-8343-4c5b-a2fa-37904f5469a7",
   "metadata": {},
   "outputs": [
    {
     "name": "stdin",
     "output_type": "stream",
     "text": [
      "Enter the Bill Amount: 5000\n",
      "Enter the tip Percentage: 2\n"
     ]
    },
    {
     "name": "stdout",
     "output_type": "stream",
     "text": [
      "The Bill amount is 5000 and the Tip Percentage is 2\n",
      "Total Bill Amount :5100.0\n"
     ]
    }
   ],
   "source": [
    "#Q7\n",
    "\n",
    "bill_amount=eval(input(\"Enter the Bill Amount:\")) # Taking the input bill_amount from the User\n",
    "tip_perc=eval(input(\"Enter the tip Percentage:\")) # Taking the input tip_perc from the User\n",
    "tip_amount=bill_amount*tip_perc/100               # Calculating tip_amount which is bill*tip_per/100\n",
    "total_bill=bill_amount+tip_amount                 # Calculating total_bill= bill+tip\n",
    "print(f\"The Bill amount is {bill_amount} and the Tip Percentage is {tip_perc}\")\n",
    "print(f\"Total Bill Amount :{total_bill}\")"
   ]
  },
  {
   "cell_type": "code",
   "execution_count": null,
   "id": "e4bc2739-430f-40fd-bf45-7f61680792b1",
   "metadata": {},
   "outputs": [],
   "source": []
  },
  {
   "cell_type": "markdown",
   "id": "92d45962-8f64-433b-89ef-e41677495844",
   "metadata": {},
   "source": [
    "**Packages**\n",
    "\n",
    "*A package in Python is a way to organize related modules together in a folder.*\n",
    "\n",
    "✅ In simple words:\n",
    "*A package is a folder that contains multiple Python files (modules) and a special file called __init__.py*\n",
    "\n",
    "*A module in Python is a single Python file (.py) that contains functions, classes, or variables you can reuse in other programs.*\n",
    "\n",
    "✅ In simple words:\n",
    "*A module is just a .py file that you can import and use in your code.*"
   ]
  },
  {
   "cell_type": "code",
   "execution_count": 8,
   "id": "34f9a0fe-2e5a-4f56-94ef-1bda60161f6e",
   "metadata": {},
   "outputs": [
    {
     "ename": "SyntaxError",
     "evalue": "invalid syntax (639514505.py, line 1)",
     "output_type": "error",
     "traceback": [
      "\u001b[1;36m  Cell \u001b[1;32mIn[8], line 1\u001b[1;36m\u001b[0m\n\u001b[1;33m    import <package name>\u001b[0m\n\u001b[1;37m           ^\u001b[0m\n\u001b[1;31mSyntaxError\u001b[0m\u001b[1;31m:\u001b[0m invalid syntax\n"
     ]
    }
   ],
   "source": [
    "import <package name>"
   ]
  },
  {
   "cell_type": "code",
   "execution_count": 28,
   "id": "891f0f70-d2b1-43d9-a4cb-e309a55920fe",
   "metadata": {},
   "outputs": [
    {
     "ename": "SyntaxError",
     "evalue": "invalid syntax (2365873237.py, line 4)",
     "output_type": "error",
     "traceback": [
      "\u001b[1;36m  Cell \u001b[1;32mIn[28], line 4\u001b[1;36m\u001b[0m\n\u001b[1;33m    pip install(cv2)\u001b[0m\n\u001b[1;37m        ^\u001b[0m\n\u001b[1;31mSyntaxError\u001b[0m\u001b[1;31m:\u001b[0m invalid syntax\n"
     ]
    }
   ],
   "source": [
    "import random  # Package name: random\n",
    "import math    # Package name: math\n",
    "import time    # Package name: time\n",
    "import cv2     # Package name: cv2"
   ]
  },
  {
   "cell_type": "code",
   "execution_count": 22,
   "id": "732983bc-99d7-47b2-af59-546baa942957",
   "metadata": {},
   "outputs": [
    {
     "data": {
      "text/plain": [
       "<module 'random' from 'C:\\\\Users\\\\akn91\\\\anaconda3\\\\Lib\\\\random.py'>"
      ]
     },
     "execution_count": 22,
     "metadata": {},
     "output_type": "execute_result"
    }
   ],
   "source": [
    "random"
   ]
  },
  {
   "cell_type": "code",
   "execution_count": null,
   "id": "45898d36-3943-4d84-8aa9-2399a57df6ff",
   "metadata": {},
   "outputs": [],
   "source": [
    "#Step- 1 : We got some idea about module or package\n",
    "#Step- 2  : We know how to use : import <package>"
   ]
  },
  {
   "cell_type": "markdown",
   "id": "a53fa648-be4a-46da-9b06-7d0e0f883617",
   "metadata": {},
   "source": [
    "***First understand the concept rather than reading defintion create your own definition then Do research***"
   ]
  },
  {
   "cell_type": "markdown",
   "id": "0a434696-863b-4c68-85bd-7015dcc3dc71",
   "metadata": {},
   "source": [
    "- Package and Module"
   ]
  },
  {
   "cell_type": "code",
   "execution_count": null,
   "id": "e29b6fc3-ca24-4057-830d-8b80fdb2cb0c",
   "metadata": {},
   "outputs": [],
   "source": [
    "# Module: MathFunction          uncle\n",
    "\n",
    "#           add                kid1: \n",
    "#           sub                kid2:\n",
    "#           mul                kid3:\n",
    "#           div                kid4:"
   ]
  },
  {
   "cell_type": "code",
   "execution_count": 40,
   "id": "bfc92204-b351-4bca-a004-410a7427c8a2",
   "metadata": {},
   "outputs": [],
   "source": [
    "import random\n",
    "dir(random)"
   ]
  },
  {
   "cell_type": "code",
   "execution_count": 44,
   "id": "11226c5b-305c-47ef-a60c-789ec8644d0f",
   "metadata": {},
   "outputs": [],
   "source": [
    "#Step 1: import <module>\n",
    "#Step 2: dir(<module>)\n",
    "\n",
    "import math\n",
    "dir(math)"
   ]
  },
  {
   "cell_type": "code",
   "execution_count": 48,
   "id": "a61c7b15-6322-431e-9714-605520104511",
   "metadata": {},
   "outputs": [
    {
     "data": {
      "text/plain": [
       "0.24383277898958955"
      ]
     },
     "execution_count": 48,
     "metadata": {},
     "output_type": "execute_result"
    }
   ],
   "source": [
    "import random\n",
    "random.random()"
   ]
  },
  {
   "cell_type": "code",
   "execution_count": null,
   "id": "77b964d0-136f-4045-8aae-ed3f0936edad",
   "metadata": {},
   "outputs": [],
   "source": [
    "#Step 1: import modulename\n",
    "#Step 2: inorder to methods apply directory\n",
    "#        dir(module)\n",
    "#step 3: choose one method\n",
    "#        modulename.methodname\n",
    "# if above one is function it will say function or method\n",
    "# we need to add brackets\n",
    "\n",
    "# if above one not a function it will give direct values\n",
    "#step 4: apply the brackets perform the shift + tab\n",
    "#       modulename.methodname()\n",
    "\n",
    "#step 5: read the doc string understand it and use it"
   ]
  },
  {
   "cell_type": "markdown",
   "id": "6d91a97b-05d2-4d46-af38-90b05cd2dd40",
   "metadata": {},
   "source": [
    "**Practice**"
   ]
  },
  {
   "cell_type": "code",
   "execution_count": 53,
   "id": "a2396485-b662-4ef5-9b7b-0aff2a5684e5",
   "metadata": {},
   "outputs": [
    {
     "data": {
      "text/plain": [
       "['BPF',\n",
       " 'LOG4',\n",
       " 'NV_MAGICCONST',\n",
       " 'RECIP_BPF',\n",
       " 'Random',\n",
       " 'SG_MAGICCONST',\n",
       " 'SystemRandom',\n",
       " 'TWOPI',\n",
       " '_ONE',\n",
       " '_Sequence',\n",
       " '__all__',\n",
       " '__builtins__',\n",
       " '__cached__',\n",
       " '__doc__',\n",
       " '__file__',\n",
       " '__loader__',\n",
       " '__name__',\n",
       " '__package__',\n",
       " '__spec__',\n",
       " '_accumulate',\n",
       " '_acos',\n",
       " '_bisect',\n",
       " '_ceil',\n",
       " '_cos',\n",
       " '_e',\n",
       " '_exp',\n",
       " '_fabs',\n",
       " '_floor',\n",
       " '_index',\n",
       " '_inst',\n",
       " '_isfinite',\n",
       " '_lgamma',\n",
       " '_log',\n",
       " '_log2',\n",
       " '_os',\n",
       " '_pi',\n",
       " '_random',\n",
       " '_repeat',\n",
       " '_sha512',\n",
       " '_sin',\n",
       " '_sqrt',\n",
       " '_test',\n",
       " '_test_generator',\n",
       " '_urandom',\n",
       " '_warn',\n",
       " 'betavariate',\n",
       " 'binomialvariate',\n",
       " 'choice',\n",
       " 'choices',\n",
       " 'expovariate',\n",
       " 'gammavariate',\n",
       " 'gauss',\n",
       " 'getrandbits',\n",
       " 'getstate',\n",
       " 'lognormvariate',\n",
       " 'normalvariate',\n",
       " 'paretovariate',\n",
       " 'randbytes',\n",
       " 'randint',\n",
       " 'random',\n",
       " 'randrange',\n",
       " 'sample',\n",
       " 'seed',\n",
       " 'setstate',\n",
       " 'shuffle',\n",
       " 'triangular',\n",
       " 'uniform',\n",
       " 'vonmisesvariate',\n",
       " 'weibullvariate']"
      ]
     },
     "execution_count": 53,
     "metadata": {},
     "output_type": "execute_result"
    }
   ],
   "source": [
    "import random\n",
    "dir(random)"
   ]
  },
  {
   "cell_type": "code",
   "execution_count": 57,
   "id": "6d321cea-d179-4027-8649-017c602688d6",
   "metadata": {},
   "outputs": [
    {
     "data": {
      "text/plain": [
       "0.27032985941499044"
      ]
     },
     "execution_count": 57,
     "metadata": {},
     "output_type": "execute_result"
    }
   ],
   "source": [
    "random.random"
   ]
  },
  {
   "cell_type": "code",
   "execution_count": 82,
   "id": "a7214dcb-e484-4ca8-a859-1ad707e5e09d",
   "metadata": {},
   "outputs": [
    {
     "data": {
      "text/plain": [
       "10"
      ]
     },
     "execution_count": 82,
     "metadata": {},
     "output_type": "execute_result"
    }
   ],
   "source": [
    "random.randint(1,10) #Return random integer in range [a, b], including both end points."
   ]
  },
  {
   "cell_type": "code",
   "execution_count": 128,
   "id": "5794bfdc-15b5-4ec1-b4a1-203451092967",
   "metadata": {},
   "outputs": [
    {
     "data": {
      "text/plain": [
       "-38"
      ]
     },
     "execution_count": 128,
     "metadata": {},
     "output_type": "execute_result"
    }
   ],
   "source": [
    "random.randint(-50,10)"
   ]
  },
  {
   "cell_type": "code",
   "execution_count": null,
   "id": "a6c80100-cdad-428f-afe7-7b109c44647e",
   "metadata": {},
   "outputs": [],
   "source": [
    "# Package name               method name\n",
    " random                       random                                                   ✅\n",
    " random                       randint                                                  ✅\n",
    " random                       uniform                                                  ✅\n",
    " random                       sample       random.sample([10,20,30,40])                ✅\n",
    " random                       choice       random.choice(<use list inside>)            ✅\n",
    " random                       shuffle      n=[10,20,30,40] random.shuffle(n) print(n)  ✅\n",
    " math                         sqrt                                                     ✅\n",
    " math                         sin                                                      ✅\n",
    " math                         pi                                                       ✅\n",
    " math                         e                                                        ✅\n",
    " math                         pow                                                      ✅"
   ]
  },
  {
   "cell_type": "code",
   "execution_count": 164,
   "id": "5ee21afe-7b3c-4f06-be7b-d6b565e651cc",
   "metadata": {},
   "outputs": [
    {
     "data": {
      "text/plain": [
       "[40, 20, 30, 40, 10, 10, 20, 20]"
      ]
     },
     "execution_count": 164,
     "metadata": {},
     "output_type": "execute_result"
    }
   ],
   "source": [
    "random.sample([10,20,30,40],k=8,counts=[2,3,1,2])"
   ]
  },
  {
   "cell_type": "code",
   "execution_count": 180,
   "id": "1a0eb76f-5059-44b1-b6f9-39fffde8ec96",
   "metadata": {},
   "outputs": [
    {
     "data": {
      "text/plain": [
       "30"
      ]
     },
     "execution_count": 180,
     "metadata": {},
     "output_type": "execute_result"
    }
   ],
   "source": [
    "random.choice([10,20,30,40])"
   ]
  },
  {
   "cell_type": "code",
   "execution_count": 215,
   "id": "7149bc0b-90ae-4b13-93d3-1f9813b23f7f",
   "metadata": {},
   "outputs": [
    {
     "name": "stdout",
     "output_type": "stream",
     "text": [
      "[20, 30, 10, 40]\n"
     ]
    }
   ],
   "source": [
    "n=[10,20,30,40]\n",
    "random.shuffle(n)\n",
    "print(n)"
   ]
  },
  {
   "cell_type": "markdown",
   "id": "897b9d3e-8253-4438-a002-ab685bc3ae6f",
   "metadata": {},
   "source": [
    "***Hint***\n",
    "\n",
    " - Sample === some values\n",
    " - choice === choose one value\n",
    " - shuffle === shuffle the random values"
   ]
  },
  {
   "cell_type": "code",
   "execution_count": 189,
   "id": "f278270e-193c-497d-86e5-2d5751388a32",
   "metadata": {},
   "outputs": [
    {
     "data": {
      "text/plain": [
       "5.0"
      ]
     },
     "execution_count": 189,
     "metadata": {},
     "output_type": "execute_result"
    }
   ],
   "source": [
    "math.sqrt(25)"
   ]
  },
  {
   "cell_type": "code",
   "execution_count": 191,
   "id": "f95c1f10-d84a-411a-89a1-758a5e21cf4e",
   "metadata": {},
   "outputs": [
    {
     "data": {
      "text/plain": [
       "-0.9880316240928618"
      ]
     },
     "execution_count": 191,
     "metadata": {},
     "output_type": "execute_result"
    }
   ],
   "source": [
    "math.sin(30)"
   ]
  },
  {
   "cell_type": "code",
   "execution_count": 193,
   "id": "1c107d36-d5cf-414f-8b2b-79bbe0968800",
   "metadata": {},
   "outputs": [
    {
     "data": {
      "text/plain": [
       "-0.3048106211022167"
      ]
     },
     "execution_count": 193,
     "metadata": {},
     "output_type": "execute_result"
    }
   ],
   "source": [
    "math.sin(60)"
   ]
  },
  {
   "cell_type": "code",
   "execution_count": 195,
   "id": "2ea696d0-af98-4866-8b15-38d5203b38ae",
   "metadata": {},
   "outputs": [
    {
     "data": {
      "text/plain": [
       "0.8939966636005579"
      ]
     },
     "execution_count": 195,
     "metadata": {},
     "output_type": "execute_result"
    }
   ],
   "source": [
    "math.sin(90)"
   ]
  },
  {
   "cell_type": "code",
   "execution_count": 199,
   "id": "76c1da04-1ebc-49fc-a4cf-7b9abe1d5ac1",
   "metadata": {},
   "outputs": [
    {
     "data": {
      "text/plain": [
       "3.141592653589793"
      ]
     },
     "execution_count": 199,
     "metadata": {},
     "output_type": "execute_result"
    }
   ],
   "source": [
    "math.pi   # Convert a string or number to a floating-point number, if possible."
   ]
  },
  {
   "cell_type": "code",
   "execution_count": 205,
   "id": "b7f2c6f0-ab8a-41a6-bb8d-4fa623d596f3",
   "metadata": {},
   "outputs": [
    {
     "data": {
      "text/plain": [
       "2.718281828459045"
      ]
     },
     "execution_count": 205,
     "metadata": {},
     "output_type": "execute_result"
    }
   ],
   "source": [
    "math.e   # Convert a string or number to a floating-point number, if possible."
   ]
  },
  {
   "cell_type": "code",
   "execution_count": 207,
   "id": "54467466-4140-4bc6-acb8-d4d5803fd37d",
   "metadata": {},
   "outputs": [
    {
     "data": {
      "text/plain": [
       "<function math.pow(x, y, /)>"
      ]
     },
     "execution_count": 207,
     "metadata": {},
     "output_type": "execute_result"
    }
   ],
   "source": [
    "math.pow"
   ]
  },
  {
   "cell_type": "code",
   "execution_count": 213,
   "id": "38f729e0-9e82-414d-bf6d-a7378ac4db3f",
   "metadata": {},
   "outputs": [
    {
     "data": {
      "text/plain": [
       "3125.0"
      ]
     },
     "execution_count": 213,
     "metadata": {},
     "output_type": "execute_result"
    }
   ],
   "source": [
    "math.pow(5,5)   # Return x**y (x to the power of y)"
   ]
  },
  {
   "cell_type": "code",
   "execution_count": 225,
   "id": "9b467b50-bf55-4096-be20-f3c544cac62c",
   "metadata": {},
   "outputs": [
    {
     "data": {
      "text/plain": [
       "['__all__',\n",
       " '__builtins__',\n",
       " '__cached__',\n",
       " '__doc__',\n",
       " '__file__',\n",
       " '__loader__',\n",
       " '__name__',\n",
       " '__package__',\n",
       " '__spec__',\n",
       " 'iskeyword',\n",
       " 'issoftkeyword',\n",
       " 'kwlist',\n",
       " 'softkwlist']"
      ]
     },
     "execution_count": 225,
     "metadata": {},
     "output_type": "execute_result"
    }
   ],
   "source": [
    "import keyword\n",
    "dir(keyword)"
   ]
  },
  {
   "cell_type": "code",
   "execution_count": 231,
   "id": "47f619bc-7d38-491e-b6a8-1c98459fd127",
   "metadata": {},
   "outputs": [
    {
     "data": {
      "text/plain": [
       "35"
      ]
     },
     "execution_count": 231,
     "metadata": {},
     "output_type": "execute_result"
    }
   ],
   "source": [
    "len(keyword.kwlist)"
   ]
  },
  {
   "cell_type": "code",
   "execution_count": 233,
   "id": "f2a88f73-355d-4bb1-8108-c057f78ea6bd",
   "metadata": {},
   "outputs": [
    {
     "data": {
      "text/plain": [
       "['False',\n",
       " 'None',\n",
       " 'True',\n",
       " 'and',\n",
       " 'as',\n",
       " 'assert',\n",
       " 'async',\n",
       " 'await',\n",
       " 'break',\n",
       " 'class',\n",
       " 'continue',\n",
       " 'def',\n",
       " 'del',\n",
       " 'elif',\n",
       " 'else',\n",
       " 'except',\n",
       " 'finally',\n",
       " 'for',\n",
       " 'from',\n",
       " 'global',\n",
       " 'if',\n",
       " 'import',\n",
       " 'in',\n",
       " 'is',\n",
       " 'lambda',\n",
       " 'nonlocal',\n",
       " 'not',\n",
       " 'or',\n",
       " 'pass',\n",
       " 'raise',\n",
       " 'return',\n",
       " 'try',\n",
       " 'while',\n",
       " 'with',\n",
       " 'yield']"
      ]
     },
     "execution_count": 233,
     "metadata": {},
     "output_type": "execute_result"
    }
   ],
   "source": [
    "keyword.kwlist"
   ]
  },
  {
   "cell_type": "code",
   "execution_count": 237,
   "id": "30ffec1e-3586-45d7-b6e3-863360408a6a",
   "metadata": {},
   "outputs": [
    {
     "name": "stdout",
     "output_type": "stream",
     "text": [
      "['_STRUCT_TM_ITEMS', '__doc__', '__loader__', '__name__', '__package__', '__spec__', 'altzone', 'asctime', 'ctime', 'daylight', 'get_clock_info', 'gmtime', 'localtime', 'mktime', 'monotonic', 'monotonic_ns', 'perf_counter', 'perf_counter_ns', 'process_time', 'process_time_ns', 'sleep', 'strftime', 'strptime', 'struct_time', 'thread_time', 'thread_time_ns', 'time', 'time_ns', 'timezone', 'tzname']\n"
     ]
    }
   ],
   "source": [
    "import time\n",
    "print(dir(time))"
   ]
  },
  {
   "cell_type": "code",
   "execution_count": 239,
   "id": "f5768796-1bf5-4bf2-84a0-37d44e56869e",
   "metadata": {},
   "outputs": [
    {
     "name": "stdout",
     "output_type": "stream",
     "text": [
      "Hello\n"
     ]
    }
   ],
   "source": [
    "time.sleep(5)\n",
    "print(\"Hello\")"
   ]
  },
  {
   "cell_type": "code",
   "execution_count": null,
   "id": "0f0e4481-2f67-4e4d-b8a4-43a704de4818",
   "metadata": {},
   "outputs": [],
   "source": []
  }
 ],
 "metadata": {
  "kernelspec": {
   "display_name": "Python [conda env:base] *",
   "language": "python",
   "name": "conda-base-py"
  },
  "language_info": {
   "codemirror_mode": {
    "name": "ipython",
    "version": 3
   },
   "file_extension": ".py",
   "mimetype": "text/x-python",
   "name": "python",
   "nbconvert_exporter": "python",
   "pygments_lexer": "ipython3",
   "version": "3.12.7"
  }
 },
 "nbformat": 4,
 "nbformat_minor": 5
}
